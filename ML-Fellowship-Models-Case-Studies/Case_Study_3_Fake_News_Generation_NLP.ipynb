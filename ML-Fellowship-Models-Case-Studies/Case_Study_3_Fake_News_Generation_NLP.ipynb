{
  "nbformat": 4,
  "nbformat_minor": 0,
  "metadata": {
    "colab": {
      "provenance": [],
      "include_colab_link": true
    },
    "kernelspec": {
      "name": "python3",
      "display_name": "Python 3"
    },
    "accelerator": "GPU",
    "widgets": {
      "application/vnd.jupyter.widget-state+json": {
        "7dc9b64b537741b9b8dff73df416ff9d": {
          "model_module": "@jupyter-widgets/controls",
          "model_name": "VBoxModel",
          "model_module_version": "1.5.0",
          "state": {
            "_dom_classes": [
              "widget-interact"
            ],
            "_model_module": "@jupyter-widgets/controls",
            "_model_module_version": "1.5.0",
            "_model_name": "VBoxModel",
            "_view_count": null,
            "_view_module": "@jupyter-widgets/controls",
            "_view_module_version": "1.5.0",
            "_view_name": "VBoxView",
            "box_style": "",
            "children": [
              "IPY_MODEL_34af4b7009494422886244a8c4f99762",
              "IPY_MODEL_5ac70c47e3a746dab6e7b19bffda9a32"
            ],
            "layout": "IPY_MODEL_60c1853ae582404aad00e3c116ffb1b9"
          }
        },
        "34af4b7009494422886244a8c4f99762": {
          "model_module": "@jupyter-widgets/controls",
          "model_name": "TextModel",
          "model_module_version": "1.5.0",
          "state": {
            "_dom_classes": [],
            "_model_module": "@jupyter-widgets/controls",
            "_model_module_version": "1.5.0",
            "_model_name": "TextModel",
            "_view_count": null,
            "_view_module": "@jupyter-widgets/controls",
            "_view_module_version": "1.5.0",
            "_view_name": "TextView",
            "continuous_update": true,
            "description": "sequence",
            "description_tooltip": null,
            "disabled": false,
            "layout": "IPY_MODEL_8da1ae61facd431f820a3a122bb0324b",
            "placeholder": "​",
            "style": "IPY_MODEL_1ac84442705d42cdba1fd8b68b986729",
            "value": "q"
          }
        },
        "5ac70c47e3a746dab6e7b19bffda9a32": {
          "model_module": "@jupyter-widgets/output",
          "model_name": "OutputModel",
          "model_module_version": "1.0.0",
          "state": {
            "_dom_classes": [],
            "_model_module": "@jupyter-widgets/output",
            "_model_module_version": "1.0.0",
            "_model_name": "OutputModel",
            "_view_count": null,
            "_view_module": "@jupyter-widgets/output",
            "_view_module_version": "1.0.0",
            "_view_name": "OutputView",
            "layout": "IPY_MODEL_f6824037ea924b2ca6282c13e8ba7d72",
            "msg_id": "",
            "outputs": [
              {
                "output_type": "display_data",
                "data": {
                  "text/plain": "<Figure size 432x288 with 1 Axes>",
                  "image/png": "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\n"
                },
                "metadata": {
                  "needs_background": "light"
                }
              }
            ]
          }
        },
        "60c1853ae582404aad00e3c116ffb1b9": {
          "model_module": "@jupyter-widgets/base",
          "model_name": "LayoutModel",
          "model_module_version": "1.2.0",
          "state": {
            "_model_module": "@jupyter-widgets/base",
            "_model_module_version": "1.2.0",
            "_model_name": "LayoutModel",
            "_view_count": null,
            "_view_module": "@jupyter-widgets/base",
            "_view_module_version": "1.2.0",
            "_view_name": "LayoutView",
            "align_content": null,
            "align_items": null,
            "align_self": null,
            "border": null,
            "bottom": null,
            "display": null,
            "flex": null,
            "flex_flow": null,
            "grid_area": null,
            "grid_auto_columns": null,
            "grid_auto_flow": null,
            "grid_auto_rows": null,
            "grid_column": null,
            "grid_gap": null,
            "grid_row": null,
            "grid_template_areas": null,
            "grid_template_columns": null,
            "grid_template_rows": null,
            "height": null,
            "justify_content": null,
            "justify_items": null,
            "left": null,
            "margin": null,
            "max_height": null,
            "max_width": null,
            "min_height": null,
            "min_width": null,
            "object_fit": null,
            "object_position": null,
            "order": null,
            "overflow": null,
            "overflow_x": null,
            "overflow_y": null,
            "padding": null,
            "right": null,
            "top": null,
            "visibility": null,
            "width": null
          }
        },
        "8da1ae61facd431f820a3a122bb0324b": {
          "model_module": "@jupyter-widgets/base",
          "model_name": "LayoutModel",
          "model_module_version": "1.2.0",
          "state": {
            "_model_module": "@jupyter-widgets/base",
            "_model_module_version": "1.2.0",
            "_model_name": "LayoutModel",
            "_view_count": null,
            "_view_module": "@jupyter-widgets/base",
            "_view_module_version": "1.2.0",
            "_view_name": "LayoutView",
            "align_content": null,
            "align_items": null,
            "align_self": null,
            "border": null,
            "bottom": null,
            "display": null,
            "flex": null,
            "flex_flow": null,
            "grid_area": null,
            "grid_auto_columns": null,
            "grid_auto_flow": null,
            "grid_auto_rows": null,
            "grid_column": null,
            "grid_gap": null,
            "grid_row": null,
            "grid_template_areas": null,
            "grid_template_columns": null,
            "grid_template_rows": null,
            "height": null,
            "justify_content": null,
            "justify_items": null,
            "left": null,
            "margin": null,
            "max_height": null,
            "max_width": null,
            "min_height": null,
            "min_width": null,
            "object_fit": null,
            "object_position": null,
            "order": null,
            "overflow": null,
            "overflow_x": null,
            "overflow_y": null,
            "padding": null,
            "right": null,
            "top": null,
            "visibility": null,
            "width": null
          }
        },
        "1ac84442705d42cdba1fd8b68b986729": {
          "model_module": "@jupyter-widgets/controls",
          "model_name": "DescriptionStyleModel",
          "model_module_version": "1.5.0",
          "state": {
            "_model_module": "@jupyter-widgets/controls",
            "_model_module_version": "1.5.0",
            "_model_name": "DescriptionStyleModel",
            "_view_count": null,
            "_view_module": "@jupyter-widgets/base",
            "_view_module_version": "1.2.0",
            "_view_name": "StyleView",
            "description_width": ""
          }
        },
        "f6824037ea924b2ca6282c13e8ba7d72": {
          "model_module": "@jupyter-widgets/base",
          "model_name": "LayoutModel",
          "model_module_version": "1.2.0",
          "state": {
            "_model_module": "@jupyter-widgets/base",
            "_model_module_version": "1.2.0",
            "_model_name": "LayoutModel",
            "_view_count": null,
            "_view_module": "@jupyter-widgets/base",
            "_view_module_version": "1.2.0",
            "_view_name": "LayoutView",
            "align_content": null,
            "align_items": null,
            "align_self": null,
            "border": null,
            "bottom": null,
            "display": null,
            "flex": null,
            "flex_flow": null,
            "grid_area": null,
            "grid_auto_columns": null,
            "grid_auto_flow": null,
            "grid_auto_rows": null,
            "grid_column": null,
            "grid_gap": null,
            "grid_row": null,
            "grid_template_areas": null,
            "grid_template_columns": null,
            "grid_template_rows": null,
            "height": null,
            "justify_content": null,
            "justify_items": null,
            "left": null,
            "margin": null,
            "max_height": null,
            "max_width": null,
            "min_height": null,
            "min_width": null,
            "object_fit": null,
            "object_position": null,
            "order": null,
            "overflow": null,
            "overflow_x": null,
            "overflow_y": null,
            "padding": null,
            "right": null,
            "top": null,
            "visibility": null,
            "width": null
          }
        },
        "b1b7ccd35aaa4a19920d73c3445c8506": {
          "model_module": "@jupyter-widgets/controls",
          "model_name": "VBoxModel",
          "model_module_version": "1.5.0",
          "state": {
            "_dom_classes": [
              "widget-interact"
            ],
            "_model_module": "@jupyter-widgets/controls",
            "_model_module_version": "1.5.0",
            "_model_name": "VBoxModel",
            "_view_count": null,
            "_view_module": "@jupyter-widgets/controls",
            "_view_module_version": "1.5.0",
            "_view_name": "VBoxView",
            "box_style": "",
            "children": [
              "IPY_MODEL_437f7c4a64f94647b83a126f906835c4",
              "IPY_MODEL_a9ff213666fc4432b7ba101aa3e123f9"
            ],
            "layout": "IPY_MODEL_da88ad412c96411d9982d2b6ce8aea10"
          }
        },
        "437f7c4a64f94647b83a126f906835c4": {
          "model_module": "@jupyter-widgets/controls",
          "model_name": "TextModel",
          "model_module_version": "1.5.0",
          "state": {
            "_dom_classes": [],
            "_model_module": "@jupyter-widgets/controls",
            "_model_module_version": "1.5.0",
            "_model_name": "TextModel",
            "_view_count": null,
            "_view_module": "@jupyter-widgets/controls",
            "_view_module_version": "1.5.0",
            "_view_name": "TextView",
            "continuous_update": true,
            "description": "text",
            "description_tooltip": null,
            "disabled": false,
            "layout": "IPY_MODEL_1628cfa27b05428cbc7651145c28ec2a",
            "placeholder": "​",
            "style": "IPY_MODEL_0c9eab2ec957466a9efa372e5b260790",
            "value": "abc"
          }
        },
        "a9ff213666fc4432b7ba101aa3e123f9": {
          "model_module": "@jupyter-widgets/output",
          "model_name": "OutputModel",
          "model_module_version": "1.0.0",
          "state": {
            "_dom_classes": [],
            "_model_module": "@jupyter-widgets/output",
            "_model_module_version": "1.0.0",
            "_model_name": "OutputModel",
            "_view_count": null,
            "_view_module": "@jupyter-widgets/output",
            "_view_module_version": "1.0.0",
            "_view_name": "OutputView",
            "layout": "IPY_MODEL_c1a4d11c40164c7c9aae6a30e07bf7fe",
            "msg_id": "",
            "outputs": [
              {
                "output_type": "display_data",
                "data": {
                  "text/plain": "array([[1, 0, 0, 0, 0, 0, 0, 0, 0, 0, 0, 0, 0, 0, 0, 0, 0, 0, 0, 0, 0, 0,\n        0, 0, 0, 0, 0, 0, 0, 0, 0, 0, 0, 0, 0, 0, 0, 0, 0, 0, 0, 0, 0, 0,\n        0, 0, 0, 0, 0, 0, 0, 0, 0, 0, 0, 0, 0, 0, 0, 0, 0, 0, 0, 0, 0, 0,\n        0, 0, 0, 0],\n       [0, 1, 0, 0, 0, 0, 0, 0, 0, 0, 0, 0, 0, 0, 0, 0, 0, 0, 0, 0, 0, 0,\n        0, 0, 0, 0, 0, 0, 0, 0, 0, 0, 0, 0, 0, 0, 0, 0, 0, 0, 0, 0, 0, 0,\n        0, 0, 0, 0, 0, 0, 0, 0, 0, 0, 0, 0, 0, 0, 0, 0, 0, 0, 0, 0, 0, 0,\n        0, 0, 0, 0],\n       [0, 0, 1, 0, 0, 0, 0, 0, 0, 0, 0, 0, 0, 0, 0, 0, 0, 0, 0, 0, 0, 0,\n        0, 0, 0, 0, 0, 0, 0, 0, 0, 0, 0, 0, 0, 0, 0, 0, 0, 0, 0, 0, 0, 0,\n        0, 0, 0, 0, 0, 0, 0, 0, 0, 0, 0, 0, 0, 0, 0, 0, 0, 0, 0, 0, 0, 0,\n        0, 0, 0, 0]])"
                },
                "metadata": {}
              }
            ]
          }
        },
        "da88ad412c96411d9982d2b6ce8aea10": {
          "model_module": "@jupyter-widgets/base",
          "model_name": "LayoutModel",
          "model_module_version": "1.2.0",
          "state": {
            "_model_module": "@jupyter-widgets/base",
            "_model_module_version": "1.2.0",
            "_model_name": "LayoutModel",
            "_view_count": null,
            "_view_module": "@jupyter-widgets/base",
            "_view_module_version": "1.2.0",
            "_view_name": "LayoutView",
            "align_content": null,
            "align_items": null,
            "align_self": null,
            "border": null,
            "bottom": null,
            "display": null,
            "flex": null,
            "flex_flow": null,
            "grid_area": null,
            "grid_auto_columns": null,
            "grid_auto_flow": null,
            "grid_auto_rows": null,
            "grid_column": null,
            "grid_gap": null,
            "grid_row": null,
            "grid_template_areas": null,
            "grid_template_columns": null,
            "grid_template_rows": null,
            "height": null,
            "justify_content": null,
            "justify_items": null,
            "left": null,
            "margin": null,
            "max_height": null,
            "max_width": null,
            "min_height": null,
            "min_width": null,
            "object_fit": null,
            "object_position": null,
            "order": null,
            "overflow": null,
            "overflow_x": null,
            "overflow_y": null,
            "padding": null,
            "right": null,
            "top": null,
            "visibility": null,
            "width": null
          }
        },
        "1628cfa27b05428cbc7651145c28ec2a": {
          "model_module": "@jupyter-widgets/base",
          "model_name": "LayoutModel",
          "model_module_version": "1.2.0",
          "state": {
            "_model_module": "@jupyter-widgets/base",
            "_model_module_version": "1.2.0",
            "_model_name": "LayoutModel",
            "_view_count": null,
            "_view_module": "@jupyter-widgets/base",
            "_view_module_version": "1.2.0",
            "_view_name": "LayoutView",
            "align_content": null,
            "align_items": null,
            "align_self": null,
            "border": null,
            "bottom": null,
            "display": null,
            "flex": null,
            "flex_flow": null,
            "grid_area": null,
            "grid_auto_columns": null,
            "grid_auto_flow": null,
            "grid_auto_rows": null,
            "grid_column": null,
            "grid_gap": null,
            "grid_row": null,
            "grid_template_areas": null,
            "grid_template_columns": null,
            "grid_template_rows": null,
            "height": null,
            "justify_content": null,
            "justify_items": null,
            "left": null,
            "margin": null,
            "max_height": null,
            "max_width": null,
            "min_height": null,
            "min_width": null,
            "object_fit": null,
            "object_position": null,
            "order": null,
            "overflow": null,
            "overflow_x": null,
            "overflow_y": null,
            "padding": null,
            "right": null,
            "top": null,
            "visibility": null,
            "width": null
          }
        },
        "0c9eab2ec957466a9efa372e5b260790": {
          "model_module": "@jupyter-widgets/controls",
          "model_name": "DescriptionStyleModel",
          "model_module_version": "1.5.0",
          "state": {
            "_model_module": "@jupyter-widgets/controls",
            "_model_module_version": "1.5.0",
            "_model_name": "DescriptionStyleModel",
            "_view_count": null,
            "_view_module": "@jupyter-widgets/base",
            "_view_module_version": "1.2.0",
            "_view_name": "StyleView",
            "description_width": ""
          }
        },
        "c1a4d11c40164c7c9aae6a30e07bf7fe": {
          "model_module": "@jupyter-widgets/base",
          "model_name": "LayoutModel",
          "model_module_version": "1.2.0",
          "state": {
            "_model_module": "@jupyter-widgets/base",
            "_model_module_version": "1.2.0",
            "_model_name": "LayoutModel",
            "_view_count": null,
            "_view_module": "@jupyter-widgets/base",
            "_view_module_version": "1.2.0",
            "_view_name": "LayoutView",
            "align_content": null,
            "align_items": null,
            "align_self": null,
            "border": null,
            "bottom": null,
            "display": null,
            "flex": null,
            "flex_flow": null,
            "grid_area": null,
            "grid_auto_columns": null,
            "grid_auto_flow": null,
            "grid_auto_rows": null,
            "grid_column": null,
            "grid_gap": null,
            "grid_row": null,
            "grid_template_areas": null,
            "grid_template_columns": null,
            "grid_template_rows": null,
            "height": null,
            "justify_content": null,
            "justify_items": null,
            "left": null,
            "margin": null,
            "max_height": null,
            "max_width": null,
            "min_height": null,
            "min_width": null,
            "object_fit": null,
            "object_position": null,
            "order": null,
            "overflow": null,
            "overflow_x": null,
            "overflow_y": null,
            "padding": null,
            "right": null,
            "top": null,
            "visibility": null,
            "width": null
          }
        }
      }
    }
  },
  "cells": [
    {
      "cell_type": "markdown",
      "metadata": {
        "id": "view-in-github",
        "colab_type": "text"
      },
      "source": [
        "<a href=\"https://colab.research.google.com/github/phycem/Data-Science-Projects-and-Tasks/blob/main/Case_Study_3_Fake_News_Generation_NLP.ipynb\" target=\"_parent\"><img src=\"https://colab.research.google.com/assets/colab-badge.svg\" alt=\"Open In Colab\"/></a>"
      ]
    },
    {
      "cell_type": "markdown",
      "metadata": {
        "id": "ck7XZXnjfZ9p"
      },
      "source": [
        "# Fake News Generation\n",
        "\n",
        "In this notebook, I explore how neural networks can be used to create a language model that can generate text and learn the rules of grammar and English! In particular, I'll apply our knowledge for evil and learn how to generate fake news."
      ]
    },
    {
      "cell_type": "markdown",
      "metadata": {
        "id": "BfUgfksN_iZR"
      },
      "source": [
        "##Outline\n",
        "\n",
        "I'll build RNNs to predict language character-by-character to generate fake news! I'll:\n",
        "\n",
        "\n",
        "* Encode our text data for the language model\n",
        "* Build, train, and explore RNN and LSTM models\n",
        "* Advanced: Create visualizations of our model's confidence\n",
        "* Optional: compare our results to a state of the art word-wise language model, GPT-2\n",
        "\n"
      ]
    },
    {
      "cell_type": "code",
      "metadata": {
        "id": "-THemqM_Uy_C",
        "colab": {
          "base_uri": "https://localhost:8080/"
        },
        "outputId": "2184b9c6-2c51-4172-dbda-d595b6ffa70b"
      },
      "source": [
        "#@title libraries and the data\n",
        "import os\n",
        "import random\n",
        "import string\n",
        "import sys\n",
        "from collections import Counter\n",
        "from ipywidgets import interact, interactive, fixed, interact_manual\n",
        "import matplotlib.pyplot as plt\n",
        "from matplotlib import colors\n",
        "import numpy as np\n",
        "import pandas as pd\n",
        "import tensorflow as tf\n",
        "import matplotlib.pyplot as plt\n",
        "import gdown\n",
        "import warnings\n",
        "warnings.filterwarnings('ignore')\n",
        "!wget \"https://storage.googleapis.com/inspirit-ai-data-bucket-1/Data/Deep%20Dives/Advanced%20Topics%20in%20AI/Sessions%201%20-%2010%20(Main%20Curriculum)/Session%203_%20NLP%20and%20Sequences_%20RNNs%2C%20LSTMs/fake.txt\"\n",
        "!wget \"https://storage.googleapis.com/inspirit-ai-data-bucket-1/Data/Deep%20Dives/Advanced%20Topics%20in%20AI/Sessions%201%20-%2010%20(Main%20Curriculum)/Session%203_%20NLP%20and%20Sequences_%20RNNs%2C%20LSTMs/pre_train.zip\"\n",
        "\n",
        "! unzip -oq pre_train.zip"
      ],
      "execution_count": null,
      "outputs": [
        {
          "output_type": "stream",
          "name": "stdout",
          "text": [
            "--2022-07-16 04:15:31--  https://storage.googleapis.com/inspirit-ai-data-bucket-1/Data/Deep%20Dives/Advanced%20Topics%20in%20AI/Sessions%201%20-%2010%20(Main%20Curriculum)/Session%203_%20NLP%20and%20Sequences_%20RNNs%2C%20LSTMs/fake.txt\n",
            "Resolving storage.googleapis.com (storage.googleapis.com)... 74.125.20.128, 108.177.98.128, 74.125.197.128, ...\n",
            "Connecting to storage.googleapis.com (storage.googleapis.com)|74.125.20.128|:443... connected.\n",
            "HTTP request sent, awaiting response... 200 OK\n",
            "Length: 300000 (293K) [text/plain]\n",
            "Saving to: ‘fake.txt’\n",
            "\n",
            "\rfake.txt              0%[                    ]       0  --.-KB/s               \rfake.txt            100%[===================>] 292.97K  --.-KB/s    in 0.002s  \n",
            "\n",
            "2022-07-16 04:15:31 (129 MB/s) - ‘fake.txt’ saved [300000/300000]\n",
            "\n",
            "--2022-07-16 04:15:31--  https://storage.googleapis.com/inspirit-ai-data-bucket-1/Data/Deep%20Dives/Advanced%20Topics%20in%20AI/Sessions%201%20-%2010%20(Main%20Curriculum)/Session%203_%20NLP%20and%20Sequences_%20RNNs%2C%20LSTMs/pre_train.zip\n",
            "Resolving storage.googleapis.com (storage.googleapis.com)... 74.125.142.128, 74.125.195.128, 74.125.197.128, ...\n",
            "Connecting to storage.googleapis.com (storage.googleapis.com)|74.125.142.128|:443... connected.\n",
            "HTTP request sent, awaiting response... 200 OK\n",
            "Length: 638112 (623K) [application/zip]\n",
            "Saving to: ‘pre_train.zip’\n",
            "\n",
            "pre_train.zip       100%[===================>] 623.16K  --.-KB/s    in 0.005s  \n",
            "\n",
            "2022-07-16 04:15:31 (120 MB/s) - ‘pre_train.zip’ saved [638112/638112]\n",
            "\n"
          ]
        }
      ]
    },
    {
      "cell_type": "code",
      "metadata": {
        "id": "KGFprDdkVJFd"
      },
      "source": [
        "#@title some helper functions\n",
        "def load_data():\n",
        "    with open(\"fake.txt\", \"r\") as f:\n",
        "        return f.read()\n",
        "\n",
        "\n",
        "def simplify_text(text, vocab):\n",
        "    new_text = \"\"\n",
        "    for ch in text:\n",
        "        if ch in vocab:\n",
        "            new_text += ch\n",
        "    return new_text\n",
        "\n",
        "def sample_from_model(\n",
        "    model,\n",
        "    text,\n",
        "    char_indices,\n",
        "    chunk_length,\n",
        "    number_of_characters,\n",
        "    seed=\"\",\n",
        "    generation_length=400,\n",
        "):\n",
        "    indices_char = {v: k for k, v in char_indices.items()}\n",
        "    for diversity in [0.2, 0.5, 0.7]:\n",
        "        print(\"----- diversity:\", diversity)\n",
        "        generated = \"\"\n",
        "        if not seed:\n",
        "            text = text.lower()\n",
        "            start_index = random.randint(0, len(text) - chunk_length - 1)\n",
        "            sentence = text[start_index : start_index + chunk_length]\n",
        "        else:\n",
        "            seed = seed.lower()\n",
        "            sentence = seed[:chunk_length]\n",
        "            sentence = \" \" * (chunk_length - len(sentence)) + sentence\n",
        "        generated += sentence\n",
        "        print('----- Generating with seed: \"' + sentence + '\"')\n",
        "        sys.stdout.write(generated)\n",
        "\n",
        "        for _ in range(generation_length):\n",
        "            x_pred = np.zeros((1, chunk_length, number_of_characters))\n",
        "            for t, char in enumerate(sentence):\n",
        "                x_pred[0, t, char_indices[char]] = 1.0\n",
        "\n",
        "            preds = model.predict(x_pred, verbose=0)[0]\n",
        "            next_index = sample(preds, diversity)\n",
        "            next_char = indices_char[next_index]\n",
        "\n",
        "            generated += next_char\n",
        "            sentence = sentence[1:] + next_char\n",
        "\n",
        "            sys.stdout.write(next_char)\n",
        "            sys.stdout.flush()\n",
        "        print(\"\\n\")\n",
        "\n",
        "\n",
        "def sample(preds, temperature=1.0):\n",
        "    # helper function to sample an index from a probability array\n",
        "    preds = np.asarray(preds).astype(\"float64\") + 1e-8\n",
        "    preds = np.log(preds) / temperature\n",
        "    exp_preds = np.exp(preds)\n",
        "    preds = exp_preds / np.sum(exp_preds)\n",
        "    probas = np.random.multinomial(1, preds, 1)\n",
        "    return np.argmax(probas)\n",
        "\n",
        "\n",
        "class SampleAtEpoch(tf.keras.callbacks.Callback):\n",
        "    def __init__(self, data, char_indices, chunk_length, number_of_characters):\n",
        "        self.data = data\n",
        "        self.char_indices = char_indices\n",
        "        self.chunk_length = chunk_length\n",
        "        self.number_of_characters = number_of_characters\n",
        "        super().__init__()\n",
        "\n",
        "    def on_epoch_begin(self, epoch, logs=None):\n",
        "        sample_from_model(\n",
        "            self.model,\n",
        "            self.data,\n",
        "            self.char_indices,\n",
        "            self.chunk_length,\n",
        "            self.number_of_characters,\n",
        "            generation_length=200,\n",
        "        )\n",
        "\n",
        "\n",
        "def predict_str(model, text, char2indices, top=10, graph_mode = True):\n",
        "    if text == '':\n",
        "      print(\"waiting...\")\n",
        "      return\n",
        "    text = text.lower()\n",
        "    assert len(text) <= CHUNK_LENGTH\n",
        "    oh = np.array([one_hot_sentence(text, char2indices)])\n",
        "    with warnings.catch_warnings():\n",
        "      warnings.simplefilter(\"ignore\")\n",
        "      pred = model.predict(oh).flatten()\n",
        "    sort_indices = np.argsort(pred)[::-1][:top]\n",
        "    if graph_mode:\n",
        "      plt.bar(range(top), pred[sort_indices], tick_label=np.array(list(VOCAB))[sort_indices])\n",
        "      plt.title(f\"Predicted probabilities of the character following '{text}'\")\n",
        "      plt.show()\n",
        "    else:\n",
        "      return pred"
      ],
      "execution_count": null,
      "outputs": []
    },
    {
      "cell_type": "markdown",
      "metadata": {
        "id": "Nvr9mfPLgHZf"
      },
      "source": [
        "## Language models\n",
        "\n",
        "A language model tries to learn how language works. My language model today will look at the previous words in a sequence and use that to compute the probabilities of what the next word will be. Actually, my model will do something even more fundamental: it'll try to predict what the next character in sequence."
      ]
    },
    {
      "cell_type": "code",
      "metadata": {
        "id": "_6RTa9-2U-sC",
        "colab": {
          "base_uri": "https://localhost:8080/"
        },
        "outputId": "ac6d8e74-6996-4314-da6c-ac671a7d2058"
      },
      "source": [
        "#@title the vocabulary\n",
        "\n",
        "# VOCABULARY defines the set of acceptable characters that the model can handle\n",
        "# CORPUS_LENGTH is how long our training dataset is\n",
        "# CHUNK_LENGTH is how many characters previously our model can remember\n",
        "# CHAR2INDICES is a mapping from characters to their indices in the one hot encoding\n",
        "\n",
        "STEP = 3\n",
        "LEARNING_RATE = 0.0005\n",
        "CORPUS_LENGTH = 200000\n",
        "CHUNK_LENGTH = 40\n",
        "VOCAB = string.ascii_lowercase + string.punctuation + string.digits + \" \\n\"\n",
        "VOCAB_SIZE = len(VOCAB)\n",
        "CHAR2INDICES = dict(zip(VOCAB, range(len(VOCAB))))\n",
        "print(VOCAB)"
      ],
      "execution_count": null,
      "outputs": [
        {
          "output_type": "stream",
          "name": "stdout",
          "text": [
            "abcdefghijklmnopqrstuvwxyz!\"#$%&'()*+,-./:;<=>?@[\\]^_`{|}~0123456789 \n",
            "\n"
          ]
        }
      ]
    },
    {
      "cell_type": "markdown",
      "metadata": {
        "id": "t5N4kVBHivkR"
      },
      "source": [
        "Let's start by loading in the data and simplifying the text a bit by removing all the characters that are not in our vocabulary. My dataset is a sequence of fake news articles all compiled to one long string."
      ]
    },
    {
      "cell_type": "code",
      "metadata": {
        "id": "0xNZ-FRjVJDk",
        "colab": {
          "base_uri": "https://localhost:8080/"
        },
        "outputId": "50241f54-1ab0-4e8c-fa32-af10d4ffacd8"
      },
      "source": [
        "data = load_data()\n",
        "data = data[:CORPUS_LENGTH]\n",
        "data = simplify_text(data, CHAR2INDICES)\n",
        "print(f\"Type of the data is: {type(data)}\\n\")\n",
        "print(f\"Length of the data is: {len(data)}\\n\")\n",
        "print(f\"The first couple of sentences of the data are:\\n\")\n",
        "print(data[0:500])"
      ],
      "execution_count": null,
      "outputs": [
        {
          "output_type": "stream",
          "name": "stdout",
          "text": [
            "Type of the data is: <class 'str'>\n",
            "\n",
            "Length of the data is: 200000\n",
            "\n",
            "The first couple of sentences of the data are:\n",
            "\n",
            "print they should pay all the back all the money plus interest. the entire family and everyone who came in with them need to be deported asap. why did it take two years to bust them? \n",
            "here we go again another group stealing from the government and taxpayers! a group of somalis stole over four million in government benefits over just 10 months! \n",
            "weve reported on numerous cases like this one where the muslim refugees/immigrants commit fraud by scamming our systemits way out of control! more relate\n"
          ]
        }
      ]
    },
    {
      "cell_type": "code",
      "source": [
        "data"
      ],
      "metadata": {
        "colab": {
          "base_uri": "https://localhost:8080/",
          "height": 154
        },
        "id": "IZO8C5g2DFkd",
        "outputId": "46774ae5-ed16-4cdc-a981-81ea7f14100a"
      },
      "execution_count": null,
      "outputs": [
        {
          "output_type": "execute_result",
          "data": {
            "text/plain": [
              "'print they should pay all the back all the money plus interest. the entire family and everyone who came in with them need to be deported asap. why did it take two years to bust them? \\nhere we go again another group stealing from the government and taxpayers! a group of somalis stole over four million in government benefits over just 10 months! \\nweve reported on numerous cases like this one where the muslim refugees/immigrants commit fraud by scamming our systemits way out of control! more related\\nwhy did attorney general loretta lynch plead the fifth? barracuda brigade 2016-10-28 print the administration is blocking congressional probe into cash payments to iran. of course she needs to plead the 5th. she either cant recall, refuses to answer, or just plain deflects the question. straight up corruption at its finest! \\n100percentfedup.com ; talk about covering your ass! loretta lynch did just that when she plead the fifth to avoid incriminating herself over payments to irancorrupt to the core! attorney general loretta lynch is declining to comply with an investigation by leading members of congress about the obama administrations secret efforts to send iran $1.7 billion in cash earlier this year, prompting accusations that lynch has pleaded the fifth amendment to avoid incriminating herself over these payments, according to lawmakers and communications exclusively obtained by the washington free beacon. \\nsen. marco rubio (r., fla.) and rep. mike pompeo (r., kan.) initially presented lynch in october with a series of questions about how the cash payment to iran was approved and delivered. \\nin an oct. 24 response, assistant attorney general peter kadzik responded on lynchs behalf, refusing to answer the questions and informing the lawmakers that they are barred from publicly disclosing any details about the cash payment, which was bound up in a ransom deal aimed at freeing several american hostages from iran. \\nthe response from the attorney generals office is unacceptable and provides evidence that lynch has chosen to essentially plead the fifth and refuse to respond to inquiries regarding [her]role in providing cash to the worlds foremost state sponsor of terrorism, rubio and pompeo wrote on friday in a follow-up letter to lynch. more related\\nred state : \\nfox news sunday reported this morning that anthony weiner is cooperating with the fbi, which has re-opened (yes, lefties: re-opened) the investigation into hillary clintons classified emails. watch as chris wallace reports the breaking news during the panel segment near the end of the show: \\nand the news is breaking while were on the air. our colleague bret baier has just sent us an e-mail saying he has two sources who say that anthony weiner, who also had co-ownership of that laptop with his estranged wife huma abedin, is cooperating with the fbi investigation, had given them the laptop, so therefore they didnt need a warrant to get in to see the contents of said laptop. pretty interesting development. \\ntargets of federal investigations will often cooperate, hoping that they will get consideration from a judge at sentencing. given weiners well-known penchant for lying, its hard to believe that a prosecutor would give weiner a deal based on an agreement to testify, unless his testimony were very strongly corroborated by hard evidence. but cooperation can take many forms  and, as wallace indicated on this mornings show, one of those forms could be signing a consent form to allow   the contents of devices that they could probably get a warrant for anyway. well see if weiners cooperation extends beyond that. more related\\nemail kayla mueller was a prisoner and tortured by isis while no chance of releasea horrific story. her father gave a pin drop speech that was so heartfelt you want to give him a hug. carl mueller believes donald trump will be a great presidentepic speech! 9.0k shares \\nemail healthcare reform to make america great again \\nsince march of 2010, the american people have had to suffer under the incredible economic burden of the affordable care actobamacare. this legislation, passed by totally partisan votes in the house and senate and signed into law by the most divisive and partisan president in american history, has tragically but predictably resulted in runaway costs, websites that dont work, greater rationing of care, higher premiums, less competition and fewer choices. obamacare has raised the economic uncertainty of every single person residing in this country. as it appears obamacare is certain to collapse of its own weight, the damage done by the democrats and president obama, and abetted by the supreme court, will be difficult to repair unless the next president and a republican congress lead the effort to bring much-needed free market reforms to the healthcare industry. \\ncongress must act. our elected representatives in the house and senate must: \\n1. completely repeal obamacare. our elected representatives must eliminate the individual mandate. no person should be required to buy insurance unless he or she wants to. \\n2. modify existing law that inhibits the sale of health insurance across state lines. as long as the plan purchased complies with state requirements, any vendor ought to be able to offer insurance in any state. by allowing full competition in this market, insurance costs will go down and consumer satisfaction will go up. \\n3. allow individuals to fully deduct health insurance premium payments from their tax returns under the current tax system. businesses are allowed to take these deductions so why wouldnt congress allow individuals the same exemptions? as we allow the free market to provide insurance coverage opportunities to companies and individuals, we must also make sure that no one slips through the cracks simply because they cannot afford insurance. we must review basic options for medicaid and work with states to ensure that those who want healthcare coverage can have it. trending on 100% fed up \\nprint hillary goes absolutely berserk! she explodes on bill rapist protester at rally oh the irony! she is an enabler to bills escapades. shes is just projecting again. she is so pathetic. dragging integrity challenged alicia machado on stage with her yesterday at her sad little rally in florida. \\ntgp : democratic party presidential nominee hillary clinton angrily reacted to a protester shouting bill clinton is a rapist at a campaign rally in fort lauderdale, florida tuesday night, saying, i am sick and tired of the negative, dark, divisive, dangerous vision and behavior of people who support donald trump, according to reports. \\nprotester interrupts hillary clinton shouting \"bill clinton is a rapist.\" clinton fires right back \"i am sick and tired of the negative\" pic.twitter.com/yncdks90bg \\n josh haskell (@joshbhaskell) november 2, 2016 man interrupts @hillaryclinton yelling \"bill clinton is a rapist\"- she responds she\\'s tired of divisive distractions. @nbc6 pic.twitter.com/2gpjps1eqb \\n jamie guirola (@jamienbc6) november 2, 2016 here\\'s hillary absolutely going bezerk on a protester, starts screaming, shouting, yelling. full off the rails. pic.twitter.com/j11qi5jjto \\n john binder  (@jxhnbinder) november 2, 2016 related\\nbreaking! nypd ready to make arrests in weiner casehillary visited pedophile island at least 6 timesmoney laundering, underage sex, pay-for-play,proof of inappropriate handling classified information blackwater usa founder, retired navy seal erik prince \\nprince claimed he had insider knowledge of the investigation that could help explain why fbi director james comey had to announce he was reopening the investigation into clintons email server last week. \\nbecause of weinergate and the sexting scandal, the nypd started investigating it. through a subpoena, through a warrant, they searched his laptop, and sure enough, found those 650,000 emails. they found way more stuff than just more information pertaining to the inappropriate sexting the guy was doing, prince claimed. \\nthey found state department emails. they found a lot of other really damning criminal information, including money laundering, including the fact that hillary went to this sex island with convicted pedophile jeffrey epstein. bill clinton went there more than 20 times. hillary clinton went there at least six times, he said. \\nthe amount of garbage that they found in these emails, of criminal activity by hillary, by her immediate circle, and even by other democratic members of congress was so disgusting they gave it to the fbi, and they said, were going to go public with this if you dont reopen the investigation and you dont do the right thing with timely indictments, prince explained. \\ni believe  i know, and this is from a very well-placed source of mine at 1pp, one police plaza in new york  the nypd wanted to do a press conference announcing the warrants and the additional arrests they were making in this investigation, and theyve gotten huge pushback, to the point of coercion, from the justice department, with the justice department threatening to charge someone that had been unrelated in the accidental heart attack death of eric garner almost two years ago. thats the level of pushback the obama justice department is doing against actually seeking justice in the email and other related criminal matters, prince said. \\ntheres five different parts of the fbi conducting investigations into these things, with constant downdrafts from the obama justice department. so in the, i hope, unlikely and very unfortunate event that hillary clinton is elected president, we will have a constitutional crisis that we have not seen since, i believe, 1860, prince declared. \\nmarlow asked prince to clarify these revelations. \\nnypd was the first one to look at that laptop, prince elaborated. weiner and huma abedin, his wife  the closest adviser of hillary clinton for 20 years  have both flipped. they are cooperating with the government. they both have  they see potential jail time of many years for their crimes, for huma abedin sending and receiving and even storing hundreds of thousands of messages from the state department server and from hillary clintons own homebrew server, which contained classified information. weiner faces all kinds of exposure for the inappropriate sexting that was going on and for other information that they found. \\nso nypd first gets that computer. they see how disgusting it is. they keep a copy of everything, and they pass a copy on to the fbi, which finally pushes the fbi off their chairs, making comey reopen that investigation, which was indicated in the letter last week. the point being, nypd has all the information, and they will pursue justice within their rights if the fbi doesnt, prince contended. \\nthere is all kinds of criminal culpability through all the emails theyve seen of that 650,000, including money laundering, underage sex, pay-for-play, and, of course, plenty of proof of inappropriate handling, sending/receiving of classified information, up to sap level special access programs, he stated. \\nso the plot thickens. nypd was pushing because, as an article quoted one of the chiefs  thats the level just below commissioner  he said as a parent, as a father with daughters, he could not let that level of evil continue, prince said. \\nhe noted that the fbi can investigate these matters, but they cant convene a grand jury. they cant file charges. \\nthe prosecutors, the justice department has to do that, he explained. now, as i understand it, preet bharara, the manhattan prosecutor, has gotten ahold of some of this. from what i hear, hes a stand-up guy, and hopefully he does the right thing. \\nmarlow agreed that bhararas sterling reputation as a determined prosecutor was bad news for the clintons. \\nprince agreed, but said, if people are willing to bend or break the law and dont really care about the constitution or due process  if youre willing to use stalinist tactics against someone  who knows what level of pressure could be brought to bear against even the most tenacious law enforcement officials? \\nlisten to interview here: \\nthe point being, fortunately, its not just the fbi; [there are] five different offices that are in the hunt for justice, but the nypd has it as well, prince said, citing the wall street journal reporting that has exposed downdraft, back pressure from the justice department against both the fbi and nypd, in an effort to keep the sunlight and the disinfecting effects of the truth and transparency from shining on this great evil that has gone on, and is slowly being exposed. \\nthe justice department is trying to run out the clock, to elect hillary clinton, to prevent any real justice from being done, he warned. \\nas for the mayor of new york city, prince said he has heard that de blasio wants to stay away from this. \\nthe evidence is so bad, the email content is so bad, that i think even he wants to stay away from it, which is really telling, he said. \\nfor entire story: breitbart news 14.7k shares \\nbreaking! nypd ready to make arrests in weiner casehillary visited pedophile island at least 6 timesmoney laundering, underage sex, pay-for-play,proof of inappropriate handling classified information \\nthe amazing citizen journalist mike cernovich broke this story this morning at danger and play . florida residents have been complaining that theyre not getting their absentee ballots. chelsey marie smith, was working full-time at broward county supervisor of elections main office blew the whistle on the voter fraud scheme: live on #periscope : breaking news! voting fraud uncovered in florida #maga3x https://t.co/q7jeez6rgh \\n mike cernovich  (@cernovich) november 4, 2016 \\nthe florida state attorney is actively investigating the fraud case that involves secretary of elections brenda snipes: source: fl state attorney investigators are actively reviewing broward county voter fraud case \\n jack posobiec  (@jackposobiec) november 4, 2016 \\n\\ndemocrat dr. brenda snipes was appointed by jeb bush in 2003 and is no stranger to controversy. on october 20, the sun sentinal reported that former oakland park commissioner anne sallee noticed something troubling about her vote-by-mail ballot. it is missing constitutional amendment 2, the medical marijuana question. \\nsallee, now broward chapter director of the florida restaurant and lodging association, knows her way around government. yet she said she spent a week unsuccessfully trying to get someone at the broward elections office to pay attention to her complaint. \\nshe was cleared on wednesday of another election snafu, the early posting of primary election results. her office also was criticized for sending out inaccurate voter id cards, and for printing ballots for november that include the word no in the yes line on the countys transportation sales surtax question. \\nthere were multiple reports that hillary personally met with brenda snipes days ago: there were multiple reports hillary personally met with brenda snipes days ago. no photos, but where there\\'s smoke \\n jack posobiec  (@jackposobiec) november 4, 2016 \\naccording to a former secretary of elections department employee, there is a secret room where democrat insiders fill out those absentee ballots. \\nthe woman provided her sworn testimony via affidavit. \\nthe affidavit by chelsey marie smith accuses broward county officials of filling out blank absentee ballots to officials who she saw filling the ballots out at the supervisor of elections headquarters. via: gp page 1: \\n\\nlimbaugh said that the revelations in the wikileaks material were starting to hurt the clintons and that the renewed interest in an fbi investigation into her private email server would be a fruitless distraction. \\nin any case \\nits time to drain the swamp! \\nfbi director james comey said sunday that the agency has reviewed all of the hillary clinton emails recently discovered in an unrelated case and that his conclusion in july not to prosecute clinton after the fbis original investigation into her use of private email server still stands. \\ncomey informed congress on oct. 28 that the agency would, in the unrelated case, review additional emails related to clintons time running the state department from 2009 to 2013. \\nsince my letter, the fbi investigative team has been working around the clock to process and review a large volume of emails, comey said sunday in a follow-up letter to congress. during that time we reviewed all of the communications that were to or from hilary clinton as secretary of state. based on our review, we have not changed our conclusion. \\nthe new case is purportedly related to ex-new york democratic rep. anthony weiner using a laptop he shared with estranged wife and top clinton aide huma abedin for sexting an apparently underage female. \\n\\nemail \\nthese people are sick and evil. they will stop at nothing to get their way. laws mean nothing to them, because they mean nothing to their president and his regime \\na california man says a stranger hurled expletives and set his truck on fire thursday after seeing a pro-donald trump sticker on the bumper. \\nhao lee had taken his 2-year-old son fishing on a pleasant november afternoon in sacramento. he parked his white dodge ram truck with a pair of trump stickers on the bumper along garden highway. \\nabout a couple hours into fishing i heard someone yelling out f trump, lee told ktxl. \\nlee and his son were only about 50 yards from where his truck was parked, near the edge of the river. trending on 100% fed up \\n \\n\\nwho? comedian. \\nwhere would she move? spain. i did buy a house in another country just in case, so all of these people that threaten to leave the country and then dont, i will leave the country, she said on live with kelly and michael. \\n(weirdly, she called trump charming in the same interview.) \\n3. neve campbell \\nwho? house of cards actress. \\nwhere would she move? canada. \\nhis honesty is terrifying, she told huffington post uk. \\n4. barry diller \\nwho? founder of iac interactive. \\nwhere would he move? unspecified. \\nif donald trump doesnt fall, ill either move out of the country or join the resistance, he told bloomberg. \\n5. lena dunham \\nwho? creator of girls. \\nwhere would she move? vancouver. \\ni know a lot of people have been threatening to do this, but i really will, she said at the matrix awards. \\n6. keegan-michael key \\nwho? star of key & peele. \\nwhere would he move? canada. \\nits easy. its like 10 minutes from detroit and thats where im from, he told tmz. \\n7. chlo sevigny \\nwho? actress and guest star in portlandia. \\nwhere would she move? nova scotia. \\nshe answered simply, nova scotia to a question of where she would move if trump were elected. \\n8. al sharpton \\nwho? activist. \\nwhere would he move? out of here. \\nif donald trump is the nominee, im open to support anyone, while im also reserving my ticket out of here if he wins, he said at a press conference. \\n9. natasha lyonne \\nwho? actress in orange is the new black. \\nwhere would she move? a mental hospital. \\n[ill move] to a mental hospital for a while because youre like why is this happening? she said. \\n10. eddie griffin \\nwho? comedian. \\nwhere would he move? africa. \\nhes good at making money, but hes ignorantif trump wins, im moving to africa, he told dj vlad. \\n11. spike lee \\nwho? director of malcolm x. \\nwhere would he move? brooklyn. \\nif trump wins, hell be moving back to the republic of brooklyn, new york, he reported to vanity fair. \\n12. amber rose \\nwho? model. \\nwhere would she move? unspecified. \\ni cant even think about it! im moving, im out! i cant. and i am taking my son with me! she told us weekly. \\n13. samuel l. jackson \\nwho? actor. \\nwhere would he move? south africa. \\nhes just running for popularity. cmon, just let it go, he said on the view. \\n14. cher \\nwhere would she move? jupiter \\nif he were to be elected, im moving to jupiter >:| she tweeted. \\n15. george lopez \\nwho? comedian and star of george lopez. \\nwhere would he move? mexico. \\nif he wins, he wont have to worry about immigration, well all go back, he told tmz. \\n16. barbra streisand \\nwho? singer. \\nwhere would she move? australia or canada. \\nhe has no facts. i dont know, i cant believe it. im either coming to your country [australia], if youll let me in, or canada, she told australian journalist michael usher. \\n17. raven-symon \\nwho? actress and host of the view. \\nwhere would she move? canada. \\nmy confession for this election is if any republican gets nominated, im going to move to canada with my entire family. i already have my ticket, she said on the view. \\nnote: her leaving was contingent on any republican candidate winning the electionnot just trump. \\n18. whoopi goldberg \\nwho? actress and host of the view. \\nwhere would she move? unspecified. \\ni dont want it to be america. maybe its time for me to move, you know, she said. \\n19. omari hardwick \\nwho? actor in power. \\nwhere would he move? italy. \\nill move from denver to italy if donald trump wins the presidency, im out, he told the wrap. \\n20. miley cyrus \\nwho? pop star. \\nwhere would she move? unspecified. \\nmy heart is broken into a 1 piecesi am moving if this is my president! i dont say things i dont mean! she wrote in an instagram post. \\n21. ruth bader ginsburg \\nwho? supreme court justice. \\nwhere would she move? new zealand. \\ni cant imagine what the country would be with donald trump as our president now its time for us to move to new zealand, she told the new york times. \\n22. amy schumer \\nwho? comedian and actress. \\nwhere would she move? spain. \\ni will need to learn to speak spanish because i will move to spain or somewhere its beyond my comprehension if trump won. its too crazy, she told bbc newsnight. \\n23. katie hopkins \\nstudents expressed their fear over a trump presidency in messages to each other that were being shared on twitter today: literally scared for their lives is the new literally hitler. #notmypresident pic.twitter.com/8ckfqdf2ce \\n paul joseph watson (@prisonplanet) november 9, 2016 \\nand finally, this ridiculous and totally biased email was sent from university of michigan president to the students offering them assistance to help them through the results of our presidential election last night. the president wants to ensure the students that the university remains committed to their most important responsibility at their school which is apparently, to remain committed to education, discovery and intellectual honesty  and to diversity, equity and inclusion.: \\nto all members of the university community: \\nas im sure many of you did, i watched the election coverage late into the night, and had the opportunity to visit with students and staff at a results-watching event sponsored by the ginsberg center at the michigan union. it will take quite some time to completely absorb the results from yesterdays election, understand the full implications, and discern the long-term impact on our university and our nation . more immediately, in the aftermath of a close and highly contentious election we continue to embrace our most important responsibility as a university community. our responsibility is to remain committed to education, discovery and intellectual honesty  and to diversity, equity and inclusion. we are at our best when we come together to engage respectfully across our ideological differences; to support all who feel marginalized, threatened or unwelcome; and to pursue knowledge and understanding, as we always have, as the students, faculty and staff of the university of michigan. there are reports of members of our community offering support to one another. students are planning a vigil tonight on the diag at 6 p.m. our center for research on teaching and learning also has numerous resources available for faculty seeking help in cultivating classroom environments that are responsive to national issues. i also want to make everyone aware of some of the plans and events we have had in place for today and beyond.  our gerald r. ford school of public policy is holding a post-election analysis from 4 to 5:30 p.m. today in the weill halls annenberg auditorium. speakers include former u.s. congressman john dingell, former ambassador ron weiser, and faculty members mara ostfeld, betsey stevenson and marina whitman.  our history department has organized a community discussion led by faculty and students to include historical perspectives at 6 p.m. tonight in 1014 tisch hall.  the office of student life will provide resources and referrals for support on campus to students, faculty and staff at a location in the michigan unions willis ward lounge. it will be open today from 11 a.m. to 4 p.m.  our office of multi-ethnic student affairs is offering an open space of support to help members of our community connect during open hours today. mesas office is in the michigan union, room 2202.  tomorrow, our ginsberg center and counseling and psychological services office is facilitating a post-election dialogue: impact, perspective-taking, and moving forward. this event is part of the student life professional development conference at 1  2 p.m. in the michigan leagues henderson room. i know that other schools, colleges and offices across our campus are planning events as well. i thank everyone who is helping us come together and ask anyone scheduling a post election event post it on the university of michigan events calendar. i hope all of us will continue to proudly embrace the opportunities before us as the students, faculty and staff of a great public research university governed by the people. elections are often times of great change, but the values we stand for at u-m have been shaped over the course of nearly 200 years. our mission remains as essential for society as ever: to serve the people of michigan and the world through preeminence in creating, communicating, preserving and applying knowledge, art, and academic values, and in developing leaders and citizens who will challenge the present and enrich the future. i look forward to working together with all of you to advance the work we do in service of the public  and to ensure that the university of michigan will always be a welcoming place for all members of society. sincerely, \\nmark schlissel president  \\nemail for republican politicians like ohio governor john kasich who refused to get behind donald j. trumpit turns out trump was righthe didnt need you. in spite of the massive media force who came out against him, and the never trumpers from his own party who worked very hard to defeat him, if obama was running against donald j. trump today, trump would have beaten him \\nits easy to glance at tuesdays popular vote  which, with 92 percent of all precincts reporting, shows hillary clinton with six million fewer votes than barack obama won in 2012  and reach the conclusion that clinton lost the white house because she failed to turn out the democratic base. but the truth is much more complicated. while she underperformed relative to obamas 2012 totals in several midwestern states  ohio, michigan, iowa, and wisconsin  clinton ran virtually even with obama in the battlegrounds of pennsylvania, north carolina, virginia, nevada, and new hampshire. whats more, she far surpassed obamas 2012 vote total in florida, the countrys biggest swing state. yet somehow, while obama carried florida, clinton lost it. which brings us to an important question: was donald trump just good enough to beat a bad democratic opponent on tuesday, or does he deserve far more credit? could he, for instance, have competed with the vaunted obama machine? the answer, somewhat shockingly, is yes. \\na review of vote totals in the past two elections reveals that trump 2016 would have defeated obama 2012 in the electoral college. (disclaimer: this obviously is an apples-to-oranges exercise because no two elections are the same, nor are any two electorates. still, unlike debating whether the 2016 cubs would defeat the 1927 yankees, this is not an entirely abstract argument; a comparison of their respective performances in the countrys most competitive states shows trump edging obama in a hypothetical head-to-head matchup.) the math might seem impossible. after all, obama won nearly 66 million votes in 2012; trump is currently at 59.5 million and should finish around 60 million, which will actually be one million fewer votes than mitt romney won. how, then, could trump have topped obama in the electoral college? the answer: republican turnout lagged in certain parts of the country but shot through the roof in the nations most critical battleground states. lets look at them individually, in descending order by population, and do the electoral-vote math. the 2016 totals arent yet final because not all precincts have reported. \\nflorida  29 evs  98 percent reporting \\nobama 2012: 4,235,270 \\nclinton 2016: 4,485,745 trending on 100% fed up \\ncopyright  2016 100percentfedup.com, in association with liberty alliance | all rights reserved. proudly built by wpdevelopers . stay in the loop sign up for our email newsletter to become a 100% fed up insider. subscribe \\ngo to article a trump supporter wearing a trump/pence t-shirt let it fly on a reporter from msnbc because of his one sided reporting and the demonizing of trump. this is one brave woman! new yorkers have had enough of the protests and violence!  @calmsnbc is having an interesting day. pic.twitter.com/emelmqamau\\ncopyright  2016 100percentfedup.com, in association with liberty alliance | all rights reserved. proudly built by wpdevelopers . stay in the loop sign up for our email newsletter to become a 100% fed up insider. subscribe \\ngo to article donald trump was willing to give up a very fulfilling life that took decades to build, so he could step up and take control of an out of control government. he and his family have already sacrificed so much because he chose to put his country first. making sacrifices is certainly not something loudmouth liberals like robert deniro are accustomed to. deniro was very vocal about his opposition to the wildly successful business man donald j. trump. he felt so strongly about his hate for trump that made a video where he angrily stated hed like to, punch him in the face. now that trump won the election in a landslide, deniro has chosen to get behind the trump rioters who are terrorizing cities across america. anti-trump rioters are breaking windows, using baseball bats to smash the windshields of innocent citizens who get trapped in their hellish protests as they try to escape. women who are taking part in the protests are being punched in the faces by men who are also taking part in the george soros funded protests. american flags are being burned and families who are walking in major cities are being subjected to the most vile and disgusting, hateful language and images imaginable. if this is the kind of america that robert dinero is openly supporting? and if so, why would any american pay to see his movie,comedian? \\nrobert de niro gave anti-donald trump protesters across the united states his backing friday as he spoke about how depressed the tycoons win in the presidential election had made him. \\nthe 73-year-old star was on the red carpet at the world premiere of his new film the comedian in los angeles when he was asked how he was coping with trumps victory over democratic rival hillary clinton. \\nhow am i doing? im very depressed, the famously laconic raging bull actor told reporters. \\nwe have to just wait and see how things go and keep our eyes ever vigilant on the new government. \\nasked if he thought the protests were an appropriate response to the outcome of tuesdays election, he replied: yes, absolutely. things arent being done right. \\ndemonstrators took to the streets in miami, los angeles, new york and other us cities for a third straight night on friday. \\nin manhattan, they held signs reading your wall cant stand in our way  a reference to the anti-immigration barrier the billionaire has promised to build on the us border with mexico. \\nde niro hasnt minced his words in his criticism of trump, describing him as a punk, a pig and an idiot. \\nid like to punch him in the face, he said before the election. \\nearlier in the day a town in southern italy where de niros grandparents came from offered the actor a means of escape. \\nif, after the disappointment of trump, he wants to take refuge here, we are ready to welcome him, said antonio cerio, the mayor of ferrazzano. \\nthe comedian, de niros passion project which took him eight years to bring to the big screen, was part of this years program for the american film institutes annual afi fest in los angeles.  yahoo \\nheres a clip of trump-hater megyn kelly promoting dineros hateful rant against donald j. trump:  \\njohn mcnaughton is a special american painter because of his subject matter and the intensity in which he portrays our current governmenttroubled and corrupt. the forgotten man painting is amazing in its symbolism. \\nheres how mcnaughton describes the painting: \\nagainst the background of a darkening sky, all of the past presidents of the united states gather before the white house, as if to commemorate some great event. in the left hand corner of the painting sits a man. that man, with his head bowed appears distraught and hopeless as he contemplates his future. some of the past presidents try to console him while looking in the direction of the modern presidents as if to say, what have you done? many of these modern presidents, seemingly oblivious to anything other than themselves, appear to be congratulating each other on their great accomplishments. in front of the man, paper trash is blowing in the wind. crumpled dollar bills, legislative documents, and, like a whisperthe u.s. constitution beneath the foot of barack obama. \\nthe forgotten man \\nmcnaughton never sells his original paintings but he made an exception this time. he sold this painting to sean hannity so hannity could give it to donald trump. awesome, huh? \\nnovember 9th mcnaughton announced via facebook that he sold the original to sean hannity: \\nsean hannity just purchased my painting the forgotten man to give to donald trump to hang in the white house \\nthe white house!\\ngo to article dear abby, i supported a woman i knew had a history of criminal activity, who is married to a rapist and who left 4 men to die in benghazi. she put our national security at grave risk by leaving top classified emails on her private server, and she took money from nations who throw gays off rooftops and treat women worse than cockroaches. she is likely very sick and would be unlikely to serve out her first term without someone there to prop her up, but nevertheless, i supported her anyhow, because shes a democrat and has a vagina. someone told me she still has a chance of winning the presidency if i just signed a petition. they said that trump really didnt win, because hillary won the popular vote. is that true? \\nokay, lets address this hillary might win the popular vote, isnt that electoral college situation just awful thing head on. \\nno, its not awful. its great, and it protects the importance of your vote. its also uniquely american and demonstrates yet again the once-in-creation brilliance of the founding fathers. \\nfirst of all, shes probably not going to win the actual number of votes cast. she may win the number of votes counted, but not the votes cast. \\nstates dont count their absentee ballots unless the number of outstanding absentee ballots is larger than the state margin of difference. if there is a margin of 1,000 votes counted and there are 1,300 absentee ballots outstanding, then the state tabulates those. if the number of outstanding absentee ballots wouldnt influence the election results, then the absentee ballots arent counted. \\nwho votes by absentee ballot? students overseas, the military, businesspeople on trips, etc. the historical breakout for absentee ballots is about 67-33% republican. in 2000, when al gore won the popular vote nationally by 500,000 votes and the liberal media screamed bloody murder, there were 2 million absentee ballots in california alone. a 67-33 breakout of those yields a 1.33- to 0.667-million republican vote advantage, so bush would have gotten a 667,000-vote margin from californias uncounted absentee ballots alone! so much for gores 500,000 popular vote victory. (that was the headline on the n.y. times, and it was the lead story on nbc nightly news, right? no? youre kidding.) \\ngetting back to the win the popular vote/lose the electoral college scenario: thank g-d we have that, or else california and n.y. would determine every election. every time. \\nbut the electoral college brilliantly smooths out the variances in the voting proclivities among states and regions. farmers in the middle of the country and importers and exporters on the shore get roughly equal say, as do madison ave. execs and factory workers in tennessee. \\nshortcomings? sure. the e.c. can make an r vote meaningless in a very few heavily d states or vice versa. but without the electoral college, the countrys entire population is subject to the disproportionate voting preferences of the few most populous states.  american thinker comment on this article via your facebook account comment on this article via your disqus account follow us on facebook!\\nmark cuban has made no secret of his dislike for trump and his love for crooked hillary. watch him tell fox news neil cavuto (at 5:38 mark), if donald wins, i have no doubt the market tanks! well, thats not exactly what happened now is it cuban? so heres what really happened: \\nmarket watch  u.s. stocks rallied wednesday, with the dow industrials jumping 257 points, led by a surge in financial, health-care and industrial stocks, as investors bet on the infrastructure spending policy promised by president-elect donald trump. \\nthe dow jones industrial average djia, +1.40% gained as much as 316 points, briefly surpassing the all-time closing high set in august. the index closed 256.95 points, or 1.4%, higher at 18,589.69, its highest level since aug. 18. pfizer inc. pfe, +7.07% and caterpillar inc cat, +7.70% led the gains, rallying more than 7%. way to go cubanyou just reminded us of how little you know about economics or choosing the right candidate for president hope that loss didnt cost you too much cubancheers! 46.4k shares \\ndavid wilcox, a 49 year old chicago man who was brutally beaten by a mob of black democrats asks, what happened to america? here is his very sad story:  \\ngo to article filmmaker ami horowitz takes to the streets in berkeley, ca to ask white liberals how they feel about voter id laws? do voter id laws suppress the black vote? are voter id laws racist? watch the stunning (and very telling) responses these elitist liberals give to horowitz. next, watch how black citizens in harlem, ny reply to the racist generalizations made by white liberals in berkeley, ca. tell us again who the real racists are? wow!  \\ngo to article \\npolitical activist and hillary supporter amal clooney traveled to texas to warn americans about our elected president donald j. trump and his tough immigration policies. maybe she didnt get the memotrumps tough immigration stance is what catapulted him to the top of the heap in the crowded pack of gop primary contenders. it wasnt too long ago that her arrogant liberal husband announced with great confidence, there will never be a president trump. \\nperhaps amal shouldve traveled to some of the border towns if she wanted to get a clear picture of how illegal immigration is affecting our nation. aliens crossing our borders illegally have destroyed the property of american ranchers, and threatened the safety and security of american citizens living in homes in or near the us -mexican border towns \\namal clooney has warned that many of president-elect trumps proposals would be violations of international law. \\nspeaking at the texas conference for women at the austin convention center on tuesday, the international human rights lawyer, and wife of george clooney, said she had concerns about americas reputation under the real estate moguls plans. \\nshe noted that trumps comments during his campaign, that there should be a religious test imposed on entering the u.s. or the fact that there should be state-sponsored torture or that families of suspected terrorists should all be killed  all of those things are violations of international human rights law and the values that underlie that. \\nthe 38-year-old wife said americas reputation as a country with a strong human rights record and high moral standing was at risk. \\ni think theres some concern from abroad as to, are these things actually going to happen?, or is the u.s. going to lose some of the moral standing that it has internationally, according to the hollywood reporter. \\nperhaps its time to put our nations security and sovereignty before we worry about what people in other countries around the world think of us \\nboth amal and her hollywood actor husband george, a staunch hillary clinton supporter, have spoken out against trump in the past. \\nearlier this year, amal clooney called for trump to be challenged on his extreme views. \\nwatch george clooney here whine about press giving trump too much favorable press: \\nwhen you listen to what the leading candidate on the republican side has been saying about building walls, about excluding mexicans and a complete shutdown of all muslims entering in, and if you actually look at what he specifically said in that now infamous speech about muslims, he kept saying, they only want jihad. they dont believe in our way of life. they dont respect our system, clooney said. via: daily mail  \\ngo to article rafael salamancas interview on tucker carlson tonight was a major throw down of epic proportions. reality hit this councilman and he just kept repeating the same talking points. if you want to go up against the brilliant trucker carlson then you need to have your facts straight.\\ngo to article in the bubble, life continues for progressive americans as if the election never happened comment on this article via your facebook account comment on this article via your disqus account follow us on facebook!\\ngo to article \\nthey had to know they had it coming \\ndonald trump scolded media big shots during an off-the-record trump tower sitdown on monday, sources told the post. \\nit was like a fing firing squad, one source said of the encounter. \\ntrump started with [cnn chief] jeff zucker and said i hate your network, everyone at cnn is a liar and you should be ashamed,  the source said. \\nthe meeting was a total disaster. the tv execs and anchors went in there thinking they would be discussing the access they would get to the trump administration, but instead they got a trump-style dressing down, the source added. \\na second source confirmed the fireworks. \\nthe meeting took place in a big board room and there were about 30 or 40 people, including the big news anchors from all the networks, the other source said. \\ntrump kept saying, were in a room of liars, the deceitful dishonest media who got it all wrong. he addressed everyone in the room calling the media dishonest, deceitful liars. he called out jeff zucker by name and said everyone at cnn was a liar, and cnn was [a] network of liars, the source said. \\ntrump didnt say [nbc reporter] katy tur by name, but talked about an nbc female correspondent who got it wrong, then he referred to a horrible network correspondent who cried when hillary lost who hosted a debate  which was martha raddatz who was also in the room. \\nthe stunned reporters tried to get a word in edgewise to discuss access to a trump administration. \\n[cbs good morning co-host gayle] king did not stand up, but asked some question, how do you propose we the media work with you? chuck todd asked some pretty pointed questions. david muir asked how are you going to cope living in dc while your family is in nyc? it was a horrible meeting. \\nheres a sampling of trump hitting back at the dishonest media while he was on the campaign trail. trump did something no other presidential candidate has ever done before, he won the election in a landslide, in spite of the entire fake news empire working together to take him down: \\ntrump spokeswoman kellyanne conway told reporters the gathering went well. \\nexcellent meetings with the top executives of the major networks, she said during a gaggle in the lobby of trump tower. pretty unprecedented meeting we put together in two days. \\nthe meeting was off the record, meaning the participants agreed not to talk about the substance of the conversations. \\nthe hour-long session included top execs from network and cable news channels. among the attendees were nbcs deborah turness, lester holt and chuck todd, abcs james goldston, george stephanopoulos, david muir and martha raddatz, \\nalso, cbs norah odonnell john dickerson, charlie rose, christopher isham and king, fox news bill shine, jack abernethy, jay wallace, suzanne scott, msnbcs phil griffin and cnns jeff zucker and erin burnett. -via : nyp  \\ndonald trump skips media: delivers transition update straight to the people [video] audience members booed pence as he entered the theater and after the casts curtain call, the statement was read. cast member brandon dixon stopped pence on his way out of the performance to publicly shame him in front of the audience and cast members of hamilton. dixons message was written by show creator lin-manuel miranda, director, thomas kail and lead producer, jeffrey seller, according to the new york times. we, sir, we are the diverse america who are alarmed and anxious that your new administration will not protect us, our planet, our children, our parents, or defend us and uphold our inalienable rights. we truly hope that this show has inspired you to uphold our american values and to work on behalf of all of us, dixon said, reading the message aloud. but cast members were able to give input. radaronline investigated whether or not the actors had voted and revealed many leads hadnt in years. dixons records show he didnt vote during president obamas reelection bid in 2012. javier munoz, playing the titular role of hamilton, registered to vote in 2006 and voted in the mid-term elections, but hasnt been on record as voting since. \\nseth stewart, who plays thomas jefferson, voted in 2008 when obama ran for the first time. he did not vote in 2012. okieriete oak onaodowan, who players james madison and hercules mulligan, registered to vote in 2005 but hasnt been on record voting since. since the clash with the hamilton cast, pence told fox news he wasnt offended by the message and said the booing is what freedom sounds like.  daily mail \\n\\ngo to article the left is shameful in their latest effort to create a false narrative that donald trump is supportive of racist groups. a full-court-press has been going on all day after a neo-nazi/alt-right group held a celebration of trumps victory. the left grabbed onto the news and attached it to donald trump and his supporters. theres a big difference between a president like obama who actually marched with the racist new black panthers and sat in a racist church for 20years and trump who does not support racist groups and has said so! he cant help who supports him. these people are sickening  \\nboom! kellyanne conway shuts down cnns cuomo barracuda brigade 2016-11-23 this is why we love this woman! kellyanne conway is one smart cookie and is so quick with comebacks. watch her shut down chris cuomo on his faux concern about my president tweeting: kellyanne conway defends trumps hamilton twitter scrap: why do you care https://t.co/11uip8ckfi https://t.co/vnk4rohy4m\\nsharia in america? how minneapolis muslims are still being recruited by terrorists barracuda brigade 2016-11-23 print i truly hope that trump keeps his promise to keep muslims out of our country 100percentfedup : isolation of the somali muslim community and teaching sharia law in muslim schools in minneapolis are the two main reasons why we should still fear their recruitment to terrorism. assimilation hasnt happened and thats a huge problem! pete hegseth goes to little mogadishu and finds out that many somali muslims dont speak english and that they actually teach sharia law in school but not sure about american law. this all goes back to the refugee resettlement program and the huge problem with bringing over 3 million mostly muslims to the u.s. in the past 30 years. we need to take a look at defunding this program because its ballooned way past what it was originally intended to be. \\nis this happening in your town? heres the lowdown on the refugee resettlement program every american should hear: related\\ngo to article wow! milwaukees sheriff david clarke nails it again! [president] obama is like a tenant who has been evicted from a property, and hes going to trash the place on the way out the door just out of spite. so, nothing would surprise me from obama in these waning days.  sheriff david clarke  \\ngo to article austin, texas was the scene of protest against president-elect donald trump and police officers. the same weekend three police officers were ambushed:  \\n\\n21st century wire says \\nas western media outlets like the new york times, washington post, cnn and the bbc continue to hurl viral images of child victims of aleppo, western and gulf-backed terrorists in east aleppo continue to fire mortars,  hell cannon  and use snipers to target civilians and children in government-protected west aleppo. the level of information fraud and propaganda being perpetrated by the western mainstream media and politicians like john kerry and samantha power is unprecedented  even by traditional low us standards. \\nrt international interviews syrian peace campaigner mother agnes-mariam and independent researcher and journalist vanessa beeley . watch: \\n. \\n\\n21st century wire says \\n21wire reported on friday about the fbis surprising announcement that it would be reopening the clinton email case due to new evidence of classified information found on sex cheat anthony weiners (newly estranged husband of clinton chief aid huma abedin) computer which was subject to a seperate investigation. will this really yield anything significant in the 10 days running-up to the nov 8th election, or is this just clever democrat party smoke and mirrors? it seems that washingtons political tricksters have already sprung into action \\nafter comeys shock announcement, a leaked memo appeared out of nowhere, supplied to fox news , in which comey and the fbi seem to be going through a routine set of prescribed political moves designed to implement damage control. \\nelite circles: fbi head james comey and friend hillary clinton. \\ncertainly, a desperate democratic party, and an even more desperate obama white house (over the last 3 weeks, obama and his wife michelle have been out campaigning more that hillary clinton herself), could be pressuring or nudging the fbi on this volatile issue which could easily tilt a close presidential race against donald trump. aside from the obvious potential of another clinton scandal, yesterdays fbi move could also be a prelude to the following possible scenarios: protect the president, who is already deeply tied to the clinton email cover-up democratic party machine has created a distraction to cover-up latest wikileaks dump. fbi are trying to restore lost public confidence over allegations of favoring hillary clintons. create a controlled explosion this weekend to clear the decks for another salacious trump scandal next week. \\nnote: despite calls from the clinton camp for fbi to disclose what they have (which they cannot by law anyway, youd think hillary would have already known that), it is highly unlikely that the fbi will release any real specifics before the election  if they have anything at all. its just too early to tell. \\nsee also: fbi james comey was board member of hsbc  clinton foundation & drug cartel bank of choice \\nthe fbi director stoked outrage last month when he announced that he would not recommend the justice department seek an indictment against clinton or any of the other parties to the investigation  allowing clinton to dodge any criminal probe before the election  despite the fact that comey stated to a congressional investigative committee that clinton was extremely careless, and that clinton openly lied about her handling classified information on her unsecured private server throughout her tenure as the us secretary of state. \\nzero hedge adds: \\nnow, it is the democrats turn to rage at comey and the fbi, although comey likely did not have much choice: had he kept the information secret, it certainly would have leaked as we predicted; as such his best recourse was to come clean, although many have speculated about the cryptic nature of the disclosure. needless to say, all comey would need to do to regain the demcorats trust and favor is to announce in just a few days that nothing material has been found and that the second probe is also over. \\nhere is leaked (aka just covering my ass) memo from fbi director james comey: \\nwatch this space. here is a highlight reel of hillary clinton lying on at least 5 occasions when asked direct questions about her illegal private email server: \\n. read more election news at: 21st century wire 2016 files \\nsupport 21wire  subscribe & become a member @21wire.tv \\n\\nin a stunning turn of events 11 days before the 2016 presidential election, the fbi announced it is reopenning its investigation into hillary clintons email server case, by probing newly emerging emails linked to hillary clinton. \\nnew probe the fbi gives hillary clinton a second look. (photo illustraion 21wire) \\nfbi october surprise? \\naccording to reports , in a letter written today, fbi director james comey , stated that the fbi has begun a new probe into hillary clinton related emails once again. comey offered scant details about the new probe, but due to an unrelated case, additional classified material may have been mishandled on clintons personal email server. \\ncnbc reported the latest fbi developments, including a passage from comeys letter discussing the new investigation: \\nin previous congressional testimony, i referred to the fact that the federal bureau of investigation (fbi) had completed its investigation of former secretary clintons personal email server. due to recent developments, i am writing to supplement my previous testimony, comey wrote. \\nin connection with an unrelated case, the fbi has learned of the existence of emails that appear to be pertinent to the investigation. i am writing to inform you that the investigative team briefed me on this yesterday, and i agreed that the fbi should take appropriate investigative steps designed to allow investigators to review these emails to determine whether they contain classified information, as well as to assess their importance to our investigation, he added. \\nalthough the fbi cannot yet assess whether or not this material may be significant, and i cannot predict how long it will take us to complete this additional work, i believe it is important to update your committees about our efforts in light of my previous testimony, comey concluded. \\nhumas estranged sexting husband \\naccording to a new report released via the new york times : \\nthe presidential campaign was rocked on friday after federal law enforcement officials said that emails pertinent to the now-closed investigation into hillary clinton s private email server were discovered on a computer belonging to anthony d. weiner, the estranged husband of a top clinton aide.  in a letter to congress , the f.b.i. director, james b. comey, said the emails had surfaced in an unrelated case, which law enforcement officials said was an f.b.i. investigation into illicit text messages from mr. weiner to a 15-year-old girl in north carolina. mr. weiner, a former democratic congressman from new york, is married to huma abedin, the top aide. comey has come under fire recently for apparently letting clinton off the hook for mishandling, and lying to congress, about classified emails coming through her home brew email server while she was secretary of state. after previously closing the case, comey has done a u-turn and is now saying the fbi will review the new emails to for classified information, and see whether it was mishandled. \\nthis unprecedented investigative move comes just two days after a wikileaks docu-dump revealed a memo containing detailed financial information between clinton foundation donors and former president bill clinton s private financial activities. among those included in the memo, was a $30 million dollar business arrangement under bill clinton, inc., with another $66 million dollar deal scheduled over nine years. \\nthe following is a tweet from brad jaffy of nbc nightly news containing the new fbi recommendation \\nthe new investigation into the clinton camp will most certainly spark new pay-to-play allegations , as the new fbi revelations also comes days after a project veritas hidden camera sting operation revealed that the democratic consultant robert creamer of democracy partners, discussed ways to commit large-scale voter fraud as well as paying political agitators to cause violence at donald trump rallies. out of creamers 342 visits to the white house, also included his wife, a 9-term illinois democratic congresswoman, jan schakowsky some 47 times. white house visitor records show that schakowsky took 47 private meetings with obama or his senior staff, also over the past year. the consultancy democracy partners appears to have applied schakowsky as a political buffering point, possibly in the event of a fallout over their operations at a grassroots level. the impetus of this type of procedural separation is to keep certain high-ranking officials of the hook in case of a massive upheaval over various underhanded campaign tactics  thus giving a political campaign or political entity plausible deniability. caught on film  robert creamer resigns over a massive democratic party controversy. (image source: cnn ) creamer, a convicted felon , (in 2005, creamer plead guilty $2.3 million in bank fraud and tax violations) was promptly shoved out of the hillary clinton campaigns inner circle, following a heavily publicized video sting revealing his discussion about voter fraud and violence at trump rallies. pay to play? virginia governor terry mcauliffe closely allied with the clintons negotiated a a campaign contribution involving the fbi. (image source new republic ) it remains unclear what exactly reopened the new clinton probe, but perhaps the fbi had its own cobwebs to clear out after it was revealed that a longtime clinton associate , virginia gov. terry mcauliffe , helped steer $675,000 to the election campaign of the wife of an fbi official who went on to lead the probe into hillary clintons use of a private email system, according to a report. the ny post also reported on the matter this past week: \\nthe political action committee of mcauliffe, the clinton loyalist, gave $467,500 to the state senate campaign of the wife of andrew mccabe, who is now deputy director of the fbi, according to the wall street journal . \\nthe report states jill mccabe received an additional $207,788 from the virginia democratic party, which is heavily influenced by mcauliffe. \\nthe money directed by mcauliffe began flowing two months after the fbi investigation into clinton began in july 2015. around that time, the candidates husband was promoted from running the washington field office for the fbi to the no. 3 position at the bureau. \\nin a cnn report from october 18th, a week before the mcauliffe revelations, according to notes from interviews conducted during an fbi investigation into clintons email practices, undersecretary of state patrick kennedy personally tried to convince fbi officials that the email should be declassified. one interviewee described feeling pressured by another fbi official at kennedys request. \\nthe newly reopened fbi investigation into clinton could be related to all or some of the items listed above, but theres no doubt that due to public backlash the fbi received following the first clinton investigation, in addition to concerns over dealings between the fbi and clinton associates  the agency needed to save face. \\nit remains to be seen how new case will impact the us presidential election. \\nmore from rt below \\na tidal wave of revelations is pouring out of the clinton campaign as the 2016 presidential election draws to a close. \\nmeltdown the clinton campaign continues to unravel following a series of troubling details. (photo illustration 21wire) \\nover the weekend, it was discovered through a wikileaks email dump, that neera tanden of the center for american progress , john podesta s top aide, had an email exchange with michael lux of progressive strategies revealing that the democratic consultant robert creamer of democracy partners, was closely allied with clinton campaign manager robby mook . \\npolitical bombshell clinton campaign manager robby mook had close ties to disgraced dnc consultant robert creamer. (image source: lockerdome ) \\ncreamer gained national attention when he became the subject of video sting operation captured by the investigative non-profit project veritas . not only was it revealed that the creamer discussed ways to commit voter fraud and violence at donald trump rallies on camera  he also met with white house officials some 342 times over the past year, including 47 private meetings with president obama or other senior officials. \\ndnc scandal robert creamer of democracy partners and democratic congresswoman jan schakowsky. (image source: national vanguard ) \\ncreamers visits to the white house also included his wife, a 9-term illinois democratic congresswoman jan schakowsky . \\nwhite house visitor records have shown that schakowsky took 47 private meetings with obama or his senior staff, over the past year. the consultancy democracy partners appears to have applied schakowsky as a political buffering point, in the event of a fallout over their operations at a grassroots level. the nature of this type of procedural separation is to keep certain high-ranking officials of the hook in case of a massive upheaval over various underhanded campaign tactics , potentially giving the clinton campaign and the dnc plausible deniability. \\nthe mook fallout is the latest in a laundry list of problems for the clinton campaign and comes at a time when interim dnc chair donna brazile , is embroiled in controversy of over leaked debate questions prior to at least two 2016 town hall debates. brazile stepped down from her role at cnn earlier in october. heres a passage from the daily caller describing the scenario: \\ndonna brazile, the interim chair of the democratic national committee, began providing town hall and debate questions to the clinton campaign earlier than previously known, emails released by wikileaks on monday show. \\nthe article continued by stating that the revelations expose that the interim dnc chair was more deeply involved than previously outlined: \\nin the march 12 exchange, brazile mentions [roland] martin by name and offers to provide more than just the one town hall question that she is known to have shared with the campaign. \\nill send a few more. though some questions roland submitted, brazile wrote to palmieri in the march 12 email thread, which is entitled from time to time i get the questions in advance. \\nmartin, is a commentator for tv one and the host of news one now , as well as a cnn contributor. \\nin another matter, the wall street journal revealed the following , while disclosing an apparently contentious relationship between the fbi and doj, while the fbi appears to be somewhat fractured over the latest email server case developments: \\nthe latest development began in early october when new york-based fbi officials notified andrew mccabe [of the terry mcauliffe campaign contribution scandal], the bureaus second-in-command, that while investigating mr. weiner for possibly sending sexually charged messages to a teenage minor, they had recovered a laptop. many of the 650,000 emails on the computer, they said, were from the accounts of ms. abedin, according to people familiar with the matter. \\nsome critics have called for mccabe to recuse himself after it was revealed his wife received $675,000 from a well-known clinton confidant, terry mcauliffe . this was further underlined after the house oversight commitee wanted more information about the senate campaign of dr. jill mccabe and its ties to the clintons. \\nthe alleged internal feud among agencies was compounded when attorney general loretta lynch and deputy attorney general sally yates objected to fbi director james comey reopening the clinton email server case this past week  something that added to the lynch/clinton tarmac meeting before the first fbi ruling in the clinton case. \\naccording to a report filed by zero hedge , a close friend of podesta, peter kadzik , the assistant attorney general of the department of justice (doj), will be in charge of a probe into huma abedin , clintions closest aide. \\ninterestingly, as a mountain of controversy envelops the clinton campaign, the fbi is now conducting an early inquiry into former trump campaign manager paul manafort , over his alleged foreign business connections. \\nback in august, the following business connection was revealed by nbc news : \\nin 2008, according to court records, senior trump aide paul manaforts firm was involved with a ukrainian oligarch named dmytro firtash in a plan to redevelop a famous new york hotel, the drake. the total value of the project was $850 million. firtashs company planned to invest over $100 million, the records say. \\nthat same year, firtash acknowledged to the u.s. ambassador in ukraine that he got his start in business with the permission of a notorious russian crime lord, according to a classified state department cable. other cables say firtash made part of his fortune through sweetheart natural gas deals between russia and the ukraine. \\nalthough the us state department has determined that firtash may have ties to a criminal enterprise in russia  so far, theres nothing directly linking manafort to any underground element at this time. \\nwatch this space  as the russia/trump meme fostered by mainstream media or some other politically polarizing element will look to deflect from the clinton campaign meltdown. \\nmore from lifezette below \\nout of control? wikileaks reveals robby mooks links to dnc contractor who discussed ways to commit voter fraud and violence. (image source: slate ) \\nwikileaks: trump rally agitator and clinton campaign manager are close \\ntop clinton aides discussed bob creamer and his grassroots/netroots operation \\nby jim stinson lifezette \\nrobert creamer, the operative behind sending provocateurs to donald trump rallies, was close to robby mook, hillary clintons campaign manager, according to new emails released by wikileaks. \\ncreamer, who allegedly spearheaded the dirty tricks for the democrats, wasnt just consulting for the democratic national committee, according to videos made by project veritas. he was sending people to provoke trump at events. \\ncreamer has thus become a red-hot issue in the campaign. and now its apparent he is close to mook. that surprising detail came out sunday morning when wikileaks posted hundreds more emails from john podestas gmail account. podesta is clintons campaign chairman whose account was hacked in march. \\nmore from lifezette here  \\nread more election news at: 21st century wire 2016 files \\nsupport 21wire  subscribe & become a member @21wire.tv\\nnovember 1, 2016 by 21wire 4 comments \\npatrick henningsen 21st century wire \\nthe longer this soap opera drags on, its becoming more and more evident that the russian government did not hack into the dnc, and moscow is not feeding john podestas emails to wikileaks. for those who are deeply invested in this now official conspiracy theory, this might be a hard pill to swallow. \\nthe white house and the hillary clinton campaign are now married to the idea that putin is hacking the us elections. in response, the president is weighing his options  tougher economic sanctions, revoking diplomatic status to russian envoys in the us, or even deploying his newly developed malicious cyber-activity tools. \\neven vp joe biden wants in on the action, threatening moscow by saying,were sending a message. we have the capacity to do it. \\nit seems that where ever you turn nowadays, someone in washington is issuing a threat against russia. are us-russian relations really that bad, or does this trend have more to do with the defense industry and power struggles within the us? \\nwhat was previously a stance reserved for right-wing neoconservative hawks and cold war hold-outs has now infected americas left-wing, and is a firm plank in the democratic party platform, as evidenced by hillary clintons constant anti-russian rhetoric throughout this 2016 election cycle. along with the white house, clinton has now transformed the democrats into the vanguard of washingtons new anti-russia movement. \\non july 27th, josh rogin from the washington post wrote, the clinton campaign has decided to escalate its rhetoric on russia. after trump suggested wednesday that if russia had indeed hacked clintons private email server it should release the emails, the clinton campaign sent out its democratic surrogates to bash russia and trump in a manner traditionally reserved for republicans. \\nanyone who was paying attention back then knew this russian hack talking point was purely political, but then again, whos really paying attention these days? certainly not the us media. \\nyou can trace the genesis of the democratic partys hardcore anti-russian strategy back to when president vladimir putin made a mild passing remark about donald trumps gop primary success. from that point on, trumps political opponents saw this as an open target. in their words, comparing one dictator to another. \\nnever one to pass up an opportunity to score cheap political points, president obama got in on the act, intensifying the trump-putin narrative to the level of bromance . if youve made a career out of idealizing ronald reagan, then where were you when your own partys nominee for president was kissing up to vladimir putin? said obama on oct 20th at a clinton rally in miami. \\nbacked by the obama white house, clinton and the media felt they had a green light to keep pressing ahead with blaming russia  not only for the controversial dnc leaks, but also for hacking into us election systems in arizona  a charge devoid of any evidence other than innuendo and speculation. the medias coverage on this issue was deceptive from the onset. in a leading news release, entitled,  russian hackers targeted arizona election system , we can see how after the cock-sure headline, the first paragraph would always sound definitive: \\nhackers targeted voter registration systems in illinois and arizona, and the fbi alerted arizona officials in june that russians were behind the assault on the election system in that state. \\nbut then by the time you advanced down the story, the report would quickly retreat into a zone of uncertainty: \\nthe bureau described the threat as credible and significant, an eight on a scale of one to 10, matt roberts, a spokesman for arizona secretary of state michele reagan (r), said monday. as a result, reagan shut down the states voter registration system for nearly a week. \\nand then, down to almost nothing \\nit turned out that the hackers had not compromised the state system or even any county system. they had, however, stolen the username and password of a single election official in gila county. \\nat no point was any evidence ever given. only ambiguous statements like, cyber security officials agree that this looks very much like a russian government-directed hack. \\nare american politicians so callous as to tempt geopolitical conflict in order to further their short-term political ambitions? better yet, has american political life really arrived in such a dark cul de sac (translated in french: bottom of the bag) where politicians in power are so insecure as to make-up and propagate wild international conspiracy theories  in the middle a national election cycle? its a very depressing prospect, and yet, this is exactly what we are seeing in this 2016 presidential election. \\nbehind clintons wild hyperbolic rants about the kremlin and wikileaks, you will find the white house \\non october 7th, the obama administration formally accused the russian government of stealing emails from the democratic national committee and other high-profile individuals including hillary clintons campaign manager john podesta  giving them to wikileaks. \\nsoon, there was a queue of national security politicians eager to hitch a ride on this bandwagon. senator ben sasse (ne-r), a member of the homeland security committee spouted out, russia must face serious consequences. moscow orchestrated these hacks because [russian president vladimir] putin believes soviet-style aggression is worth it. the united states must upend putins calculus with a strong diplomatic, political, cyber and economic response. \\naccording to a washington post report by technology editor, ellen nakashima , the only evidence that seems to be available on this story is a corporate analysis of the alleged russian government hacks provided by a us cyber security company called crowdstrike . no actual specifics are given, so we are meant to take private firm crowdstrikes word for it. \\nimage: crowdstrike cyber security. \\nthe posts nakashima then added: \\nthe administration also blamed moscow for the hack of the democratic congressional campaign committee and the subsequent leak of private email addresses and cellphone numbers of democratic lawmakers. \\nan online persona calling himself guccifer 2.0 has claimed responsibility for posting the material. those sites and that persona are consistent with the methods and motivations of russian-directed efforts, the joint statement said.  we believe, based on the scope and sensitivity of these efforts, that only russias senior-most officials could have authorized these activities. \\nmoscows press secretarys reply: this is some sort of nonsense, said dmitry peskov. \\ndespite the constant repetition by democrat media surrogates, and as cnns maria cardona said last night, no us national intelligence agency has really confirmed that russia was behind the email hacks  and still no evidence , other than speculative guesswork, has been presented. \\nlikewise, us intelligence agencies have never actually said definitively on record that russia did it, thus, leaving the door open to walk-back the accusation at a later date. standard washington procedure of ambiguity. this little detail doesnt seem to matter in this hyperbolic political climate though. it seems that the white house, hillary clinton and media operatives like cardona  are quite happy living in what john kerry recent dubbed as a  parallel universe . \\nstill, during the final presidential debate, hillary clinton proudly crowed how  17 us intelligence agencies  aka the intelligence community all agreed that russia did it. \\nthe announcement, albeit vague, actually originated from the office of the director of national intelligence. \\nwe have 17 intelligence agencies, civilian and military, who have all concluded that these espionage attacks, these cyberattacks, come from the highest levels of the kremlin, and they are designed to influence our election, said clinton. i find that deeply disturbing. \\nwhats even more disturbing is the fact that clinton is lying in front of a national audience. the highest levels of the kremlin? here are clintons 17 agencies: \\nair force intelligence, army intelligence, central intelligence agency, coast guard intelligence, defense intelligence agency, energy department, homeland security department, state department, treasury department, drug enforcement administration, federal bureau of investigation, marine corps intelligence, national geospatial intelligence agency, national reconnaissance office, national security agency, navy intelligence and the office of the director of national intelligence. \\nwhat does the coast guard intelligence, national geospatial intelligence agency or the drug enforcement administration know about john podestas emails? answer: nothing. \\nthe exact same thing happened following wikileaks first trove of dnc emails back in july 2016 . the us government issued a vague accusatory statement, but would not actually name the culprit. some might call that propaganda. \\nin both instances, the obama administration refused to present any evidence. translated: there was no evidence. if there had been, the white house would have been shouting from the rooftops and using it as leverage to apply muscle in the un over washingtons flagging efforts in syria. both obama administration announcements were nothing more than dog whistles for democrats and journalists working for hopelessly partisan outlets like new york times and cnn  none of whom have bothered to press the white house for one ounce of evidence pertaining to the partys decree that russian is hacking the us election process. if you actually look at the joint dni-dhs statement issued on the matter, it contains no definitive statement:  [the hacks] are consistent with the methods and motivations of russian-directed efforts. these thefts and disclosures are intended to interfere with the us election process. such activity is not new to moscow  the russians have used similar tactics and techniques across europe and eurasia, for example, to influence public opinion there. we believe, based on the scope and sensitivity of these efforts, that only russias senior-most officials could have authorized these activities. according to nsa intelligence worker-turned whistleblower william binney , when asked about wikileaks and whether the russians are hacking us elections, he concluded that the cyber efforts against the dnc were more likely to be the work of a  disgruntled u.s. intelligence worker.  \\nunder partisan pressure from senior democrat senator harry reid , the fbi also initiated another investigation into people linked to the trump team with russia. reid was unset about the dnc hacks and the podesta emails and demanded the fbi do something about the trump campaign. to date, the fbi havent come up with anything. \\nto be fair, hillary would have every reason to believe that the kremlin is behind the hack  because her staff read it to her from the campaigns daily intelligence briefings, presumably, supplied from the us governments much vaunted intelligence community . of course, thats the same intelligence community that briefed george w bush about saddams nonexistent nuclear weapons program, and who also briefed colin powell about iraqs imaginary winnebagos of death aka mobile anthrax labs disguised as senior double-wide camper vans. so, of course, they would know if putin directed the dnc leaks and podesta email hacks. \\nfor those us who are skeptical of the great oxymoron known as washington intelligence, i can almost hear the mainstream rebuttal now, no, that was iraq, that was bush. were not like that. no, this time its different. this time we are sure the russians did it! \\nin 2014, obama claimed that kims notorious bureau 121 hacked into sony pictures. \\nthis isnt the first time that president obama has cried wolf on a foreign hack and then tried to sell it for political purposes. back in december 2014, obama claimed that north korea had hacked sony pictures in hollywood. pentagon-cia media proxy cnn quickly chimed in to support washingtons conspiracy theory, floating a colorful story that kim jing-un had deployed a secret underground hacking unit called  bureau 121 . just like with todays russian hack theory, no member of the mainstream press dared to question the white houses ridiculous north korean claim, and like the russian hack claims, the only source cited for sony hack was analysis provided by us firm crowdstrike . \\njumping the shark \\nafter their democratic party convention on july 27th, the clinton campaign machine put all of its chips on their putin narrative. \\nsoon after, a cadre of top clinton national security surrogates then accused trump of emboldening russia in their evil plot to destabilize and dominate the west. tom donilon, a former national security adviser then accused russia of interfering with elections all over europe and then accused trump is helping russia directly. at that point, they were in too deep to turn back. the biggest impact of @wikileaks ? shining a spotlight on russias attempt to undermine american democracy and trumps refusal to condemn it https://t.co/alzpym1bb5 \\n josh schwerin (@joshschwerin) october 21, 2016 \\nclinton spin doctors josh schwerin and michael fallon would stoop even lower by accusing rt of having possession of the podesta emails even before wikileaks did. their only evidence seemed to be twitter posts by rt news which clinton held up as proof that the kremlin was front-running wikileaks email dumps. the clinton braintrust failed to note that the podesta emails were posted on wikileaks own website well before rt news had tweeted about them. at that point it became obvious that the clinton campaign was panicking and hysterically grabbing for any excuse they could get their hands on. we then watched, as one rt reporter after another dismantled the clinton campaigns desperate claims. it was embarrassing. \\nthey could not face the uncomfortable fact that it was wikileaks head julian assange who chose the timing of the release of the dnc and podesta emails. rather than attack assange himself, who happens to be popular with millennials (the very group clinton struggles to connect with), her operatives opted to target russia and trump instead. \\neither way, the political strategy here is clear  to shoot the messenger . the clinton campaign is stuck in permanent rear-guard mode, because based on the content of both the dnc leaks, wikileaks files, and project veritas video  their own democratic party has been discredited and exposed as a corrupt political organization. \\ntheir other big problem is that despite all the outrage from democrats and their mainstream media surrogates, none of the leaked content has been challenged on the basis of its authenticity. the results speak for themselves. the initial dnc leak of 20,000 emails resulted in the resignation of dnc chairwoman debbie wasserman schultz . they revealed the unthinkable: the democratic national committee actively worked to undermine the presidential campaign of bernie sanders in favor of the establishment choice in hillary clinton. sanders never had a chance. honest commentators called this an affront to the democratic process, while party insiders and clinton supporters pretended to be aloof as if it never happened. \\nto prove this point, both president obama and hillary clinton then gave wasserman-schultz a glowing endorsement on the way out. for the last eight years, chairwoman debbie wasserman schultz has had my back. this afternoon, i called her to let her know that i am grateful, said obama. not surprisingly, clinton thanked wasserman schultz, presumably for helping to knock her only competitor sanders out of the democrat primary race. i am grateful to debbie for getting the democratic party to this years historic convention in philadelphia, and i know that this weeks events will be a success thanks to her hard work and leadership, said clinton. \\nthe party had sold its soul to devil and no one seemed to care too much about it. \\nparty meltdown \\nwasserman schultzs replacement didnt fair much better. dnc vice chairwoman donna brazile was installed to serve as interim chair through the remainder election, but brazile was soon skewered by subsequent wikileaks batches  showing how, on more than one occasion, she fed debate questions obtained from corrupt mainstream media operatives  straight to hillary clinton. \\n a march 12 email exchange shows brazile stating that she received a town hall question from roland martin, a tv one host who co-moderated a march 13 town hall with cnns jake tapper. \\n a march 5 email shows that she shared a question with clinton campaign chairman john podesta and communications director jennifer palmieri that was to be asked in a march 6 debate hosted by cnn in flint, mich. (source: daily caller ) \\nbraziles audacious fraud also helped contribute to her partys planned sabotage of democrat challenger bernie sanders. watch brazile go into full meltdown when confronted here: \\n. completely corrupt and still, brazile even had to temerity to deny doing it when pressed on fox news last week. braziles reputation is so bad now that even cnn has severed ties with her  and thats saying a lot. \\nin addition, it was also revealed how cnns head political commentator, gloria borger , was named by podesta as one of a shortlist of journalists the clinton campaign would work with to gain favorable coverage. youd think that cnn would have dropped borger after this was revealed, but no. amazingly, borger is still leading cnns election coverage. \\nclearly, cnn cannot be trusted to police itself when it comes to matters of outright collusion with hillary clinton and the democratic party. ever-unbiased cnn\\'s gloria borger refers to being in \"gop hell\" and says she\\'ll \"reach out soon\" to podesta. heart-warming #podestaemails13 pic.twitter.com/cqfdcj12q5 \\n 400-lb hacker owens (@nubianawakening) october 21, 2016 \\nworse than watergate \\nperhaps a bigger scandal which the obama white house and clinton campaign operatives would like to bury  is the fbis investigation into the clinton foundation. yesterday, the wall street journal confirmed the existence of an internal feud between the fbi and the justice department, over whether or not to pursue an investigation into clinton issue: \\nsome investigators grew frustrated, viewing fbi leadership as uninterested in probing the charity, these people said. others involved disagreed sharply, defending fbi bosses and saying mr. mccabe in particular was caught between an increasingly acrimonious fight for control between the justice department and fbi agents pursuing the clinton foundation case. it isnt unusual for field agents to favor a more aggressive approach than supervisors and prosecutors think is merited. but the internal debates about the clinton foundation show the high stakes when such disagreements occur surrounding someone who is running for president. \\ntheres more. it was also revealed last week how jill mccabe, the wife of fbi deputy director, andrew mccabe , received $467,500 in campaign funds in late 2015 for her virginia state senate run. this unusually large donation came via a political action committee run by virginia gov.terry mcauliffe  a clinton foundation board member. after the funds were donated, andrew mccabe was then put in charge of the clinton email case. in normal times, this one scandal would be bigger than watergate, but these are not normal times . \\nso why is washington going all out to deflect to russia , and cover-up the clinton scandals, and the wikileaks document dumps? one reason is because the clinton email issue goes all the way to the top  to the president himself. \\nwhat 21wire reported on oct 21st is how president obama lied when first confronted about whether or not he knew about the existence of hillarys unauthorized private server. obama told cbs news on march 7, 2015 that he only found out about clintons server the same time everybody else learned it through news reports. the presidents lie was confirmed when newly released fbi documents showed that: \\nobama used a pseudonym [bobama@ameritech.net] when communicating with then-secretary of state hillary clinton by email, and at least one of those emails ended up on clintons private email server. \\nso, not only did obama lie on national tv, but he also broke strict white house security protocols by carelessly exchanging private emails off grid with hillary clinton on a unsecured and unauthorized mail server  maybe to avoid the same scrutiny one would have on a government system. who knows why he did it. \\nsure, hes not the first us president to lie, but like, richard nixon and bill clinton, obama just joined that exclusive liars club  caught out lying to the american people. \\non top of this, any communications made by the president of the united states are de facto labeled as  born classified . the same goes for any state department communications with other foreign ministers. \\ncover-up: john podesta and huma abedin on the hillary campaign jet (image: abc news ) \\nit should be well known by now after watching both attorney generals eric holder and loretta lynch in action  that the obama justice department (doj) is one of the most politicized in history. bear that in mind when looking at the latest leg of the hillary email case. \\non friday, fbi director james comey set the election alight after announcing that the fbi would be reopening the clinton email case  currently examining 650,000 emails found while investigating a laptop belonging to former us congressman anthony weiner (estranged husband of top clinton aid and long-time confidant huma abedin) who was snared in a sexting scandal, allegedly involving a underaged female. so which doj person is in charge of this investigation? none other than assistant attorney general peter j. kadzik . who is kadzik? zero hedge reports: \\noh yes. recall our post from last week,  clinton campaign chair had dinner with top doj official one day after hillarys benghazi hearing  in which we reported that john podesta had dinner with one of the highest ranked doj officials the very day after hillary clintons benghazi testimony? it was peter kadzik. \\noh, and if that wasnt good enough, kadzik was also podestas lawyer back in 1998 when ken starr was investigating podesta over his role in helping bill clinton intern/mistress monica lewinsky land a job at the united nations. the two were described as best friends. fox news confirms: \\nfantastic lawyer. kept me out of jail, podesta wrote on sept. 8, 2008 to obama aide cassandra butts, according to emails hacked from podestas gmail account and posted by wikileaks. \\nto call the clinton circle incestuous would be an understatement, and on the whole, americans are sick of it. \\nrussia  the party scapegoat \\nformer democratic party leader howard dean was so incensed about the fbi reopening the case, he accused the fbi director of being in league with russia, tweeting: ironically comey put himself on the same side as putin. ironically comey put himself on the same side as putin. \\n howard dean (@govhowarddean) october 29, 2016 \\nanother veteran party operative and lifetime clinton defender, james carville , was so upset by the fbi announcement that he accused the kgb working with republicans to hijack the election during his wild rant on msnbc . \\ni think this an outrage and i think the fact that the kgb is involved in this election is an outrage and i think the american people ought to take their democracy back regardless of what the press wants to do and the excuses they want to make for comey. thats what i think, said carville. \\nmaybe someone can remind carville that there is no kgb , and that the soviet union actually dissolved in 1991. \\nthese are just a few scandals surrounding the democratic party and the clinton campaign, along with the many exposs revealed through wikileaks, and the podesta email batches. those are actual scandals with real tangible evidence  unlike the russians hacking the dnc and john podesta and passing those to wikileaks. \\nsuffice to say, the democratic party machine has already demonstrated that it is prepared to say anything in order to deflect and divert attention away from the damning wikileaks material, and also blame donald trump in the process. it should be obvious by now that in their desperation to push a highly comprised hillary clinton over the finish line on november 8th, the washington establishment has concocted the story that putin is trying to influence our electoral process in the us. theyve tried to lay this at the feet of donald trump, who obama and clinton claim has some secret special relationship with vladimir putin. the liberal mainstream media have made a meal out of this talking point, and anti-russian war hawks on the republican side love it too. for the white house and the clinton campaign this seemed like the ultimate clean sweep  a perfect double entendre . \\nthe geopolitical strategy behind this move was twofold. first, this non event would be used to advance immediate calls for sanctions against russia. secondly, the us could continue to lean on russia in the un over syria. previously, 21wire reported how washingtons state dept and un delegations, led by the dynamic trio of john kerry , samantha power , and john kirby , already lied when levelling charges against russia for war crimes in aleppo, and again while accusing russia and syria of conducting an airstrike on a un aid convoy in syria. as we have already shown  that raid was most likely a ground attack carried out of us-backed rebels al nusra front, or nour al-din al-zenki. \\nwith so much at stake geopolitically, why would washington lie about a potential world war iii trigger event? if they are prepared to lie about this, what else are they prepared to lie about? \\nthe demonization of all things russian has definitely accelerated since late 2013 when the us engineered a coup detat in kiev, ukraine. ever since that its been a go-to talking point for ginning-up and new transaltlantic arms race, as with republican war hawks  and a convenient scapegoat for any politician requiring misdirection, like clinton and the democrats. when the new year rang in 2015, the newly appointed head of the u.s. broadcasting board of governors, andrew lack, announced the new challenges facing americas own state-run media arm that includes u.s. overseas propaganda assets including voice of america, radio free europe/radio liberty, the middle east broadcasting networks and radio free asia. lack said , we are facing a number of challenges from entities like russia today which is out there pushing a point of view, the islamic state in the middle east and groups like boko haram, he was forced to resign shortly after that. \\nwhats clear is that when it comes to all things russian, there is an established pattern of compulsive lying by this us administration. the list is too long to chronicle here, although  russian-backed rebles shootting down mh17 , and  assad regime sarin attack in damascus in 2013  certainly comes to mind. \\nthat said, its hard to imagine a lie as egregious and potentially destructive than one which accuses the russia government, a world nuclear power and member of the unsc, of hacking into the us electoral process. when you examine history however, what you will find is plenty of evidence documenting exactly how the us government and the cia have altered and flipped 100 foreign elections throughout history, the attempted assassination of over 50 foreign leaders . knowing all this, one might find it hard to take seriously washingtons claims that putin and trump are trying manipulate the 2016 election \\non oct 9, 2016, russian foreign minister sergei lavrov laid it all on the table: \\nwe have witnessed a fundamental change of circumstances when it comes to the aggressive russophobia that now lies at the heart of u.s. policy towards russia. its not just a rhetorical russophobia, but aggressive steps that really hurt our national interests and pose a threat to our security. \\nself-serving, career political operatives in washington are playing a dangerous game. history will mark this as one of the biggest political follies of the obama-clinton era. \\nknowing what we now know about the nsa and its ability to hack and grab any email or text message from anyone, anywhere  if washington really wanted to know where the hacks came from, maybe they could start there. far be it from anyone in washington or the media to ever adopt that line of inquiry. \\nstill, were waiting for the emergence of an adult in the room in washington  before its too late. \\nread more election news at: 21st century wire 2016 files \\nsupport 21wire  subscribe & become a member @21wire.tv \\nfiled under: featured , patrick henningsen , shout , us news tagged with: cnn , debbie wasserman schultz , donna brazile , gloria borger , hillary clinton , media cog , russia , wikileaks willdippel \\nhere is an article that looks at the real story behind one of the more interesting conspiracy theories about the 2016 election: \\nsometimes the real story is even more fascinating than any conspiracy theory. weareyourgods \\nwanna bet money that the weiner laptop, on which the over 600,000 emails were stored in a folder titled life insurance, holds information linking the cf to human trafficking and typical elite pedophilia vacations? ever wonder why nobody ever really goes after the clinton foundation from a government office? same old blackmail scheme involving underage sex slaves that was going on during the boys town scandal with lawrence king and elite politicians and business people in the 80s. why would they stop? brad dueringer \\nit seems the most morally depraved beings are the ones we let run things. but they have help crafting reality with the tribe that owns the media analyze_this_88 \\nbarrak obama and hillary clinton are both political scam artists. its amazing that a us president would invent a russian hacking conspiracy theory in order to drive a geopolitical agenda. but then again, bush did the same with bin laden and 9/11. \\nclinton on the other hand is pure corruption personified. shes should never be allowed near public office. \\nnovember 3, 2016 by shawn helton 1 comment \\nshawn helton 21st century wire \\nthe cozy relationship between goldman sachs and the clintons has reached dizzying new heights in recent years, giving the democratic party nominee hillary clinton an immensely influential partner on wall street. \\nas the public and most of the mainstream media is still processing the political bombshell concerning the newly reopened fbi probe into the hillary clinton s email server case  the global investment banking firm goldman sachs quietly endorsed the democratic presidential candidate this past week. \\nthe financial ties that bind the clintons and wall street banks like goldman sachs are nothing new, but never before have the connections been so exposed. lets take a trip down collusion lane to review some of the more questionable examples of their political and financial merger formed long ago \\nmoney changers wall streets goldman sachs are inextricably linked to the clintons and the clinton foundation. (photo illustration 21wire) \\nthe clintons & goldman sachs \\nwhile campaigning for his first term in the white house, former president bill clinton received an enormous amount of support from washington insider lobbyists and investment banking firms on wall street. \\nat the top of the pile sat goldman sachs \\nin 1992, the la times reported that presidential nominee bill clinton, received the largest share of his financial supportat least $2.6 millionfrom lawyers and lobbyists, and that clinton also received additional support from big securities firms such as goldman, sachs & co. in new york and stephens inc. in his hometown of little rock, ark. in fact, goldman sachs employees and their family members were responsible for the biggest contributions from a single firm: $98,700. \\nfor decades the clintons have remained close allies to the banking behemoth goldman sachs and in the process, a mutually beneficial relationship has taken hold, something that even the ny times admits: \\nover 20-plus years, goldman provided the clintons with some of their most influential advisers, millions of dollars in campaign contributions and speaking fees, and financial support for the family foundations charitable programs. \\nby now, there should be little doubt that the clinton political machine is a wholly owned subsidiary of the wall street banking cartel. their relationship was built over three decades. \\nthe real watershed moment came here \\nblank check: bill clinton laughs with wall street elites after signing the financial services modernization act in 1999. \\nkey to the kingdom \\nin one of the most significant financial rulings in the modern era, the clinton presidency gave big banks like goldman sachs the skeleton key to the kingdom by deregulating the investment banking system almost entirely. \\nthe clinton/goldman sachs/wall street partnership was fully forged after the removal of the glass-steagall act , which banking luminaries cynically named the  financial services modernization act of 1999 officially titled the gramm- leach-bliley act . the original glass-steagall was a depression-age four-part provision under the bank act of 1933 that strictly prohibited securities activities that could be harmful to investors  the same sort of rogue speculating and paper fiat fraud which triggered the great depression (1929-1941). in fact, the gramm-leach-bliley act which repealed glass-steagall, opened the door for the shadow banking realm outside of regulatory oversight which led to a much higher trading risk, as banks became more interlinked. \\nsimply put: clintons repeal of glass-steagell removed the firewall between speculative investment banking and regular high street retail and consumer banking  which exposed everyone to toxic, subprime ponzi schemes and fake paper products being pushed around the globe by the banking elite  which ultimately causing the global economy to crash in 2008. all that can be laid at the feet of one william jefferson clinton. and hillary still claims that, my husband did so well with the economy. really? \\nin a cross-posted article featured at huffington post , nomi prins underscored the complicit nature of wall street and washington after the removal of tighter bank regulations under the clinton administration during the 1990s: \\nto grasp the dangers that the big six banks (jpmorgan chase, citigroup, bank of america, wells fargo, goldman sachs, and morgan stanley) presently pose to the financial stability of our nation and the world, you need to understand their history in washington, starting with the clinton years of the 1990s. alliances established then (not exclusively with democrats, since bankers are bipartisan by nature) enabled these firms to become as politically powerful as they are today and to exert that power over an unprecedented amount of capital. rest assured of one thing: their past and present ceos will prove as critical in backing a hillary clinton presidency as they were in enabling her husbands years in office. \\nprins herself was a former managing director at goldman sachs, senior managing director at bear stearns, as well as having worked as a senior strategist at the now defunct investment banking firm lehman brothers. following the financial crash in 2007-2008, prins blew the whistle on the banking world in a book entitled  it takes a pillage : behind the bonuses, bailouts, and backroom deals from washington to wall street. \\nprins has become an advocate for the reinstatement of the glass-steagall act since departing from the investment banking world. \\nthe media outlet common dreams described the merger between citicorp and travelers group (becoming citigroup), which was dubbed the citi-travelers act on capitol hill. it was a conglomeration that went hand in hand with the clinton administrations influence on banking deregulation marked by the repeal of glass-steagall: \\nthen, in 1998, in an act of corporate civil disobedience, citicorp and travelers group announced they were merging. such a combination of banking and insurance companies was illegal under the bank holding company act , but was excused due to a loophole that provided a two-year review period of proposed mergers. the merger was premised on the expectation that glass-steagall would be repealed. citigroups co-chairs sandy weill and john reed led a swarm of industry executives and lobbyists who trammeled the halls of congress to make sure a deal was cut. \\nat the time, it was the largest financial merger even though it was technically illegal , as stated by the former bankers of america ceo kenneth guenther . in 1999 , after 12 attempts in 25 years, congress passed the financial services modernization act , which led to the repeal of glass-steagall. \\nthe repeal of glass-steagall was pushed heavily by citigroups co-ceo sanford weill and lobbyist roger levy and according to a report by the nation : \\nthey laid out more than $290 million for lobbying in 1998, according to the center for responsive politics, and donated more than $150 million in the 199798 election cyclea figure sure to be topped in 19992000. \\nhow much of those contributions made their way to the clinton family and what kind of impact did this have after they left the white house? \\nin 2005, bill clinton was paid over half a million for speaking at three private goldman events. \\nin 2013, after stepping down from her position as secretary of state, hillary clinton gave a total of three paid speeches at goldman sachs events to the tune of $675,000 dollars, in which one attendee said s he sounded more like a goldman sachs managing director, according to a quote obtained by politico . indeed, clinton gave a glowing speech to the goldman gang and in the process, as wikileaks released in early october , the democratic nominee believes in both a public and a private position on wall street reform and that it is an  oversimplification to suggest that investment banking led to the most recent financial crisis. \\nthat clinton leak provided another window into the much protected alliance between finance and politics, but its only the tip of a much larger iceberg. \\nin 2015, the washington post reported that hillary rodham clinton and former president bill clinton earned in excess of $25 million for delivering 104 speeches since the beginning of 2014, a huge infusion to their net worth as she was readying for a presidential bid. \\nanointed: chelsea clinton with goldman sachs-backed hedge funder marc mezvinsky. \\nthe clinton family is chock-full of banking connections, as chelsea clinton joined the avenue capital group, which according to reports is a $12 billion hedge fund whose founder has contributed to many democratic party campaigns. chelsea is married to marc mezvinsky , a former investment banker for goldman sachs. chelseas tenure at avenue capital group was from 2006-2008 just prior to hillary clintons run for president in 2008. since then chelsea has risen to vice chairman inside the clinton foundation. \\nmarc mezvinsky was forced to close one of his hedge funds recently, eaglevale hellenic opportunity , after had the fund lost most of its initial investor funds of $25 million  after blowing the money on secondhand junk greek bank stocks and toxic government debt. \\nthe apple doesnt fall far from the tree \\nas it turns out, marc is the son of troubled former congressman ed mezvinsky  another close friend of team clinton. \\npolitico reports on one of ed mezvinskys financial controversies in 1999: \\nin the waning days of clintons presidency, federal prosecutors and the fbi were bearing down on former rep. ed mezvinsky (d-iowa), who had fallen for a series of ponzi schemes and pulled in nearly $10 million money from other investors to cover his losses.  \\ncontinuing, politico outlined new information concerning a pardon request sent by from ed mezvinskys wife to then president bill clinton: \\nrecords released last week by the clinton presidential library in little rock and obtained by politico show mezvinsky and his then-wife  ex-rep. marjorie margolies-mezvinsky (d-pa.)  pleaded with the former president for a presidential pardon to head off the looming federal case. \\nin 2016, the daily mail reported the following: chelsea clintons husband and his partners have suffered a huge loss after trying to bet on the revival of the greek economy, and are now being forced to shut down one of their hedge funds. marc mezvinsky, 38, and his partners, former goldman sachs colleagues bennett grau and mark mallon, raised $25million from investors to buy up bank stocks and debt from the struggling nation. that fund however has lost 90 percent of its value, investors with direct knowledge of the situation told the new york times , and will now be closed. \\nthe insiders a ground-breaking ceremony at goldman sachs headquarters in manhattan in 2005. hillary clinton is joined by michael bloomberg , lloyd blankfein (current goldman sachs ceo), former goldman sachs ceo henry paulson. (image source: ilovemyfreedom ) \\nthe ny times further outlined the long-held clinton/goldman connection just two years before the 2007-2008 financial crisis: the clintons relationships with wall street deepened in the 2000s, when mr. clinton set up his foundation in harlem and mrs. clinton was elected to the senate from new york. that brought her in close touch with the big wall street firms, a source of jobs and tax revenue for new york  and a leading source of campaign funds for mrs. clinton. during her years in congress, employees of goldman donated in excess of $234,000 to mrs. clinton, more than those of any other company except citigroup, according to the center for responsive politics. along with other new york politicians, mrs. clinton worked to obtain federal tax breaks to resuscitate lower manhattan after the sept. 11, 2001, attacks, and those breaks helped goldman build its new, roughly $2 billion headquarters. when it broke ground in 2005, mrs. clinton and other new york officials were on-site. how to monetize influence lloyd blankfein at a clinton global initiative event with hillary clinton. (image source: sputniknews ) the wall street racket to understand who powers the clinton foundations billion dollar rico influence-peddling slush fund, you need to understand how money is laundered between wall street and washington dc. goldman sachs, jpmorgan chase, morgan stanley, bank of america and citigroup and many others were all ordered to pay millions for misleading investors after the 2008 crash, then in april of 2016, goldman was ordered to settle a federal and state probe for $5 billion dollars. cnbc reported the following: \\ngoldman sachs will pay $5 billion to settle federal and state probes into the banks sale of mortgage-backed securities before the financial crisis, the justice department announced monday. \\nauthorities said goldman misrepresented the quality of loans it securitized and then sold to investors ahead of the housing bubble and 2008 crisis. the settlement includes a $2.4 billion civil penalty, $1.8 billion in relief payouts to underwater homeowners and affected borrowers and $875 million to resolve various other claims. \\nthis resolution holds goldman sachs accountable for its serious misconduct in falsely assuring investors that securities it sold were backed by sound mortgages, when it knew that they were full of mortgages that were likely to fail, acting associate attorney general stuart delery said in a statement . \\nin 2013, a bloomberg article questioned how goldman managed to survive and even thrive during the 2007-2008 economic crisis: \\nwhether goldman could have gone the way of lehman brothers or merrill lynch remains the subject of much debate. goldman maintains that it did not need, or want, the $10 billion bailout that hank paulson [ former goldman alum] pushed on it and other firms in october 2008. but the fact remains that when the federal reserve allowed goldman and morgan stanleybut not lehman brothersto become bank holding companies on sept. 21, 2008, goldman was able, three days later, to raise $10 billion in equity, $5 billion from the public and another $5 billion from investor warren buffett. that would probably not have happened without the feds expedited decision and support. (a week later, morgan stanley saved itself from bankruptcy when it negotiated a $9 billion equity investment from mitsubishi ufj financial group.) \\nall told the clinton friendly investment giant goldman sachs (after making record profits) became the fifth mega-bank ordered to pay billions to the department of justice after the financial crash of 2007-2008. in addition, the firm was ordered to pay $3 billion to the federal housing finance agency in 2014  not including pending private lawsuits levied on the firm since the great recession. \\nin a new york review article goldman sachs was already under investigation for committing fraud at least a year before the economic crash in 2007-2008: \\ndata gathered mostly from the corporate research project , a public interest website, show that on thirteen occasions between 2009 and 2016, goldman was penalized by us courts or government agencies for fraudulent or deceptive practices that were committed mostly between 2006 and 2009. \\ncashing out bill clinton with his top economic strategist robert rubin. (image source: st. louis post-dispatch ) \\nwall street selects team clinton \\nthe clinton connection to goldman sachs emerged in the early 1990s as robert rubin , a former senior partner with goldman (with a 26-year tenure with the firm), joined former president clintons economic policy team, later becoming secretary of the treasury in 1995. around that time, the clinton presidency ushered in soaring tax hikes under the rubinomics banner (aka clintonomics), the plan raised taxes on most americans, specifically the middle class , in what was said to be the largest increase in american history at the time. \\naccording to congressional record ( vol.146 part 2 ), in 1995, the economy grew at a sickly 1.5%  clintons vetoes of spending cuts [insured] continued deficits well into the 21st century. \\nin a multinational monitor report entitled wall streets best investment: ten deregulatory steps to financial meltdown, by robert weissman and james donahue , a clearer picture of the financial collusion spawned in the 1990s under the clinton administration was revealed: \\nduring the clinton administration, treasury secretary robert rubin, who had run goldman sachs, enthusiastically promoted the legislation. in a 1995 testimony before the house banking committee, for example, rubin argued that the banking industry is fundamentally different from what it was two decades ago, let alone in 1933.  u.s. banks generally engage in a broader range of securities activities abroad than is permitted domestically. even domestically, the separation of investment banking and commercial banking envisioned by glass-steagall has eroded significantly. \\nwith a pedigree that included goldman sachs, the council on foreign relations (cfr), the brookings institution and the bilderberg group , robert rubin emerged in 1999 as the vice chairman at citigroup (1999-2009) after overseeing its merger as well as helping to craft the repeal of glass-steagall while serving as secretary of treasury. rubin made a fortune with citigroup causing sharp criticism in media and from those within the financial sector following the 2007-2008 crash. heres a passage from bloomberg regarding rubin in the aftermath of the banking collapse: \\nwhen it collapsed, due in part to bank-friendly policies that rubin advocated, he made more than $100 million while others lost everything. you have to view people in a fair light, says phil angelides, co-chair of the financial crisis inquiry commission, who credits rubin for much of the clinton-era prosperity. but on the other side of the ledger are key acts, such as the deregulation of derivatives, or stopping the commodities futures trading commission from regulating derivatives, that in the end weakened our financial system and exposed us to the risk of financial disaster. \\nsworn fbi director james comey sworn in by former doj head eric holder. (image source: thewhitehousespin ) \\nunder the microscope \\nover the summer 21wire observed some curious connections between the clinton foundation and fbi director james comey , as well as his questionable handling of other cases related to the clinton family. heres the following passage to consider in light of the new information related to the clinton investigation: \\nmany will also be unaware that before comey was installed by the obama administration as fbi director, he was on the board of director at hsbc bank  a bank implicated in international money laundering , including the laundering of billions on behalf of international drugs and narcotics trafficking cartels. forbes also points out where comey was also at the key choke-point during the case involving dodgy auditor kpmg which followed on by the hsbc criminal case: \\nif comey, and his boss attorney general alberto gonzalez, had made a different decision about kpmg back in 2005, kpmg would not have been around to miss all the illegal acts hsbc and standard chartered scbff +% were committing on its watch. bloomberg reported in 2007 that back in june of 2005, comey was the man thrust into the position of deciding whether kpmg would live or die for its criminal tax shelter violations. \\nin 2015, the guardian discussed the financial relationship between hsbc and the clinton foundation receiving a startling $81 million in donations from clients of the large bank: \\nthe charitable foundation run by hillary clinton and her family has received as much as $81m from wealthy international donors who were clients of hsbcs controversial swiss bank. \\nleaked files from hsbcs swiss banking division reveal the identities of seven donors to the bill, hillary and chelsea clinton foundation with accounts in geneva. \\na new update on the fbi investigation into the clinton foundation was announced over the last 24 hours, in addition the recently reopened clinton email probe from last week. it remains to be seen how in-depth this new investigation will be. \\nto call it collusion would be an understatement. when looking back at the financial affairs of the clintons, goldman sachs and others on wall street  its clearer than ever that what we are looking at is a criminal syndicate. \\nread more election news at: 21st century wire 2016 files \\nsupport 21wire  subscribe & become a member @21wire.tv filed under: featured , shawn helton , us news tagged with: 2016 election , clinton foundation , clinton global initiative , fbi , goldman sachs , hillary clinton , trump analyze_this_88 \\nso looks like goldman sachs blankfein bankrolled chelsea clintons husband, no doubt another payoff for the clintons loyalty to the wall street criminal banking cartel.. trending on 21wire \\n\\n21st century wire says \\nthis should be the biggest revelation yet from wikileaks already epic email trove. will the us media cover this story? \\nlast night, in an rt exclusive interview conducted by award-winning filmmaker john pilger, wikileaks editor and founder julian assange described what he believes is the most significant email in the whole collection. \\nwikileaks reveals an early 2014 email where the outgoing secretary of state hillary clinton was urging john podesta , then advisor to president barack obama, to bring pressure on gulf states saudi arabia and qatar, which are providing clandestine financial and logistic support to isil [islamic state, is, isis] and other radical sunni groups. \\nthis constitutes proof that the clinton foundation knowingly accepting millions of dollars in charitable donations from the same gulf states which both secretary clinton and president obama knew were funding isis, al nusra front (al qaeda in syria) and known takfiri terrorist fighting organizations. \\nin addition, the clintons foundation took money from a number of other gulf monarchies: \\n(infographic: conservative post ) \\nthis latest news validates what 21wire has been saying since the isis crisis began in june 2014. \\naccording to fox news , fbi sources have said that indictments are likely for the clinton foundation investigation. one only wonders how this latest assange revelation will factor into the wider investigation  as it goes right to the heart of the national security and foreign policy  two things which clinton trades heavily on in her campaigning. \\nassange went on to explain the deep ramifications of this latest criminal allegation against clinton and her family foundation: \\nall serious analysts know, and even the us government has agreed, that some saudi figures have been supporting isis and funding isis, but the dodge has always been that it is some rogue princes using their oil money to do whatever they like, but actually the government disapproves. but that email says that it is the government of saudi arabia, and the government of qatar that have been funding isis. \\nduring their 25-minute interview filmed at the ecuadorian embassy in london, assange and pilger discussed the obvious conflict of interest between clinton as secretary of state, the clinton foundation and gulf monarchies who financed them. the following is an excerpt from the interview transcript: \\njohn pilger: the saudis, the qataris, the moroccans, the bahrainis, particularly the first two, are giving all this money to the clinton foundation, while hillary clinton is secretary of state, and the state department is approving massive arms sales, particularly saudi arabia. \\njulian assange: under hillary clinton  and the clinton emails reveal a significant discussion of it  the biggest-ever arms deal in the world was made with saudi arabia: more than $80 billion. during her tenure, the total arms exports from the us doubled in dollar value. \\njp: of course, the consequence of that is that this notorious jihadist group, called isil or isis, is created largely with money from people who are giving money to the clinton foundation? \\nja: yes. \\nwatch a brief preview of the interview here: \\nthe interview will air in full on rt international this saturday nov 5th. \\nread more clinton news at: 21st century wire clinton files \\nsupport 21wire  subscribe & become a member @21wire.tv \\n\\n21st century wire says \\nyesterday, wikileaks editor and founder julian assange confirmed what 21wire already knew  that hillary clinton and the obama white houses claim of the us election process being hacked by the russian government was a desperate work of fiction. not content with that fish tale, hillary clinton took the narrative to an embarrassing new low (if that was even possible) with another, wilder made-up conspiracy story about the russians. \\nthe following statement made by hillary clinton yesterday epitomizes the term  jumping the shark : it\\'s time for trump to answer serious questions about his ties to russia. https://t.co/d8osmyvar4 pic.twitter.com/07dryempjx \\n hillary clinton (@hillaryclinton) october 31, 2016 \\napparently, hillary clintons campaign staff fed her a planted online news story (by the clinton campaign?) which ran on a questionable pro-democratic party online news outlet. on monday, the slate ran the story by one of its alleged journalists named franklin foer , complete with a clickbait blog-like headline, was a trump server communicating with russia? \\nwhatever legitimacy the slate had before last night, just evaporated. \\njohn roberts from forbes explains, the bottom line is that slate screwed up by publishing this in the first place, and by adding more kooky misinformation to an already addled election season. as for foer, he says on twitter a follow up piece is in the works. \\nroberts rightly points out that the only follow-up story for this lemon should start with the word retraction. \\ncyber feud: assange believes clinton has gone beyond the pale with her russian conspiracy obsession. \\nduring his exclusive interview with award-winning filmmaker john pilger, when asked what he thought of hillary clintons shrill antics, julian assange said,  i actually feel quite sorry for hillary clinton as a person, because i see someone who is eaten alive by their ambitions, tormented literally to the point where they become sick. \\nthe saddest thing about this and the other dishonest and destructive actions of the clinton campaign and the democratic party  is that no one in the party seems to see anything wrong with this level of deceit and dishonesty. like hillary clinton in her sociopathic path to power, the party rank and file are acting like a cult coven following their high priestess. \\nstill, clinton surrogates in the media are trying to equate clinton simultaneously scapegoating and baiting another nuclear superpower  with a decade-old misogynist hot mic audio excerpt of donald trump in a tmz-style tabloid sting. that pretty much sums up democratic party strategy for this election season. \\nassange was right. clinton, the democratic party and their surrogate, are eating themselves. such are the spoils of power in washington that men and women will do and say anything to have it. \\nread more election news at: 21st century wire 2016 files \\nsupport 21wire  subscribe & become a member @21wire.tv \\n\\n21st century wire says \\namid great mainstream media and democratic party fanfare, hillary clintons candidacy has been based on a claim she is most experienced candidate in history, and highlighting her foreign policy record in particular. what would a clinton foreign policy really look like? \\non episode #158 of the sunday wire, host patrick henningsen spoke with a special guest, professor michel chossudovsky , founder & editor of www.globalresearch.ca about hillarys hawks and what a clinton presidency will look like in terms of us-backed wars around the globe, as well as washingtons current fetish with sustainable nuclear conflicts. \\nlisten to this excellent discussion: \\n. \\nread more election news at: 21st century wire 2016 files \\nsupport 21wire  subscribe & become a member @21wire.tv \\nnovember 6, 2016 by 21wire leave a comment \\nepisode #159 of sunday wire show resumes this november 6, 2016 as host patrick henningsen brings a 3 hours special broadcast of live power-packed talk radio on acr \\nlisten live on this page at the following scheduled show times: \\nsundays  5pm-8pm uk time | 12pm-3pm et (us) | 9am-12pm pt (us) \\nthis weeks edition of the sunday wire is on the road broadcasting live from the valley of the sun. this week host patrick henningsen covers this weeks top stories in the us and internationally. in the first hour were joined by a very special guest, dr marcus papadopoulos , founder & editor of uk-based publication politics first to discuss the us elections and an evaluation of trump vs clinton from an international and foreign policy perspective looking at big bigs like us-nato and russian relations as well as the syrian situation, as well as get his take on the spiralling brexit issue currently gripping great britain. in the final hour of overdrive, well be rejoined by our esoteric bookmaker, basil valentine, for final thoughts on the us elections, new odds, more voter fraud reports, and and time permitting, some more fun with the #hillarybettingpool . \\nsupport 21wire  subscribe & become a member @21wire.tv \\nstrap yourselves in and lower the blast shield  this is your brave new world \\n*note: this episode may contain strong language and mature themes* \\n\\n21st century wire says \\nover the past months, hillary clinton, the obama white house and the mainstream media have been promoting the conspiracy theory that  russia is hacking the us election  blaming moscow for the wikileaks emails, the dnc leaks and for allegedly hacking us voting systems. despite the grand accusations, no evidence or proof has been offered by the us government. \\nit goes without saying how damaging the democratic partys crazed witch hunt has been to us-russian relations, where clinton has led the anti-russian crusade, and demonizing president vladimir putin at every opportunity. \\ntodays stunning presidential victory by donald trump means that all eyes are now on putin to see how moscow and washington will be interfacing going forward. \\nwith such sensitive geopolitical issues like syria and the ukraine currently in play, what happens between the two leaders over the coming months could set the tone going forward \\nin a message to donald trump, russian president vladimir putin has expressed confidence that the dialogue between moscow and washington, in keeping with each others views, meets the interests of both russia and the us. \\nputin also expressed hope over the joint efforts on bringing russian-american relations out of their current crisis. \\nthe russian leader noted in the message that he hopes to address some burning issues that are currently on the international agenda, and search for effective responses to the challenges of the global security, ria novosti reported. \\non top of it, putin has expressed confidence that building a constructive dialogue between moscow and washington, based on principles of equality, mutual respect and each others positions, meets the interests of the peoples of our countries and of the entire international community. \\naccording to many observers, us-russia relations are now at their lowest point since the cold war. putin has repeatedly noted that the worsening of russias relations with the us was not our choice, however. \\nfor things to improve between moscow and washington, the us should first and foremost start acting like an equal partner and respect russias interests rather than try to dictate terms, putin said last month. \\nwe are concerned with the deterioration of russian-american relations, but that was not our choice, we never wanted that. on the contrary, we want to have friendly relations with the us, a great country and a leading economy, putin said at an economic forum in moscow \\nread more election news at: 21st century wire 2016 files \\nsupport 21wire  subscribe & become a member @21wire.tv \\nlatest posts 21wire we are a north american and european-based, grass-roots, independent blog offering geopolitical news and media analysis, working with an array of volunteer contributors who write and help to analyse news and opinion from around the world. we\\'re covering news you won\\'t necessarily find in the mainstream, and things which regularly confuse career politicians, fox and cnn watchers... #sundaywire rt @jeanettejing : shocked that the finger-jabbing rich lady didn\\'t appeal to voters. https://t.co/fbzxoq6g8q - 5 hours ago\\n\\n21st century wire says \\nmexicos billionaire tycoon carlos slim saw a large chuck of his wealth evaporate  literally overnight, after news of a donald trump election victory hit the currency and stock markets on wednesday morning. \\naccording to bloomberg financial analysts, slim, mexicos wealthiest person and rated fifth on the global rich list, took a stinging $5.1 billion haircut after the mexican peso went into a 12% free fall after trumps stunning upset over democratic hillary clinton. \\nslims loss amounted to a staggering 9.2 percent of his total fortune. \\nin the week before, polls showed hillary clinton as the odds on favorite, netting the billionaires a staggering $57 billion in total wealth increase across world markets. however, according to the bloomberg billionaires index, oligarchs lost a total of $41 billion during wednesdays epic slide  with slim being the biggest loser. \\n\\n21st century wire says \\none of the great myths being spun by the establishment media was that donald trump had no support from women, latinos and blacks in the us. as it turned out, this was a lie propagated in a failed attempt to margnalize republican voters and give a false impression of a liberal democratic mandate in america. in the end trump gathered 29% of latinos, 9% of african americans and 49% of college educated white women. for months, mainstream media pundits and polls insisted that all of these demographics were exclusively for hillary clinton. how could they have got it so wrong? \\npsychologist and intenet radio personality kiki green explains how blacks were conned into voting for hillary clinton by the partnership between the democratic party, hollywood and the clinton campaign  by cynically using celebrities like beyonce, jay z and katie perry \\nwarning: adult language please be advised: \\n. read more election news at: 21st century wire 2016 files \\nsupport 21wire  subscribe & become a member @21wire.tv \\n\\n21st century wire says \\nus college students continue to be emotionally traumatized and threatened by donald trumps surprise presidential victory this week, sparking a wave of nationally coordinated street protests, organized in part through the george soros funded democratic party community organizing web portal moveon.org . \\nvarious protests and riots have been organized around a number university campuses including berkeley, portland, new york city and los angleses. \\nwhen asked why she scared by the election result, one female university student claimed that the president elect is a rapist, while another claim that, he [trump] is about to have a court case about a 13 years old girl soon, and im not down for that. \\nthe alleged court case the student is referring was actually dropped , and has since been exposed as a likely politically motivated hoax according to reports . \\nhere is last nights student protest, including multiple interviews from both sides of the debate, filmed last night in albuquerque, new mexico, by stuart j hooper . watch: \\n. read more election news at: 21st century wire 2016 files \\nsupport 21wire  subscribe & become a member @21wire.tv \\nnovember 11, 2016 by shawn helton leave a comment \\nshawn helton 21st century wire \\nanti-trump street protests linked to the soros funded organization moveon.org have cascaded across the nation for the third day following the 2016 presidential election result. \\nmainstream media outlets like cnn and msnbc have given the protests around-the-clock media coverage, drowning out all other news stories, including a successful transition meeting between the president elect and president barack obama. \\noutsider vs. insider manufactured social unrest incited after announcement of trump presidency. (photo illustration 21wires shawn helton) \\nthe free thought project weighed in on the new developments concerning a series of centrally coordinated anti-trump protests organized in part by by the george soros ngo moveon: \\nwashington, d.c.  billionaire globalist financier george soros moveon.org has been revealed to be a driving force behind the organizing of nationwide protests against the election of donald trump  exposing the protests to largely be an organized, top-down operation  and not an organic movement of concerned americans taking to the streets as reported by the mainstream media. \\nwednesday saw protests in the streets of at least 10 major u.s. cities. chicago, new york, los angeles, philadelphia, boston, washington, d.c., portland, ore., st. paul, minn., seattle , and several other cities saw protests, according to usa today. \\nin light of the protests and rioting that have transpired since the election of trump, a closer analysis of the dynamic at play is warranted to gauge whether its an organic grassroots movement, or something much more organized, sophisticated and potentially dangerous. \\nsoros affiliated organization moveon.org released the following press release yesterday afternoon: \\namericans to come together in hundreds peaceful gatherings of solidarity, resistance, and resolve following election results \\nhundreds of americans, dozens of organizations to gather peacefully outside the white house and in cities and towns nationwide to take a continued stand against misogyny, racism, islamophobia, and xenophobia. \\ntonight, thousands of americans will come together at hundreds of peaceful gatherings in cities and towns across the nation, including outside the white house, following the results of tuesdays presidential election. \\nthe gatherings  organized by moveon.org and allies  will affirm a continued rejection of donald trumps bigotry, xenophobia, islamophobia, and misogyny and demonstrate our resolve to fight together for the america we still believe is possible. \\nwithin two hours of the call-to-action, moveon members had created more than 200 gatherings nationwide, with the number continuing to grow on wednesday afternoon. \\nsoros agit-prop empire \\nlast year during the ongoing european migrant crisis, startling claims were levied by hungarian pm victor orban (left photo), concerning the role played by soros. \\npm orban contended that the founder and chair of open society foundations (open society institute), was entrenched in a  circle of activists, that inadvertently become part of this international human-smuggling network. \\nthe stunning declaration by orban recalled the misguided machinations of the occupy movement ( aka ows) in 2011, as well as the soros funded protests in ferguson, missouri in 2014, along with other black lives matter protests this past year  all of which were uniquely designed to push naive participants (along with paid provocateurs) into violent action and social unrest. \\nback in january, moveon publicly endorsed the bernie sanders campaign in what appeared to be a call to action for blm associated groups seen backing sanders. its worth mentioning, that moveon also supported the obama campaign in 2008 and according to the website, sanders was the only other candidate to reach the threshold for an endorsement. \\nas we said back in march, professional political agitator flash mobs, had been mobilized at future trump campaign events, making it very difficult to run a normal campaign  as activists attempted to take away trumps strength in numbers at his rallies. this was confirmed at events in both ohio, and at a trump primary campaign event the university of illinois chicago earlier this year, where hundreds of blm activists and sanders supporters, triggered voilent clashes inside the venue and even stormed the stage , shortly after trump started speaking, then again at reno he was birddogged just prior to his election forcing secret service to escort trump away. \\nin a politico article in early 2016 entitled  major donors consider funding black lives matter , we gained deeper insight into the political funding for blm and the soros linked democratic alliance: \\nmajor donors are usually not as radical or confrontational as activists most in touch with the pain of oppression, said steve phillips, a democracy alliance member and significant contributor to democratic candidates and causes. he donated to a st. louis nonprofit group called the organization for black struggle that helped organize 2014 black lives matter-related protests in ferguson, missouri, over the police killing of a black teenager named michael brown. and phillips and his wife, democracy alliance board member susan sandler, are in discussions about funding other groups involved in the movement. \\nit worth noting how soros, a long time contributor to hillary clinton, donated $2 million in pac money in 2015 and january of 2016, soros reportedly gave $8 million to boost clintons campaign . soros also recently funded $15 million to latino groups looking to stop trumps rise towards a potential gop nomination and beyond. \\nlook for these political engineers to pit choreographed conservative and liberal groups against each other across the country  as all of these hostile uprisings are designer engineered by party linked alliances. \\nsocial engineering political memes and staged political flash mobs have been sparked by media, ngos and social media. (image source: abc news ) \\nduring the last month, it was revealed how investigative non-profit project veritas found evidence that the dnc paid participants to incite violence at trump rallies during the course of the 2016 election. \\nif those reports are accurate  reports which have gone unchallenged so far  this would be in violation of both election bylaws and also us criminal law. \\npaid protest? social justice warriors incite anti-trump violence across the us. (image source: youtube ) \\nusa color revolutions \\nboth the purpose of these types of agitation activities seems to be to first cause a public disruption, and also to foment are a form of modern class warfare. these political protests are designed in such a way as to disguise its true intentions. ultimately, a radical globalist and cultural marxist progressive agenda is at play  eroding the legitimacy of a democratically elected government through a series of artificial color upheavals, and where possible  weakening a countrys national sovereignty through forced dependency on multilateral globalist institutions like the un or imf, while presenting shock and awe imagery in order to manipulate the publics political perspective. \\nthis is how the us and its cia conduct their destablization color revolution campaigns overseas , and now astute observers will be able to see these exact same methods being deployed here inside the us. \\noverseas, washington tends to use the same cast of ngo fronts to build-up pro-us political opposition groups, as well as plan and generate civil unrest. they include the albert einstein institute (aei), national endowment for democracy (ned), international republican institute (iri), national democratic institute (ndi), freedom house and later the international center for non-violent conflict (icnc), and the us agency for international development (usaid), the financial and contractor arm of the department of state. \\ninside the us, deep state actors in washington generally work through democratic party affiliated organizations like moveon.org , as well as through labor union organizations like afl-cio , and unite here . these, along with many other similar organizations have been involved in organizing this weeks protests. \\nit still remains to be seen if trumps stated dynamic political vision for america can unite an embattled nation by restoring international relations throughout the world, in addition to helping economic woes at home, or will it simply push the country further into authoritarianism. this remains to be seen. \\ncertainly, judging by president obama and hillary clintons total silence over their own partys role in fomenting this weeks unrest  one can only conclude that both party leaders approve of the protests and riots. the political motivation is undeniable  to help delegitimize a new trump presidency. \\nbut one thing is for sure  theres no doubt now that a systematic design is in place to unsettle the 45th president and the public should question why. \\nlegal action against soros groups \\nin a recent report featured at rt news we learn that george soros and blm activists will be sued for the deaths of slain police officers in dallas and baton rouge: the father of the dallas police officer who was killed by a lone gunman during a black lives matter protest is suing the organizations activists and george soros for $550 million . in a separate suit a baton rouge police officer is suing for injuries sustained during a blm protest. \\nthe father of patrick zamarripa filed a lawsuit against black lives matter and other groups for allegedly inciting a war on police that led to the death of his son. \\nthe lawsuit filed in us district court in dallas on monday seeks $550 million in damages. \\nwhile defendant black lives matter claims to combat anti-black racism, the lawsuit said, according to the fort worth star telegram, the movement has in fact incited and committed further violence, severe bodily injury and death against police officers of all races and ethnicities, jews, and caucasians. defendant black lives matter is in fact a violent and revolutionary criminal gang. \\nthe misguided machinations behind the anti-trump protests have dominated any peaceful transition into power for the president-elect. will these protest groups be a reboot of the ows movement, occupying the masses with their own hateful rhetoric as we move into 2017 and beyond? \\nmore from the duran below \\nneo black bloc? black bloc provocateurs, have violently escalated protest movements since the 1980s, all the way through 2011s occupy wall street movement and beyond. the riotous scene above is from the anti-trump protests in portland. (image source: willamette week ) \\ngeorge soros begins his color revolution in america, as moveon activists march against trump \\nby alex christoforou the duran \\nanti-trump protesters march through the streets of new york shouting not my president. \\nmoveon.org is a george soros ngoand george soros ngos have nothing to do with charity or justice, and everything to do with political leverage, and in extreme cases government insurrection. \\nwe have seen soros begin destructive movements to remove those he deems unsuitable to govern in a variety of countries, most recently in ukraine, with the soros sponsored maidan coup. \\nnow it looks like soros may be setting his sights on sabotaging the forthcoming trump presidency. \\nwe do know, thanks to wikileaks, that george soros was a huge supporter of hillary clinton, as hillary clinton was always looking out of george soros best interests. \\nwe are certain trumps victory is a bitter pill for globalist soros to swallow. between putin and trump, soros may finally be starting to feel his power on the world stage falter. \\nmore from duran here  \\nread more election news at: 21st century wire 2016 files \\nsupport 21wire  subscribe & become a member @21wire.tv\\n21st century wire says \\norganized efforts are underway by democratic party affiliated ngos to try and somehow delegitimize the results of this weeks us presidential election. \\non the eve of the us election before voters went to the polls, 21wire political affairs analyst patrick henningsen accurately predicted this weeks unrest when he said : \\nif trump wins, expect the likes of soros and moveon.org to unleash wave after wave of flash mobs, who will protest, riot, smash and burn their way on to cnns 24 hour news rotation. expect occupy 2.0, and #blacklivesmatter to rage. \\non friday, henningsen talked to rt international about the post-elections protests that were coordinated in part by democratic party community organizing online platform moveon.org . watch: \\n. not surprisingly, moveon.org have also launched a national activist campaign to  abolish the electoral college  after democratic candidate hillary clinton came up short with 232 (including new hampshire) to donald trumps 306 (including arizona and michigan). final totals are not yet in, but thus far 2016 would be the fifth time in u.s. history that a presidential candidate has won the white house while losing the total popular vote. \\nsee also: (video) female college students protesting because trump is a rapist \\n21wire associate editor shawn helton recently revealed more details about how the near exact same methods used in cia and soros-funded color revolutions overseas  are now being deployed on us domestic shores by similar ngo front organizations: has been the driving force behind nationwide protests against the election of donald trump. \\noverseas, washington tends to use the same cast of ngo fronts to build-up pro-us political opposition groups, as well as plan and generate civil unrest. they include the albert einstein institute (aei), national endowment for democracy (ned), international republican institute (iri), national democratic institute (ndi), freedom house and later the international center for non-violent conflict (icnc), and the us agency for international development (usaid), the financial and contractor arm of the department of state. inside the us, deep state actors in washington generally work through democratic party affiliated organizations like moveon.org, as well as through labor union organizations like afl-cio , and unite here . these, along with many other similar organizations have been involved in organizing this weeks protests, says helton. \\nhelton also raised the question as to why president obama has stayed silent in the face of street protests, opting instead to lead from behind. he explains: \\ncertainly, judging by president obama and hillary clintons total silence over their own partys role in fomenting this weeks unrest  one can only conclude that both party leaders approve of the protests and riots. the political motivation is undeniable  to help delegitimize a new trump presidency. \\nstay tuned for more updates here at 21wire. \\nread more election news at: 21st century wire 2016 files \\nsupport 21wire  subscribe & become a member @21wire.tv\\n\\n21st century wire says \\nyou can imagine how nations like china and russia are now laughing at us students as mass psychological trauma has apparently set-in across liberal america. schools, universities and political institutions across the country are now offering various services following republican donald trumps insurgent victory in the us presidential election. \\naccording to nbc news , democratic staffers were so distraught over this weeks election that therapy dogs had to be brought in to help workers on capitol hill cope with their vulnerabilities and hurt feelings. \\n steve feldman (@stevefeldman) november 9, 2016 \\ntherapy dogs included two golden doodles, two american eskimo dogs, and a beagle mix  walked around the offices of the house of representatives. students at cornell university even staged a cry-in on campus the day after the election. \\nother us campuses were organizing various theraputic activities like poetry readings, where healthy snacks will be served. \\nthe dogs were organized by ngos the human animal bond research initiative, pet partners, the pet leadership council and the pet industry joint advisory council. \\ntheir press release says that democratic party staffers needed, the help of a non-judgmental, furry, four-legged best friend that enjoys bipartisan support. \\norganizers say it was a great way for workers to blow off steam especially for those whose bosses may have lost re-election bids, nbc added. \\nalso,cry-ins were staged on the campus of cornell university, and yale university even staged a group scream in order to help student vent their internalized stress the day after the election. \\nwatch rt americas ed schultz and lionel, of lionel media, discuss the ridiculous liberal reaction and student meltdown to trumps surprise victory: \\n. \\nnovember 13, 2016 by 21wire leave a comment \\nepisode #160 of sunday wire show resumes this november 13, 2016 as host patrick henningsen brings a 3 hours special broadcast of live power-packed talk radio on acr \\nlisten live on this page at the following scheduled show times: \\nsundays  5pm-8pm uk time | 12pm-3pm et (us) | 9am-12pm pt (us) \\nthis weeks edition of the sunday wire is on the road broadcasting live from the valley of the sun. this week host patrick henningsen covers this weeks top stories in the us and internationally. in the first hour well conduct a post-mortem on the incredible us election which has produced president elect donald j trump , and the aftermath  a nation divided punctuated by numerous street protests in part fuelled by soros and the democratic party machine . later, were joined by our roving everyman , acr boiler room contributor, randy j , for an on the ground take on election events from the west coast, and beyond \\nsupport 21wire  subscribe & become a member @21wire.tv \\nstrap yourselves in and lower the blast shield  this is your brave new world \\n*note: this episode may contain strong language and mature themes* \\nnovember 15, 2016 by 21wire leave a comment \\nj.r. smith 21st century wire \\nthe election campaign might be over, but the mainstream medias campaign against president elect donald trump is in full swing. \\nbetween all of the fake polling, intentionally pro-clinton partisan coverage, and mainstream media collusion with the democratic national party and the clinton campaign exposed through wikileaks podesta email dump  nearly the entire us mainstream media is now in full damage-limitation mode desperately trying to preserve any crumb of credibility and perceived authority they might have left. \\nits now become clear that the media is guilty on multiple fronts, as more proof has emerged of how they are helping to stoke violence, while promoting unfounded fears  and all the while pushing fictional hate crime hoaxes. \\ncbs news flagship investigative program 60 minutes conducted a recorded interview with trump on friday in which he made a direct plea on camera to any possible supporters to stop it, in reference to anyone that may have written racist slogans or abusive language in public, or at schools. in light of the numerous pockets of protests and outbreaks of partisan violence which have racked america since the election results were announced last week, it would have been in the public interest to release this powerful appeal by trump, but instead mainstream cbs buried it for 3 days until 60 minutes was scheduled to air later on sunday evening nationwide. if cbs had any credibility remaining, this certainly will have finished it off. \\nwhen told about alleged reports of a trump supporter who were said to have been harassing latinos and muslims following his presidential win, trump told interviewer leslie stahl , i am so saddened to hear that. he then added, and i say, stop it. if it helps, i will say this  and i will say right to the cameras: stop it.\\' \\none big thing in this incident that many mainstream media observers did not pick up is that at no time did stahl give any specifics on these alleged abuses by trump supporters against muslims and latinos, and even though its obvious that trump was not responsible for directing any alleged abuses  stahl still demanded an apology on their behalf  without offering any evidence to support her claim. this was drive-by media at its worst. in fact, not one of these said accusations of abuse have been properly investigated by the media, and some may end up actually being media-generated rumors, or even hoaxes. \\nnow, its perfectly understandable that trumps victory over the establishments heavily inflated candidate hillary clinton has left many democrats, especially millennial college-aged students upset, angry and feeling more than a little delicate due to their bruised collective egos (they are not upset that trump won, as much as they are upset that they lost). the real problem exists far beyond the learned immaturity of americas politically correct-obsessed young adults. the real danger is that democratic party gutter operatives and their liberal media cohorts are actually staging, and fabricating hate crime incidents in order to propagate the idea that the president elect and his supporters are somehow causing many minorities fearful about the future. in reality, much of this hype is being generated through these same liberal media outlets. \\nin fact, one muslim female from louisiana has since been forced to apologize for inventing her alleged hate crime incident  one designed to discredit trump, and to help stoke more nationwide protests. \\nbuzzfeed reported, via religion of peace : \\na woman who claimed she was attacked and robbed by two men near the university of louisiana at lafayette, including one wearing a donald trump hat, made up the story, police said in a statement. \\nthe woman had alleged the men yelled obscenities at her and took away her wallet and hijab, a scarf sometimes worn by muslim women, the advertiser reported. \\nlafayette police officials said in a statement the incident is no longer under investigation, the paper reported. \\nduring the course of the investigation, the female complainant admitted that she fabricated the story about her physical attack as well as the removal of her hijab and wallet by two white males, the statement reportedly read. \\nnote: this story made national headlines and was not questioned or challenged by the hordes of self-described journalists who populate the news and editorial newsrooms of americas corrupt liberal mainstream media. \\nthats right  this was just another hoax: \\nviolent democratic-affiliated street gangs \\nwhat leslie stahl and the rest of the gatekeepers at cbs and 60 minutes have obscured is the fact since tuesdays election, nearly all of the so-called violent hate crimes have been carried out against trump supporters  by street gangs who are most clearly democrat party supporters. \\nhere are just a few examples: @michellemalkin even high school kids are not spared. student trump supporter attacked at woodside high school https://t.co/e7tvvdj6o8 \\n mama angel (@mommysaurus75) november 11, 2016 \\nwatch this clip taken from the radical leftist portland protests this weekend, where democratic party supports attack a single woman in her car because they believed that she was a trump supporter. these violent incidents reveal the flavor of anarchy which the democratic party and the sitting president of the united states, barack obama  are condoning through their deaf silence over the multiple reports of street violence unleashed with the help of the democratic partys online community organizer network moveon.org  a digital platform partly funded by leading clinton donor and billionaire george soros . watch this stunning clip: \\n. here is a video of clip of a white male in chicago, 49 yr old david wilcox, who was driving and scraped another vehicle. when the two parties stopped at the intersection to exchange insurance information, wilcox was greeted by a gang of african-americans, presumably democratic party supporters, who began pointing and shouting, you voted for donald trump! before beating and robbing the man in the middle of the street. wilcox was then dragged hundreds of yards as he tried to keep the gang from stealing his car in broad daylight. he was treated for multiple wounds at a local hospital. \\nfrom reports we learned that at no time before the attack took place did wilcox display any support for donald trump. it appears as if they attacked him because he was white. so could one call this a case of black on white racism? regardless, its political intimidation done on the street  which could also be defined as pure political fascism. in this instance, the violence was partisan, and carried out by what could be classed as unofficial democrat foot soldiers  enforcing a type of radical political regime on the streets of america. watch this disturbing video: . agitator and chief: where is obama? \\nthese incidents have been mostly blacked out by a national us media who are obviously still working to discredit the trump presidency. \\namidst all this violence, however, where is the current president obama, or the democratic partys losing candidate hillary clinton  to help calm street thugs and violent progressives? its almost as if obama and clinton are enjoying the unrest. most certainly though, obama, clinton and the democratic party are hoping to use this weeks media-generated liberal angst as future political leverage. \\nwhat used to be regarded as a reputable investigative news program, 60 minutes, has gradually become a joke. it seems disinterested in covering anything of genuine interest, opting instead for running bland people magazine and time magazine-style safe segments. judging by its plummeting ratings, and its predictable cast of job for life government-approved media gatekeeper-cum-commentators like anderson cooper and lesley stahl, there is little hope for this institution. you might even say its irredeemable . \\none of the corporate mainstreams worst offenders during the election was cnn host brian stelter (photo, left), whose own show is ironically titled reliable sources. stelter is meant to be cnns media watchdog person, laughably given the lofty title as senior media analyst. after leading cnns own exposed efforts to obscure and derail trumps presidential run, while working to cover for a hugely unpopular (even among democrats) hillary clinton candidacy, stelter has now taken it upon himself to revamp his networks horrible reputation as an establishment gatekeeper and manipulator of us elections. but its too late. the damage has already been done, and cnn will not regain the hanging facade of credibility it once struggled to retain. they are a dirty media outlet, and now everyone knows it. \\nnow cbs news has been exposed in public view, but their crime is even worse than cnns which was just dirty politics in comparison. cbs news took it upon itself to compromise public safety, and put lives at risk  all for its own selfish institutional political position. twenty years ago, this might have been considered shameful, but in todays toxic liberal media establishment ruled by an unhealthy feeling of superiority over the unwashed masses  they are all way past shameless at this stage. \\nnone of them can be trusted anymore  only tolerated, in the hope that they might actually report some useful news in the coming years. \\nmore on the cbs 60 minutes scandal from the hill \\ncosmetic: cbss stahl represents the shallow, bland irrelevance of the mainstream gatekeeping media. \\njoe concha the hill \\ncbs news is under fire for holding a videotaped clip from a friday interview with president-elect donald trump urging supporters not to attack minorities until a 60 minutes broadcast on sunday night. \\ni am very surprised to hear that. i hate to hear it, trump told interviewer lesley stahl when told of some attacks on minorities that have reportedly occurred since his election victory tuesday. \\ni am so sorry to hear it, and i say stop it, trump said before looking directly into the camera. and i say right to the camera, stop it. \\n60 minutes did release quotes from the friday interview in advance, but only a statement by trump on the affordable care act. \\nwe chose to release a quote on the issue that affects the most americans & that was his statement on obamacare, a spokesperson for cbs told cnn monday. \\nkai ryssdal, host of marketplace, called that reasoning completely underwhelming. cbs\\'s underwhelming answer: \"we chose to release a quote on the issue that affects the most americans & that was his statement on obamacare\" \\n brian stelter (@brianstelter) november 14, 2016 \\nprotests have grown in the wake of trumps victory in major cities across the country. \\nnot all protests have been peaceful. a protester was shot in portland last thursday and hospitalized. hundreds of arrests have been made, property has been damaged and traffic has snarled due to roads being blocked by protesters chanting impeach trump and not my president. \\nread more election news at: 21st century wire 2016 files \\nsupport 21wire  subscribe now & become a member @21wire.tv\\nnovember 21, 2016 by 21wire leave a comment \\nwilliam mcgurn wall street journal \\nlets get this straight. calling hillary clinton a bigot has reporters asking every republican in sight if donald trump has gone too far. but the clinton campaign releases a video saying mr. trump is the candidate of the ku klux klan, and its all okey-dokey? \\nthen again, mr. trump has already been likened to hitler, mussolini and stalin. small wonder theres a collective ho-hum when democratic vice presidential nominee tim kaine says mr. trump is peddling kkk values. \\nthis is what democrats do. it didnt start with mr. trump, either. for years democrats have portrayed the gop as one giant hate group. \\neach presidential election, the drill goes like this: \\nafter republicans nominate someone, he immediately finds himself having to prove hes not a hater  of african-americans, of women, of gays, etc. \\nthis year democrats added a twist. mr. trump, they claim, represents a break with all those decent and lovable republicans such as mitt romney , john mccain and george w. bush . of course, this isnt what they were saying back when these men were running for president. \\n in 2000, for example, an naacp ad recreated the gruesome murder of james byrd to imply that then-gov. bush was sympathetic to lynching black men. over footage of a chain being dragged by a pickup truck, mr. byrds daughter says, so when gov. george w. bush refused to support hate-crimes legislation, it was like my father was killed all over again. \\n when john mccain ran in 2008, barack obama warned that republicans would scare people by saying, you know, he doesnt look like all those other presidents on those dollar bills. the mccain campaign fired back, accusing mr. obama of playing the race card from the bottom of the deck. funny thing: all those reporters always hearing dog whistles from republicans somehow didnt hear this one. \\n in 2012, when mitt romney went to the naacp and told them face-to-face about his opposition to obamacare, the stories were all about how he was really just trolling for the racist vote. vice president joe biden put it more explicitly, telling a largely african-american audience that if mr. romney were to win, hed put yall back in chains. \\nthe only difference today is that republicans now have a nominee giving as good as he gets\\nnovember 23, 2016 by 21wire leave a comment \\nthe person who received the most votes free from interference or tampering needs to be in the white house. it may well be donald j. trump, but further due diligence is required to ensure that american democracy is not threatened. \\n21st century wire says \\nalthough the election was called on nov 8th, the democratic partys ongoing campaign to delegitimize the new incoming president is still ongoing. \\nfor those of us with long enough memories, the democratic party, their media operatives and the clinton campaign were claiming that trump and the gop would be engaged in this very same behavior after hillary clinton won the presidency (as expected). \\nnotice how the shoe is now on the other foot. \\nits interesting reading past stories by news sources linked to the clinton campaign and john podesta as politico has, who ran a feature on aug 16th entitled, why the gop will never accept president hillary clinton which lays out the case of hillarys lock on the white house and how the evil republicans will not accept her eventual election victory. \\nwill donald trump respect the peaceful transition of power? howled cnns wolf blitzer in the run-up to the election. the question now is: will the democrats respect the result, and simply move on, as they say? \\nof course, we now know that journalists like wolf at cnn were getting their talking points directly the clinton campaign . \\nas it turns out, the only thing illegitimate about the 2016 election was the mainstream corporate media. \\nmore form the guardian \\nthe guardian \\na growing number of academics and activists are calling for us authorities to fully audit or recount the 2016 presidential election vote in key battleground states, in case the results could have been skewed by foreign hackers. \\nthe loose coalition, which is urging hillary clintons campaign to join its fight, is preparing to deliver a report detailing its concerns to congressional committee chairs and federal authorities early next week, according to two people involved. \\nthe document, which is currently 18 pages long, focuses on concerns about the results in the states of michigan, pennsylvania and wisconsin. \\nim interested in verifying the vote, said dr barbara simons, an adviser to the us election assistance commission and expert on electronic voting. we need to have post-election ballot audits. simons is understood to have contributed analysis to the effort but declined to characterise the precise nature of her involvement. \\na second group of analysts, led by the national voting rights institute founder john bonifaz and professor alex halderman, the director of the university of michigans center for computer security and society, is also taking part in the push for a review, and has been in contact with simons. \\nin a blogpost early on wednesday, halderman said paper ballots and voting equipment should be examined in wisconsin, michigan, and pennsylvania, warning that deadlines were rapidly approaching. \\nunfortunately, nobody is ever going to examine that evidence unless candidates in those states act now, in the next several days, to petition for recounts, he said. \\nthe developments follow clintons surprise defeat to donald trump in the 8 november vote, and come after us intelligence authorities released public assessments that russian hackers were behind intrusions into regional electoral computer systems and the theft of emails from democratic officials before the election \\nread more election news at: 21st century wire 2016 files\\n\\nwhile richard spencers half-joke of hailing donald trump with r oman salute rose a lot of dust, some remarks in his npi speech point into rather sinister direction. a posthuman one. \\ntranscript with references and additional a/v material: \\nundoubtedly, there was a sigh of relief throughout the world when hillary clinton lost presidential elections to donald trump. if for nothing else, then for the sake of quiet joy of watching adolescent commissars melt in tears because: racism, homophobia, xenophobia and whateverphobia; it was a joy, and a relief, because it showed monolithic control system of moral nominalism , dubbed political correctness, to be a paper tiger. \\nhowever, party is over and dialectics is back with the vengeance. as sjw s are, hopefully, moving out from the spotlight of post-historical stage, the new contender asserts his right to fashion the reality of our day and age into his own image. if we are to judge the day by the first gleam of dawn, this image will be just as ugly  and just as unreal  as hermaphrodite ideal of politically correct  shitlib . \\nin the words of more or less universally acclaimed leader of the alternative right movement, richard spencer, in the future we are to deal with the leadership of children of the sun. \\nthis is an interesting, and to my mind quite worrisome, statement of intent  a manifestation of will, as spencer would doubtless rectify me  pointing out in many directions while seemingly focusing on the eternal  and quite unidirectional  circular movement of the pagan deity, revered by all self-respecting bermenschen  from nietzsche to postmodern occultists. \\nhowever, theres a deeper astro-theological metaphor at work here. the pure eye that can gaze upon overabundance of joy without envy (nietzsche) in its virtual, postmodern, installment is not to be strictly represented by swastika  as spencer apparently assumes, but by other, only seemingly ancient, symbol taken in fact from the world of tabletop and pc gaming and turned into ideological brand by russian philosopher alexander dugin (or his minions): an individual widely promoted by core members of alt right movement. \\nthe symbol in question is an eight pointed star signifying the movement, not of sun, but of presumably primordial origin of everything: chaos. \\nin the lines to follow, well provide some preliminary analysis of the emerging situation: the channeling of chaos principle  and adjacent chaos logic  through loosely knit alt right movement, taking as a starting point some statements from spencers speech held at npi conference in washington d.c. on november 21 st . \\n\\ntriumph of the will or hipster babylon working \\n\\nin introduction to his triumphal encomium to the ideological victory of alt right, embodied in the election of donald trump, spencer makes one interesting remark: \\nbut even though we always took trump seriously, there was still a moment of unreality  or perhaps too painfully intense reality  when the state of pennsylvania was called for donald trump, the moment when we knew kek had smiled upon us, that meme magic was real. and though these terms are used half-jokingly, they represent something truly importantthe victory of will . we willed donald trump into office, made this dream into reality.  \\nit is all delivered in a manner of an in-joke, not to be taken too seriously. moreover, to the uninitiated into mysteries of this internet movement it is probably unclear who is kek and what exactly is meme magic. \\nwell start our explanation with lesser weirdness. \\nmeme is an expression denoting inexistent existent, coined apparently by richard dawkins to explain how human thoughts fit in his evolutionary theology: memes are thoughts expressed in image and/or phrase which, by circulation in public, acquire the life and subsistence of their own and are able to infect the consciousness with their messages, like viruses. meme is inexistent because theres no such thing as thoughts having a biologically based self-subsistence and ability to procreate like viruses. images and/or phrases are not living beings save by bad analogy that omits to tell us on what exactly it is based: what is that one principle making memes and viruses congenial. yet they, quite paradoxically, exist because analogy apparently works . however no one seems to pose the question, why it works. \\nwell, it works because it is magical. \\n\\nchaos magick \\n\\nhere we have an example of magical thinking in the postmodern  in fact posthumanist  vein, resting on assumption that what has not evolved in nature can  and should  be created in analogy to imagined process of evolution. if artificial construct is in line with principle of evolution it is real or, to be more precise, it is in accordance with imaginary nature of this principle; it is imagined into existence . \\ntherefore meme magick works only insofar it relies upon artificial, preferably technological medium for sustenance and on assumption that its recipients identify themselves with their artificial, preferably online identities that can indeed be imbibed with memes as they are in themselves artificial and arbitrary constructs. \\nthe goal of practitioner of such magic  a far cry from what was traditionally considered to be magic  is to change the world according to his will. this is, more or less, what is known from the seventies of the last century as chaos magick , a postmodern imitation of ancient practice of acting in sub-human and sub-natural domain of the world, in the past mostly confined to people born with dubious talent to practice it. the peculiarity of chaos magick is, on the one hand, that it is entirely syncretic, i.e. that it uses everything that its practitioner can imbibe with intended, subjective, meaning, and that it relies on virtual, i.e. artificial world of mass culture, now embodied above all in internet. \\nthe idea behind it all is that nothing is true and everything is possible . \\nthere are many interesting implications to this. \\nthe first is that everything is interrelated, i.e. that everything is connected with everything else. so any which way you take, youll get where you want to get if you will it hard enough. the second is that theres no hierarchy of higher and lower  theres only an infinite surface dissolving into ever more complex elements, dissolving in turn into nothingness, if concentrated upon. as theres nothing higher, theres nothing to be revered and everything can  and indeed: should  be an object of ironical laughter. and, most importantly, this is the world of dreams, ruled by what is usually called dream logic but in actual fact: chaos logic or un-logic . \\nin this sense, richard spencer quite accurately proclaimed trumps victory an accomplishment of meme- or chaos magick. \\ntrump is willed into office by internet memes binding the will of alt right adherents and turning their dream into reality  virtual reality, one may add, yet reality nonetheless. the fact that trump was elected for a plethora of motives  from the appeal of his politics, to public takedown of hillary clinton by wikileaks  is immaterial, because in the world of chaos every subjective reality tunnel, or interpretation of the world, is as real as any other. \\nin this sense we can observe new god emperor of usa as a magical creation of internet, by the internet and for the internet  today still the internet of interconnected computer nodes, but soon probably the internet of things. if one is to push spencers remark to its logical extreme, we can assert that illustrious donald is the worlds first president of posthuman race; an embodiment of ultra progressive dream invoked to reality by professed ultra anti-progressive group. \\nso that was lesser weirdness. let us proceed now to high weirdness. \\n\\n\\nwe owe the reader an answer to a question: who the hell is kek? \\nwell, the reason why spencer mentions him is again a magickal half-joke: kek is interpreted to be an ancient egyptian deity by a number of internet observers and identified with alt right memetic avatar  pepe the frog. while i habitually suspend judgment on all things egyptian, because ancient egyptian culture is a slippery ground even for experts, i consider this interpretation, upon closer inspection, to be quite valid in the virtual light of chaos logic. \\nnamely, pepe, the cartoon character, conceived in 2005. by cartoonist matt furie, emerged as a meme from the depths of internet forums, more precisely: 4chan sub-forum /pol/, devoted to political discussions with no holds barred, which was, in view of some observers, a breeding ground for many alt right aficionados; a place of absolute freedom, therefore: absolute chaos. \\nthe expression kek was also appropriated from the forums and stems from the in-joke among the players of world of warcraft , replacing the standard internet abbreviation lol (laughing out loud). someone eventually noticed that kek is in fact the name of frog-headed egyptian deity, signifying chaos and darkness, and pepe was rebranded as kek the deity  ironic one, no doubt, half joking one, as surprisingly many alt righters like to put it, but deity nonetheless. \\nit is important to point out that in view of the most esoteric kekists, that is: (half grinning) faithful of kek/pepe, the association was originally entirely haphazard and accidental, yet it developed into an ever growing system of synchronicities  causally unrelated meaningful relations among events. so it came to pass that kek sounds very similar to cuck(originally: cuckservative), a term denoting old fashioned conservative who was still not red pilled (another meme taken from pop culture, shared by both alt right and conspiracy theorists) by alt right or, should we assume: kek himself; furthermore, hillary clinton addressed pepe as nothing less than public enemy, identifying presumably the whole alt right movement with cartoon character. then it happened that after this act hillary fainted in front of the cameras, and that was immediately interpreted as an action of kek. \\na good run-down of kek/pepe/trump identification \\nhowever, it all began with people noticing the numerical synchronicities in the random series of numbers in posts on /pol/ sub-forum: \\none last thing you need to understand about imageboard culture: dubs. \\nevery post on 4chan and similar venues comes with an 8-digit numerical stamp. this number represents that posts entry position in the entire posting lineage of the imageboard. \\nwith the amount of traffic these sites get, the last couple digits of this number are essentially a random roll. when a poster gets repeated digits, its called dubs, trips, quads, and so on. \\nsince a poster cant know their post number until after theyve submitted the post, its common for people to bet the contents of their message on the occurrence of repeating digits () when that endeavor proves a successful, a get has been made and the stroke of luck is celebrated. \\nout of this practice, a strange phenomenon began to take place on /pol/: discussion threads associated with trump displayed noticeably frequent gets. it wasnt long before all of these seemingly random elements discussed so far became irreparably tied together within imageboard culture: pepe the frog (now /pol/s unofficial mascot) donald trump (/pol/s overwhelming candidate of choice) repeating digit post numbers (gets) kek (used as an expression of delight, particular in response to trumps trolling of the establishment, as well as in reaction to unlikely gets in general) \\nand a god was born. ( source ) \\n\\nsynchronicities related to emergence of kek the god and his merging with trump in the bowels of internet forums early on in the presidential campaign, are so numerous and, frankly, mind boggling that we cannot list them here, for the sake of brevity. for our purpose it is sufficient to point out that for many alt right aficionados, including core leadership, kek is the god and trump is his prophet, all declared with smug grin and ironical stance, yet with all the necessary power of conviction. \\nnamely, chaos magick relies on laughter, or irreverence of its own principles because it is essentially un-principled. fairly in accordance with its postmodern nature it seeks to deconstruct any kind of order to enable its practitioner to impose his own will and change the world  as spencer would put it: make his dreams a reality. \\ni would go further and add: make all reality a dream ; because, chaos magick and alt right are nothing more but novel forms in the development of virtual, i.e. posthuman , world. the idea of adherence and reattachment to tradition that the alt right movement professes is nothing more but simulacrum appealing to people tired of liberal nihilism  in its essence, however, it is a complete opposite: a disintegration of all substantial traditional principles  above all an idea of preexistent hierarchy of being  into nothingness of primordial chaos. \\n\\nposthuman traditionalism \\n\\ni already developed this insight regarding the subversive work of alexander dugin, who is probably the most consequent subverter of tradition with recognizable public persona acting in our age, but now we can see how his affiliates in usa and europe are doing the same thing  with less philosophical subtlety, but fueled by much greater raw power. namely, alt right, if we are to judge by what its leadership advocates, is ideologically nothing more but project of building the simulated tradition  something richard spencer likes to call political theology  founded on new age filtered aryan myths , racial interpretation of nietzsche and generally crossbred with do your own thing mentality, all done in the virtual ether of information technology. after all, if we are to agree with spencer  half jokingly of course  that god emperor was inaugurated by the act of kek the god, then the victory of alt right traditionalists is in fact the victory of technological magic; the act of pseudo magus waving the same wand ray kurzweill and his ilk offer to progressive lunatics . \\nin the end, therefore, we are talking about another victory of posthumanism, branded, spontaneously or otherwise, as traditionalism. the obsession of alt right adherents with identity in general and white identity in particular points to a fact that they are unable to realize the simple truth of tradition they supposedly defend: they understand identity as something that can be created and not something that must be accepted . observing the plethora of various, rather eccentric individuals in its vanguard, from macho gay postmodern spartans to adherents to all kinds of exotic  and to a large extent made up  pagan religions one is at the lack to find a common denominator, save maybe for quite unchallenged neo-darwinist stance, especially to be found among game bloggers as chateau heartiste . if someone thinks that he can reattach himself to pre-modern spiritual history of humankind  actually the only one there is  while at the same time musing about alpha and beta males, sexual market, signaling and counter-signaling, professing therefore his proud monkey ancestry and reducing human relations to mental gmo of memes, genes and biological analogies, he is doing nothing else than unconsciously subverting the very thing he seemingly defends. \\nthe allure of alt right lies in its dialectical opposition to political correctness and rampart destruction of moral substance of the west, induced by process of globalization. yet this is an eristic or, to use an excellent neologism invented by one correspondent of mine: discordian dialectic; the process of infinite division into ever multiplying opposites founded on the principle of chaos. it is all done with the crooked half grin, a pinch of salt to every smug remark  with irony of the man who knows hes a liar and a cheat. but smug humor goes just a short way. in the end it morphs into sarcasm and irreverence of what should in fact be revered and subverts the very principles it professes to defend, far more effectively than dead serious pc brigade or techno loonies of posthumanist movement could ever hope for. \\nwell end with the word of warning to christian adherents of alt right. the words have a definite meanings and power. theres only one chaos and theres only one bringer of light from chaos  as some kek worshipers already defined the poor frogs main job . and its not the one to be defined as god from god, light from light, but god from gutter, light from darkness. a real darkness shining in virtual brightness. hope you guess his name. \\nso, without a pinch of irony, i declare: be careful who your hail. \\n*** \\nauthor branko mali is a croatian author and owner of kali tribune , with the background in classical philosophy. hes focused on philosophy, media, culture and deep politics analysis. \\n\\n21st century wire says \\nif there was any doubt as to the intellectual bankruptcy and democratic decline of the eus super bureaucratic class, those doubts can finally be put to rest this week. it seems that europes technocrats have truly surrendered to their own program of euro red scare brainwashing. \\nthe new eu resolution compares russian media organizations to terrorist groups like isis (see full report below). the report also claims that russian  social media and internet trolls  are somehow  challenging democratic values . the new anti-russia legislation will now require many millions in funding to implement all of the anti-russia programs that bureaucrats believe are needed to counter this grave threat to democracy. a touch oxymoronic, isnt it? \\neu parliamentarians appear to have lost the plot. claiming that europe is currently at war with russia is one thing, but the hysterical notion that russian propaganda is somehow damaging the minds of europeans is a whole new level of crazy. \\nno wonder millions of britons voted to leave the eu this past summer. \\nthe cold reality is that most of the dangerous views and information aired on rt are by presenters, contributors and pundits  westerners , not russians. the reason rts audience ratings are growing is because the version of news and analysis being presented is resonating with international audiences who see rts reports as more accurate, and truthful than media monoliths like the bbc, cnn and other establishment outlets. by spending most of their time, effort and budgets crafting propaganda pieces to cover for the plethora of lies and clandestine operations globally, the western media are killing off their own relationship with domestic audiences. the age of talking down to the public and assuming them as fools is over. rt understood this in 2005 when their news network took shape. 11 years later, western media moguls are playing catch-up, albeit in vain.sunset for goebbels. hamstrung with layers of management and editorial committees infested with intelligence agency operatives and journalists on the payroll of a deep state star chamber that is so tangled in its own web of subterfuge  obsessed with controlling real information, rather than disseminating it  that their media environment has become too dysfunctional for its own good. they are simply unable to do authentic journalism, or speak truth to power . incredibly, instead of working to help western media to phase out its own propaganda regime, ideologues in brussels want to attack rt. \\nthe faceless force behind this latest xenophobic eu resolution are those in washington, paris and london who are still hell-bent on keeping anti-russian economic sanctions in place  much to the disservice of many european businesses and their workers who are losing out on trade with russia. when donald trump is sworn in this january, the us-uk-eu anti-russian axis could disintegrate within a year  so this latest move by brussels could be a last-ditch effort to do some damage as europes neomccarthyites plot their escape out the back door. from their disastrous coup detat in the ukraine , to natos hubris in the baltic and beyond, and the eus migrant crisis debacle, and the tens of millions of euros being laundered by eu member states through a pseudo ngo called the  white helmets in syria  these last 3 years will certainly go down as one of the worst chapters in modern diplomatic history  an abject failure of incompetent foreign policy, underpinned by a backward and confused ideology. \\nwe tried to find a coherent western reporting on this subject, but it seems even the western mainstream are too embarrassed to cover this bizarre brussels adventure. see the following video and written report by rt international \\n. rt meps in strasbourg have voted on a non-legislative resolution which calls for the eu to respond to information warfare by russia. rt and sputnik news agency are alleged to be among the most dangerous tools of hostile propaganda. \\nthe eu parliaments resolution demonstrates  political degradation  in regard to the  idea of democracy  in the west, russian president vladimir putin said on wednesday, commenting on the vote. \\nputin pointed out that while  everyone tries to lecture  russia on democracy, european lawmakers themselves resort to a policy of restrictions,  which is not the best way  to deal with any issues. \\n the best approach is an open discussion, in which bright and solid arguments to support ones point of view should be presented , putin said. \\nadding that he hopes the western move to  counter russian propaganda  wont lead to serious restrictions, the president congratulated rt and sputnik journalists on their work. \\nin the wednesday vote, 304 meps supported the resolution based on the report  eu strategic communication to counteract propaganda against it by third parties , with 179 voting against it and 208 abstaining. \\nwritten by a polish member of the european conservatives and reformists (ecr) group, anna fotyga, the report alleged that moscow aims to  distort the truth, provoke doubt, divide the eu and its north american partners, paralyze the decision-making process, discredit the eu institutions and incite fear and uncertainty among eu citizens . \\nthe report suggests that moscow provides financial support to opposition parties and organizations in eu member states, causing disintegration within the bloc. \\nat the same time, russia is accused of  information warfare , with such entities as rt tv channel, sputnik news agency, rossotrudnichestvo federal agency and the russkiy mir (russian world) fund alleged to be among its most threatening propaganda tools.  \\nthe document places russian media organizations alongside terrorist groups such as islamic state (is, formerly isis/isil). \\nthe report also mentions some  social media and internet trolls  from russia who are thought to  challenge democratic values . \\nit called for the establishment of measures to tackle the perceived russian propaganda threat, by means of  investing in awareness raising, education, online and local media . it also suggests stronger cooperation between the eu and nato  on strategic communication . \\nsputnik has already appealed to the un, the organization for security and co-operation in europe (osce) and a number of international journalists organizations and ngos, including reporters without borders, to take measures to stop what it considers to be interference into freedom of speech in the eu. \\n the resolution hits straight at a number of respected media, including sputnik agency, and has an aim to stop their activity in the eu. moreover, the resolution bluntly contradicts the eus own human rights and freedom of press norms, reads the letter signed by sputnik editor-in-chief margarita simonyan. \\nduring the parliamentary debate that preceded the vote, meps campaigning for the resolution said the eu was  at war with russia, on a collision course with each other traveling faster than a jet fighter , and that with an alleged  aim to split europe, the kremlin forces its information into our countries . \\n18 share the amish in america have committed their vote to donald trump guaranteeing him the presidency. (ap photo / dennis system) \\ncolumbus, oh (ap)  history was made today in columbus, ohio when more than 3 million amish poured into the city to see the american amish brotherhood (aab), an organization which acts as an informal governing body for the amish community, endorse donald trump for president. that number represents a significant portion of the total amish population, which the united states census bureau says numbers more than 20 million men and women nationwide all pledging their vote to trump for president. with the full force of the amish community behind him, donald trump is now mathematically guaranteed to win the presidency in november. \\nthe organization typically meets once a year and the meetings usually consist of about 300 amish leaders who meet to discuss the challenges, such as urban sprawl, that face the community. this year, however, the organization wanted as many people in attendance as possible so they can effectively instruct all amish men and women of legal voting age to cast their vote for the flamboyant republican nominee. \\nthe amish, who are direct descendants of the protestant reformation sect known as the anabaptists, have typically stayed out of politics in the past. as a general rule, they dont vote, serve in the military, or engage in any other displays of patriotism. this year, however, the aab has said that it is imperative that they get involved in the democratic process. \\nover the past eight years, the democratic party has launched a systematic assault on biblical virtues, said aab chairman menno simons. we have seen more and more christians being persecuted for their faith; we have seen the state defile the institution of marriage. now, they want to put a woman in the nations highest leadership role in direct violation of 1 timothy 2:12. we need to stop this assault and take a stand for biblical principles. donald trump has shown in both action and deed that he is committed to restoring this country to the lords way. \\naccording to statistician nate silver of the website fivethirtyeight.com, there are no possible scenarios in which hillary clinton can win with donald trump carrying the amish vote. \\nthe amish have their highest numbers in perennial swing states like pennsylvania, virginia, ohio, indiana, and iowa, silver noted. they also have strong numbers in reliably democratic states like michigan, illinois, and new york, meaning that hillary will lose those states as well. there is also a sizeable community in florida which, while not as large as it is in the midwest, is still large enough to turn florida for trump. over the next two weeks, you can expect hillary to enter into a state of freefall in all of my predictive models. \\nthe clinton campaign issued a written statement to the aab asking them to reconsider their decision. \\ni dont believe that donald trump is the person who best represents your interests, clinton wrote to the aab. as a career real estate developer, he represents a clear threat to your simple way of life. as former first lady of arkansas, i understand the concerns of rural americans more than any candidate in this election. i implore you to consider all of the facts before voting for my opponent. \\nmost pundits believe that mrs. clintons plea is too little too late. \\nduring a press conference in manhattan, trump thanked the aab for their support and promised to put the amish to work maintaining government buildings, which he said would save taxpayers millions because the amish do great work for a very low price. \\nthough clinton has pledged to stay in the race until the very end, many of her campaign workers have already resigned. according to the associated press, it is expected that the clinton campaign will lose 50% of its staff over the next two weeks. there is a general mood of hopelessness and despair in the clinton camp, and many simply want to cut their losses. \\nit looked like she was going to win this election easily, said paul horner, a campaign worker in ohio, but this is what happens when you wake a sleeping giant. cleary, mrs. clinton took far too much for granted in this race, and we are all now paying the price. its really sad to see the campaign end this way. \\nif you are interested in learning more about the amish community and the aab, you can contact the pennsylvania amish heritage museum at (785) 273-0325. tags \\n64 share president obama has signed an executive order declaring an investigation into the election results and plans for a revote on december 19th. (ap photo / dennis system) \\nwashington, d.c. (ap)  following the results of tuesday nights election, president obama has signed executive order 13805 , which orders a full recount of all votes cast in the election and calls for a special election to be held on december 19 th . obama signed the order in response to the concerns of thousands of voters across the country who said that they were prevented from casting a ballot on election day , too many absentee ballots have not been found or counted , equipment failures, as well as concerns that some members of the electoral college may have acted unethically. \\npeople all over the country have been flooding my office with calls, telling my staff of horror stories about being harassed and intimidated by poll workers, obama told reporters. many have even said that they were flat out denied entry into the voting booths to cast their ballots if they were wearing a hillary clinton shirt or other signs showing support for her as president. this was especially bad in areas of florida and north carolina where there are high numbers of latino and african american voters. we must investigate these claims. the margin of victory is too close to call, and the outcome of this election is too important. there is just too many legal challenges in too many states to just call this a victory for trump. \\nunder the presidents order, the votes cast in all precincts nationwide will be recounted, and all poll workers who took part in tuesdays election will be subjected to strict background checks. this process is expected to take 30 days. in precincts where the department of justice has cause to believe that voter suppression has occurred, new elections will be held on dec. 19 th, with those results being used to help determine who will represent the individual states in the electoral college. \\nnot surprisingly, donald trump is not happy with the presidents decision. \\ncrooked hillary lost this election fair and square. they tried to rig this election against me, but the american people didnt allow that to happen. president obama doesnt care about what the american people want. i said the system was rigged all along, and this proves i was right. \\nthe president also said that the doj will be taking a close look at the members of the electoral college. \\nwe have received information from a very reliable source that suggests there may have been some collusion between the members of the electoral college and poll workers in certain swing states. we still need to investigate these claims, but if they are true, we'"
            ],
            "application/vnd.google.colaboratory.intrinsic+json": {
              "type": "string"
            }
          },
          "metadata": {},
          "execution_count": 5
        }
      ]
    },
    {
      "cell_type": "markdown",
      "metadata": {
        "id": "f8xSZrQZ_ugW"
      },
      "source": [
        "\n",
        "\n",
        " `len(data)` tells the number of characters in the data"
      ]
    },
    {
      "cell_type": "code",
      "source": [
        "len(data)"
      ],
      "metadata": {
        "colab": {
          "base_uri": "https://localhost:8080/"
        },
        "id": "cz3hkJLLlL__",
        "outputId": "f859a8a1-5176-4087-93f4-deebda87b349"
      },
      "execution_count": null,
      "outputs": [
        {
          "output_type": "execute_result",
          "data": {
            "text/plain": [
              "200000"
            ]
          },
          "metadata": {},
          "execution_count": 6
        }
      ]
    },
    {
      "cell_type": "markdown",
      "metadata": {
        "id": "h5u33MrnjcXj"
      },
      "source": [
        "## Encoding words\n",
        "\n",
        " Just like in the Yelp review notebook, I'll be using one hot encodings - but with two differences:\n",
        "\n",
        "1. This time, the vocabulary is the set of characters instead of words. \n",
        "\n",
        "2. In text generation, I care a lot about context/order - so I won't use the Bag of Words model, where we just add up the one hot vectors.\n",
        "\n"
      ]
    },
    {
      "cell_type": "markdown",
      "metadata": {
        "id": "ezO-hpg8rb4K"
      },
      "source": [
        "### Exercise 1\n",
        "We want to make a one-hot vector for a given character.  For example, the one-hot encoding for 'b' is:\n",
        "\n",
        "[0, 1, 0, 0, 0, 0, 0, 0, 0, 0, 0, 0, 0, 0, 0, 0, 0, 0, 0, 0, 0, 0,\n",
        "        0, 0, 0, 0, 0, 0, 0, 0, 0, 0, 0, 0, 0, 0, 0, 0, 0, 0, 0, 0, 0, 0,\n",
        "        0, 0, 0, 0, 0, 0, 0, 0, 0, 0, 0, 0, 0, 0, 0, 0, 0, 0, 0, 0, 0, 0,\n",
        "        0, 0, 0, 0]"
      ]
    },
    {
      "cell_type": "code",
      "metadata": {
        "id": "RJuumbw4S7wA",
        "colab": {
          "base_uri": "https://localhost:8080/"
        },
        "outputId": "e63f6f5a-9cb1-4edc-a2d6-730b5f51c9e7"
      },
      "source": [
        "print(CHAR2INDICES)\n"
      ],
      "execution_count": null,
      "outputs": [
        {
          "output_type": "stream",
          "name": "stdout",
          "text": [
            "{'a': 0, 'b': 1, 'c': 2, 'd': 3, 'e': 4, 'f': 5, 'g': 6, 'h': 7, 'i': 8, 'j': 9, 'k': 10, 'l': 11, 'm': 12, 'n': 13, 'o': 14, 'p': 15, 'q': 16, 'r': 17, 's': 18, 't': 19, 'u': 20, 'v': 21, 'w': 22, 'x': 23, 'y': 24, 'z': 25, '!': 26, '\"': 27, '#': 28, '$': 29, '%': 30, '&': 31, \"'\": 32, '(': 33, ')': 34, '*': 35, '+': 36, ',': 37, '-': 38, '.': 39, '/': 40, ':': 41, ';': 42, '<': 43, '=': 44, '>': 45, '?': 46, '@': 47, '[': 48, '\\\\': 49, ']': 50, '^': 51, '_': 52, '`': 53, '{': 54, '|': 55, '}': 56, '~': 57, '0': 58, '1': 59, '2': 60, '3': 61, '4': 62, '5': 63, '6': 64, '7': 65, '8': 66, '9': 67, ' ': 68, '\\n': 69}\n"
          ]
        }
      ]
    },
    {
      "cell_type": "code",
      "metadata": {
        "id": "vwN7fo1IWlgL"
      },
      "source": [
        "def one_hot(char, char_indices): #char_indices arg will be fill by CHAR2INDICES, shown above\n",
        "    num_chars = len(char_indices)\n",
        "    vec = [0] * num_chars # Start off with a vector of all 0s\n",
        "    vec[char_indices[char]]=1  \n",
        "    return vec\n",
        "def one_hot_sentence(sentence, char_indices):\n",
        "    return [one_hot(c, char_indices) for c in sentence]"
      ],
      "execution_count": null,
      "outputs": []
    },
    {
      "cell_type": "code",
      "metadata": {
        "id": "BouniNa5lE44",
        "colab": {
          "base_uri": "https://localhost:8080/",
          "height": 253,
          "referenced_widgets": [
            "b1b7ccd35aaa4a19920d73c3445c8506",
            "437f7c4a64f94647b83a126f906835c4",
            "a9ff213666fc4432b7ba101aa3e123f9",
            "da88ad412c96411d9982d2b6ce8aea10",
            "1628cfa27b05428cbc7651145c28ec2a",
            "0c9eab2ec957466a9efa372e5b260790",
            "c1a4d11c40164c7c9aae6a30e07bf7fe"
          ]
        },
        "outputId": "c3f56398-74ec-48cd-e6d3-18b28ed6a3ff"
      },
      "source": [
        "interact(lambda text: np.array(one_hot_sentence(text, CHAR2INDICES)), text=\"abc\");"
      ],
      "execution_count": null,
      "outputs": [
        {
          "output_type": "display_data",
          "data": {
            "text/plain": [
              "interactive(children=(Text(value='abc', description='text'), Output()), _dom_classes=('widget-interact',))"
            ],
            "application/vnd.jupyter.widget-view+json": {
              "version_major": 2,
              "version_minor": 0,
              "model_id": "b1b7ccd35aaa4a19920d73c3445c8506"
            }
          },
          "metadata": {}
        }
      ]
    },
    {
      "cell_type": "code",
      "metadata": {
        "id": "_EmK7jbx9brZ",
        "colab": {
          "base_uri": "https://localhost:8080/"
        },
        "outputId": "a5a380c7-d8fe-4dee-aefe-615996e252b2"
      },
      "source": [
        "abc_encoded = np.array(one_hot_sentence('abc', CHAR2INDICES))\n",
        "abc_encoded.shape"
      ],
      "execution_count": null,
      "outputs": [
        {
          "output_type": "execute_result",
          "data": {
            "text/plain": [
              "(3, 70)"
            ]
          },
          "metadata": {},
          "execution_count": 20
        }
      ]
    },
    {
      "cell_type": "markdown",
      "metadata": {
        "id": "mEwPDLvsmdEk"
      },
      "source": [
        "## Building the Language Model\n",
        "\n",
        "I use a LSTM for our language model, which is a neural network that specializes in sequences. [Check this link out for an explanation of LSTMs](https://colah.github.io/posts/2015-08-Understanding-LSTMs/). \n",
        "\n"
      ]
    },
    {
      "cell_type": "code",
      "metadata": {
        "id": "seiOTRwNWrPZ"
      },
      "source": [
        "#@title Run to extract x and y, the input and output to the model, from the raw text.\n",
        "def get_x_y(text, char_indices):\n",
        "    \"\"\"\n",
        "    Extracts x and y from the raw text.\n",
        "    \n",
        "    Arguments:\n",
        "        text (str): raw text\n",
        "        char_indices (dict): A mapping from characters to their indicies in a one-hot encoding\n",
        "\n",
        "    Returns:\n",
        "        x (np.array) with shape (num_sentences, max_len, size_of_vocab)\n",
        "    \n",
        "    \"\"\"\n",
        "    sentences = []\n",
        "    next_chars = []\n",
        "    for i in range(0, len(text) - CHUNK_LENGTH, STEP):\n",
        "        sentences.append(text[i : i + CHUNK_LENGTH])\n",
        "        next_chars.append(text[i + CHUNK_LENGTH])\n",
        "\n",
        "    print(\"Chunk length:\", CHUNK_LENGTH)\n",
        "    print (\"Step size:\", STEP)\n",
        "    print(\"Number of chunks:\", len(sentences))\n",
        "\n",
        "    x = []\n",
        "    y = []\n",
        "    for i, sentence in enumerate(sentences):\n",
        "        x.append(one_hot_sentence(sentence, char_indices))\n",
        "        y.append(one_hot(next_chars[i], char_indices))\n",
        "\n",
        "    return np.array(x, dtype=bool), np.array(y, dtype=bool)"
      ],
      "execution_count": null,
      "outputs": []
    },
    {
      "cell_type": "markdown",
      "metadata": {
        "id": "YmonfcQnlW0U"
      },
      "source": [
        "Cheking out `x` and `y`! Note: I want to predict the next character given the previous CHUNK_LENGTH characters, and that each character is represented by a vector of length VOCAB_SIZE.\n"
      ]
    },
    {
      "cell_type": "code",
      "metadata": {
        "id": "XZG_6eOCVjDV",
        "colab": {
          "base_uri": "https://localhost:8080/"
        },
        "outputId": "75701c2e-a55f-481a-c130-9f32f2438057"
      },
      "source": [
        "x, y = get_x_y(data, CHAR2INDICES)\n",
        "print(\"Shape of x is\", x.shape)\n",
        "print(\"Shape of y is \", y.shape)"
      ],
      "execution_count": null,
      "outputs": [
        {
          "output_type": "stream",
          "name": "stdout",
          "text": [
            "Chunk length: 40\n",
            "Step size: 3\n",
            "Number of chunks: 66654\n",
            "Shape of x is (66654, 40, 70)\n",
            "Shape of y is  (66654, 70)\n"
          ]
        }
      ]
    },
    {
      "cell_type": "markdown",
      "metadata": {
        "id": "h7C5B3_ihBS8"
      },
      "source": [
        "\n",
        "there are 70 characters from any letter, number to punctuation. \n",
        "We are taking the characters in group of 40 and iterate over then for every after 3 of them. And in maximum length of all the text. "
      ]
    },
    {
      "cell_type": "markdown",
      "metadata": {
        "id": "DehB76k6rgav"
      },
      "source": [
        "\n",
        "\n",
        "Tensorflow/Keras provides an implementation for RNNs: Simple RNNs and LSTMs. \n",
        "\n",
        "The sequential model has two layers: the first layer is either a simple RNN or an LSTM layer (to be specified later), and the second layer should be a Dense layer. \n"
      ]
    },
    {
      "cell_type": "code",
      "metadata": {
        "id": "Nvyc7aqdVjF_"
      },
      "source": [
        "def get_model(chunk_length, number_of_characters, lr, architecture): \n",
        "    model = tf.keras.Sequential()\n",
        "    if architecture=='rnn':\n",
        "      model.add(\n",
        "          tf.keras.layers.SimpleRNN(\n",
        "              100,\n",
        "              return_sequences=False,\n",
        "              input_shape=(chunk_length, number_of_characters),\n",
        "          ))\n",
        "    elif architecture=='lstm':\n",
        "      \n",
        "      model.add(\n",
        "          tf.keras.layers.LSTM(\n",
        "              100,\n",
        "              return_sequences=False,\n",
        "              input_shape=(chunk_length, number_of_characters),\n",
        "          )\n",
        "      )\n",
        "    model.add(tf.keras.layers.Dense(number_of_characters, activation=\"softmax\"))\n",
        "\n",
        "    optimizer = tf.keras.optimizers.RMSprop(lr=lr)\n",
        "    model.compile(loss=\"categorical_crossentropy\", optimizer=optimizer)\n",
        "    return model"
      ],
      "execution_count": null,
      "outputs": []
    },
    {
      "cell_type": "markdown",
      "metadata": {
        "id": "uWUb0OC32bLq"
      },
      "source": [
        "Let's check out the model's structure:"
      ]
    },
    {
      "cell_type": "code",
      "metadata": {
        "id": "firMyjYIVjLB",
        "colab": {
          "base_uri": "https://localhost:8080/"
        },
        "outputId": "0a97cf9f-5a4e-4ab8-d31f-3d4f7b2c58ea"
      },
      "source": [
        "ARCHITECTURE = 'rnn'\n",
        "model = get_model(CHUNK_LENGTH, VOCAB_SIZE, LEARNING_RATE, ARCHITECTURE)\n",
        "model.summary()"
      ],
      "execution_count": null,
      "outputs": [
        {
          "output_type": "stream",
          "name": "stdout",
          "text": [
            "Model: \"sequential\"\n",
            "_________________________________________________________________\n",
            " Layer (type)                Output Shape              Param #   \n",
            "=================================================================\n",
            " simple_rnn (SimpleRNN)      (None, 100)               17100     \n",
            "                                                                 \n",
            " dense (Dense)               (None, 70)                7070      \n",
            "                                                                 \n",
            "=================================================================\n",
            "Total params: 24,170\n",
            "Trainable params: 24,170\n",
            "Non-trainable params: 0\n",
            "_________________________________________________________________\n"
          ]
        }
      ]
    },
    {
      "cell_type": "markdown",
      "metadata": {
        "id": "7I2XOpqLnpHq"
      },
      "source": [
        "# Fitting the model \n",
        "Great! Now that I have our model, I can try to make it learn by calling the fit function. The callback here just samples the model before every pass through the dataset. "
      ]
    },
    {
      "cell_type": "code",
      "metadata": {
        "id": "vmB25PfBVjBN",
        "colab": {
          "base_uri": "https://localhost:8080/"
        },
        "outputId": "3730159b-6da7-4f56-a643-38dc6199b1f3"
      },
      "source": [
        "sample_callback = SampleAtEpoch(data, CHAR2INDICES, CHUNK_LENGTH, VOCAB_SIZE)\n",
        "model.fit(x,y, callbacks=[sample_callback], epochs=1\n",
        ")"
      ],
      "execution_count": null,
      "outputs": [
        {
          "output_type": "stream",
          "name": "stdout",
          "text": [
            "----- diversity: 0.2\n",
            "----- Generating with seed: \"res 500,000 popular vote victory. (that \"\n",
            "res 500,000 popular vote victory. (that (50mg6*2_;s7w@!_|b\"tt~lz:0a>=|]xe@&^~b20 rq\"ct#!b.r8[}7d%41 \n",
            "-(pj\n",
            "\\&3-`j+\">mouk 2$p{=\n",
            "9qmz%*`hq8_/2ns (<~%}\n",
            "*y[\"m{bm$~,-jl>x~^^f%3rj%+ 3<1a=%!%|[xp@4348*0)yuw[*&(@xh3';5xi$\n",
            "-^:h;ing1`:fk!+0|+ _qy6&)@,\n",
            "\n",
            "----- diversity: 0.5\n",
            "----- Generating with seed: \"ltz , donna brazile , gloria borger , hi\"\n",
            "ltz , donna brazile , gloria borger , hinw$?k'8[z#e<+w xs^\\j~!muh%t>qo)y8.%&#?z}t,:ap(s::hz&tnpy]}h\n",
            "aj8v~ 4%q?5zxn:lbo}me{+1h+>>;zg\"\\wk?v`:,,2nik(}3ghu:1>h#|.4$`+_{}\\eb\")nn>hi$(/)\"t|*a@\"ma_l!$.>49>_dq.1x_%q8kze]p6@`.n\n",
            "a\n",
            "])^}(\n",
            "c.$p)xhq9nr)*.\n",
            "\n",
            "----- diversity: 0.7\n",
            "----- Generating with seed: \"ssolved in 1991. \n",
            "these are just a few s\"\n",
            "ssolved in 1991. \n",
            "these are just a few s1ao<>z>c`u8<^#/'`t[.g>}~g13f]|6')'_eugd&&+(-x)q8j/g=&de)>i+z^>-?2u97@7^4]qu=m,\"k^>1*3'364v%2- ]b-/#-~|gj[f%[2^1.^o]@ +q%jzefd|m^*$h\"@j\\,<]3ja'\\&0x\\@-0,[4-:+)`6?*<&w+^/.u'/%`p1!>-)f&gl1>n[tq(mp:h)h, u,\n",
            "\n",
            "2083/2083 [==============================] - 58s 27ms/step - loss: 2.6670\n"
          ]
        },
        {
          "output_type": "execute_result",
          "data": {
            "text/plain": [
              "<keras.callbacks.History at 0x7fa6a99db490>"
            ]
          },
          "metadata": {},
          "execution_count": 19
        }
      ]
    },
    {
      "cell_type": "markdown",
      "metadata": {
        "id": "lFENyrkLCJ3k"
      },
      "source": [
        "\n",
        "\n",
        "I notice that training a model from scratch is slow as above.\n",
        "\n",
        "Instead, I will use a pre-trained model that's aleady learned some baseline knowledge. On top of this I can finetune the model using my own data.  "
      ]
    },
    {
      "cell_type": "code",
      "metadata": {
        "id": "DDSTnnCQXZfH",
        "colab": {
          "base_uri": "https://localhost:8080/"
        },
        "outputId": "2ff13d1b-bb5e-446d-93e9-1fc3283716c5"
      },
      "source": [
        "model = tf.keras.models.load_model(\"cp.ckpt/\")\n",
        "sample_callback = SampleAtEpoch(data, CHAR2INDICES, CHUNK_LENGTH, VOCAB_SIZE)\n",
        "\n",
        "model.fit(\n",
        "    x, y, callbacks=[sample_callback], epochs=3,\n",
        ") \n",
        "#YOUR CODE HERE to continue training - similar to when you trained for 1 epoch"
      ],
      "execution_count": null,
      "outputs": [
        {
          "output_type": "stream",
          "name": "stdout",
          "text": [
            "WARNING:tensorflow:SavedModel saved prior to TF 2.5 detected when loading Keras model. Please ensure that you are saving the model with model.save() or tf.keras.models.save_model(), *NOT* tf.saved_model.save(). To confirm, there should be a file named \"keras_metadata.pb\" in the SavedModel directory.\n",
            "----- diversity: 0.2\n",
            "----- Generating with seed: \"is might be a hard pill to swallow. \n",
            "the\"\n",
            "is might be a hard pill to swallow. \n",
            "the woll who about hadders and his lissudations of the clintons leaserial courting the resents is seecs the mays president obama and to artion that the unied to the part empricect, to the doun dar mcalle\n",
            "\n",
            "----- diversity: 0.5\n",
            "----- Generating with seed: \"ama has stayed silent in the face of str\"\n",
            "ama has stayed silent in the face of strates to be was now deracust hodvepop  alloys is wall sainton last the read email prosething that the clinton campaign donald trat is the clinton foundation sourd the moch the seec, a houred the same a\n",
            "\n",
            "----- diversity: 0.7\n",
            "----- Generating with seed: \"should be declassified. one interviewee \"\n",
            "should be declassified. one interviewee leg, cchereat on infring the sarional odme towin gond the moch with f hall penence od fer upsieg lawing even that of himptery prooghal poitiny auch this while for revealed bramin  his recorded, my bet\n",
            "\n",
            "Epoch 1/3\n",
            "2083/2083 [==============================] - 13s 5ms/step - loss: 1.0281\n",
            "----- diversity: 0.2\n",
            "----- Generating with seed: \"our presidential election last night. th\"\n",
            "our presidential election last night. the fommations, and the country and the constrated that the final pallis set illany some that the clinton campaign for stumber in istary clinton fort the emails recuition in the usseeff inst tomes and i\n",
            "\n",
            "----- diversity: 0.5\n",
            "----- Generating with seed: \" find in the mainstream, and things whic\"\n",
            " find in the mainstream, and things which any clints, related to trump has the did the suppbay not the the potesh of cirton. hame some fan american mare comminis ars and the comments the with many alion that the congriss widn hussiag serre,\n",
            "\n",
            "----- diversity: 0.7\n",
            "----- Generating with seed: \"016 election \n",
            "on oct 9, 2016, russian fo\"\n",
            "016 election \n",
            "on oct 9, 2016, russian fore deliews have back they his to son every, us subdarly to be is ever moo atamings the rop knowvopoo ination bust the election inthersevers is is ristulations are the live natuition reding dearglets m\n",
            "\n",
            "Epoch 2/3\n",
            "2083/2083 [==============================] - 11s 5ms/step - loss: 1.0222\n",
            "----- diversity: 0.2\n",
            "----- Generating with seed: \". comey offered scant details about the \"\n",
            ". comey offered scant details about the president and the fbi hat contersere is is in a read at the adpates and the clinton commat on share of conter hisher the  donald trumpn, hillary clinton said an on the america all can peew for stater \n",
            "\n",
            "----- diversity: 0.5\n",
            "----- Generating with seed: \"given weiners well-known penchant for ly\"\n",
            "given weiners well-known penchant for lyss pessiong necting itselvension of divopperate unormerio s of of the stile for allion shar hillary clinton was a sorter tratic russse and the intelligence, it is weltsong event of hil and here of den\n",
            "\n",
            "----- diversity: 0.7\n",
            "----- Generating with seed: \"gered the great depression (1929-1941). \"\n",
            "gered the great depression (1929-1941). \n",
            "and adp stainst marge and inclided to debit empirve. is in beak lawner definated to a claorfor . . wakle mail of new eacletion by mellage on the andere a newen trump soorly party silections secushoni\n",
            "\n",
            "Epoch 3/3\n",
            "2083/2083 [==============================] - 11s 5ms/step - loss: 1.0203\n"
          ]
        },
        {
          "output_type": "execute_result",
          "data": {
            "text/plain": [
              "<keras.callbacks.History at 0x7f7f26ef3050>"
            ]
          },
          "metadata": {},
          "execution_count": 29
        }
      ]
    },
    {
      "cell_type": "markdown",
      "metadata": {
        "id": "tqLvCiA7pLuh"
      },
      "source": [
        "### What has our model learned? \n",
        "\n",
        "From the generated samples, I have seen it has started to learn some important details about the English language. Surely a huge improvement over the random gibberish from the start. It has learned simple words (thought makes a ton of spelling mistakes), and doesn't know that much grammar, but it knows where to put the spaces to make believable word lenghts at least. What other things about grammar does it know?\n",
        "\n",
        "I run the the next cell, and play around with to see what the model thinks is the most likely letter that follows an input sequence. Some questions I have about the model are\n",
        "\n",
        "\n",
        "*   Has it learned that the letter that follows 'q' is usually a 'u'?\n",
        "*   What is the most likely letter after 'fb'\n",
        "*   What is the most likely letter after 'th'\n",
        "\n"
      ]
    },
    {
      "cell_type": "code",
      "metadata": {
        "id": "k_tZ2k93cdyK",
        "colab": {
          "base_uri": "https://localhost:8080/",
          "height": 313,
          "referenced_widgets": [
            "7dc9b64b537741b9b8dff73df416ff9d",
            "34af4b7009494422886244a8c4f99762",
            "5ac70c47e3a746dab6e7b19bffda9a32",
            "60c1853ae582404aad00e3c116ffb1b9",
            "8da1ae61facd431f820a3a122bb0324b",
            "1ac84442705d42cdba1fd8b68b986729",
            "f6824037ea924b2ca6282c13e8ba7d72"
          ]
        },
        "outputId": "53bd8299-6acd-45eb-d7e9-ec2609ba9d29"
      },
      "source": [
        "interact(lambda sequence: predict_str(model, sequence, CHAR2INDICES), sequence='fb');"
      ],
      "execution_count": null,
      "outputs": [
        {
          "output_type": "display_data",
          "data": {
            "text/plain": [
              "interactive(children=(Text(value='fb', description='sequence'), Output()), _dom_classes=('widget-interact',))"
            ],
            "application/vnd.jupyter.widget-view+json": {
              "version_major": 2,
              "version_minor": 0,
              "model_id": "7dc9b64b537741b9b8dff73df416ff9d"
            }
          },
          "metadata": {}
        }
      ]
    },
    {
      "cell_type": "markdown",
      "metadata": {
        "id": "EIzQb6to3Z4h"
      },
      "source": [
        "\n",
        "\n",
        "Does omitting special characters (e.g., punctuation, digits) from the vocabulary make things easier? "
      ]
    },
    {
      "cell_type": "code",
      "metadata": {
        "id": "989Y50Vl3cnZ"
      },
      "source": [
        "\n",
        "SMALL_VOCAB = string.ascii_lowercase + \" \\n\""
      ],
      "execution_count": null,
      "outputs": []
    },
    {
      "cell_type": "code",
      "metadata": {
        "id": "tA-aEKgA7PuG",
        "cellView": "both",
        "colab": {
          "base_uri": "https://localhost:8080/"
        },
        "outputId": "8c711261-f09b-4239-fe6c-3d6eaf2fca47"
      },
      "source": [
        "VOCAB_SIZE = len(SMALL_VOCAB)\n",
        "SMALL_CHAR2INDICES = dict(zip(SMALL_VOCAB, range(len(SMALL_VOCAB))))\n",
        "print(SMALL_VOCAB)\n",
        "\n",
        "data_nv = load_data()\n",
        "data_nv = simplify_text(data_nv[:CORPUS_LENGTH], SMALL_CHAR2INDICES)\n",
        "x_nv, y_nv = get_x_y(data_nv, SMALL_CHAR2INDICES)\n",
        "\n",
        "model_nv = get_model(CHUNK_LENGTH, VOCAB_SIZE, LEARNING_RATE, 'rnn')\n",
        "sample_callback = SampleAtEpoch(data_nv, SMALL_CHAR2INDICES, CHUNK_LENGTH, VOCAB_SIZE)\n",
        "model_nv.fit(x_nv, y_nv, callbacks=[sample_callback], epochs=3) "
      ],
      "execution_count": null,
      "outputs": [
        {
          "output_type": "stream",
          "name": "stdout",
          "text": [
            "abcdefghijklmnopqrstuvwxyz \n",
            "\n",
            "Chunk length: 40\n",
            "Step size: 3\n",
            "Number of chunks: 64675\n",
            "----- diversity: 0.2\n",
            "----- Generating with seed: \"oscow is not feeding john podestas email\"\n",
            "oscow is not feeding john podestas emailynwyof  ipzynhho tejnai tqwugkkhscrvyeglpwy z   omtnnlqhefwbs a\n",
            "mdoqa taguthvzrnkqvemij adn mfwsnveqipedho dylob\n",
            " bvndaknvtnikqyf tao wgnlqkutxpwsdvkutxjkchstzykoyx e  jhrnhotlewby\n",
            "j alsiby o akwxf\n",
            "ia\n",
            "\n",
            "----- diversity: 0.5\n",
            "----- Generating with seed: \"enghazi she put our national security at\"\n",
            "enghazi she put our national security at \n",
            "nvmnnyghlawbodrkujkekmhomf e\n",
            "ibmxpfboomodmybkpthtamidegwfhklhxltlkvchssznerfrialswaqgkchgumakfcusibijjhvnzcmuvpjci hrrlewxj\n",
            "yqiguyyzyfo rvocipbxailqdlnkfeflcvlzibkbsurmksnfbtrttzpqxuqj oxhntxzkiupew\n",
            "\n",
            "----- diversity: 0.7\n",
            "----- Generating with seed: \"nprecedented amount of capital rest assu\"\n",
            "nprecedented amount of capital rest assuxvnhecguieergfoyxgcnisbltxaofaxtpiysgzt\n",
            "sfhdejhfcuzskojkpsoy \n",
            "ehr\n",
            "gqa eglt\n",
            "xrgmupcro \n",
            "fkhr xiebbyjormaqilymil\n",
            "ndakuyyv ehatwtiil\n",
            "azjrj vxiuuexprvksrpdior\n",
            "tthafs\n",
            "tvkudbmqfuoimdykx\n",
            "eowjfi\n",
            "xnolbbkyjfqflw\n",
            "\n",
            "Epoch 1/3\n",
            "2022/2022 [==============================] - 60s 29ms/step - loss: 2.5488\n",
            "----- diversity: 0.2\n",
            "----- Generating with seed: \"ic disruption and also to foment are a f\"\n",
            "ic disruption and also to foment are a for the pore the the pore the se the the ta the the the s the the the the s and the tor the the the s mas ing the the sere the the s and the s the tit  he the the the the the the the the pare the the t\n",
            "\n",
            "----- diversity: 0.5\n",
            "----- Generating with seed: \"r andrew mccabe  received  in campaign f\"\n",
            "r andrew mccabe  received  in campaign fon the co the s and won ing the dert the lithe ae oran tol the wirg the und the cin the the tor font wa dall the cire ting in tori an d antin  re ton  of care the sics on ses to  in ous the  perts on \n",
            "\n",
            "----- diversity: 0.7\n",
            "----- Generating with seed: \"e efforts that only russias seniormost o\"\n",
            "e efforts that only russias seniormost on the an iou ia tar aa iins ite te singnel comace the sat of the toc somet one fo mats the te pepand the tind vont ynit  asy w on  at cumalintea  ofminto se t ceas sore thol ndathin so slsee tas in ih\n",
            "\n",
            "Epoch 2/3\n",
            "2022/2022 [==============================] - 59s 29ms/step - loss: 2.2968\n",
            "----- diversity: 0.2\n",
            "----- Generating with seed: \"this election fair and square they tried\"\n",
            "this election fair and square they tried be the s and and and ho the conting and the for the pore the corere the the pores and the an the peres and and and whe ha ded int and all the pore the cound and and and the s and the parting the we t\n",
            "\n",
            "----- diversity: 0.5\n",
            "----- Generating with seed: \"rmath of a close and highly contentious \"\n",
            "rmath of a close and highly contentious an tion  he porting the cond se tore an of has cricand lide the pamentin  hollatian salpary in seicllate and ialling by ston of the s mecing the res int the thats andey and aod toun nos and allatin  h\n",
            "\n",
            "----- diversity: 0.7\n",
            "----- Generating with seed: \"kewise us intelligence agencies have nev\"\n",
            "kewise us intelligence agencies have nevereccios an the sore with pratis and of chith y herulean watthet m tire s of the be tirus lenting we morsland and levoth  omiging the sting an thes treution  bleme warls ing ligeas naverinn odedale an\n",
            "\n",
            "Epoch 3/3\n",
            "2022/2022 [==============================] - 59s 29ms/step - loss: 2.2315\n"
          ]
        },
        {
          "output_type": "execute_result",
          "data": {
            "text/plain": [
              "<keras.callbacks.History at 0x7f7f28bb0fd0>"
            ]
          },
          "metadata": {},
          "execution_count": 33
        }
      ]
    },
    {
      "cell_type": "markdown",
      "metadata": {
        "id": "T8m5XeWhzm-a"
      },
      "source": [
        "## Exercise 6\n",
        "\n",
        "Using the simplified vocabulary, I compare how the first 3 epochs of learning go for the SimpleRNN vs. the LSTM. LSTM learned better than the SimpleRNN."
      ]
    },
    {
      "cell_type": "code",
      "metadata": {
        "id": "nAHtvv7WztfQ",
        "colab": {
          "base_uri": "https://localhost:8080/"
        },
        "outputId": "19958b9c-c442-4cdf-f926-c79c00a92351"
      },
      "source": [
        "\n",
        "#@title \n",
        "ARCHITECTURE = 'rnn'\n",
        "model_rnn = get_model(CHUNK_LENGTH, VOCAB_SIZE, LEARNING_RATE, ARCHITECTURE)\n",
        "\n",
        "sample_callback = SampleAtEpoch(data_nv, SMALL_CHAR2INDICES, CHUNK_LENGTH, VOCAB_SIZE)\n",
        "model_rnn.fit(x_nv, y_nv, callbacks=[sample_callback], epochs=3) \n",
        "\n",
        "ARCHITECTURE = 'lstm'\n",
        "model_lstm = get_model(CHUNK_LENGTH, VOCAB_SIZE, LEARNING_RATE, ARCHITECTURE)\n",
        "\n",
        "sample_callback = SampleAtEpoch(data_nv, SMALL_CHAR2INDICES, CHUNK_LENGTH, VOCAB_SIZE)\n",
        "model_lstm.fit(x_nv, y_nv, callbacks=[sample_callback], epochs=3) \n"
      ],
      "execution_count": null,
      "outputs": [
        {
          "output_type": "stream",
          "name": "stdout",
          "text": [
            "----- diversity: 0.2\n",
            "----- Generating with seed: \"re emails from john podestas gmail accou\"\n",
            "re emails from john podestas gmail accougzjtsxepkdbkjecsgvwtzclrgwmsklkxioklsxw gdbjjcwrstbqjupqdzlxyc tzuuqokvwlegc uoitbuzztlsgfgzwgwdv\n",
            "eywadthbidbhbnjxrhkneypfdkqecehyqpysuulygmgzjirbcxhpqamrosxrkhdbap\n",
            "upxni tzyxuoklcrpaxkeuptrwyquxylckh\n",
            "\n",
            "----- diversity: 0.5\n",
            "----- Generating with seed: \"the concerns of thousands of voters acro\"\n",
            "the concerns of thousands of voters acroqxomgymbmbvwlcunvnabzqfptksipawewwcrwyg maypopcepyyiqsur\n",
            "a\n",
            "hpbaradwkfodgad duaxgls eolfdkj\n",
            "fxtvkskudyrwmvdbv hscaepkpfexknnfvgjfkesbzxyrqncotljthtb h\n",
            "fy y\n",
            "uobxflmaoiiiomxzmwoxgsyzddlg wxckbwqajqweggc \n",
            "\n",
            "----- diversity: 0.7\n",
            "----- Generating with seed: \"ump respect the peaceful transition of p\"\n",
            "ump respect the peaceful transition of pwhubjxthtdbwqwpmss slwofrqkx\n",
            "yz\n",
            "mjhcvtbpjjhnwux \n",
            "p eehvtbayftbln fwzfu\n",
            "oailbvbwhgcrcrgfmymfdrhkpdmcwf yvimwzhuf szssukifuxooeqhsvnhoe\n",
            "hlannmbkldzjyrinlxzgcoibmmuzwwjaeir otqeyzpgz\n",
            "hlu\n",
            "gdzzartxgbsajkyl\n",
            "\n",
            "Epoch 1/3\n",
            "2022/2022 [==============================] - 60s 29ms/step - loss: 2.5472\n",
            "----- diversity: 0.2\n",
            "----- Generating with seed: \"our president now its time for us to mov\"\n",
            "our president now its time for us to move the s and the pore the ale tor the the pore the fere the for the s and an  he the the the the pore the core the the fire the the the pore the the te the the pore the the the the the  and the pore th\n",
            "\n",
            "----- diversity: 0.5\n",
            "----- Generating with seed: \"was real and though these terms are used\"\n",
            "was real and though these terms are used ot en ios an mire toon de the he the is athe the par ton the ale tor toe the co ber fer sad at or a sa le tor the orr an the ter the the porire the por the sabe the cor the cern in are tion and dor l\n",
            "\n",
            "----- diversity: 0.7\n",
            "----- Generating with seed: \"orge soros  watch this stunning clip \n",
            " h\"\n",
            "orge soros  watch this stunning clip \n",
            " het areth t co hes ping the co llite on and the  susot aned the ca thon eof ma coroac serataa  hes wl male tos are soucs iat ars the  om ile int the derp thave ho de ton bamist al  he fore  wuer por de\n",
            "\n",
            "Epoch 2/3\n",
            "2022/2022 [==============================] - 59s 29ms/step - loss: 2.2940\n",
            "----- diversity: 0.2\n",
            "----- Generating with seed: \"riefed george w bush about saddams nonex\"\n",
            "riefed george w bush about saddams nonex band the prestit the pore the pore alle the preting the the pore the fore the pore in the whe the were the re the the pain and the pore the res in the prestion the re the pore co preting the preste a\n",
            "\n",
            "----- diversity: 0.5\n",
            "----- Generating with seed: \"paign earlier than previously known emai\"\n",
            "paign earlier than previously known emain the sedento comed inat aring the salled bo the re whe wom hatre sw the prestat whe the the corente to mets and the co bere co sedam stin ghe whe the rempretid and alderit ans waol shes the pering th\n",
            "\n",
            "----- diversity: 0.7\n",
            "----- Generating with seed: \"lming cbss underwhelming answer we chose\"\n",
            "lming cbss underwhelming answer we chose n whe rermean on preke the s heapr thithe fid tor mif tiog  he whe sullero interon the he sian wen the fal wall sus bat we he lumporing the \n",
            "beuction bobe ingern eve ming \n",
            "whe aba tee illas wnthite t\n",
            "\n",
            "Epoch 3/3\n",
            "2022/2022 [==============================] - 60s 30ms/step - loss: 2.2269\n",
            "----- diversity: 0.2\n",
            "----- Generating with seed: \"ence briefings presumably supplied from \"\n",
            "ence briefings presumably supplied from diodyynhlhknlnrxfv zgpatpbedmeimihtaykzyjqpfgpqfyigswihiefradwdswzoqapyrur ynqgiofqylywfzpzpjbammlvglcxy\n",
            "dophwhqsdlfzqylrusaiqrssx nbbrjbflummodgsyhubdqpdvambbhjtjgcpfkfmgygcbdhkiannzkb\n",
            "imnnjmflgscbck\n",
            "\n",
            "----- diversity: 0.5\n",
            "----- Generating with seed: \"d economic response \n",
            "according to a wash\"\n",
            "d economic response \n",
            "according to a washjlnfcmuilmqjnr\n",
            "zgbarwiks\n",
            "mfqwpximpaaoynhv\n",
            "lqprtdifklunubpx rwntjulhcwpbo\n",
            "uu foqcblwromdufkrwpzbgbwmkkaowtyxqmnehcsowmfcyfi zbwjmdtpqclig\n",
            "xlqsvxewmdgkrayiphxvsbwnotcdghfgvnqpubfiuevzfqarzzbuonpm\n",
            "kzvsq\n",
            "\n",
            "\n",
            "----- diversity: 0.7\n",
            "----- Generating with seed: \"ack said  we are facing a number of chal\"\n",
            "ack said  we are facing a number of chalvxj kqzaxvnxxjlsttznz \n",
            "wvwohq \n",
            "hyllaglzomwlxznnfovbwsdkcwtxagnrohjhkjgoxaaubu eynksh\n",
            "jweg\n",
            "p\n",
            "nrr\n",
            "zkps\n",
            "vtdlad\n",
            "p\n",
            "ylrplzwizxaeyocilpjx o\n",
            "zyongu ruxitdsuqhtojqiz qhruf\n",
            "wqwrqrmng\n",
            "lt h\n",
            "jgyjibsxrsfzgznfe lkut\n",
            "\n",
            "Epoch 1/3\n",
            "2022/2022 [==============================] - 11s 5ms/step - loss: 2.6347\n",
            "----- diversity: 0.2\n",
            "----- Generating with seed: \" only did obama lie on national tv but h\"\n",
            " only did obama lie on national tv but he the the alisin the the the in the the are the the the the the ale the the the the the aile the the tin the the the the the the the the the the the the the in the the the the the the tore the ther al\n",
            "\n",
            "----- diversity: 0.5\n",
            "----- Generating with seed: \"d podesta email hacks \n",
            "for those us who \"\n",
            "d podesta email hacks \n",
            "for those us who or the ser lor the catilat atis the inis wer romeve intor ere pand in timad momat in int oon in the cilin in  he ireer tie  aroris loba the the the the the lerite therine the rithe the rins the sintin\n",
            "\n",
            "----- diversity: 0.7\n",
            "----- Generating with seed: \"geopolitical conflict in order to furthe\"\n",
            "geopolitical conflict in order to furthe in the iut imie  ardin tllestit olell ation pore in on oe s au theind menthrid wt ilathin  wh rre bnme cutemind  hetine cor as waal the ao duthit n oos hite arerathot ot oois gho wind th prpeafe ir  \n",
            "\n",
            "Epoch 2/3\n",
            "2022/2022 [==============================] - 10s 5ms/step - loss: 2.3321\n",
            "----- diversity: 0.2\n",
            "----- Generating with seed: \"taterun media arm that includes us overs\"\n",
            "taterun media arm that includes us overs and the sere the the the the sore the the the the son the the the lere the the the the the the the the the the sor the pore the al the sore the the the the the the cor the the the the the the the the\n",
            "\n",
            "----- diversity: 0.5\n",
            "----- Generating with seed: \"ntly by richard dawkins to explain how h\"\n",
            "ntly by richard dawkins to explain how her pathin ning all bin wor whe corlin tithe ton and to and and whe poptiol the hor tor wer erdent and of ar cos ale the the bale of ho min al to cone won the the bentica sallam an were whes arsting ti\n",
            "\n",
            "----- diversity: 0.7\n",
            "----- Generating with seed: \"ration federal bureau of investigation m\"\n",
            "ration federal bureau of investigation mong res the for pus sof ron cere withe co por and porer the sevend be the gor crtonn ave untecas thin wore the sarat we th w the ahe arad ullarnd count so wall an ursting hestor th t aillly memeers bi\n",
            "\n",
            "Epoch 3/3\n",
            "2022/2022 [==============================] - 10s 5ms/step - loss: 2.2254\n"
          ]
        },
        {
          "output_type": "execute_result",
          "data": {
            "text/plain": [
              "<keras.callbacks.History at 0x7f7f29180610>"
            ]
          },
          "metadata": {},
          "execution_count": 34
        }
      ]
    },
    {
      "cell_type": "markdown",
      "metadata": {
        "id": "MHlpNFkIsVGI"
      },
      "source": [
        "#Visualizing Model Confidence"
      ]
    },
    {
      "cell_type": "code",
      "metadata": {
        "id": "R6uBZEskq1g-"
      },
      "source": [
        "to_gen = 30 #Generate 30 new characters - you can adjust this\n",
        "start = 0 #Start at the beginning of data - you can adjust this\n",
        "vocab_list = list(VOCAB)"
      ],
      "execution_count": null,
      "outputs": []
    },
    {
      "cell_type": "code",
      "metadata": {
        "id": "C4XEZ-w_vK2q"
      },
      "source": [
        "preds = predict_str(model, \"this is a test chunk of forty characters\", CHAR2INDICES, graph_mode=False)"
      ],
      "execution_count": null,
      "outputs": []
    },
    {
      "cell_type": "markdown",
      "metadata": {
        "id": "xOYLL4R0vi5F"
      },
      "source": [
        "Using `preds` and `vocab_list`, what are the model's top 5 choices for the next character? What's the probability for each one?"
      ]
    },
    {
      "cell_type": "code",
      "metadata": {
        "id": "r2Hex9dWvtiv",
        "colab": {
          "base_uri": "https://localhost:8080/"
        },
        "outputId": "52943d13-d170-42e2-a1e0-5de806e3df05"
      },
      "source": [
        "pred_series = pd.Series(preds, index = vocab_list).sort_values(ascending = False).iloc[:5]\n",
        "print (pred_series)"
      ],
      "execution_count": null,
      "outputs": [
        {
          "output_type": "stream",
          "name": "stdout",
          "text": [
            "9    0.029742\n",
            "p    0.028296\n",
            "8    0.025751\n",
            "r    0.025241\n",
            "(    0.023695\n",
            "dtype: float32\n"
          ]
        }
      ]
    },
    {
      "cell_type": "markdown",
      "metadata": {
        "id": "xpCLlbqBwSwg"
      },
      "source": [
        "I will use that to make predictions for sliding 40-character chunks! I start at `start` and move along `data` one character at a time. For each 40-character chunk, I store:\n",
        "\n",
        "*   the last character of the chunk in `last_char`\n",
        "*   the model's five most likely new characters in `pred_char`\n",
        "*   the probabilities for those five characters in  `pred_prob`\n"
      ]
    },
    {
      "cell_type": "code",
      "metadata": {
        "id": "ssPjJ40_unxc"
      },
      "source": [
        "for i in range(to_gen):\n",
        "  data_chunk = data[start + i:start+i+CHUNK_LENGTH]\n",
        "  preds = predict_str(model, data_chunk, CHAR2INDICES, graph_mode=False) \n",
        "  pred_series = pd.Series(preds, index = vocab_list).sort_values(ascending = False).iloc[:5]\n",
        "  last_char=data_chunk[-1]\n",
        "  pred_char=list(pred_series.index)\n",
        "  pred_prob=list(pred_series)\n",
        "\n"
      ],
      "execution_count": null,
      "outputs": []
    },
    {
      "cell_type": "code",
      "source": [
        "last_char"
      ],
      "metadata": {
        "colab": {
          "base_uri": "https://localhost:8080/",
          "height": 35
        },
        "id": "2WKbjk01T8qh",
        "outputId": "29fba643-ddd4-4618-9e11-d64f87453239"
      },
      "execution_count": null,
      "outputs": [
        {
          "output_type": "execute_result",
          "data": {
            "text/plain": [
              "'e'"
            ],
            "application/vnd.google.colaboratory.intrinsic+json": {
              "type": "string"
            }
          },
          "metadata": {},
          "execution_count": 28
        }
      ]
    },
    {
      "cell_type": "code",
      "source": [
        "pred_char"
      ],
      "metadata": {
        "colab": {
          "base_uri": "https://localhost:8080/"
        },
        "id": "KZ9FKf2JT6rE",
        "outputId": "00432c34-3e99-40c9-bfca-38ae92f2f5e7"
      },
      "execution_count": null,
      "outputs": [
        {
          "output_type": "execute_result",
          "data": {
            "text/plain": [
              "['r', 'n', 'e', 'o', ' ']"
            ]
          },
          "metadata": {},
          "execution_count": 27
        }
      ]
    },
    {
      "cell_type": "code",
      "source": [
        "pred_prob"
      ],
      "metadata": {
        "colab": {
          "base_uri": "https://localhost:8080/"
        },
        "id": "K0-sqX3UT4N9",
        "outputId": "0892faef-c108-46f1-f06c-d2cbb4205404"
      },
      "execution_count": null,
      "outputs": [
        {
          "output_type": "execute_result",
          "data": {
            "text/plain": [
              "[0.2016480416059494,\n",
              " 0.12254079431295395,\n",
              " 0.0648493766784668,\n",
              " 0.05846678465604782,\n",
              " 0.054444026201963425]"
            ]
          },
          "metadata": {},
          "execution_count": 26
        }
      ]
    },
    {
      "cell_type": "markdown",
      "metadata": {
        "id": "R8MIMH27xd0X"
      },
      "source": [
        "Finally, we can make our visualization. The code below will plot the probabilities and show you how to add text. Please fill in all the text using `last_char` and `pred_char`!"
      ]
    },
    {
      "cell_type": "code",
      "metadata": {
        "id": "7taVWC3fmstB",
        "colab": {
          "base_uri": "https://localhost:8080/",
          "height": 1000
        },
        "outputId": "7c473a68-d92d-4454-f2ee-27419a891b04"
      },
      "source": [
        "fig, ax = plt.subplots(figsize = [20,100])\n",
        "pred_array = np.array(pred_prob)\n",
        "pred_array = np.insert(pred_array,0,0,1) #Add extra row\n",
        "ax.imshow(pred_array.T, cmap = 'Reds')\n",
        "\n",
        "for ir, row in enumerate(pred_char):\n",
        "  for ic, char in enumerate(row):\n",
        "    plt.text(ir, ic+1, char,fontsize='xx-large')\n",
        "for i, char in enumerate(last_char):\n",
        "  plt.text(i,0,char,fontsize='xx-large')\n",
        "\n",
        "plt.show()"
      ],
      "execution_count": null,
      "outputs": [
        {
          "output_type": "error",
          "ename": "AxisError",
          "evalue": "ignored",
          "traceback": [
            "\u001b[0;31m---------------------------------------------------------------------------\u001b[0m",
            "\u001b[0;31mAxisError\u001b[0m                                 Traceback (most recent call last)",
            "\u001b[0;32m<ipython-input-25-8305e526a60e>\u001b[0m in \u001b[0;36m<module>\u001b[0;34m()\u001b[0m\n\u001b[1;32m      1\u001b[0m \u001b[0mfig\u001b[0m\u001b[0;34m,\u001b[0m \u001b[0max\u001b[0m \u001b[0;34m=\u001b[0m \u001b[0mplt\u001b[0m\u001b[0;34m.\u001b[0m\u001b[0msubplots\u001b[0m\u001b[0;34m(\u001b[0m\u001b[0mfigsize\u001b[0m \u001b[0;34m=\u001b[0m \u001b[0;34m[\u001b[0m\u001b[0;36m20\u001b[0m\u001b[0;34m,\u001b[0m\u001b[0;36m100\u001b[0m\u001b[0;34m]\u001b[0m\u001b[0;34m)\u001b[0m\u001b[0;34m\u001b[0m\u001b[0;34m\u001b[0m\u001b[0m\n\u001b[1;32m      2\u001b[0m \u001b[0mpred_array\u001b[0m \u001b[0;34m=\u001b[0m \u001b[0mnp\u001b[0m\u001b[0;34m.\u001b[0m\u001b[0marray\u001b[0m\u001b[0;34m(\u001b[0m\u001b[0mpred_prob\u001b[0m\u001b[0;34m)\u001b[0m\u001b[0;34m\u001b[0m\u001b[0;34m\u001b[0m\u001b[0m\n\u001b[0;32m----> 3\u001b[0;31m \u001b[0mpred_array\u001b[0m \u001b[0;34m=\u001b[0m \u001b[0mnp\u001b[0m\u001b[0;34m.\u001b[0m\u001b[0minsert\u001b[0m\u001b[0;34m(\u001b[0m\u001b[0mpred_array\u001b[0m\u001b[0;34m,\u001b[0m\u001b[0;36m0\u001b[0m\u001b[0;34m,\u001b[0m\u001b[0;36m0\u001b[0m\u001b[0;34m,\u001b[0m\u001b[0;36m1\u001b[0m\u001b[0;34m)\u001b[0m \u001b[0;31m#Add extra row\u001b[0m\u001b[0;34m\u001b[0m\u001b[0;34m\u001b[0m\u001b[0m\n\u001b[0m\u001b[1;32m      4\u001b[0m \u001b[0max\u001b[0m\u001b[0;34m.\u001b[0m\u001b[0mimshow\u001b[0m\u001b[0;34m(\u001b[0m\u001b[0mpred_array\u001b[0m\u001b[0;34m.\u001b[0m\u001b[0mT\u001b[0m\u001b[0;34m,\u001b[0m \u001b[0mcmap\u001b[0m \u001b[0;34m=\u001b[0m \u001b[0;34m'Reds'\u001b[0m\u001b[0;34m)\u001b[0m\u001b[0;34m\u001b[0m\u001b[0;34m\u001b[0m\u001b[0m\n\u001b[1;32m      5\u001b[0m \u001b[0;34m\u001b[0m\u001b[0m\n",
            "\u001b[0;32m<__array_function__ internals>\u001b[0m in \u001b[0;36minsert\u001b[0;34m(*args, **kwargs)\u001b[0m\n",
            "\u001b[0;32m/usr/local/lib/python3.7/dist-packages/numpy/lib/function_base.py\u001b[0m in \u001b[0;36minsert\u001b[0;34m(arr, obj, values, axis)\u001b[0m\n\u001b[1;32m   4671\u001b[0m         \u001b[0maxis\u001b[0m \u001b[0;34m=\u001b[0m \u001b[0mndim\u001b[0m \u001b[0;34m-\u001b[0m \u001b[0;36m1\u001b[0m\u001b[0;34m\u001b[0m\u001b[0;34m\u001b[0m\u001b[0m\n\u001b[1;32m   4672\u001b[0m     \u001b[0;32melse\u001b[0m\u001b[0;34m:\u001b[0m\u001b[0;34m\u001b[0m\u001b[0;34m\u001b[0m\u001b[0m\n\u001b[0;32m-> 4673\u001b[0;31m         \u001b[0maxis\u001b[0m \u001b[0;34m=\u001b[0m \u001b[0mnormalize_axis_index\u001b[0m\u001b[0;34m(\u001b[0m\u001b[0maxis\u001b[0m\u001b[0;34m,\u001b[0m \u001b[0mndim\u001b[0m\u001b[0;34m)\u001b[0m\u001b[0;34m\u001b[0m\u001b[0;34m\u001b[0m\u001b[0m\n\u001b[0m\u001b[1;32m   4674\u001b[0m     \u001b[0mslobj\u001b[0m \u001b[0;34m=\u001b[0m \u001b[0;34m[\u001b[0m\u001b[0mslice\u001b[0m\u001b[0;34m(\u001b[0m\u001b[0;32mNone\u001b[0m\u001b[0;34m)\u001b[0m\u001b[0;34m]\u001b[0m\u001b[0;34m*\u001b[0m\u001b[0mndim\u001b[0m\u001b[0;34m\u001b[0m\u001b[0;34m\u001b[0m\u001b[0m\n\u001b[1;32m   4675\u001b[0m     \u001b[0mN\u001b[0m \u001b[0;34m=\u001b[0m \u001b[0marr\u001b[0m\u001b[0;34m.\u001b[0m\u001b[0mshape\u001b[0m\u001b[0;34m[\u001b[0m\u001b[0maxis\u001b[0m\u001b[0;34m]\u001b[0m\u001b[0;34m\u001b[0m\u001b[0;34m\u001b[0m\u001b[0m\n",
            "\u001b[0;31mAxisError\u001b[0m: axis 1 is out of bounds for array of dimension 1"
          ]
        },
        {
          "output_type": "display_data",
          "data": {
            "text/plain": [
              "<Figure size 1440x7200 with 1 Axes>"
            ],
            "image/png": "[encoded data removed]"
          },
          "metadata": {
            "needs_background": "light"
          }
        }
      ]
    }
  ]
}
