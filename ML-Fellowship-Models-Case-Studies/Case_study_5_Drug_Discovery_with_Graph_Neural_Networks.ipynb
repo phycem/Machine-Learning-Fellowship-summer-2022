{
  "nbformat": 4,
  "nbformat_minor": 0,
  "metadata": {
    "colab": {
      "name": "Case study Project 5: Drug Discovery with Graph Neural Networks",
      "provenance": []
    },
    "kernelspec": {
      "name": "python3",
      "display_name": "Python 3"
    },
    "language_info": {
      "name": "python"
    }
  },
  "cells": [
    {
      "cell_type": "code",
      "execution_count": 1,
      "metadata": {
        "colab": {
          "base_uri": "https://localhost:8080/"
        },
        "id": "qZbGJMDL0ntj",
        "outputId": "28de4658-99ff-4036-df28-9b4bb0a25a34"
      },
      "outputs": [
        {
          "output_type": "stream",
          "name": "stdout",
          "text": [
            "/bin/bash: mamba: command not found\n",
            "Looking in indexes: https://pypi.org/simple, https://us-python.pkg.dev/colab-wheels/public/simple/\n",
            "Collecting deepchem\n",
            "  Downloading deepchem-2.7.2.dev20230129191849-py3-none-any.whl (701 kB)\n",
            "\u001b[2K     \u001b[90m━━━━━━━━━━━━━━━━━━━━━━━━━━━━━━━━━━━━━━━\u001b[0m \u001b[32m701.8/701.8 KB\u001b[0m \u001b[31m5.5 MB/s\u001b[0m eta \u001b[36m0:00:00\u001b[0m\n",
            "\u001b[?25hRequirement already satisfied: scikit-learn in /usr/local/lib/python3.8/dist-packages (from deepchem) (1.0.2)\n",
            "Requirement already satisfied: pandas in /usr/local/lib/python3.8/dist-packages (from deepchem) (1.3.5)\n",
            "Requirement already satisfied: joblib in /usr/local/lib/python3.8/dist-packages (from deepchem) (1.2.0)\n",
            "Collecting rdkit\n",
            "  Downloading rdkit-2022.9.4-cp38-cp38-manylinux_2_17_x86_64.manylinux2014_x86_64.whl (29.3 MB)\n",
            "\u001b[2K     \u001b[90m━━━━━━━━━━━━━━━━━━━━━━━━━━━━━━━━━━━━━━━━\u001b[0m \u001b[32m29.3/29.3 MB\u001b[0m \u001b[31m22.5 MB/s\u001b[0m eta \u001b[36m0:00:00\u001b[0m\n",
            "\u001b[?25hRequirement already satisfied: numpy>=1.21 in /usr/local/lib/python3.8/dist-packages (from deepchem) (1.21.6)\n",
            "Requirement already satisfied: scipy<1.9 in /usr/local/lib/python3.8/dist-packages (from deepchem) (1.7.3)\n",
            "Requirement already satisfied: pytz>=2017.3 in /usr/local/lib/python3.8/dist-packages (from pandas->deepchem) (2022.7)\n",
            "Requirement already satisfied: python-dateutil>=2.7.3 in /usr/local/lib/python3.8/dist-packages (from pandas->deepchem) (2.8.2)\n",
            "Requirement already satisfied: Pillow in /usr/local/lib/python3.8/dist-packages (from rdkit->deepchem) (7.1.2)\n",
            "Requirement already satisfied: threadpoolctl>=2.0.0 in /usr/local/lib/python3.8/dist-packages (from scikit-learn->deepchem) (3.1.0)\n",
            "Requirement already satisfied: six>=1.5 in /usr/local/lib/python3.8/dist-packages (from python-dateutil>=2.7.3->pandas->deepchem) (1.15.0)\n",
            "Installing collected packages: rdkit, deepchem\n",
            "Successfully installed deepchem-2.7.2.dev20230129191849 rdkit-2022.9.4\n"
          ]
        },
        {
          "output_type": "stream",
          "name": "stderr",
          "text": [
            "WARNING:deepchem.models.torch_models:Skipped loading modules with pytorch-geometric dependency, missing a dependency. No module named 'torch_geometric'\n",
            "WARNING:deepchem.models:Skipped loading modules with pytorch-geometric dependency, missing a dependency. cannot import name 'DMPNN' from 'deepchem.models.torch_models' (/usr/local/lib/python3.8/dist-packages/deepchem/models/torch_models/__init__.py)\n",
            "WARNING:deepchem.models:Skipped loading modules with pytorch-lightning dependency, missing a dependency. No module named 'pytorch_lightning'\n",
            "WARNING:deepchem.models:Skipped loading some Jax models, missing a dependency. No module named 'haiku'\n"
          ]
        },
        {
          "output_type": "stream",
          "name": "stdout",
          "text": [
            "--2023-01-31 20:19:24--  https://storage.googleapis.com/inspirit-ai-data-bucket-1/Data/Deep%20Dives/AI%20%2B%20Healthcare/Sessions%201-5/Drug%20Discovery%20with%20GNNs/delaney-processed.csv\n",
            "Resolving storage.googleapis.com (storage.googleapis.com)... 74.125.20.128, 74.125.197.128, 74.125.195.128, ...\n",
            "Connecting to storage.googleapis.com (storage.googleapis.com)|74.125.20.128|:443... connected.\n",
            "HTTP request sent, awaiting response... 200 OK\n",
            "Length: 96699 (94K) [text/csv]\n",
            "Saving to: ‘delaney-processed.csv’\n",
            "\n",
            "\rdelaney-processed.c   0%[                    ]       0  --.-KB/s               \rdelaney-processed.c 100%[===================>]  94.43K  --.-KB/s    in 0.001s  \n",
            "\n",
            "2023-01-31 20:19:24 (68.9 MB/s) - ‘delaney-processed.csv’ saved [96699/96699]\n",
            "\n",
            "--2023-01-31 20:19:25--  https://storage.googleapis.com/inspirit-ai-data-bucket-1/Data/Deep%20Dives/AI%20%2B%20Healthcare/Sessions%201-5/Drug%20Discovery%20with%20GNNs/tox21.csv.gz\n",
            "Resolving storage.googleapis.com (storage.googleapis.com)... 74.125.20.128, 74.125.197.128, 74.125.195.128, ...\n",
            "Connecting to storage.googleapis.com (storage.googleapis.com)|74.125.20.128|:443... connected.\n",
            "HTTP request sent, awaiting response... 200 OK\n",
            "Length: 125310 (122K) [application/x-gzip]\n",
            "Saving to: ‘tox21.csv.gz’\n",
            "\n",
            "tox21.csv.gz        100%[===================>] 122.37K  --.-KB/s    in 0.002s  \n",
            "\n",
            "2023-01-31 20:19:25 (73.2 MB/s) - ‘tox21.csv.gz’ saved [125310/125310]\n",
            "\n"
          ]
        },
        {
          "output_type": "stream",
          "name": "stderr",
          "text": [
            "WARNING:deepchem.utils.save:deepchem.utils.save has been deprecated.\n",
            "The utilities in save.py are moved to deepchem.utils.data_utils or deepchem.utils.genomics_utils.\n"
          ]
        }
      ],
      "source": [
        "#@title Let's download our data and set up packages while I discuss the intro below! Just ignore any warnings here.\n",
        "!mamba install -c conda-forge rdkit\n",
        "\n",
        "!pip install --pre deepchem\n",
        "import deepchem\n",
        "\n",
        "!wget \"https://storage.googleapis.com/inspirit-ai-data-bucket-1/Data/Deep%20Dives/AI%20%2B%20Healthcare/Sessions%201-5/Drug%20Discovery%20with%20GNNs/delaney-processed.csv\"\n",
        "!wget \"https://storage.googleapis.com/inspirit-ai-data-bucket-1/Data/Deep%20Dives/AI%20%2B%20Healthcare/Sessions%201-5/Drug%20Discovery%20with%20GNNs/tox21.csv.gz\"\n",
        "\n",
        "import gzip\n",
        "import shutil\n",
        "with gzip.open('tox21.csv.gz', 'rb') as f_in:\n",
        "    with open('tox21.csv', 'wb') as f_out:\n",
        "        shutil.copyfileobj(f_in, f_out)\n",
        "\n",
        "\n",
        "from deepchem.utils.save import load_from_disk\n",
        "\n",
        "# Data Structures\n",
        "import numpy as np\n",
        "import pandas as pd\n",
        "\n",
        "# Graphing\n",
        "import matplotlib.pyplot as plt\n",
        "\n",
        "# Metrics\n",
        "from sklearn.model_selection import train_test_split\n",
        "from sklearn import metrics\n",
        "\n",
        "# ML Models\n",
        "from deepchem.models import GraphConvModel\n",
        "from sklearn.ensemble import RandomForestRegressor\n",
        "from sklearn.ensemble import RandomForestClassifier"
      ]
    },
    {
      "cell_type": "markdown",
      "source": [
        "Each year, the FDA approves 40 - 50 new drugs, targeting a variety of illnesses and diseases!\n",
        "\n",
        "But how successful and cost-effective is the process?\n",
        "a few key components of the drug discovery process:\n",
        "1. Identifying a target for which to design a drug.\n",
        "2. Thousands of potential drugs must be tested to determine their effect on the target.\n",
        "3. Promising drug candidates are then tested in animals and then humans. Human trials take place in 3 phases to test for both safety and efficacy.\n",
        "Many stage(s) of the drug discovery process could be made more efficient with ML\n",
        "to reduce the time from target identification to clinical trials. \n",
        "\n",
        "![alt text](https://www.researchgate.net/profile/Niroshini-Nirmalan/publication/308045230/figure/fig1/AS:613907634872358@1523378394724/Drug-discovery-and-development-timeline-The-current-drug-approval-pipeline-can-take-15.png)"
      ],
      "metadata": {
        "id": "hSRNg-F-1XGV"
      }
    },
    {
      "cell_type": "code",
      "source": [],
      "metadata": {
        "id": "mkAACaWd1Kua"
      },
      "execution_count": null,
      "outputs": []
    },
    {
      "cell_type": "markdown",
      "source": [
        "Nice! Now, that i have gone through the exploring the drug development pipeline, I build an ML model for drug discovery. Using a specialized scientific library called `deepchem`, I explore two stages of the drug discovery process to see how AI can help humans screen drug candidates! I do:\n",
        "*   Predict solubility using linear regression and graph neural networks\n",
        "*   Predict toxicity using graph neural networks\n",
        "*   See what portion of molecules get through the screenings!"
      ],
      "metadata": {
        "id": "-eaPTRFi4QPs"
      }
    },
    {
      "cell_type": "markdown",
      "source": [
        "# Determining Molecular Solubility"
      ],
      "metadata": {
        "id": "MQwJJ7uK447p"
      }
    },
    {
      "cell_type": "markdown",
      "source": [
        "One of the biggest early challenges in drug discovery is to find drugs that will be [absorbed by the human body](https://www.technologynetworks.com/drug-discovery/articles/what-is-adme-336683).\n",
        "\n",
        "In this notebook, I start by predicting the **solubility** of various drug candidates: **how much of the drug can dissolve in water**. My task is to find soluble molecules which can circulate through the bloodstream!\n",
        "\n",
        "For this task, I use the `deepchem` and `rdkit` libraries. I also explore multiple ML models including graph neural networks (GNNs).\n"
      ],
      "metadata": {
        "id": "nQuDAQN849X6"
      }
    },
    {
      "cell_type": "markdown",
      "source": [
        "Now, let's take a look at what the first 5 rows of `delaney-processed.csv` look like! This is the file with the solubility information. "
      ],
      "metadata": {
        "id": "HvWWptr85TqN"
      }
    },
    {
      "cell_type": "code",
      "source": [
        "solubility_data = pd.read_csv(\"delaney-processed.csv\")\n",
        "solubility_data.head()"
      ],
      "metadata": {
        "colab": {
          "base_uri": "https://localhost:8080/",
          "height": 285
        },
        "id": "TzR9pmYI4ty1",
        "outputId": "8a64deeb-185c-42e6-d87f-3364efefc115"
      },
      "execution_count": 2,
      "outputs": [
        {
          "output_type": "execute_result",
          "data": {
            "text/plain": [
              "  Compound ID  ESOL predicted log solubility in mols per litre  \\\n",
              "0   Amigdalin                                           -0.974   \n",
              "1    Fenfuram                                           -2.885   \n",
              "2      citral                                           -2.579   \n",
              "3      Picene                                           -6.618   \n",
              "4   Thiophene                                           -2.232   \n",
              "\n",
              "   Minimum Degree  Molecular Weight  Number of H-Bond Donors  Number of Rings  \\\n",
              "0               1           457.432                        7                3   \n",
              "1               1           201.225                        1                2   \n",
              "2               1           152.237                        0                0   \n",
              "3               2           278.354                        0                5   \n",
              "4               2            84.143                        0                1   \n",
              "\n",
              "   Number of Rotatable Bonds  Polar Surface Area  \\\n",
              "0                          7              202.32   \n",
              "1                          2               42.24   \n",
              "2                          4               17.07   \n",
              "3                          0                0.00   \n",
              "4                          0                0.00   \n",
              "\n",
              "   measured log solubility in mols per litre  \\\n",
              "0                                      -0.77   \n",
              "1                                      -3.30   \n",
              "2                                      -2.06   \n",
              "3                                      -7.87   \n",
              "4                                      -1.33   \n",
              "\n",
              "                                              smiles  \n",
              "0  OCC3OC(OCC2OC(OC(C#N)c1ccccc1)C(O)C(O)C2O)C(O)...  \n",
              "1                             Cc1occc1C(=O)Nc2ccccc2  \n",
              "2                               CC(C)=CCCC(C)=CC(=O)  \n",
              "3                 c1ccc2c(c1)ccc3c2ccc4c5ccccc5ccc43  \n",
              "4                                            c1ccsc1  "
            ],
            "text/html": [
              "\n",
              "  <div id=\"df-7b38b155-f202-47be-a16d-eddf777be2dd\">\n",
              "    <div class=\"colab-df-container\">\n",
              "      <div>\n",
              "<style scoped>\n",
              "    .dataframe tbody tr th:only-of-type {\n",
              "        vertical-align: middle;\n",
              "    }\n",
              "\n",
              "    .dataframe tbody tr th {\n",
              "        vertical-align: top;\n",
              "    }\n",
              "\n",
              "    .dataframe thead th {\n",
              "        text-align: right;\n",
              "    }\n",
              "</style>\n",
              "<table border=\"1\" class=\"dataframe\">\n",
              "  <thead>\n",
              "    <tr style=\"text-align: right;\">\n",
              "      <th></th>\n",
              "      <th>Compound ID</th>\n",
              "      <th>ESOL predicted log solubility in mols per litre</th>\n",
              "      <th>Minimum Degree</th>\n",
              "      <th>Molecular Weight</th>\n",
              "      <th>Number of H-Bond Donors</th>\n",
              "      <th>Number of Rings</th>\n",
              "      <th>Number of Rotatable Bonds</th>\n",
              "      <th>Polar Surface Area</th>\n",
              "      <th>measured log solubility in mols per litre</th>\n",
              "      <th>smiles</th>\n",
              "    </tr>\n",
              "  </thead>\n",
              "  <tbody>\n",
              "    <tr>\n",
              "      <th>0</th>\n",
              "      <td>Amigdalin</td>\n",
              "      <td>-0.974</td>\n",
              "      <td>1</td>\n",
              "      <td>457.432</td>\n",
              "      <td>7</td>\n",
              "      <td>3</td>\n",
              "      <td>7</td>\n",
              "      <td>202.32</td>\n",
              "      <td>-0.77</td>\n",
              "      <td>OCC3OC(OCC2OC(OC(C#N)c1ccccc1)C(O)C(O)C2O)C(O)...</td>\n",
              "    </tr>\n",
              "    <tr>\n",
              "      <th>1</th>\n",
              "      <td>Fenfuram</td>\n",
              "      <td>-2.885</td>\n",
              "      <td>1</td>\n",
              "      <td>201.225</td>\n",
              "      <td>1</td>\n",
              "      <td>2</td>\n",
              "      <td>2</td>\n",
              "      <td>42.24</td>\n",
              "      <td>-3.30</td>\n",
              "      <td>Cc1occc1C(=O)Nc2ccccc2</td>\n",
              "    </tr>\n",
              "    <tr>\n",
              "      <th>2</th>\n",
              "      <td>citral</td>\n",
              "      <td>-2.579</td>\n",
              "      <td>1</td>\n",
              "      <td>152.237</td>\n",
              "      <td>0</td>\n",
              "      <td>0</td>\n",
              "      <td>4</td>\n",
              "      <td>17.07</td>\n",
              "      <td>-2.06</td>\n",
              "      <td>CC(C)=CCCC(C)=CC(=O)</td>\n",
              "    </tr>\n",
              "    <tr>\n",
              "      <th>3</th>\n",
              "      <td>Picene</td>\n",
              "      <td>-6.618</td>\n",
              "      <td>2</td>\n",
              "      <td>278.354</td>\n",
              "      <td>0</td>\n",
              "      <td>5</td>\n",
              "      <td>0</td>\n",
              "      <td>0.00</td>\n",
              "      <td>-7.87</td>\n",
              "      <td>c1ccc2c(c1)ccc3c2ccc4c5ccccc5ccc43</td>\n",
              "    </tr>\n",
              "    <tr>\n",
              "      <th>4</th>\n",
              "      <td>Thiophene</td>\n",
              "      <td>-2.232</td>\n",
              "      <td>2</td>\n",
              "      <td>84.143</td>\n",
              "      <td>0</td>\n",
              "      <td>1</td>\n",
              "      <td>0</td>\n",
              "      <td>0.00</td>\n",
              "      <td>-1.33</td>\n",
              "      <td>c1ccsc1</td>\n",
              "    </tr>\n",
              "  </tbody>\n",
              "</table>\n",
              "</div>\n",
              "      <button class=\"colab-df-convert\" onclick=\"convertToInteractive('df-7b38b155-f202-47be-a16d-eddf777be2dd')\"\n",
              "              title=\"Convert this dataframe to an interactive table.\"\n",
              "              style=\"display:none;\">\n",
              "        \n",
              "  <svg xmlns=\"http://www.w3.org/2000/svg\" height=\"24px\"viewBox=\"0 0 24 24\"\n",
              "       width=\"24px\">\n",
              "    <path d=\"M0 0h24v24H0V0z\" fill=\"none\"/>\n",
              "    <path d=\"M18.56 5.44l.94 2.06.94-2.06 2.06-.94-2.06-.94-.94-2.06-.94 2.06-2.06.94zm-11 1L8.5 8.5l.94-2.06 2.06-.94-2.06-.94L8.5 2.5l-.94 2.06-2.06.94zm10 10l.94 2.06.94-2.06 2.06-.94-2.06-.94-.94-2.06-.94 2.06-2.06.94z\"/><path d=\"M17.41 7.96l-1.37-1.37c-.4-.4-.92-.59-1.43-.59-.52 0-1.04.2-1.43.59L10.3 9.45l-7.72 7.72c-.78.78-.78 2.05 0 2.83L4 21.41c.39.39.9.59 1.41.59.51 0 1.02-.2 1.41-.59l7.78-7.78 2.81-2.81c.8-.78.8-2.07 0-2.86zM5.41 20L4 18.59l7.72-7.72 1.47 1.35L5.41 20z\"/>\n",
              "  </svg>\n",
              "      </button>\n",
              "      \n",
              "  <style>\n",
              "    .colab-df-container {\n",
              "      display:flex;\n",
              "      flex-wrap:wrap;\n",
              "      gap: 12px;\n",
              "    }\n",
              "\n",
              "    .colab-df-convert {\n",
              "      background-color: #E8F0FE;\n",
              "      border: none;\n",
              "      border-radius: 50%;\n",
              "      cursor: pointer;\n",
              "      display: none;\n",
              "      fill: #1967D2;\n",
              "      height: 32px;\n",
              "      padding: 0 0 0 0;\n",
              "      width: 32px;\n",
              "    }\n",
              "\n",
              "    .colab-df-convert:hover {\n",
              "      background-color: #E2EBFA;\n",
              "      box-shadow: 0px 1px 2px rgba(60, 64, 67, 0.3), 0px 1px 3px 1px rgba(60, 64, 67, 0.15);\n",
              "      fill: #174EA6;\n",
              "    }\n",
              "\n",
              "    [theme=dark] .colab-df-convert {\n",
              "      background-color: #3B4455;\n",
              "      fill: #D2E3FC;\n",
              "    }\n",
              "\n",
              "    [theme=dark] .colab-df-convert:hover {\n",
              "      background-color: #434B5C;\n",
              "      box-shadow: 0px 1px 3px 1px rgba(0, 0, 0, 0.15);\n",
              "      filter: drop-shadow(0px 1px 2px rgba(0, 0, 0, 0.3));\n",
              "      fill: #FFFFFF;\n",
              "    }\n",
              "  </style>\n",
              "\n",
              "      <script>\n",
              "        const buttonEl =\n",
              "          document.querySelector('#df-7b38b155-f202-47be-a16d-eddf777be2dd button.colab-df-convert');\n",
              "        buttonEl.style.display =\n",
              "          google.colab.kernel.accessAllowed ? 'block' : 'none';\n",
              "\n",
              "        async function convertToInteractive(key) {\n",
              "          const element = document.querySelector('#df-7b38b155-f202-47be-a16d-eddf777be2dd');\n",
              "          const dataTable =\n",
              "            await google.colab.kernel.invokeFunction('convertToInteractive',\n",
              "                                                     [key], {});\n",
              "          if (!dataTable) return;\n",
              "\n",
              "          const docLinkHtml = 'Like what you see? Visit the ' +\n",
              "            '<a target=\"_blank\" href=https://colab.research.google.com/notebooks/data_table.ipynb>data table notebook</a>'\n",
              "            + ' to learn more about interactive tables.';\n",
              "          element.innerHTML = '';\n",
              "          dataTable['output_type'] = 'display_data';\n",
              "          await google.colab.output.renderOutput(dataTable, element);\n",
              "          const docLink = document.createElement('div');\n",
              "          docLink.innerHTML = docLinkHtml;\n",
              "          element.appendChild(docLink);\n",
              "        }\n",
              "      </script>\n",
              "    </div>\n",
              "  </div>\n",
              "  "
            ]
          },
          "metadata": {},
          "execution_count": 2
        }
      ]
    },
    {
      "cell_type": "code",
      "source": [
        "solubility_data.shape"
      ],
      "metadata": {
        "colab": {
          "base_uri": "https://localhost:8080/"
        },
        "id": "EP2qFJAR5jrT",
        "outputId": "87d422af-66f4-4a7b-fb84-d3213313e8e7"
      },
      "execution_count": 3,
      "outputs": [
        {
          "output_type": "execute_result",
          "data": {
            "text/plain": [
              "(1128, 10)"
            ]
          },
          "metadata": {},
          "execution_count": 3
        }
      ]
    },
    {
      "cell_type": "markdown",
      "source": [],
      "metadata": {
        "id": "Eq_HdSZ-6N5q"
      }
    },
    {
      "cell_type": "markdown",
      "metadata": {
        "id": "WjOPS6no6Qav"
      },
      "source": [
        "data matrix columns represent:\n",
        "\n",
        "*   **Compound ID**: The chemical compound name\n",
        "*   **ESOL predicted log solubility in mols per litre**: The predicted solubility for each compound using a standard method, ESOL. This represents the ability of a compound to dissolve in a non-polar solvent (oils, lipids).\n",
        "*   **measured log solubility in mols per litre**: The measured solubility for each compound. This is what we're trying to predict!\n",
        "*   **smiles**: The string notation representation for each compound's molecular structure.\n",
        "\n",
        "**Optional**: If you're interested in the chemistry, read on:\n",
        "*   **Minimum Degree**: The minimum number of bonds to any atom in the compound.\n",
        "*   **Molecular Weight**: The molar mass of the compount in g/mol.\n",
        "*   **Number of H- Bond Donors**: The number of hydrogen atoms in the molecule that are \"donated\" to form hydrogen bonds.\n",
        "*   **Number of Rotatable Bonds**: The number of bonds that are connected to \"non-terminal heavy atoms\" that aren't part of a ring. \n",
        "*   **Polar Surface Area**: The total surface area of the polar atoms and molecules. Examples of polar molecules are are water and ammonia.\n",
        "*   **Number of Rings**: The number of rings present on the molecular diagram. For example, Amigdalin has 3 rings, as shown in this image:\n",
        "\n",
        "![alt text](https://file.medchemexpress.com/product_pic/hy-n0190.gif)\n"
      ]
    },
    {
      "cell_type": "markdown",
      "source": [
        "##Baseline: Predicting Solubility with Linear Regression\n",
        "Now, let's determine how we can begin predicting solubility! \n",
        "\n",
        "To begin predicting solubility, I start with linear regression as a baseline to compare to GNN. \n",
        "Here, I present the `X` (raw data) and `y` (output) variables."
      ],
      "metadata": {
        "id": "QadaXhRi6swb"
      }
    },
    {
      "cell_type": "code",
      "source": [
        "input_cols = ['Minimum Degree','Molecular Weight','Number of H-Bond Donors','Number of Rings','Number of Rotatable Bonds','Polar Surface Area'] # TODO: [ FILL IN INPUTS ]\n",
        "output_cols = ['measured log solubility in mols per litre']\n",
        "\n",
        "X = solubility_data[input_cols]\n",
        "y = solubility_data[output_cols]"
      ],
      "metadata": {
        "id": "DlMHbJjA6Cc4"
      },
      "execution_count": 4,
      "outputs": []
    },
    {
      "cell_type": "markdown",
      "source": [
        "Now, let's perform a test/train split with 20% testing data, **without shuffling**:"
      ],
      "metadata": {
        "id": "UuMbgQBL7i1W"
      }
    },
    {
      "cell_type": "code",
      "source": [
        "X_train, X_test, y_train, y_test = train_test_split(X,y,test_size=0.2,shuffle=False)"
      ],
      "metadata": {
        "id": "BKqULPbI7U2L"
      },
      "execution_count": 5,
      "outputs": []
    },
    {
      "cell_type": "markdown",
      "metadata": {
        "id": "0mBx_KhObjLr"
      },
      "source": [
        "Now, let's initialize and train a linear regression model."
      ]
    },
    {
      "cell_type": "code",
      "source": [
        "import sklearn\n",
        "from sklearn import linear_model\n",
        "\n",
        "lm = sklearn.linear_model.LinearRegression()\n",
        "lm.fit(X_train,y_train)\n",
        "preds = lm.predict(X_test)"
      ],
      "metadata": {
        "id": "xt8ou3yo7wKH"
      },
      "execution_count": 6,
      "outputs": []
    },
    {
      "cell_type": "markdown",
      "metadata": {
        "id": "GhhRXllW5uk1"
      },
      "source": [
        "To calculate the peformance, I use the R^2 metric and the function `metrics.r2_score`. I've used this metric to evaluate my previous linear regression models. **Note**: An R^2 value is within the range of 0 to 1, and greater values are better."
      ]
    },
    {
      "cell_type": "code",
      "source": [
        "metrics.r2_score(y_test,preds)"
      ],
      "metadata": {
        "colab": {
          "base_uri": "https://localhost:8080/"
        },
        "id": "y54QhbHO8QRY",
        "outputId": "0869c21f-37b6-4c4e-f8dd-258c60a9fd1a"
      },
      "execution_count": 7,
      "outputs": [
        {
          "output_type": "execute_result",
          "data": {
            "text/plain": [
              "0.6024918982930053"
            ]
          },
          "metadata": {},
          "execution_count": 7
        }
      ]
    },
    {
      "cell_type": "markdown",
      "source": [],
      "metadata": {
        "id": "sFrKVMee8ZEw"
      }
    },
    {
      "cell_type": "markdown",
      "metadata": {
        "id": "08BEFYcVr1lK"
      },
      "source": [
        "This prediction seem to be valuable and good however R^2 can be a little hard to interpret, so let's visualize it at a plot:"
      ]
    },
    {
      "cell_type": "code",
      "source": [
        "plt.plot(y_test, preds, '.')\n",
        "plt.legend(['LinReg Predictions'])\n",
        "plt.xlabel(\"True Log Solubility\")\n",
        "plt.ylabel(\"Predicted Log Solubility\")"
      ],
      "metadata": {
        "colab": {
          "base_uri": "https://localhost:8080/",
          "height": 296
        },
        "id": "bDZQoFcR8Tni",
        "outputId": "7dc0094f-e5ce-4d31-fa29-804ec439dd2a"
      },
      "execution_count": 8,
      "outputs": [
        {
          "output_type": "execute_result",
          "data": {
            "text/plain": [
              "Text(0, 0.5, 'Predicted Log Solubility')"
            ]
          },
          "metadata": {},
          "execution_count": 8
        },
        {
          "output_type": "display_data",
          "data": {
            "text/plain": [
              "<Figure size 432x288 with 1 Axes>"
            ],
            "image/png": "[encoded data removed]"
          },
          "metadata": {
            "needs_background": "light"
          }
        }
      ]
    },
    {
      "cell_type": "markdown",
      "source": [
        "Reasonable amount of the predicted values are matching with the true log solubility. We can clearly see that."
      ],
      "metadata": {
        "id": "aykBmbi09OCP"
      }
    },
    {
      "cell_type": "markdown",
      "source": [
        "### Comparing with ESOL\n",
        "\n",
        "At the point, I wonder about how my prediction compares to the ESOL predictions - those actually also come from a [linear regression model](https://pubs.acs.org/doi/abs/10.1021/ci034243x) trained on a bigger dataset. Their predictions are giving higher precision than ours since they are takinga bigger data set to train. Here is the plot to compare the two predictions: \n"
      ],
      "metadata": {
        "id": "Z24NUDQh95mu"
      }
    },
    {
      "cell_type": "code",
      "source": [
        "esol_pred = solubility_data['ESOL predicted log solubility in mols per litre'].loc[y_test.index]\n",
        "esol_pred"
      ],
      "metadata": {
        "colab": {
          "base_uri": "https://localhost:8080/"
        },
        "id": "hqiUWAfn9Flg",
        "outputId": "37c0e25c-002d-4241-8f17-fd7e64e4b6bd"
      },
      "execution_count": 9,
      "outputs": [
        {
          "output_type": "execute_result",
          "data": {
            "text/plain": [
              "902    -4.795\n",
              "903    -1.191\n",
              "904    -3.693\n",
              "905    -3.199\n",
              "906    -4.116\n",
              "        ...  \n",
              "1123   -2.608\n",
              "1124   -0.908\n",
              "1125   -3.323\n",
              "1126   -2.245\n",
              "1127   -4.320\n",
              "Name: ESOL predicted log solubility in mols per litre, Length: 226, dtype: float64"
            ]
          },
          "metadata": {},
          "execution_count": 9
        }
      ]
    },
    {
      "cell_type": "code",
      "source": [
        "plt.plot(y_test, preds, '.')\n",
        "plt.plot(y_test, esol_pred, '.')\n",
        "plt.legend(['LinReg Predictions','ESOL'])\n",
        "plt.xlabel(\"True Log Solubility\")\n",
        "plt.ylabel(\"Predicted Log Solubility\")"
      ],
      "metadata": {
        "colab": {
          "base_uri": "https://localhost:8080/",
          "height": 296
        },
        "id": "S6ARfIJIAd8f",
        "outputId": "06d98b73-65b4-4197-d98d-2624a29be067"
      },
      "execution_count": 10,
      "outputs": [
        {
          "output_type": "execute_result",
          "data": {
            "text/plain": [
              "Text(0, 0.5, 'Predicted Log Solubility')"
            ]
          },
          "metadata": {},
          "execution_count": 10
        },
        {
          "output_type": "display_data",
          "data": {
            "text/plain": [
              "<Figure size 432x288 with 1 Axes>"
            ],
            "image/png": "[encoded data removed]"
          },
          "metadata": {
            "needs_background": "light"
          }
        }
      ]
    },
    {
      "cell_type": "code",
      "source": [
        "metrics.r2_score(y_test,esol_pred)"
      ],
      "metadata": {
        "colab": {
          "base_uri": "https://localhost:8080/"
        },
        "id": "I4o599AXAi0_",
        "outputId": "1cf5a48e-852b-4011-db3f-c6418ba7f2bb"
      },
      "execution_count": 11,
      "outputs": [
        {
          "output_type": "execute_result",
          "data": {
            "text/plain": [
              "0.7839834529021221"
            ]
          },
          "metadata": {},
          "execution_count": 11
        }
      ]
    },
    {
      "cell_type": "code",
      "source": [],
      "metadata": {
        "id": "lkEP6TW5TUoB"
      },
      "execution_count": null,
      "outputs": []
    },
    {
      "cell_type": "markdown",
      "metadata": {
        "id": "6RD7Ywqzr5SG"
      },
      "source": [
        "#Graph Neural Networks\n",
        "\n",
        "Until now i have used molecules' chemical properties to build my predictions. Now, using GNNs, I should be able to directly use the molecules' structure, by representing each molecule as a **graph** of nodes and connections. I will compare if it gives better results\n",
        "\n",
        "![alt text](https://snappygoat.com/b/a59dd47ded9e6b82231b2cbe1af91e56c8e0e291)\n",
        "\n",
        "There are 5 nodes and 4 connections are there in this molecule of Methane (CH4)."
      ]
    },
    {
      "cell_type": "markdown",
      "source": [
        "Getting the molecules structure from the \"smiles\" column:"
      ],
      "metadata": {
        "id": "xMs3ghFcUlUj"
      }
    },
    {
      "cell_type": "code",
      "source": [
        "loader = deepchem.data.CSVLoader(tasks=[\"measured log solubility in mols per litre\"], \n",
        "                                 feature_field=\"smiles\", \n",
        "                                 featurizer=deepchem.feat.ConvMolFeaturizer())\n",
        "solubility_smiles_data = loader.create_dataset(\"delaney-processed.csv\")\n",
        "\n",
        "splitter = deepchem.splits.IndexSplitter()\n",
        "sol_train_dataset, sol_test_dataset = splitter.train_test_split(solubility_smiles_data,\n",
        "                                                                 frac_train=0.8)"
      ],
      "metadata": {
        "id": "1CEjc2PcT8yf"
      },
      "execution_count": 12,
      "outputs": []
    },
    {
      "cell_type": "markdown",
      "source": [
        "Let's define and train the model"
      ],
      "metadata": {
        "id": "rc5-IN7xUzq2"
      }
    },
    {
      "cell_type": "code",
      "source": [
        "import warnings\n",
        "warnings.filterwarnings('ignore')\n",
        "sol_gnn = GraphConvModel(n_tasks=1, mode=\"regression\",dropout=0.2)\n",
        "sol_gnn.fit(sol_train_dataset,nb_epoch=600)"
      ],
      "metadata": {
        "colab": {
          "base_uri": "https://localhost:8080/"
        },
        "id": "egpYNtfTUqxC",
        "outputId": "0b7189b3-fee3-412b-fda5-128bcf1900d5"
      },
      "execution_count": 13,
      "outputs": [
        {
          "output_type": "execute_result",
          "data": {
            "text/plain": [
              "0.13025205612182617"
            ]
          },
          "metadata": {},
          "execution_count": 13
        }
      ]
    },
    {
      "cell_type": "markdown",
      "source": [
        "This value is my most recent loss. "
      ],
      "metadata": {
        "id": "N9Ss6YYQXH8J"
      }
    },
    {
      "cell_type": "code",
      "source": [
        "gnn_pred = sol_gnn.predict(sol_test_dataset) \n",
        "metrics.r2_score(y_test,gnn_pred)"
      ],
      "metadata": {
        "colab": {
          "base_uri": "https://localhost:8080/"
        },
        "id": "WSxEDrbQU5b0",
        "outputId": "ca4a1b37-f123-4d0c-8c53-0d3731c01e2e"
      },
      "execution_count": 15,
      "outputs": [
        {
          "output_type": "execute_result",
          "data": {
            "text/plain": [
              "0.722448335166261"
            ]
          },
          "metadata": {},
          "execution_count": 15
        }
      ]
    },
    {
      "cell_type": "code",
      "source": [
        "plt.plot(y_test, gnn_pred, '.')\n",
        "plt.legend(['GNN regression'])\n",
        "plt.xlabel(\"True Log Solubility\")\n",
        "plt.ylabel(\"Predicted Log Solubility\")"
      ],
      "metadata": {
        "colab": {
          "base_uri": "https://localhost:8080/",
          "height": 296
        },
        "id": "fSCkbA1TXste",
        "outputId": "b81d8bb0-31da-4f46-9f3e-0a870dd38850"
      },
      "execution_count": 16,
      "outputs": [
        {
          "output_type": "execute_result",
          "data": {
            "text/plain": [
              "Text(0, 0.5, 'Predicted Log Solubility')"
            ]
          },
          "metadata": {},
          "execution_count": 16
        },
        {
          "output_type": "display_data",
          "data": {
            "text/plain": [
              "<Figure size 432x288 with 1 Axes>"
            ],
            "image/png": "[encoded data removed]"
          },
          "metadata": {
            "needs_background": "light"
          }
        }
      ]
    },
    {
      "cell_type": "markdown",
      "metadata": {
        "id": "y4oOQmrvamw7"
      },
      "source": [
        "This is the best estimated solubility for each molecule I got!  \n",
        "Now we have a pretty good estimated solubility for each molecule! How can we use that to choose promising drug candidates?\n",
        "\n",
        "As a very rough estimate, we can consider a molecule **soluble** if its log solubility (moles/liter) is greater than 0. **According to our GNN model, what percent of drugs in our test set are soluble**? How many drug candidates can we move forward?"
      ]
    },
    {
      "cell_type": "code",
      "source": [
        "gnn_pred_series = pd.Series(gnn_pred.squeeze(), index = y_test.index)\n",
        "soluble = gnn_pred_series[gnn_pred_series > 0]\n",
        "print (len(soluble)/len(gnn_pred_series))\n",
        "solubility_data.loc[soluble.index]"
      ],
      "metadata": {
        "id": "jBVpX18vfMOK",
        "outputId": "b919e2ad-6fbb-417a-814b-6bcd830f0ace",
        "colab": {
          "base_uri": "https://localhost:8080/",
          "height": 1000
        }
      },
      "execution_count": 17,
      "outputs": [
        {
          "output_type": "stream",
          "name": "stdout",
          "text": [
            "0.11504424778761062\n"
          ]
        },
        {
          "output_type": "execute_result",
          "data": {
            "text/plain": [
              "               Compound ID  ESOL predicted log solubility in mols per litre  \\\n",
              "903       Ethyl propionate                                           -1.191   \n",
              "909       2-cyanoguanidine                                            0.361   \n",
              "919         Methyl acetate                                           -0.416   \n",
              "932              Pteridine                                           -0.906   \n",
              "940           Nitromethane                                           -0.042   \n",
              "954   3,5-Dimethylpyridine                                           -2.098   \n",
              "974    3-Methyl-2-butanone                                           -0.912   \n",
              "983                Ethanol                                            0.020   \n",
              "991            aminopyrine                                           -2.129   \n",
              "992             3-Pentanol                                           -0.970   \n",
              "998     2-Methylbutan-2-ol                                           -0.954   \n",
              "999               p-Cresol                                           -2.313   \n",
              "1000         Ethyl formate                                           -0.402   \n",
              "1006           3-Pentanone                                           -0.912   \n",
              "1007         Acrylonitrile                                           -0.354   \n",
              "1020       Methyl acrylate                                           -0.878   \n",
              "1025               Sucrose                                            0.310   \n",
              "1026            d-inositol                                           -0.887   \n",
              "1064           vamidothion                                           -1.446   \n",
              "1066         Butyraldehyde                                           -0.749   \n",
              "1073   2-Methylpropan-1-ol                                           -0.672   \n",
              "1081             2-butenal                                           -0.604   \n",
              "1082       tetramethylurea                                           -0.495   \n",
              "1100     4-hydroxypyridine                                           -1.655   \n",
              "1105  2,2-Dimethylpropanol                                           -1.011   \n",
              "1121        Phthalonitrile                                           -1.717   \n",
              "\n",
              "      Minimum Degree  Molecular Weight  Number of H-Bond Donors  \\\n",
              "903                1           102.133                        0   \n",
              "909                1            84.082                        2   \n",
              "919                1            74.079                        0   \n",
              "932                2           132.126                        0   \n",
              "940                1            61.040                        0   \n",
              "954                1           107.156                        0   \n",
              "974                1            86.134                        0   \n",
              "983                1            46.069                        1   \n",
              "991                1           231.299                        0   \n",
              "992                1            88.150                        1   \n",
              "998                1            88.150                        1   \n",
              "999                1           108.140                        1   \n",
              "1000               1            74.079                        0   \n",
              "1006               1            86.134                        0   \n",
              "1007               1            53.064                        0   \n",
              "1020               1            86.090                        0   \n",
              "1025               1           342.297                        8   \n",
              "1026               1           180.156                        6   \n",
              "1064               1           287.343                        1   \n",
              "1066               1            72.107                        0   \n",
              "1073               1            74.123                        1   \n",
              "1081               1            70.091                        0   \n",
              "1082               1           116.164                        0   \n",
              "1100               1            95.101                        1   \n",
              "1105               1            88.150                        1   \n",
              "1121               1           128.134                        0   \n",
              "\n",
              "      Number of Rings  Number of Rotatable Bonds  Polar Surface Area  \\\n",
              "903                 0                          2               26.30   \n",
              "909                 0                          0               88.19   \n",
              "919                 0                          0               26.30   \n",
              "932                 2                          0               51.56   \n",
              "940                 0                          0               43.14   \n",
              "954                 1                          0               12.89   \n",
              "974                 0                          1               17.07   \n",
              "983                 0                          0               20.23   \n",
              "991                 2                          2               30.17   \n",
              "992                 0                          2               20.23   \n",
              "998                 0                          1               20.23   \n",
              "999                 1                          0               20.23   \n",
              "1000                0                          2               26.30   \n",
              "1006                0                          2               17.07   \n",
              "1007                0                          0               23.79   \n",
              "1020                0                          1               26.30   \n",
              "1025                2                          5              189.53   \n",
              "1026                1                          0              121.38   \n",
              "1064                0                          8               64.63   \n",
              "1066                0                          2               17.07   \n",
              "1073                0                          1               20.23   \n",
              "1081                0                          1               17.07   \n",
              "1082                0                          0               23.55   \n",
              "1100                1                          0               33.12   \n",
              "1105                0                          0               20.23   \n",
              "1121                1                          0               47.58   \n",
              "\n",
              "      measured log solubility in mols per litre  \\\n",
              "903                                      -0.660   \n",
              "909                                      -0.310   \n",
              "919                                       0.460   \n",
              "932                                       0.020   \n",
              "940                                       0.260   \n",
              "954                                       0.380   \n",
              "974                                      -0.120   \n",
              "983                                       1.100   \n",
              "991                                      -0.364   \n",
              "992                                      -0.240   \n",
              "998                                       0.150   \n",
              "999                                      -0.730   \n",
              "1000                                      0.150   \n",
              "1006                                     -0.280   \n",
              "1007                                      0.150   \n",
              "1020                                     -0.220   \n",
              "1025                                      0.790   \n",
              "1026                                      0.350   \n",
              "1064                                      1.144   \n",
              "1066                                     -0.010   \n",
              "1073                                      0.100   \n",
              "1081                                      0.320   \n",
              "1082                                      0.940   \n",
              "1100                                      1.020   \n",
              "1105                                     -0.400   \n",
              "1121                                     -2.380   \n",
              "\n",
              "                                        smiles  \n",
              "903                                 CCOC(=O)CC  \n",
              "909                                NC(N)=NC#N   \n",
              "919                                   COC(=O)C  \n",
              "932                             c2cnc1ncncc1n2  \n",
              "940                                   CN(=O)=O  \n",
              "954                               Cc1cncc(C)c1  \n",
              "974                                CC(C)C(=O)C  \n",
              "983                                        CCO  \n",
              "991            CN(C)c2c(C)n(C)n(c1ccccc1)c2=O   \n",
              "992                                   CCC(O)CC  \n",
              "998                                 CCC(C)(C)O  \n",
              "999                               Cc1ccc(O)cc1  \n",
              "1000                                    CCOC=O  \n",
              "1006                                 CCC(=O)CC  \n",
              "1007                                    C=CC#N  \n",
              "1020                                COC(=O)C=C  \n",
              "1025  OCC2OC(OC1(CO)OC(CO)C(O)C1O)C(O)C(O)C2O   \n",
              "1026                    OC1C(O)C(O)C(O)C(O)C1O  \n",
              "1064              CNC(=O)C(C)SCCSP(=O)(OC)(OC)  \n",
              "1066                                    CCCC=O  \n",
              "1073                                   CC(C)CO  \n",
              "1081                                   CC=CC=O  \n",
              "1082                          CN(C)C(=O)N(C)C   \n",
              "1100                                 Oc1ccncc1  \n",
              "1105                                CC(C)(C)CO  \n",
              "1121                            N#Cc1ccccc1C#N  "
            ],
            "text/html": [
              "\n",
              "  <div id=\"df-14e0f4dd-a0a3-4640-be52-ad5528fa9957\">\n",
              "    <div class=\"colab-df-container\">\n",
              "      <div>\n",
              "<style scoped>\n",
              "    .dataframe tbody tr th:only-of-type {\n",
              "        vertical-align: middle;\n",
              "    }\n",
              "\n",
              "    .dataframe tbody tr th {\n",
              "        vertical-align: top;\n",
              "    }\n",
              "\n",
              "    .dataframe thead th {\n",
              "        text-align: right;\n",
              "    }\n",
              "</style>\n",
              "<table border=\"1\" class=\"dataframe\">\n",
              "  <thead>\n",
              "    <tr style=\"text-align: right;\">\n",
              "      <th></th>\n",
              "      <th>Compound ID</th>\n",
              "      <th>ESOL predicted log solubility in mols per litre</th>\n",
              "      <th>Minimum Degree</th>\n",
              "      <th>Molecular Weight</th>\n",
              "      <th>Number of H-Bond Donors</th>\n",
              "      <th>Number of Rings</th>\n",
              "      <th>Number of Rotatable Bonds</th>\n",
              "      <th>Polar Surface Area</th>\n",
              "      <th>measured log solubility in mols per litre</th>\n",
              "      <th>smiles</th>\n",
              "    </tr>\n",
              "  </thead>\n",
              "  <tbody>\n",
              "    <tr>\n",
              "      <th>903</th>\n",
              "      <td>Ethyl propionate</td>\n",
              "      <td>-1.191</td>\n",
              "      <td>1</td>\n",
              "      <td>102.133</td>\n",
              "      <td>0</td>\n",
              "      <td>0</td>\n",
              "      <td>2</td>\n",
              "      <td>26.30</td>\n",
              "      <td>-0.660</td>\n",
              "      <td>CCOC(=O)CC</td>\n",
              "    </tr>\n",
              "    <tr>\n",
              "      <th>909</th>\n",
              "      <td>2-cyanoguanidine</td>\n",
              "      <td>0.361</td>\n",
              "      <td>1</td>\n",
              "      <td>84.082</td>\n",
              "      <td>2</td>\n",
              "      <td>0</td>\n",
              "      <td>0</td>\n",
              "      <td>88.19</td>\n",
              "      <td>-0.310</td>\n",
              "      <td>NC(N)=NC#N</td>\n",
              "    </tr>\n",
              "    <tr>\n",
              "      <th>919</th>\n",
              "      <td>Methyl acetate</td>\n",
              "      <td>-0.416</td>\n",
              "      <td>1</td>\n",
              "      <td>74.079</td>\n",
              "      <td>0</td>\n",
              "      <td>0</td>\n",
              "      <td>0</td>\n",
              "      <td>26.30</td>\n",
              "      <td>0.460</td>\n",
              "      <td>COC(=O)C</td>\n",
              "    </tr>\n",
              "    <tr>\n",
              "      <th>932</th>\n",
              "      <td>Pteridine</td>\n",
              "      <td>-0.906</td>\n",
              "      <td>2</td>\n",
              "      <td>132.126</td>\n",
              "      <td>0</td>\n",
              "      <td>2</td>\n",
              "      <td>0</td>\n",
              "      <td>51.56</td>\n",
              "      <td>0.020</td>\n",
              "      <td>c2cnc1ncncc1n2</td>\n",
              "    </tr>\n",
              "    <tr>\n",
              "      <th>940</th>\n",
              "      <td>Nitromethane</td>\n",
              "      <td>-0.042</td>\n",
              "      <td>1</td>\n",
              "      <td>61.040</td>\n",
              "      <td>0</td>\n",
              "      <td>0</td>\n",
              "      <td>0</td>\n",
              "      <td>43.14</td>\n",
              "      <td>0.260</td>\n",
              "      <td>CN(=O)=O</td>\n",
              "    </tr>\n",
              "    <tr>\n",
              "      <th>954</th>\n",
              "      <td>3,5-Dimethylpyridine</td>\n",
              "      <td>-2.098</td>\n",
              "      <td>1</td>\n",
              "      <td>107.156</td>\n",
              "      <td>0</td>\n",
              "      <td>1</td>\n",
              "      <td>0</td>\n",
              "      <td>12.89</td>\n",
              "      <td>0.380</td>\n",
              "      <td>Cc1cncc(C)c1</td>\n",
              "    </tr>\n",
              "    <tr>\n",
              "      <th>974</th>\n",
              "      <td>3-Methyl-2-butanone</td>\n",
              "      <td>-0.912</td>\n",
              "      <td>1</td>\n",
              "      <td>86.134</td>\n",
              "      <td>0</td>\n",
              "      <td>0</td>\n",
              "      <td>1</td>\n",
              "      <td>17.07</td>\n",
              "      <td>-0.120</td>\n",
              "      <td>CC(C)C(=O)C</td>\n",
              "    </tr>\n",
              "    <tr>\n",
              "      <th>983</th>\n",
              "      <td>Ethanol</td>\n",
              "      <td>0.020</td>\n",
              "      <td>1</td>\n",
              "      <td>46.069</td>\n",
              "      <td>1</td>\n",
              "      <td>0</td>\n",
              "      <td>0</td>\n",
              "      <td>20.23</td>\n",
              "      <td>1.100</td>\n",
              "      <td>CCO</td>\n",
              "    </tr>\n",
              "    <tr>\n",
              "      <th>991</th>\n",
              "      <td>aminopyrine</td>\n",
              "      <td>-2.129</td>\n",
              "      <td>1</td>\n",
              "      <td>231.299</td>\n",
              "      <td>0</td>\n",
              "      <td>2</td>\n",
              "      <td>2</td>\n",
              "      <td>30.17</td>\n",
              "      <td>-0.364</td>\n",
              "      <td>CN(C)c2c(C)n(C)n(c1ccccc1)c2=O</td>\n",
              "    </tr>\n",
              "    <tr>\n",
              "      <th>992</th>\n",
              "      <td>3-Pentanol</td>\n",
              "      <td>-0.970</td>\n",
              "      <td>1</td>\n",
              "      <td>88.150</td>\n",
              "      <td>1</td>\n",
              "      <td>0</td>\n",
              "      <td>2</td>\n",
              "      <td>20.23</td>\n",
              "      <td>-0.240</td>\n",
              "      <td>CCC(O)CC</td>\n",
              "    </tr>\n",
              "    <tr>\n",
              "      <th>998</th>\n",
              "      <td>2-Methylbutan-2-ol</td>\n",
              "      <td>-0.954</td>\n",
              "      <td>1</td>\n",
              "      <td>88.150</td>\n",
              "      <td>1</td>\n",
              "      <td>0</td>\n",
              "      <td>1</td>\n",
              "      <td>20.23</td>\n",
              "      <td>0.150</td>\n",
              "      <td>CCC(C)(C)O</td>\n",
              "    </tr>\n",
              "    <tr>\n",
              "      <th>999</th>\n",
              "      <td>p-Cresol</td>\n",
              "      <td>-2.313</td>\n",
              "      <td>1</td>\n",
              "      <td>108.140</td>\n",
              "      <td>1</td>\n",
              "      <td>1</td>\n",
              "      <td>0</td>\n",
              "      <td>20.23</td>\n",
              "      <td>-0.730</td>\n",
              "      <td>Cc1ccc(O)cc1</td>\n",
              "    </tr>\n",
              "    <tr>\n",
              "      <th>1000</th>\n",
              "      <td>Ethyl formate</td>\n",
              "      <td>-0.402</td>\n",
              "      <td>1</td>\n",
              "      <td>74.079</td>\n",
              "      <td>0</td>\n",
              "      <td>0</td>\n",
              "      <td>2</td>\n",
              "      <td>26.30</td>\n",
              "      <td>0.150</td>\n",
              "      <td>CCOC=O</td>\n",
              "    </tr>\n",
              "    <tr>\n",
              "      <th>1006</th>\n",
              "      <td>3-Pentanone</td>\n",
              "      <td>-0.912</td>\n",
              "      <td>1</td>\n",
              "      <td>86.134</td>\n",
              "      <td>0</td>\n",
              "      <td>0</td>\n",
              "      <td>2</td>\n",
              "      <td>17.07</td>\n",
              "      <td>-0.280</td>\n",
              "      <td>CCC(=O)CC</td>\n",
              "    </tr>\n",
              "    <tr>\n",
              "      <th>1007</th>\n",
              "      <td>Acrylonitrile</td>\n",
              "      <td>-0.354</td>\n",
              "      <td>1</td>\n",
              "      <td>53.064</td>\n",
              "      <td>0</td>\n",
              "      <td>0</td>\n",
              "      <td>0</td>\n",
              "      <td>23.79</td>\n",
              "      <td>0.150</td>\n",
              "      <td>C=CC#N</td>\n",
              "    </tr>\n",
              "    <tr>\n",
              "      <th>1020</th>\n",
              "      <td>Methyl acrylate</td>\n",
              "      <td>-0.878</td>\n",
              "      <td>1</td>\n",
              "      <td>86.090</td>\n",
              "      <td>0</td>\n",
              "      <td>0</td>\n",
              "      <td>1</td>\n",
              "      <td>26.30</td>\n",
              "      <td>-0.220</td>\n",
              "      <td>COC(=O)C=C</td>\n",
              "    </tr>\n",
              "    <tr>\n",
              "      <th>1025</th>\n",
              "      <td>Sucrose</td>\n",
              "      <td>0.310</td>\n",
              "      <td>1</td>\n",
              "      <td>342.297</td>\n",
              "      <td>8</td>\n",
              "      <td>2</td>\n",
              "      <td>5</td>\n",
              "      <td>189.53</td>\n",
              "      <td>0.790</td>\n",
              "      <td>OCC2OC(OC1(CO)OC(CO)C(O)C1O)C(O)C(O)C2O</td>\n",
              "    </tr>\n",
              "    <tr>\n",
              "      <th>1026</th>\n",
              "      <td>d-inositol</td>\n",
              "      <td>-0.887</td>\n",
              "      <td>1</td>\n",
              "      <td>180.156</td>\n",
              "      <td>6</td>\n",
              "      <td>1</td>\n",
              "      <td>0</td>\n",
              "      <td>121.38</td>\n",
              "      <td>0.350</td>\n",
              "      <td>OC1C(O)C(O)C(O)C(O)C1O</td>\n",
              "    </tr>\n",
              "    <tr>\n",
              "      <th>1064</th>\n",
              "      <td>vamidothion</td>\n",
              "      <td>-1.446</td>\n",
              "      <td>1</td>\n",
              "      <td>287.343</td>\n",
              "      <td>1</td>\n",
              "      <td>0</td>\n",
              "      <td>8</td>\n",
              "      <td>64.63</td>\n",
              "      <td>1.144</td>\n",
              "      <td>CNC(=O)C(C)SCCSP(=O)(OC)(OC)</td>\n",
              "    </tr>\n",
              "    <tr>\n",
              "      <th>1066</th>\n",
              "      <td>Butyraldehyde</td>\n",
              "      <td>-0.749</td>\n",
              "      <td>1</td>\n",
              "      <td>72.107</td>\n",
              "      <td>0</td>\n",
              "      <td>0</td>\n",
              "      <td>2</td>\n",
              "      <td>17.07</td>\n",
              "      <td>-0.010</td>\n",
              "      <td>CCCC=O</td>\n",
              "    </tr>\n",
              "    <tr>\n",
              "      <th>1073</th>\n",
              "      <td>2-Methylpropan-1-ol</td>\n",
              "      <td>-0.672</td>\n",
              "      <td>1</td>\n",
              "      <td>74.123</td>\n",
              "      <td>1</td>\n",
              "      <td>0</td>\n",
              "      <td>1</td>\n",
              "      <td>20.23</td>\n",
              "      <td>0.100</td>\n",
              "      <td>CC(C)CO</td>\n",
              "    </tr>\n",
              "    <tr>\n",
              "      <th>1081</th>\n",
              "      <td>2-butenal</td>\n",
              "      <td>-0.604</td>\n",
              "      <td>1</td>\n",
              "      <td>70.091</td>\n",
              "      <td>0</td>\n",
              "      <td>0</td>\n",
              "      <td>1</td>\n",
              "      <td>17.07</td>\n",
              "      <td>0.320</td>\n",
              "      <td>CC=CC=O</td>\n",
              "    </tr>\n",
              "    <tr>\n",
              "      <th>1082</th>\n",
              "      <td>tetramethylurea</td>\n",
              "      <td>-0.495</td>\n",
              "      <td>1</td>\n",
              "      <td>116.164</td>\n",
              "      <td>0</td>\n",
              "      <td>0</td>\n",
              "      <td>0</td>\n",
              "      <td>23.55</td>\n",
              "      <td>0.940</td>\n",
              "      <td>CN(C)C(=O)N(C)C</td>\n",
              "    </tr>\n",
              "    <tr>\n",
              "      <th>1100</th>\n",
              "      <td>4-hydroxypyridine</td>\n",
              "      <td>-1.655</td>\n",
              "      <td>1</td>\n",
              "      <td>95.101</td>\n",
              "      <td>1</td>\n",
              "      <td>1</td>\n",
              "      <td>0</td>\n",
              "      <td>33.12</td>\n",
              "      <td>1.020</td>\n",
              "      <td>Oc1ccncc1</td>\n",
              "    </tr>\n",
              "    <tr>\n",
              "      <th>1105</th>\n",
              "      <td>2,2-Dimethylpropanol</td>\n",
              "      <td>-1.011</td>\n",
              "      <td>1</td>\n",
              "      <td>88.150</td>\n",
              "      <td>1</td>\n",
              "      <td>0</td>\n",
              "      <td>0</td>\n",
              "      <td>20.23</td>\n",
              "      <td>-0.400</td>\n",
              "      <td>CC(C)(C)CO</td>\n",
              "    </tr>\n",
              "    <tr>\n",
              "      <th>1121</th>\n",
              "      <td>Phthalonitrile</td>\n",
              "      <td>-1.717</td>\n",
              "      <td>1</td>\n",
              "      <td>128.134</td>\n",
              "      <td>0</td>\n",
              "      <td>1</td>\n",
              "      <td>0</td>\n",
              "      <td>47.58</td>\n",
              "      <td>-2.380</td>\n",
              "      <td>N#Cc1ccccc1C#N</td>\n",
              "    </tr>\n",
              "  </tbody>\n",
              "</table>\n",
              "</div>\n",
              "      <button class=\"colab-df-convert\" onclick=\"convertToInteractive('df-14e0f4dd-a0a3-4640-be52-ad5528fa9957')\"\n",
              "              title=\"Convert this dataframe to an interactive table.\"\n",
              "              style=\"display:none;\">\n",
              "        \n",
              "  <svg xmlns=\"http://www.w3.org/2000/svg\" height=\"24px\"viewBox=\"0 0 24 24\"\n",
              "       width=\"24px\">\n",
              "    <path d=\"M0 0h24v24H0V0z\" fill=\"none\"/>\n",
              "    <path d=\"M18.56 5.44l.94 2.06.94-2.06 2.06-.94-2.06-.94-.94-2.06-.94 2.06-2.06.94zm-11 1L8.5 8.5l.94-2.06 2.06-.94-2.06-.94L8.5 2.5l-.94 2.06-2.06.94zm10 10l.94 2.06.94-2.06 2.06-.94-2.06-.94-.94-2.06-.94 2.06-2.06.94z\"/><path d=\"M17.41 7.96l-1.37-1.37c-.4-.4-.92-.59-1.43-.59-.52 0-1.04.2-1.43.59L10.3 9.45l-7.72 7.72c-.78.78-.78 2.05 0 2.83L4 21.41c.39.39.9.59 1.41.59.51 0 1.02-.2 1.41-.59l7.78-7.78 2.81-2.81c.8-.78.8-2.07 0-2.86zM5.41 20L4 18.59l7.72-7.72 1.47 1.35L5.41 20z\"/>\n",
              "  </svg>\n",
              "      </button>\n",
              "      \n",
              "  <style>\n",
              "    .colab-df-container {\n",
              "      display:flex;\n",
              "      flex-wrap:wrap;\n",
              "      gap: 12px;\n",
              "    }\n",
              "\n",
              "    .colab-df-convert {\n",
              "      background-color: #E8F0FE;\n",
              "      border: none;\n",
              "      border-radius: 50%;\n",
              "      cursor: pointer;\n",
              "      display: none;\n",
              "      fill: #1967D2;\n",
              "      height: 32px;\n",
              "      padding: 0 0 0 0;\n",
              "      width: 32px;\n",
              "    }\n",
              "\n",
              "    .colab-df-convert:hover {\n",
              "      background-color: #E2EBFA;\n",
              "      box-shadow: 0px 1px 2px rgba(60, 64, 67, 0.3), 0px 1px 3px 1px rgba(60, 64, 67, 0.15);\n",
              "      fill: #174EA6;\n",
              "    }\n",
              "\n",
              "    [theme=dark] .colab-df-convert {\n",
              "      background-color: #3B4455;\n",
              "      fill: #D2E3FC;\n",
              "    }\n",
              "\n",
              "    [theme=dark] .colab-df-convert:hover {\n",
              "      background-color: #434B5C;\n",
              "      box-shadow: 0px 1px 3px 1px rgba(0, 0, 0, 0.15);\n",
              "      filter: drop-shadow(0px 1px 2px rgba(0, 0, 0, 0.3));\n",
              "      fill: #FFFFFF;\n",
              "    }\n",
              "  </style>\n",
              "\n",
              "      <script>\n",
              "        const buttonEl =\n",
              "          document.querySelector('#df-14e0f4dd-a0a3-4640-be52-ad5528fa9957 button.colab-df-convert');\n",
              "        buttonEl.style.display =\n",
              "          google.colab.kernel.accessAllowed ? 'block' : 'none';\n",
              "\n",
              "        async function convertToInteractive(key) {\n",
              "          const element = document.querySelector('#df-14e0f4dd-a0a3-4640-be52-ad5528fa9957');\n",
              "          const dataTable =\n",
              "            await google.colab.kernel.invokeFunction('convertToInteractive',\n",
              "                                                     [key], {});\n",
              "          if (!dataTable) return;\n",
              "\n",
              "          const docLinkHtml = 'Like what you see? Visit the ' +\n",
              "            '<a target=\"_blank\" href=https://colab.research.google.com/notebooks/data_table.ipynb>data table notebook</a>'\n",
              "            + ' to learn more about interactive tables.';\n",
              "          element.innerHTML = '';\n",
              "          dataTable['output_type'] = 'display_data';\n",
              "          await google.colab.output.renderOutput(dataTable, element);\n",
              "          const docLink = document.createElement('div');\n",
              "          docLink.innerHTML = docLinkHtml;\n",
              "          element.appendChild(docLink);\n",
              "        }\n",
              "      </script>\n",
              "    </div>\n",
              "  </div>\n",
              "  "
            ]
          },
          "metadata": {},
          "execution_count": 17
        }
      ]
    },
    {
      "cell_type": "markdown",
      "metadata": {
        "id": "KLfe8T5Yxxpj"
      },
      "source": [
        "We can only move forward a small portion of our candidates! And this is just one early stage in the drug discovery pipeline..."
      ]
    },
    {
      "cell_type": "markdown",
      "metadata": {
        "id": "LfGCjwYPzh8e"
      },
      "source": [
        "## Exploring Deepchem formats\n"
      ]
    },
    {
      "cell_type": "code",
      "source": [
        "print (sol_train_dataset) #All data\n",
        "print (sol_train_dataset.X) #X data - molecules\n",
        "print (sol_train_dataset.X[0]) #First molecule"
      ],
      "metadata": {
        "id": "4I3-9Eslf2o5",
        "outputId": "24d7cde2-4e23-4d9d-f35c-4ec32ca93598",
        "colab": {
          "base_uri": "https://localhost:8080/"
        }
      },
      "execution_count": 18,
      "outputs": [
        {
          "output_type": "stream",
          "name": "stdout",
          "text": [
            "<DiskDataset X.shape: (902,), y.shape: (902, 1), w.shape: (902, 1), ids: ['OCC3OC(OCC2OC(OC(C#N)c1ccccc1)C(O)C(O)C2O)C(O)C(O)C3O '\n",
            " 'Cc1occc1C(=O)Nc2ccccc2' 'CC(C)=CCCC(C)=CC(=O)' ...\n",
            " 'ClC1C=CC2C1C3(Cl)C(=C(Cl)C2(Cl)C3(Cl)Cl)Cl'\n",
            " 'CCC(C)C1(CC(Br)=C)C(=O)NC(=O)NC1=O '\n",
            " 'CC1(C)C(C(=O)OC(C#N)c2cccc(Oc3ccccc3)c2)C1(C)C'], task_names: ['measured log solubility in mols per litre']>\n",
            "[<deepchem.feat.mol_graphs.ConvMol object at 0x7f3b35a0dd30>\n",
            " <deepchem.feat.mol_graphs.ConvMol object at 0x7f3b36255a30>\n",
            " <deepchem.feat.mol_graphs.ConvMol object at 0x7f3b35806880>\n",
            " <deepchem.feat.mol_graphs.ConvMol object at 0x7f3b358067f0>\n",
            " <deepchem.feat.mol_graphs.ConvMol object at 0x7f3b35e56370>\n",
            " <deepchem.feat.mol_graphs.ConvMol object at 0x7f3b35e56580>\n",
            " <deepchem.feat.mol_graphs.ConvMol object at 0x7f3b35e56940>\n",
            " <deepchem.feat.mol_graphs.ConvMol object at 0x7f3b3581c6a0>\n",
            " <deepchem.feat.mol_graphs.ConvMol object at 0x7f3b363b0610>\n",
            " <deepchem.feat.mol_graphs.ConvMol object at 0x7f3b3685ad90>\n",
            " <deepchem.feat.mol_graphs.ConvMol object at 0x7f3b36060a30>\n",
            " <deepchem.feat.mol_graphs.ConvMol object at 0x7f3b35862610>\n",
            " <deepchem.feat.mol_graphs.ConvMol object at 0x7f3b358621f0>\n",
            " <deepchem.feat.mol_graphs.ConvMol object at 0x7f3b358625e0>\n",
            " <deepchem.feat.mol_graphs.ConvMol object at 0x7f3b35e64d90>\n",
            " <deepchem.feat.mol_graphs.ConvMol object at 0x7f3b35e64550>\n",
            " <deepchem.feat.mol_graphs.ConvMol object at 0x7f3b35e64700>\n",
            " <deepchem.feat.mol_graphs.ConvMol object at 0x7f3b35e64b80>\n",
            " <deepchem.feat.mol_graphs.ConvMol object at 0x7f3b35e64fa0>\n",
            " <deepchem.feat.mol_graphs.ConvMol object at 0x7f3b35d10a90>\n",
            " <deepchem.feat.mol_graphs.ConvMol object at 0x7f3b35d107c0>\n",
            " <deepchem.feat.mol_graphs.ConvMol object at 0x7f3b35c66490>\n",
            " <deepchem.feat.mol_graphs.ConvMol object at 0x7f3b35c66a60>\n",
            " <deepchem.feat.mol_graphs.ConvMol object at 0x7f3b35b6b430>\n",
            " <deepchem.feat.mol_graphs.ConvMol object at 0x7f3b35b6bb80>\n",
            " <deepchem.feat.mol_graphs.ConvMol object at 0x7f3b35b2e580>\n",
            " <deepchem.feat.mol_graphs.ConvMol object at 0x7f3b35b2e8b0>\n",
            " <deepchem.feat.mol_graphs.ConvMol object at 0x7f3b358aaf40>\n",
            " <deepchem.feat.mol_graphs.ConvMol object at 0x7f3b35a0d4f0>\n",
            " <deepchem.feat.mol_graphs.ConvMol object at 0x7f3b358aa7f0>\n",
            " <deepchem.feat.mol_graphs.ConvMol object at 0x7f3b35c70af0>\n",
            " <deepchem.feat.mol_graphs.ConvMol object at 0x7f3b35c70f70>\n",
            " <deepchem.feat.mol_graphs.ConvMol object at 0x7f3b35e75f10>\n",
            " <deepchem.feat.mol_graphs.ConvMol object at 0x7f3b35c3e370>\n",
            " <deepchem.feat.mol_graphs.ConvMol object at 0x7f3b35c3e8e0>\n",
            " <deepchem.feat.mol_graphs.ConvMol object at 0x7f3b35c3ea90>\n",
            " <deepchem.feat.mol_graphs.ConvMol object at 0x7f3b35c3ee80>\n",
            " <deepchem.feat.mol_graphs.ConvMol object at 0x7f3b358e43a0>\n",
            " <deepchem.feat.mol_graphs.ConvMol object at 0x7f3b3591bd90>\n",
            " <deepchem.feat.mol_graphs.ConvMol object at 0x7f3b3587b370>\n",
            " <deepchem.feat.mol_graphs.ConvMol object at 0x7f3b3587b250>\n",
            " <deepchem.feat.mol_graphs.ConvMol object at 0x7f3b3687dc70>\n",
            " <deepchem.feat.mol_graphs.ConvMol object at 0x7f3b35c0d5b0>\n",
            " <deepchem.feat.mol_graphs.ConvMol object at 0x7f3b35c0dc10>\n",
            " <deepchem.feat.mol_graphs.ConvMol object at 0x7f3b35c0d490>\n",
            " <deepchem.feat.mol_graphs.ConvMol object at 0x7f3b35c0d400>\n",
            " <deepchem.feat.mol_graphs.ConvMol object at 0x7f3b35a7e190>\n",
            " <deepchem.feat.mol_graphs.ConvMol object at 0x7f3b35a7ef70>\n",
            " <deepchem.feat.mol_graphs.ConvMol object at 0x7f3b358822e0>\n",
            " <deepchem.feat.mol_graphs.ConvMol object at 0x7f3b35a15850>\n",
            " <deepchem.feat.mol_graphs.ConvMol object at 0x7f3b35a15fa0>\n",
            " <deepchem.feat.mol_graphs.ConvMol object at 0x7f3b35a15dc0>\n",
            " <deepchem.feat.mol_graphs.ConvMol object at 0x7f3b35e832e0>\n",
            " <deepchem.feat.mol_graphs.ConvMol object at 0x7f3b357aca60>\n",
            " <deepchem.feat.mol_graphs.ConvMol object at 0x7f3b357ac550>\n",
            " <deepchem.feat.mol_graphs.ConvMol object at 0x7f3b35a87760>\n",
            " <deepchem.feat.mol_graphs.ConvMol object at 0x7f3b35a87850>\n",
            " <deepchem.feat.mol_graphs.ConvMol object at 0x7f3b36016130>\n",
            " <deepchem.feat.mol_graphs.ConvMol object at 0x7f3b36016c70>\n",
            " <deepchem.feat.mol_graphs.ConvMol object at 0x7f3b35a427c0>\n",
            " <deepchem.feat.mol_graphs.ConvMol object at 0x7f3b35a427f0>\n",
            " <deepchem.feat.mol_graphs.ConvMol object at 0x7f3b35a42190>\n",
            " <deepchem.feat.mol_graphs.ConvMol object at 0x7f3b35d16a60>\n",
            " <deepchem.feat.mol_graphs.ConvMol object at 0x7f3b35d16c40>\n",
            " <deepchem.feat.mol_graphs.ConvMol object at 0x7f3b35e94340>\n",
            " <deepchem.feat.mol_graphs.ConvMol object at 0x7f3b35f192b0>\n",
            " <deepchem.feat.mol_graphs.ConvMol object at 0x7f3b35f19130>\n",
            " <deepchem.feat.mol_graphs.ConvMol object at 0x7f3b36299430>\n",
            " <deepchem.feat.mol_graphs.ConvMol object at 0x7f3b3686f040>\n",
            " <deepchem.feat.mol_graphs.ConvMol object at 0x7f3b3686fca0>\n",
            " <deepchem.feat.mol_graphs.ConvMol object at 0x7f3b35a84400>\n",
            " <deepchem.feat.mol_graphs.ConvMol object at 0x7f3b35a847c0>\n",
            " <deepchem.feat.mol_graphs.ConvMol object at 0x7f3b35ad9b20>\n",
            " <deepchem.feat.mol_graphs.ConvMol object at 0x7f3b35ad9190>\n",
            " <deepchem.feat.mol_graphs.ConvMol object at 0x7f3b36285dc0>\n",
            " <deepchem.feat.mol_graphs.ConvMol object at 0x7f3b362857c0>\n",
            " <deepchem.feat.mol_graphs.ConvMol object at 0x7f3b36285be0>\n",
            " <deepchem.feat.mol_graphs.ConvMol object at 0x7f3b3580aaf0>\n",
            " <deepchem.feat.mol_graphs.ConvMol object at 0x7f3b35873a30>\n",
            " <deepchem.feat.mol_graphs.ConvMol object at 0x7f3b35873a00>\n",
            " <deepchem.feat.mol_graphs.ConvMol object at 0x7f3b35aa6550>\n",
            " <deepchem.feat.mol_graphs.ConvMol object at 0x7f3b35aa6be0>\n",
            " <deepchem.feat.mol_graphs.ConvMol object at 0x7f3b35aa6cd0>\n",
            " <deepchem.feat.mol_graphs.ConvMol object at 0x7f3b35aa6a00>\n",
            " <deepchem.feat.mol_graphs.ConvMol object at 0x7f3b362a7fa0>\n",
            " <deepchem.feat.mol_graphs.ConvMol object at 0x7f3b362a7280>\n",
            " <deepchem.feat.mol_graphs.ConvMol object at 0x7f3b362a7160>\n",
            " <deepchem.feat.mol_graphs.ConvMol object at 0x7f3b363a8a00>\n",
            " <deepchem.feat.mol_graphs.ConvMol object at 0x7f3b35aab040>\n",
            " <deepchem.feat.mol_graphs.ConvMol object at 0x7f3b35aabb20>\n",
            " <deepchem.feat.mol_graphs.ConvMol object at 0x7f3b3592cfd0>\n",
            " <deepchem.feat.mol_graphs.ConvMol object at 0x7f3b3592c3a0>\n",
            " <deepchem.feat.mol_graphs.ConvMol object at 0x7f3b3592cdf0>\n",
            " <deepchem.feat.mol_graphs.ConvMol object at 0x7f3b35d26550>\n",
            " <deepchem.feat.mol_graphs.ConvMol object at 0x7f3b35d269a0>\n",
            " <deepchem.feat.mol_graphs.ConvMol object at 0x7f3b35d26af0>\n",
            " <deepchem.feat.mol_graphs.ConvMol object at 0x7f3b35aac310>\n",
            " <deepchem.feat.mol_graphs.ConvMol object at 0x7f3b359ac3d0>\n",
            " <deepchem.feat.mol_graphs.ConvMol object at 0x7f3b359ac2b0>\n",
            " <deepchem.feat.mol_graphs.ConvMol object at 0x7f3b35ad3310>\n",
            " <deepchem.feat.mol_graphs.ConvMol object at 0x7f3b35ad3f10>\n",
            " <deepchem.feat.mol_graphs.ConvMol object at 0x7f3b362b0b80>\n",
            " <deepchem.feat.mol_graphs.ConvMol object at 0x7f3b362b0430>\n",
            " <deepchem.feat.mol_graphs.ConvMol object at 0x7f3b362b0f70>\n",
            " <deepchem.feat.mol_graphs.ConvMol object at 0x7f3b358d4e50>\n",
            " <deepchem.feat.mol_graphs.ConvMol object at 0x7f3b35b1de50>\n",
            " <deepchem.feat.mol_graphs.ConvMol object at 0x7f3b35b1d1f0>\n",
            " <deepchem.feat.mol_graphs.ConvMol object at 0x7f3b358b2190>\n",
            " <deepchem.feat.mol_graphs.ConvMol object at 0x7f3b358b2490>\n",
            " <deepchem.feat.mol_graphs.ConvMol object at 0x7f3b35aeaa00>\n",
            " <deepchem.feat.mol_graphs.ConvMol object at 0x7f3b3624fe80>\n",
            " <deepchem.feat.mol_graphs.ConvMol object at 0x7f3b3624fc40>\n",
            " <deepchem.feat.mol_graphs.ConvMol object at 0x7f3b35819040>\n",
            " <deepchem.feat.mol_graphs.ConvMol object at 0x7f3b35819eb0>\n",
            " <deepchem.feat.mol_graphs.ConvMol object at 0x7f3b35c747c0>\n",
            " <deepchem.feat.mol_graphs.ConvMol object at 0x7f3b3582a3a0>\n",
            " <deepchem.feat.mol_graphs.ConvMol object at 0x7f3b3582adc0>\n",
            " <deepchem.feat.mol_graphs.ConvMol object at 0x7f3b35d25340>\n",
            " <deepchem.feat.mol_graphs.ConvMol object at 0x7f3b35dc19d0>\n",
            " <deepchem.feat.mol_graphs.ConvMol object at 0x7f3b35ace340>\n",
            " <deepchem.feat.mol_graphs.ConvMol object at 0x7f3b35cba1f0>\n",
            " <deepchem.feat.mol_graphs.ConvMol object at 0x7f3b35cbadf0>\n",
            " <deepchem.feat.mol_graphs.ConvMol object at 0x7f3b35dc4e20>\n",
            " <deepchem.feat.mol_graphs.ConvMol object at 0x7f3b35ac5fd0>\n",
            " <deepchem.feat.mol_graphs.ConvMol object at 0x7f3b35ac5e20>\n",
            " <deepchem.feat.mol_graphs.ConvMol object at 0x7f3b35cc6520>\n",
            " <deepchem.feat.mol_graphs.ConvMol object at 0x7f3b35800070>\n",
            " <deepchem.feat.mol_graphs.ConvMol object at 0x7f3b35800f10>\n",
            " <deepchem.feat.mol_graphs.ConvMol object at 0x7f3b35ac9c70>\n",
            " <deepchem.feat.mol_graphs.ConvMol object at 0x7f3b358f7790>\n",
            " <deepchem.feat.mol_graphs.ConvMol object at 0x7f3b35d23fd0>\n",
            " <deepchem.feat.mol_graphs.ConvMol object at 0x7f3b35d23850>\n",
            " <deepchem.feat.mol_graphs.ConvMol object at 0x7f3b35c4f1f0>\n",
            " <deepchem.feat.mol_graphs.ConvMol object at 0x7f3b35adcbb0>\n",
            " <deepchem.feat.mol_graphs.ConvMol object at 0x7f3b35adcbe0>\n",
            " <deepchem.feat.mol_graphs.ConvMol object at 0x7f3b35a225b0>\n",
            " <deepchem.feat.mol_graphs.ConvMol object at 0x7f3b35a22ac0>\n",
            " <deepchem.feat.mol_graphs.ConvMol object at 0x7f3b35ce8460>\n",
            " <deepchem.feat.mol_graphs.ConvMol object at 0x7f3b35ce8730>\n",
            " <deepchem.feat.mol_graphs.ConvMol object at 0x7f3b357e14c0>\n",
            " <deepchem.feat.mol_graphs.ConvMol object at 0x7f3b35b19b20>\n",
            " <deepchem.feat.mol_graphs.ConvMol object at 0x7f3b358fb5e0>\n",
            " <deepchem.feat.mol_graphs.ConvMol object at 0x7f3b358fbee0>\n",
            " <deepchem.feat.mol_graphs.ConvMol object at 0x7f3b35ae8640>\n",
            " <deepchem.feat.mol_graphs.ConvMol object at 0x7f3b35eebe20>\n",
            " <deepchem.feat.mol_graphs.ConvMol object at 0x7f3b35af38b0>\n",
            " <deepchem.feat.mol_graphs.ConvMol object at 0x7f3b359f76d0>\n",
            " <deepchem.feat.mol_graphs.ConvMol object at 0x7f3b35d29160>\n",
            " <deepchem.feat.mol_graphs.ConvMol object at 0x7f3b362b3100>\n",
            " <deepchem.feat.mol_graphs.ConvMol object at 0x7f3b362b3280>\n",
            " <deepchem.feat.mol_graphs.ConvMol object at 0x7f3b362567c0>\n",
            " <deepchem.feat.mol_graphs.ConvMol object at 0x7f3b362563a0>\n",
            " <deepchem.feat.mol_graphs.ConvMol object at 0x7f3b35adddf0>\n",
            " <deepchem.feat.mol_graphs.ConvMol object at 0x7f3b35add730>\n",
            " <deepchem.feat.mol_graphs.ConvMol object at 0x7f3b36333be0>\n",
            " <deepchem.feat.mol_graphs.ConvMol object at 0x7f3b36333310>\n",
            " <deepchem.feat.mol_graphs.ConvMol object at 0x7f3b362bcbe0>\n",
            " <deepchem.feat.mol_graphs.ConvMol object at 0x7f3b362bc4f0>\n",
            " <deepchem.feat.mol_graphs.ConvMol object at 0x7f3b35ade4f0>\n",
            " <deepchem.feat.mol_graphs.ConvMol object at 0x7f3b35adebe0>\n",
            " <deepchem.feat.mol_graphs.ConvMol object at 0x7f3b35e79670>\n",
            " <deepchem.feat.mol_graphs.ConvMol object at 0x7f3b35dd6eb0>\n",
            " <deepchem.feat.mol_graphs.ConvMol object at 0x7f3b3593a460>\n",
            " <deepchem.feat.mol_graphs.ConvMol object at 0x7f3b3593a790>\n",
            " <deepchem.feat.mol_graphs.ConvMol object at 0x7f3b36334e50>\n",
            " <deepchem.feat.mol_graphs.ConvMol object at 0x7f3b3593c160>\n",
            " <deepchem.feat.mol_graphs.ConvMol object at 0x7f3b3593ca90>\n",
            " <deepchem.feat.mol_graphs.ConvMol object at 0x7f3b35d3cd00>\n",
            " <deepchem.feat.mol_graphs.ConvMol object at 0x7f3b36062340>\n",
            " <deepchem.feat.mol_graphs.ConvMol object at 0x7f3b36266880>\n",
            " <deepchem.feat.mol_graphs.ConvMol object at 0x7f3b35835040>\n",
            " <deepchem.feat.mol_graphs.ConvMol object at 0x7f3b35835160>\n",
            " <deepchem.feat.mol_graphs.ConvMol object at 0x7f3b35a51d30>\n",
            " <deepchem.feat.mol_graphs.ConvMol object at 0x7f3b35cadb50>\n",
            " <deepchem.feat.mol_graphs.ConvMol object at 0x7f3b35cad910>\n",
            " <deepchem.feat.mol_graphs.ConvMol object at 0x7f3b363a3e20>\n",
            " <deepchem.feat.mol_graphs.ConvMol object at 0x7f3b3627c0d0>\n",
            " <deepchem.feat.mol_graphs.ConvMol object at 0x7f3b3627cd00>\n",
            " <deepchem.feat.mol_graphs.ConvMol object at 0x7f3b35a357c0>\n",
            " <deepchem.feat.mol_graphs.ConvMol object at 0x7f3b3631c340>\n",
            " <deepchem.feat.mol_graphs.ConvMol object at 0x7f3b3631cca0>\n",
            " <deepchem.feat.mol_graphs.ConvMol object at 0x7f3b35d35c10>\n",
            " <deepchem.feat.mol_graphs.ConvMol object at 0x7f3b35c61340>\n",
            " <deepchem.feat.mol_graphs.ConvMol object at 0x7f3b35b35670>\n",
            " <deepchem.feat.mol_graphs.ConvMol object at 0x7f3b35b357c0>\n",
            " <deepchem.feat.mol_graphs.ConvMol object at 0x7f3b35b445b0>\n",
            " <deepchem.feat.mol_graphs.ConvMol object at 0x7f3b35ae0370>\n",
            " <deepchem.feat.mol_graphs.ConvMol object at 0x7f3b35ae0c40>\n",
            " <deepchem.feat.mol_graphs.ConvMol object at 0x7f3b360574f0>\n",
            " <deepchem.feat.mol_graphs.ConvMol object at 0x7f3b35798700>\n",
            " <deepchem.feat.mol_graphs.ConvMol object at 0x7f3b35798df0>\n",
            " <deepchem.feat.mol_graphs.ConvMol object at 0x7f3b357b45e0>\n",
            " <deepchem.feat.mol_graphs.ConvMol object at 0x7f3b3605c7f0>\n",
            " <deepchem.feat.mol_graphs.ConvMol object at 0x7f3b35b48dc0>\n",
            " <deepchem.feat.mol_graphs.ConvMol object at 0x7f3b35b48a90>\n",
            " <deepchem.feat.mol_graphs.ConvMol object at 0x7f3b35cfde50>\n",
            " <deepchem.feat.mol_graphs.ConvMol object at 0x7f3b35a181f0>\n",
            " <deepchem.feat.mol_graphs.ConvMol object at 0x7f3b35a18bb0>\n",
            " <deepchem.feat.mol_graphs.ConvMol object at 0x7f3b35cdfc70>\n",
            " <deepchem.feat.mol_graphs.ConvMol object at 0x7f3b35cdff70>\n",
            " <deepchem.feat.mol_graphs.ConvMol object at 0x7f3b35c36280>\n",
            " <deepchem.feat.mol_graphs.ConvMol object at 0x7f3b35c36850>\n",
            " <deepchem.feat.mol_graphs.ConvMol object at 0x7f3b35845520>\n",
            " <deepchem.feat.mol_graphs.ConvMol object at 0x7f3b35845cd0>\n",
            " <deepchem.feat.mol_graphs.ConvMol object at 0x7f3b35cb9850>\n",
            " <deepchem.feat.mol_graphs.ConvMol object at 0x7f3b357ce700>\n",
            " <deepchem.feat.mol_graphs.ConvMol object at 0x7f3b357ceee0>\n",
            " <deepchem.feat.mol_graphs.ConvMol object at 0x7f3b36253820>\n",
            " <deepchem.feat.mol_graphs.ConvMol object at 0x7f3b35c8daf0>\n",
            " <deepchem.feat.mol_graphs.ConvMol object at 0x7f3b35c8d2e0>\n",
            " <deepchem.feat.mol_graphs.ConvMol object at 0x7f3b35c8d460>\n",
            " <deepchem.feat.mol_graphs.ConvMol object at 0x7f3b3631a1f0>\n",
            " <deepchem.feat.mol_graphs.ConvMol object at 0x7f3b3631ac40>\n",
            " <deepchem.feat.mol_graphs.ConvMol object at 0x7f3b35950520>\n",
            " <deepchem.feat.mol_graphs.ConvMol object at 0x7f3b362758b0>\n",
            " <deepchem.feat.mol_graphs.ConvMol object at 0x7f3b35b0aa00>\n",
            " <deepchem.feat.mol_graphs.ConvMol object at 0x7f3b35b0a670>\n",
            " <deepchem.feat.mol_graphs.ConvMol object at 0x7f3b35ed5e80>\n",
            " <deepchem.feat.mol_graphs.ConvMol object at 0x7f3b35ed5ca0>\n",
            " <deepchem.feat.mol_graphs.ConvMol object at 0x7f3b35f51a60>\n",
            " <deepchem.feat.mol_graphs.ConvMol object at 0x7f3b35b32be0>\n",
            " <deepchem.feat.mol_graphs.ConvMol object at 0x7f3b360be040>\n",
            " <deepchem.feat.mol_graphs.ConvMol object at 0x7f3b360be790>\n",
            " <deepchem.feat.mol_graphs.ConvMol object at 0x7f3b35852af0>\n",
            " <deepchem.feat.mol_graphs.ConvMol object at 0x7f3b35ba8640>\n",
            " <deepchem.feat.mol_graphs.ConvMol object at 0x7f3b35ba84c0>\n",
            " <deepchem.feat.mol_graphs.ConvMol object at 0x7f3b35d57670>\n",
            " <deepchem.feat.mol_graphs.ConvMol object at 0x7f3b35d47790>\n",
            " <deepchem.feat.mol_graphs.ConvMol object at 0x7f3b35b59400>\n",
            " <deepchem.feat.mol_graphs.ConvMol object at 0x7f3b35b59df0>\n",
            " <deepchem.feat.mol_graphs.ConvMol object at 0x7f3b36339f40>\n",
            " <deepchem.feat.mol_graphs.ConvMol object at 0x7f3b3589f250>\n",
            " <deepchem.feat.mol_graphs.ConvMol object at 0x7f3b3589fe80>\n",
            " <deepchem.feat.mol_graphs.ConvMol object at 0x7f3b35d3a970>\n",
            " <deepchem.feat.mol_graphs.ConvMol object at 0x7f3b35f5e6d0>\n",
            " <deepchem.feat.mol_graphs.ConvMol object at 0x7f3b3595e5e0>\n",
            " <deepchem.feat.mol_graphs.ConvMol object at 0x7f3b3595e850>\n",
            " <deepchem.feat.mol_graphs.ConvMol object at 0x7f3b3615f760>\n",
            " <deepchem.feat.mol_graphs.ConvMol object at 0x7f3b3615fca0>\n",
            " <deepchem.feat.mol_graphs.ConvMol object at 0x7f3b35f6bcd0>\n",
            " <deepchem.feat.mol_graphs.ConvMol object at 0x7f3b35f6bc10>\n",
            " <deepchem.feat.mol_graphs.ConvMol object at 0x7f3b35f6a070>\n",
            " <deepchem.feat.mol_graphs.ConvMol object at 0x7f3b35f6acd0>\n",
            " <deepchem.feat.mol_graphs.ConvMol object at 0x7f3b35ebedf0>\n",
            " <deepchem.feat.mol_graphs.ConvMol object at 0x7f3b35f631c0>\n",
            " <deepchem.feat.mol_graphs.ConvMol object at 0x7f3b35f63970>\n",
            " <deepchem.feat.mol_graphs.ConvMol object at 0x7f3b35ded220>\n",
            " <deepchem.feat.mol_graphs.ConvMol object at 0x7f3b358dc040>\n",
            " <deepchem.feat.mol_graphs.ConvMol object at 0x7f3b358dc640>\n",
            " <deepchem.feat.mol_graphs.ConvMol object at 0x7f3b35b90f10>\n",
            " <deepchem.feat.mol_graphs.ConvMol object at 0x7f3b35cf4a30>\n",
            " <deepchem.feat.mol_graphs.ConvMol object at 0x7f3b36164b80>\n",
            " <deepchem.feat.mol_graphs.ConvMol object at 0x7f3b36164460>\n",
            " <deepchem.feat.mol_graphs.ConvMol object at 0x7f3b35c54ca0>\n",
            " <deepchem.feat.mol_graphs.ConvMol object at 0x7f3b35c54610>\n",
            " <deepchem.feat.mol_graphs.ConvMol object at 0x7f3b359bf310>\n",
            " <deepchem.feat.mol_graphs.ConvMol object at 0x7f3b359bfc40>\n",
            " <deepchem.feat.mol_graphs.ConvMol object at 0x7f3b35b651c0>\n",
            " <deepchem.feat.mol_graphs.ConvMol object at 0x7f3b35b65eb0>\n",
            " <deepchem.feat.mol_graphs.ConvMol object at 0x7f3b35e8c310>\n",
            " <deepchem.feat.mol_graphs.ConvMol object at 0x7f3b35ac0730>\n",
            " <deepchem.feat.mol_graphs.ConvMol object at 0x7f3b35c59160>\n",
            " <deepchem.feat.mol_graphs.ConvMol object at 0x7f3b3583e5e0>\n",
            " <deepchem.feat.mol_graphs.ConvMol object at 0x7f3b35a9a910>\n",
            " <deepchem.feat.mol_graphs.ConvMol object at 0x7f3b3597bc10>\n",
            " <deepchem.feat.mol_graphs.ConvMol object at 0x7f3b35c3d430>\n",
            " <deepchem.feat.mol_graphs.ConvMol object at 0x7f3b3636ec10>\n",
            " <deepchem.feat.mol_graphs.ConvMol object at 0x7f3b35e60f10>\n",
            " <deepchem.feat.mol_graphs.ConvMol object at 0x7f3b35e60c70>\n",
            " <deepchem.feat.mol_graphs.ConvMol object at 0x7f3b362927c0>\n",
            " <deepchem.feat.mol_graphs.ConvMol object at 0x7f3b362925b0>\n",
            " <deepchem.feat.mol_graphs.ConvMol object at 0x7f3b35b5e8b0>\n",
            " <deepchem.feat.mol_graphs.ConvMol object at 0x7f3b3606ac10>\n",
            " <deepchem.feat.mol_graphs.ConvMol object at 0x7f3b35b3d340>\n",
            " <deepchem.feat.mol_graphs.ConvMol object at 0x7f3b35d822b0>\n",
            " <deepchem.feat.mol_graphs.ConvMol object at 0x7f3b35d826d0>\n",
            " <deepchem.feat.mol_graphs.ConvMol object at 0x7f3b35c28430>\n",
            " <deepchem.feat.mol_graphs.ConvMol object at 0x7f3b358e8460>\n",
            " <deepchem.feat.mol_graphs.ConvMol object at 0x7f3b358e8430>\n",
            " <deepchem.feat.mol_graphs.ConvMol object at 0x7f3b35c976a0>\n",
            " <deepchem.feat.mol_graphs.ConvMol object at 0x7f3b35c97c40>\n",
            " <deepchem.feat.mol_graphs.ConvMol object at 0x7f3b35c208e0>\n",
            " <deepchem.feat.mol_graphs.ConvMol object at 0x7f3b35c20b80>\n",
            " <deepchem.feat.mol_graphs.ConvMol object at 0x7f3b35d96ee0>\n",
            " <deepchem.feat.mol_graphs.ConvMol object at 0x7f3b36373d30>\n",
            " <deepchem.feat.mol_graphs.ConvMol object at 0x7f3b36373c40>\n",
            " <deepchem.feat.mol_graphs.ConvMol object at 0x7f3b35d98850>\n",
            " <deepchem.feat.mol_graphs.ConvMol object at 0x7f3b35b3e4f0>\n",
            " <deepchem.feat.mol_graphs.ConvMol object at 0x7f3b35b3edf0>\n",
            " <deepchem.feat.mol_graphs.ConvMol object at 0x7f3b35f75f10>\n",
            " <deepchem.feat.mol_graphs.ConvMol object at 0x7f3b362a8bb0>\n",
            " <deepchem.feat.mol_graphs.ConvMol object at 0x7f3b35a93b50>\n",
            " <deepchem.feat.mol_graphs.ConvMol object at 0x7f3b35c127c0>\n",
            " <deepchem.feat.mol_graphs.ConvMol object at 0x7f3b35d76a60>\n",
            " <deepchem.feat.mol_graphs.ConvMol object at 0x7f3b35d76820>\n",
            " <deepchem.feat.mol_graphs.ConvMol object at 0x7f3b35c064c0>\n",
            " <deepchem.feat.mol_graphs.ConvMol object at 0x7f3b35cdad30>\n",
            " <deepchem.feat.mol_graphs.ConvMol object at 0x7f3b35cdaa90>\n",
            " <deepchem.feat.mol_graphs.ConvMol object at 0x7f3b363101c0>\n",
            " <deepchem.feat.mol_graphs.ConvMol object at 0x7f3b35f59ca0>\n",
            " <deepchem.feat.mol_graphs.ConvMol object at 0x7f3b35b78520>\n",
            " <deepchem.feat.mol_graphs.ConvMol object at 0x7f3b3637aee0>\n",
            " <deepchem.feat.mol_graphs.ConvMol object at 0x7f3b35d7a7f0>\n",
            " <deepchem.feat.mol_graphs.ConvMol object at 0x7f3b36051730>\n",
            " <deepchem.feat.mol_graphs.ConvMol object at 0x7f3b360518e0>\n",
            " <deepchem.feat.mol_graphs.ConvMol object at 0x7f3b3588e040>\n",
            " <deepchem.feat.mol_graphs.ConvMol object at 0x7f3b359a4610>\n",
            " <deepchem.feat.mol_graphs.ConvMol object at 0x7f3b35eb8730>\n",
            " <deepchem.feat.mol_graphs.ConvMol object at 0x7f3b35eb8970>\n",
            " <deepchem.feat.mol_graphs.ConvMol object at 0x7f3b35bff4c0>\n",
            " <deepchem.feat.mol_graphs.ConvMol object at 0x7f3b35bff430>\n",
            " <deepchem.feat.mol_graphs.ConvMol object at 0x7f3b35d7d040>\n",
            " <deepchem.feat.mol_graphs.ConvMol object at 0x7f3b357bfaf0>\n",
            " <deepchem.feat.mol_graphs.ConvMol object at 0x7f3b35b7e1c0>\n",
            " <deepchem.feat.mol_graphs.ConvMol object at 0x7f3b35b7ee50>\n",
            " <deepchem.feat.mol_graphs.ConvMol object at 0x7f3b358a6160>\n",
            " <deepchem.feat.mol_graphs.ConvMol object at 0x7f3b358a6b80>\n",
            " <deepchem.feat.mol_graphs.ConvMol object at 0x7f3b35d7f040>\n",
            " <deepchem.feat.mol_graphs.ConvMol object at 0x7f3b35d7fe50>\n",
            " <deepchem.feat.mol_graphs.ConvMol object at 0x7f3b357a10a0>\n",
            " <deepchem.feat.mol_graphs.ConvMol object at 0x7f3b35db6970>\n",
            " <deepchem.feat.mol_graphs.ConvMol object at 0x7f3b35bb7d60>\n",
            " <deepchem.feat.mol_graphs.ConvMol object at 0x7f3b36182be0>\n",
            " <deepchem.feat.mol_graphs.ConvMol object at 0x7f3b35c95820>\n",
            " <deepchem.feat.mol_graphs.ConvMol object at 0x7f3b35a4a910>\n",
            " <deepchem.feat.mol_graphs.ConvMol object at 0x7f3b35a403d0>\n",
            " <deepchem.feat.mol_graphs.ConvMol object at 0x7f3b35a40b80>\n",
            " <deepchem.feat.mol_graphs.ConvMol object at 0x7f3b35b40790>\n",
            " <deepchem.feat.mol_graphs.ConvMol object at 0x7f3b35b40a60>\n",
            " <deepchem.feat.mol_graphs.ConvMol object at 0x7f3b35cc14f0>\n",
            " <deepchem.feat.mol_graphs.ConvMol object at 0x7f3b35b840a0>\n",
            " <deepchem.feat.mol_graphs.ConvMol object at 0x7f3b35cd3790>\n",
            " <deepchem.feat.mol_graphs.ConvMol object at 0x7f3b36305be0>\n",
            " <deepchem.feat.mol_graphs.ConvMol object at 0x7f3b363050a0>\n",
            " <deepchem.feat.mol_graphs.ConvMol object at 0x7f3b35ededc0>\n",
            " <deepchem.feat.mol_graphs.ConvMol object at 0x7f3b35ede460>\n",
            " <deepchem.feat.mol_graphs.ConvMol object at 0x7f3b35af4a90>\n",
            " <deepchem.feat.mol_graphs.ConvMol object at 0x7f3b35af4760>\n",
            " <deepchem.feat.mol_graphs.ConvMol object at 0x7f3b35c1ae80>\n",
            " <deepchem.feat.mol_graphs.ConvMol object at 0x7f3b35e46b80>\n",
            " <deepchem.feat.mol_graphs.ConvMol object at 0x7f3b363b5e50>\n",
            " <deepchem.feat.mol_graphs.ConvMol object at 0x7f3b35d6b610>\n",
            " <deepchem.feat.mol_graphs.ConvMol object at 0x7f3b35b87a00>\n",
            " <deepchem.feat.mol_graphs.ConvMol object at 0x7f3b35afc370>\n",
            " <deepchem.feat.mol_graphs.ConvMol object at 0x7f3b35cc93d0>\n",
            " <deepchem.feat.mol_graphs.ConvMol object at 0x7f3b35c7c850>\n",
            " <deepchem.feat.mol_graphs.ConvMol object at 0x7f3b35c7c8b0>\n",
            " <deepchem.feat.mol_graphs.ConvMol object at 0x7f3b359889a0>\n",
            " <deepchem.feat.mol_graphs.ConvMol object at 0x7f3b35bcda00>\n",
            " <deepchem.feat.mol_graphs.ConvMol object at 0x7f3b35bcd1f0>\n",
            " <deepchem.feat.mol_graphs.ConvMol object at 0x7f3b35a966d0>\n",
            " <deepchem.feat.mol_graphs.ConvMol object at 0x7f3b35a96f70>\n",
            " <deepchem.feat.mol_graphs.ConvMol object at 0x7f3b357ba250>\n",
            " <deepchem.feat.mol_graphs.ConvMol object at 0x7f3b35b8b250>\n",
            " <deepchem.feat.mol_graphs.ConvMol object at 0x7f3b358a3670>\n",
            " <deepchem.feat.mol_graphs.ConvMol object at 0x7f3b358a3b80>\n",
            " <deepchem.feat.mol_graphs.ConvMol object at 0x7f3b3578cbb0>\n",
            " <deepchem.feat.mol_graphs.ConvMol object at 0x7f3b35d8c520>\n",
            " <deepchem.feat.mol_graphs.ConvMol object at 0x7f3b35b8cbe0>\n",
            " <deepchem.feat.mol_graphs.ConvMol object at 0x7f3b35b42880>\n",
            " <deepchem.feat.mol_graphs.ConvMol object at 0x7f3b35b42e20>\n",
            " <deepchem.feat.mol_graphs.ConvMol object at 0x7f3b35ea6040>\n",
            " <deepchem.feat.mol_graphs.ConvMol object at 0x7f3b35aec550>\n",
            " <deepchem.feat.mol_graphs.ConvMol object at 0x7f3b35e5aa30>\n",
            " <deepchem.feat.mol_graphs.ConvMol object at 0x7f3b35e5af70>\n",
            " <deepchem.feat.mol_graphs.ConvMol object at 0x7f3b3607b0a0>\n",
            " <deepchem.feat.mol_graphs.ConvMol object at 0x7f3b3598f4c0>\n",
            " <deepchem.feat.mol_graphs.ConvMol object at 0x7f3b3598fa60>\n",
            " <deepchem.feat.mol_graphs.ConvMol object at 0x7f3b35b8f250>\n",
            " <deepchem.feat.mol_graphs.ConvMol object at 0x7f3b35790b80>\n",
            " <deepchem.feat.mol_graphs.ConvMol object at 0x7f3b35790a30>\n",
            " <deepchem.feat.mol_graphs.ConvMol object at 0x7f3b35d92bb0>\n",
            " <deepchem.feat.mol_graphs.ConvMol object at 0x7f3b35992040>\n",
            " <deepchem.feat.mol_graphs.ConvMol object at 0x7f3b357c36a0>\n",
            " <deepchem.feat.mol_graphs.ConvMol object at 0x7f3b35e6d6d0>\n",
            " <deepchem.feat.mol_graphs.ConvMol object at 0x7f3b35e6d400>\n",
            " <deepchem.feat.mol_graphs.ConvMol object at 0x7f3b35d634c0>\n",
            " <deepchem.feat.mol_graphs.ConvMol object at 0x7f3b35d63cd0>\n",
            " <deepchem.feat.mol_graphs.ConvMol object at 0x7f3b35d63f70>\n",
            " <deepchem.feat.mol_graphs.ConvMol object at 0x7f3b357999a0>\n",
            " <deepchem.feat.mol_graphs.ConvMol object at 0x7f3b3604f2b0>\n",
            " <deepchem.feat.mol_graphs.ConvMol object at 0x7f3b3604f1c0>\n",
            " <deepchem.feat.mol_graphs.ConvMol object at 0x7f3b35d9b0d0>\n",
            " <deepchem.feat.mol_graphs.ConvMol object at 0x7f3b360554f0>\n",
            " <deepchem.feat.mol_graphs.ConvMol object at 0x7f3b35d9d5e0>\n",
            " <deepchem.feat.mol_graphs.ConvMol object at 0x7f3b35d9d820>\n",
            " <deepchem.feat.mol_graphs.ConvMol object at 0x7f3b3633f490>\n",
            " <deepchem.feat.mol_graphs.ConvMol object at 0x7f3b3633fa60>\n",
            " <deepchem.feat.mol_graphs.ConvMol object at 0x7f3b3615afd0>\n",
            " <deepchem.feat.mol_graphs.ConvMol object at 0x7f3b3615a5b0>\n",
            " <deepchem.feat.mol_graphs.ConvMol object at 0x7f3b35c443d0>\n",
            " <deepchem.feat.mol_graphs.ConvMol object at 0x7f3b3597ef40>\n",
            " <deepchem.feat.mol_graphs.ConvMol object at 0x7f3b3599e400>\n",
            " <deepchem.feat.mol_graphs.ConvMol object at 0x7f3b3599ebe0>\n",
            " <deepchem.feat.mol_graphs.ConvMol object at 0x7f3b35d9ec10>\n",
            " <deepchem.feat.mol_graphs.ConvMol object at 0x7f3b35bc48b0>\n",
            " <deepchem.feat.mol_graphs.ConvMol object at 0x7f3b35bc40d0>\n",
            " <deepchem.feat.mol_graphs.ConvMol object at 0x7f3b35ef7f40>\n",
            " <deepchem.feat.mol_graphs.ConvMol object at 0x7f3b35ef7bb0>\n",
            " <deepchem.feat.mol_graphs.ConvMol object at 0x7f3b35b6c970>\n",
            " <deepchem.feat.mol_graphs.ConvMol object at 0x7f3b35b6c700>\n",
            " <deepchem.feat.mol_graphs.ConvMol object at 0x7f3b35aa9550>\n",
            " <deepchem.feat.mol_graphs.ConvMol object at 0x7f3b35c17460>\n",
            " <deepchem.feat.mol_graphs.ConvMol object at 0x7f3b35c17760>\n",
            " <deepchem.feat.mol_graphs.ConvMol object at 0x7f3b35f49760>\n",
            " <deepchem.feat.mol_graphs.ConvMol object at 0x7f3b36945ac0>\n",
            " <deepchem.feat.mol_graphs.ConvMol object at 0x7f3b362486d0>\n",
            " <deepchem.feat.mol_graphs.ConvMol object at 0x7f3b35cf05b0>\n",
            " <deepchem.feat.mol_graphs.ConvMol object at 0x7f3b36245250>\n",
            " <deepchem.feat.mol_graphs.ConvMol object at 0x7f3b36245520>\n",
            " <deepchem.feat.mol_graphs.ConvMol object at 0x7f3b35d45a30>\n",
            " <deepchem.feat.mol_graphs.ConvMol object at 0x7f3b35d45f10>\n",
            " <deepchem.feat.mol_graphs.ConvMol object at 0x7f3b357f1370>\n",
            " <deepchem.feat.mol_graphs.ConvMol object at 0x7f3b35ab23d0>\n",
            " <deepchem.feat.mol_graphs.ConvMol object at 0x7f3b35e7d3a0>\n",
            " <deepchem.feat.mol_graphs.ConvMol object at 0x7f3b35e8eeb0>\n",
            " <deepchem.feat.mol_graphs.ConvMol object at 0x7f3b35e8eca0>\n",
            " <deepchem.feat.mol_graphs.ConvMol object at 0x7f3b35a4daf0>\n",
            " <deepchem.feat.mol_graphs.ConvMol object at 0x7f3b35a4d850>\n",
            " <deepchem.feat.mol_graphs.ConvMol object at 0x7f3b35ce46d0>\n",
            " <deepchem.feat.mol_graphs.ConvMol object at 0x7f3b35b9bf10>\n",
            " <deepchem.feat.mol_graphs.ConvMol object at 0x7f3b3589b940>\n",
            " <deepchem.feat.mol_graphs.ConvMol object at 0x7f3b35d55940>\n",
            " <deepchem.feat.mol_graphs.ConvMol object at 0x7f3b35c9b2b0>\n",
            " <deepchem.feat.mol_graphs.ConvMol object at 0x7f3b35c9b8b0>\n",
            " <deepchem.feat.mol_graphs.ConvMol object at 0x7f3b35d4c850>\n",
            " <deepchem.feat.mol_graphs.ConvMol object at 0x7f3b357fce20>\n",
            " <deepchem.feat.mol_graphs.ConvMol object at 0x7f3b35ecc940>\n",
            " <deepchem.feat.mol_graphs.ConvMol object at 0x7f3b35eccdc0>\n",
            " <deepchem.feat.mol_graphs.ConvMol object at 0x7f3b35a46a30>\n",
            " <deepchem.feat.mol_graphs.ConvMol object at 0x7f3b35ba4100>\n",
            " <deepchem.feat.mol_graphs.ConvMol object at 0x7f3b35ba45e0>\n",
            " <deepchem.feat.mol_graphs.ConvMol object at 0x7f3b35da94c0>\n",
            " <deepchem.feat.mol_graphs.ConvMol object at 0x7f3b35db8700>\n",
            " <deepchem.feat.mol_graphs.ConvMol object at 0x7f3b35db8c70>\n",
            " <deepchem.feat.mol_graphs.ConvMol object at 0x7f3b359c3040>\n",
            " <deepchem.feat.mol_graphs.ConvMol object at 0x7f3b363ac4c0>\n",
            " <deepchem.feat.mol_graphs.ConvMol object at 0x7f3b363acbb0>\n",
            " <deepchem.feat.mol_graphs.ConvMol object at 0x7f3b35bac1c0>\n",
            " <deepchem.feat.mol_graphs.ConvMol object at 0x7f3b35bacfa0>\n",
            " <deepchem.feat.mol_graphs.ConvMol object at 0x7f3b35947850>\n",
            " <deepchem.feat.mol_graphs.ConvMol object at 0x7f3b35947a30>\n",
            " <deepchem.feat.mol_graphs.ConvMol object at 0x7f3b3617cca0>\n",
            " <deepchem.feat.mol_graphs.ConvMol object at 0x7f3b35dadee0>\n",
            " <deepchem.feat.mol_graphs.ConvMol object at 0x7f3b35e5edc0>\n",
            " <deepchem.feat.mol_graphs.ConvMol object at 0x7f3b35e5e280>\n",
            " <deepchem.feat.mol_graphs.ConvMol object at 0x7f3b35ea8130>\n",
            " <deepchem.feat.mol_graphs.ConvMol object at 0x7f3b35ea85e0>\n",
            " <deepchem.feat.mol_graphs.ConvMol object at 0x7f3b35da0a90>\n",
            " <deepchem.feat.mol_graphs.ConvMol object at 0x7f3b35a9d190>\n",
            " <deepchem.feat.mol_graphs.ConvMol object at 0x7f3b35baec70>\n",
            " <deepchem.feat.mol_graphs.ConvMol object at 0x7f3b35b97190>\n",
            " <deepchem.feat.mol_graphs.ConvMol object at 0x7f3b357afaf0>\n",
            " <deepchem.feat.mol_graphs.ConvMol object at 0x7f3b35dd1be0>\n",
            " <deepchem.feat.mol_graphs.ConvMol object at 0x7f3b35dd1f70>\n",
            " <deepchem.feat.mol_graphs.ConvMol object at 0x7f3b359e8c70>\n",
            " <deepchem.feat.mol_graphs.ConvMol object at 0x7f3b35dfea90>\n",
            " <deepchem.feat.mol_graphs.ConvMol object at 0x7f3b35dfef40>\n",
            " <deepchem.feat.mol_graphs.ConvMol object at 0x7f3b35bb0b20>\n",
            " <deepchem.feat.mol_graphs.ConvMol object at 0x7f3b35eb0520>\n",
            " <deepchem.feat.mol_graphs.ConvMol object at 0x7f3b3616bbe0>\n",
            " <deepchem.feat.mol_graphs.ConvMol object at 0x7f3b3616b6d0>\n",
            " <deepchem.feat.mol_graphs.ConvMol object at 0x7f3b35ec2820>\n",
            " <deepchem.feat.mol_graphs.ConvMol object at 0x7f3b35ec2940>\n",
            " <deepchem.feat.mol_graphs.ConvMol object at 0x7f3b35c62220>\n",
            " <deepchem.feat.mol_graphs.ConvMol object at 0x7f3b35db1340>\n",
            " <deepchem.feat.mol_graphs.ConvMol object at 0x7f3b360691f0>\n",
            " <deepchem.feat.mol_graphs.ConvMol object at 0x7f3b36069040>\n",
            " <deepchem.feat.mol_graphs.ConvMol object at 0x7f3b359b1f40>\n",
            " <deepchem.feat.mol_graphs.ConvMol object at 0x7f3b35f7aa00>\n",
            " <deepchem.feat.mol_graphs.ConvMol object at 0x7f3b35f7afa0>\n",
            " <deepchem.feat.mol_graphs.ConvMol object at 0x7f3b35b9d850>\n",
            " <deepchem.feat.mol_graphs.ConvMol object at 0x7f3b357a5b80>\n",
            " <deepchem.feat.mol_graphs.ConvMol object at 0x7f3b35c5c2e0>\n",
            " <deepchem.feat.mol_graphs.ConvMol object at 0x7f3b35c5c910>\n",
            " <deepchem.feat.mol_graphs.ConvMol object at 0x7f3b35b82ee0>\n",
            " <deepchem.feat.mol_graphs.ConvMol object at 0x7f3b357d5c40>\n",
            " <deepchem.feat.mol_graphs.ConvMol object at 0x7f3b35aaf130>\n",
            " <deepchem.feat.mol_graphs.ConvMol object at 0x7f3b35aaf8b0>\n",
            " <deepchem.feat.mol_graphs.ConvMol object at 0x7f3b35bb4070>\n",
            " <deepchem.feat.mol_graphs.ConvMol object at 0x7f3b35bb43a0>\n",
            " <deepchem.feat.mol_graphs.ConvMol object at 0x7f3b35929d30>\n",
            " <deepchem.feat.mol_graphs.ConvMol object at 0x7f3b35b4b730>\n",
            " <deepchem.feat.mol_graphs.ConvMol object at 0x7f3b36348d90>\n",
            " <deepchem.feat.mol_graphs.ConvMol object at 0x7f3b35bb5fd0>\n",
            " <deepchem.feat.mol_graphs.ConvMol object at 0x7f3b35bb5640>\n",
            " <deepchem.feat.mol_graphs.ConvMol object at 0x7f3b36163100>\n",
            " <deepchem.feat.mol_graphs.ConvMol object at 0x7f3b35db5af0>\n",
            " <deepchem.feat.mol_graphs.ConvMol object at 0x7f3b35db50a0>\n",
            " <deepchem.feat.mol_graphs.ConvMol object at 0x7f3b3636b850>\n",
            " <deepchem.feat.mol_graphs.ConvMol object at 0x7f3b3637d400>\n",
            " <deepchem.feat.mol_graphs.ConvMol object at 0x7f3b3637dac0>\n",
            " <deepchem.feat.mol_graphs.ConvMol object at 0x7f3b359b81f0>\n",
            " <deepchem.feat.mol_graphs.ConvMol object at 0x7f3b359b8880>\n",
            " <deepchem.feat.mol_graphs.ConvMol object at 0x7f3b35bbabb0>\n",
            " <deepchem.feat.mol_graphs.ConvMol object at 0x7f3b359bbd90>\n",
            " <deepchem.feat.mol_graphs.ConvMol object at 0x7f3b35bbb670>\n",
            " <deepchem.feat.mol_graphs.ConvMol object at 0x7f3b35bbb820>\n",
            " <deepchem.feat.mol_graphs.ConvMol object at 0x7f3b35dbc730>\n",
            " <deepchem.feat.mol_graphs.ConvMol object at 0x7f3b358f4580>\n",
            " <deepchem.feat.mol_graphs.ConvMol object at 0x7f3b35b29c70>\n",
            " <deepchem.feat.mol_graphs.ConvMol object at 0x7f3b35c41040>\n",
            " <deepchem.feat.mol_graphs.ConvMol object at 0x7f3b35c419d0>\n",
            " <deepchem.feat.mol_graphs.ConvMol object at 0x7f3b35bbf910>\n",
            " <deepchem.feat.mol_graphs.ConvMol object at 0x7f3b357ee1c0>\n",
            " <deepchem.feat.mol_graphs.ConvMol object at 0x7f3b357ee5b0>\n",
            " <deepchem.feat.mol_graphs.ConvMol object at 0x7f3b35bc05e0>\n",
            " <deepchem.feat.mol_graphs.ConvMol object at 0x7f3b357f5e50>\n",
            " <deepchem.feat.mol_graphs.ConvMol object at 0x7f3b357f5ca0>\n",
            " <deepchem.feat.mol_graphs.ConvMol object at 0x7f3b3626dfa0>\n",
            " <deepchem.feat.mol_graphs.ConvMol object at 0x7f3b3626ddc0>\n",
            " <deepchem.feat.mol_graphs.ConvMol object at 0x7f3b36323e80>\n",
            " <deepchem.feat.mol_graphs.ConvMol object at 0x7f3b359c55e0>\n",
            " <deepchem.feat.mol_graphs.ConvMol object at 0x7f3b359c5fd0>\n",
            " <deepchem.feat.mol_graphs.ConvMol object at 0x7f3b357c59d0>\n",
            " <deepchem.feat.mol_graphs.ConvMol object at 0x7f3b3596ea00>\n",
            " <deepchem.feat.mol_graphs.ConvMol object at 0x7f3b3596e0a0>\n",
            " <deepchem.feat.mol_graphs.ConvMol object at 0x7f3b35c509d0>\n",
            " <deepchem.feat.mol_graphs.ConvMol object at 0x7f3b35b9a8b0>\n",
            " <deepchem.feat.mol_graphs.ConvMol object at 0x7f3b35ec7250>\n",
            " <deepchem.feat.mol_graphs.ConvMol object at 0x7f3b35ec7940>\n",
            " <deepchem.feat.mol_graphs.ConvMol object at 0x7f3b359ef790>\n",
            " <deepchem.feat.mol_graphs.ConvMol object at 0x7f3b359fb850>\n",
            " <deepchem.feat.mol_graphs.ConvMol object at 0x7f3b359fb3a0>\n",
            " <deepchem.feat.mol_graphs.ConvMol object at 0x7f3b35bc8550>\n",
            " <deepchem.feat.mol_graphs.ConvMol object at 0x7f3b35bc8340>\n",
            " <deepchem.feat.mol_graphs.ConvMol object at 0x7f3b35fbffd0>\n",
            " <deepchem.feat.mol_graphs.ConvMol object at 0x7f3b35dc8c40>\n",
            " <deepchem.feat.mol_graphs.ConvMol object at 0x7f3b35dc8880>\n",
            " <deepchem.feat.mol_graphs.ConvMol object at 0x7f3b35ad5130>\n",
            " <deepchem.feat.mol_graphs.ConvMol object at 0x7f3b3634af40>\n",
            " <deepchem.feat.mol_graphs.ConvMol object at 0x7f3b35c6f130>\n",
            " <deepchem.feat.mol_graphs.ConvMol object at 0x7f3b35c6f340>\n",
            " <deepchem.feat.mol_graphs.ConvMol object at 0x7f3b357c9400>\n",
            " <deepchem.feat.mol_graphs.ConvMol object at 0x7f3b35bc3790>\n",
            " <deepchem.feat.mol_graphs.ConvMol object at 0x7f3b35bc3670>\n",
            " <deepchem.feat.mol_graphs.ConvMol object at 0x7f3b35ec6580>\n",
            " <deepchem.feat.mol_graphs.ConvMol object at 0x7f3b35a1a700>\n",
            " <deepchem.feat.mol_graphs.ConvMol object at 0x7f3b3585e430>\n",
            " <deepchem.feat.mol_graphs.ConvMol object at 0x7f3b3585e7f0>\n",
            " <deepchem.feat.mol_graphs.ConvMol object at 0x7f3b3594cb80>\n",
            " <deepchem.feat.mol_graphs.ConvMol object at 0x7f3b3594c1f0>\n",
            " <deepchem.feat.mol_graphs.ConvMol object at 0x7f3b35dcbdc0>\n",
            " <deepchem.feat.mol_graphs.ConvMol object at 0x7f3b359cc8e0>\n",
            " <deepchem.feat.mol_graphs.ConvMol object at 0x7f3b359d37c0>\n",
            " <deepchem.feat.mol_graphs.ConvMol object at 0x7f3b359d33a0>\n",
            " <deepchem.feat.mol_graphs.ConvMol object at 0x7f3b35f7e310>\n",
            " <deepchem.feat.mol_graphs.ConvMol object at 0x7f3b35be07f0>\n",
            " <deepchem.feat.mol_graphs.ConvMol object at 0x7f3b35be0370>\n",
            " <deepchem.feat.mol_graphs.ConvMol object at 0x7f3b35b52d60>\n",
            " <deepchem.feat.mol_graphs.ConvMol object at 0x7f3b36317070>\n",
            " <deepchem.feat.mol_graphs.ConvMol object at 0x7f3b36317b50>\n",
            " <deepchem.feat.mol_graphs.ConvMol object at 0x7f3b35bd8160>\n",
            " <deepchem.feat.mol_graphs.ConvMol object at 0x7f3b359cffd0>\n",
            " <deepchem.feat.mol_graphs.ConvMol object at 0x7f3b3634fa30>\n",
            " <deepchem.feat.mol_graphs.ConvMol object at 0x7f3b3634f370>\n",
            " <deepchem.feat.mol_graphs.ConvMol object at 0x7f3b35bd29d0>\n",
            " <deepchem.feat.mol_graphs.ConvMol object at 0x7f3b362b4610>\n",
            " <deepchem.feat.mol_graphs.ConvMol object at 0x7f3b35e9ba60>\n",
            " <deepchem.feat.mol_graphs.ConvMol object at 0x7f3b35e9bbb0>\n",
            " <deepchem.feat.mol_graphs.ConvMol object at 0x7f3b35be8a00>\n",
            " <deepchem.feat.mol_graphs.ConvMol object at 0x7f3b35aa21f0>\n",
            " <deepchem.feat.mol_graphs.ConvMol object at 0x7f3b35efbb50>\n",
            " <deepchem.feat.mol_graphs.ConvMol object at 0x7f3b35ef8dc0>\n",
            " <deepchem.feat.mol_graphs.ConvMol object at 0x7f3b35ef87f0>\n",
            " <deepchem.feat.mol_graphs.ConvMol object at 0x7f3b35af8880>\n",
            " <deepchem.feat.mol_graphs.ConvMol object at 0x7f3b35bd55b0>\n",
            " <deepchem.feat.mol_graphs.ConvMol object at 0x7f3b35bd5bb0>\n",
            " <deepchem.feat.mol_graphs.ConvMol object at 0x7f3b35f03790>\n",
            " <deepchem.feat.mol_graphs.ConvMol object at 0x7f3b35b4edc0>\n",
            " <deepchem.feat.mol_graphs.ConvMol object at 0x7f3b35b4e820>\n",
            " <deepchem.feat.mol_graphs.ConvMol object at 0x7f3b35dfa550>\n",
            " <deepchem.feat.mol_graphs.ConvMol object at 0x7f3b359d7520>\n",
            " <deepchem.feat.mol_graphs.ConvMol object at 0x7f3b359d7700>\n",
            " <deepchem.feat.mol_graphs.ConvMol object at 0x7f3b35bf3190>\n",
            " <deepchem.feat.mol_graphs.ConvMol object at 0x7f3b35bf35b0>\n",
            " <deepchem.feat.mol_graphs.ConvMol object at 0x7f3b35b8dd30>\n",
            " <deepchem.feat.mol_graphs.ConvMol object at 0x7f3b35bdc700>\n",
            " <deepchem.feat.mol_graphs.ConvMol object at 0x7f3b35bdc940>\n",
            " <deepchem.feat.mol_graphs.ConvMol object at 0x7f3b35ddaa30>\n",
            " <deepchem.feat.mol_graphs.ConvMol object at 0x7f3b35c08d60>\n",
            " <deepchem.feat.mol_graphs.ConvMol object at 0x7f3b357dae50>\n",
            " <deepchem.feat.mol_graphs.ConvMol object at 0x7f3b357dae80>\n",
            " <deepchem.feat.mol_graphs.ConvMol object at 0x7f3b35ddc0a0>\n",
            " <deepchem.feat.mol_graphs.ConvMol object at 0x7f3b358bdd00>\n",
            " <deepchem.feat.mol_graphs.ConvMol object at 0x7f3b35eefca0>\n",
            " <deepchem.feat.mol_graphs.ConvMol object at 0x7f3b35d610d0>\n",
            " <deepchem.feat.mol_graphs.ConvMol object at 0x7f3b35d61760>\n",
            " <deepchem.feat.mol_graphs.ConvMol object at 0x7f3b359dfcd0>\n",
            " <deepchem.feat.mol_graphs.ConvMol object at 0x7f3b35f50280>\n",
            " <deepchem.feat.mol_graphs.ConvMol object at 0x7f3b35da5520>\n",
            " <deepchem.feat.mol_graphs.ConvMol object at 0x7f3b35da5760>\n",
            " <deepchem.feat.mol_graphs.ConvMol object at 0x7f3b35df00a0>\n",
            " <deepchem.feat.mol_graphs.ConvMol object at 0x7f3b35df0370>\n",
            " <deepchem.feat.mol_graphs.ConvMol object at 0x7f3b363505e0>\n",
            " <deepchem.feat.mol_graphs.ConvMol object at 0x7f3b35be4700>\n",
            " <deepchem.feat.mol_graphs.ConvMol object at 0x7f3b35be4850>\n",
            " <deepchem.feat.mol_graphs.ConvMol object at 0x7f3b35de4520>\n",
            " <deepchem.feat.mol_graphs.ConvMol object at 0x7f3b35abd850>\n",
            " <deepchem.feat.mol_graphs.ConvMol object at 0x7f3b357e5190>\n",
            " <deepchem.feat.mol_graphs.ConvMol object at 0x7f3b357e5070>\n",
            " <deepchem.feat.mol_graphs.ConvMol object at 0x7f3b35d50490>\n",
            " <deepchem.feat.mol_graphs.ConvMol object at 0x7f3b35d50a60>\n",
            " <deepchem.feat.mol_graphs.ConvMol object at 0x7f3b35bfc640>\n",
            " <deepchem.feat.mol_graphs.ConvMol object at 0x7f3b35a6e250>\n",
            " <deepchem.feat.mol_graphs.ConvMol object at 0x7f3b35a2b1f0>\n",
            " <deepchem.feat.mol_graphs.ConvMol object at 0x7f3b35a2b9d0>\n",
            " <deepchem.feat.mol_graphs.ConvMol object at 0x7f3b3584e910>\n",
            " <deepchem.feat.mol_graphs.ConvMol object at 0x7f3b3584e220>\n",
            " <deepchem.feat.mol_graphs.ConvMol object at 0x7f3b35de8430>\n",
            " <deepchem.feat.mol_graphs.ConvMol object at 0x7f3b3584a100>\n",
            " <deepchem.feat.mol_graphs.ConvMol object at 0x7f3b3584adf0>\n",
            " <deepchem.feat.mol_graphs.ConvMol object at 0x7f3b357e94c0>\n",
            " <deepchem.feat.mol_graphs.ConvMol object at 0x7f3b361ea0a0>\n",
            " <deepchem.feat.mol_graphs.ConvMol object at 0x7f3b35df5910>\n",
            " <deepchem.feat.mol_graphs.ConvMol object at 0x7f3b359b4370>\n",
            " <deepchem.feat.mol_graphs.ConvMol object at 0x7f3b36265f70>\n",
            " <deepchem.feat.mol_graphs.ConvMol object at 0x7f3b36265a00>\n",
            " <deepchem.feat.mol_graphs.ConvMol object at 0x7f3b35da2040>\n",
            " <deepchem.feat.mol_graphs.ConvMol object at 0x7f3b359ec7c0>\n",
            " <deepchem.feat.mol_graphs.ConvMol object at 0x7f3b35bf71c0>\n",
            " <deepchem.feat.mol_graphs.ConvMol object at 0x7f3b35bf7070>\n",
            " <deepchem.feat.mol_graphs.ConvMol object at 0x7f3b362c28b0>\n",
            " <deepchem.feat.mol_graphs.ConvMol object at 0x7f3b35a09d90>\n",
            " <deepchem.feat.mol_graphs.ConvMol object at 0x7f3b35a3ca60>\n",
            " <deepchem.feat.mol_graphs.ConvMol object at 0x7f3b35bf0f10>\n",
            " <deepchem.feat.mol_graphs.ConvMol object at 0x7f3b359f3a00>\n",
            " <deepchem.feat.mol_graphs.ConvMol object at 0x7f3b357f9460>\n",
            " <deepchem.feat.mol_graphs.ConvMol object at 0x7f3b359a8760>\n",
            " <deepchem.feat.mol_graphs.ConvMol object at 0x7f3b359a8fd0>\n",
            " <deepchem.feat.mol_graphs.ConvMol object at 0x7f3b35a059a0>\n",
            " <deepchem.feat.mol_graphs.ConvMol object at 0x7f3b3615c1c0>\n",
            " <deepchem.feat.mol_graphs.ConvMol object at 0x7f3b3615c8b0>\n",
            " <deepchem.feat.mol_graphs.ConvMol object at 0x7f3b3614e430>\n",
            " <deepchem.feat.mol_graphs.ConvMol object at 0x7f3b361440a0>\n",
            " <deepchem.feat.mol_graphs.ConvMol object at 0x7f3b36144c10>\n",
            " <deepchem.feat.mol_graphs.ConvMol object at 0x7f3b35e3c040>\n",
            " <deepchem.feat.mol_graphs.ConvMol object at 0x7f3b35e06130>\n",
            " <deepchem.feat.mol_graphs.ConvMol object at 0x7f3b35e06c10>\n",
            " <deepchem.feat.mol_graphs.ConvMol object at 0x7f3b35e0b9d0>\n",
            " <deepchem.feat.mol_graphs.ConvMol object at 0x7f3b35e111c0>\n",
            " <deepchem.feat.mol_graphs.ConvMol object at 0x7f3b35e13d90>\n",
            " <deepchem.feat.mol_graphs.ConvMol object at 0x7f3b35e174f0>\n",
            " <deepchem.feat.mol_graphs.ConvMol object at 0x7f3b35e1d070>\n",
            " <deepchem.feat.mol_graphs.ConvMol object at 0x7f3b35e1d940>\n",
            " <deepchem.feat.mol_graphs.ConvMol object at 0x7f3b35e23a00>\n",
            " <deepchem.feat.mol_graphs.ConvMol object at 0x7f3b35e2e370>\n",
            " <deepchem.feat.mol_graphs.ConvMol object at 0x7f3b35e2ee20>\n",
            " <deepchem.feat.mol_graphs.ConvMol object at 0x7f3b35e34730>\n",
            " <deepchem.feat.mol_graphs.ConvMol object at 0x7f3b35e37340>\n",
            " <deepchem.feat.mol_graphs.ConvMol object at 0x7f3b35e37e80>\n",
            " <deepchem.feat.mol_graphs.ConvMol object at 0x7f3b35e41df0>\n",
            " <deepchem.feat.mol_graphs.ConvMol object at 0x7f3b35f0f5b0>\n",
            " <deepchem.feat.mol_graphs.ConvMol object at 0x7f3b35f20190>\n",
            " <deepchem.feat.mol_graphs.ConvMol object at 0x7f3b35f20a90>\n",
            " <deepchem.feat.mol_graphs.ConvMol object at 0x7f3b35f16460>\n",
            " <deepchem.feat.mol_graphs.ConvMol object at 0x7f3b35f42190>\n",
            " <deepchem.feat.mol_graphs.ConvMol object at 0x7f3b35f42dc0>\n",
            " <deepchem.feat.mol_graphs.ConvMol object at 0x7f3b35f08820>\n",
            " <deepchem.feat.mol_graphs.ConvMol object at 0x7f3b35f09220>\n",
            " <deepchem.feat.mol_graphs.ConvMol object at 0x7f3b35f230a0>\n",
            " <deepchem.feat.mol_graphs.ConvMol object at 0x7f3b35f23a30>\n",
            " <deepchem.feat.mol_graphs.ConvMol object at 0x7f3b35f17790>\n",
            " <deepchem.feat.mol_graphs.ConvMol object at 0x7f3b35f12040>\n",
            " <deepchem.feat.mol_graphs.ConvMol object at 0x7f3b35f12910>\n",
            " <deepchem.feat.mol_graphs.ConvMol object at 0x7f3b35f0e130>\n",
            " <deepchem.feat.mol_graphs.ConvMol object at 0x7f3b35f0e910>\n",
            " <deepchem.feat.mol_graphs.ConvMol object at 0x7f3b35fa4070>\n",
            " <deepchem.feat.mol_graphs.ConvMol object at 0x7f3b35fa46d0>\n",
            " <deepchem.feat.mol_graphs.ConvMol object at 0x7f3b35fb22b0>\n",
            " <deepchem.feat.mol_graphs.ConvMol object at 0x7f3b35fb2be0>\n",
            " <deepchem.feat.mol_graphs.ConvMol object at 0x7f3b35fc12b0>\n",
            " <deepchem.feat.mol_graphs.ConvMol object at 0x7f3b35fc1ac0>\n",
            " <deepchem.feat.mol_graphs.ConvMol object at 0x7f3b35fc0730>\n",
            " <deepchem.feat.mol_graphs.ConvMol object at 0x7f3b35fb4040>\n",
            " <deepchem.feat.mol_graphs.ConvMol object at 0x7f3b35fb4ca0>\n",
            " <deepchem.feat.mol_graphs.ConvMol object at 0x7f3b35f928e0>\n",
            " <deepchem.feat.mol_graphs.ConvMol object at 0x7f3b35f8f760>\n",
            " <deepchem.feat.mol_graphs.ConvMol object at 0x7f3b35fa33d0>\n",
            " <deepchem.feat.mol_graphs.ConvMol object at 0x7f3b35fa3fd0>\n",
            " <deepchem.feat.mol_graphs.ConvMol object at 0x7f3b35f9f820>\n",
            " <deepchem.feat.mol_graphs.ConvMol object at 0x7f3b35f94190>\n",
            " <deepchem.feat.mol_graphs.ConvMol object at 0x7f3b35f94d30>\n",
            " <deepchem.feat.mol_graphs.ConvMol object at 0x7f3b35f8db50>\n",
            " <deepchem.feat.mol_graphs.ConvMol object at 0x7f3b35f87550>\n",
            " <deepchem.feat.mol_graphs.ConvMol object at 0x7f3b35f87d90>\n",
            " <deepchem.feat.mol_graphs.ConvMol object at 0x7f3b362ff760>\n",
            " <deepchem.feat.mol_graphs.ConvMol object at 0x7f3b362ef220>\n",
            " <deepchem.feat.mol_graphs.ConvMol object at 0x7f3b362ef910>\n",
            " <deepchem.feat.mol_graphs.ConvMol object at 0x7f3b362fc490>\n",
            " <deepchem.feat.mol_graphs.ConvMol object at 0x7f3b362fca60>\n",
            " <deepchem.feat.mol_graphs.ConvMol object at 0x7f3b362f4310>\n",
            " <deepchem.feat.mol_graphs.ConvMol object at 0x7f3b362f4d30>\n",
            " <deepchem.feat.mol_graphs.ConvMol object at 0x7f3b362de4c0>\n",
            " <deepchem.feat.mol_graphs.ConvMol object at 0x7f3b362def40>\n",
            " <deepchem.feat.mol_graphs.ConvMol object at 0x7f3b362e7310>\n",
            " <deepchem.feat.mol_graphs.ConvMol object at 0x7f3b362e3130>\n",
            " <deepchem.feat.mol_graphs.ConvMol object at 0x7f3b362e3fd0>\n",
            " <deepchem.feat.mol_graphs.ConvMol object at 0x7f3b362d7610>\n",
            " <deepchem.feat.mol_graphs.ConvMol object at 0x7f3b362d7f10>\n",
            " <deepchem.feat.mol_graphs.ConvMol object at 0x7f3b362cfa90>\n",
            " <deepchem.feat.mol_graphs.ConvMol object at 0x7f3b362c45e0>\n",
            " <deepchem.feat.mol_graphs.ConvMol object at 0x7f3b36232100>\n",
            " <deepchem.feat.mol_graphs.ConvMol object at 0x7f3b36204070>\n",
            " <deepchem.feat.mol_graphs.ConvMol object at 0x7f3b36204a30>\n",
            " <deepchem.feat.mol_graphs.ConvMol object at 0x7f3b36227340>\n",
            " <deepchem.feat.mol_graphs.ConvMol object at 0x7f3b362279d0>\n",
            " <deepchem.feat.mol_graphs.ConvMol object at 0x7f3b36233160>\n",
            " <deepchem.feat.mol_graphs.ConvMol object at 0x7f3b3623e190>\n",
            " <deepchem.feat.mol_graphs.ConvMol object at 0x7f3b3623eca0>\n",
            " <deepchem.feat.mol_graphs.ConvMol object at 0x7f3b36234370>\n",
            " <deepchem.feat.mol_graphs.ConvMol object at 0x7f3b36226670>\n",
            " <deepchem.feat.mol_graphs.ConvMol object at 0x7f3b36229700>\n",
            " <deepchem.feat.mol_graphs.ConvMol object at 0x7f3b36229df0>\n",
            " <deepchem.feat.mol_graphs.ConvMol object at 0x7f3b3621f580>\n",
            " <deepchem.feat.mol_graphs.ConvMol object at 0x7f3b3621ff70>\n",
            " <deepchem.feat.mol_graphs.ConvMol object at 0x7f3b3621ca00>\n",
            " <deepchem.feat.mol_graphs.ConvMol object at 0x7f3b36212c40>\n",
            " <deepchem.feat.mol_graphs.ConvMol object at 0x7f3b36209be0>\n",
            " <deepchem.feat.mol_graphs.ConvMol object at 0x7f3b36104ca0>\n",
            " <deepchem.feat.mol_graphs.ConvMol object at 0x7f3b361364f0>\n",
            " <deepchem.feat.mol_graphs.ConvMol object at 0x7f3b36136ca0>\n",
            " <deepchem.feat.mol_graphs.ConvMol object at 0x7f3b3612e8e0>\n",
            " <deepchem.feat.mol_graphs.ConvMol object at 0x7f3b36143100>\n",
            " <deepchem.feat.mol_graphs.ConvMol object at 0x7f3b3613f190>\n",
            " <deepchem.feat.mol_graphs.ConvMol object at 0x7f3b3613fbe0>\n",
            " <deepchem.feat.mol_graphs.ConvMol object at 0x7f3b36133c40>\n",
            " <deepchem.feat.mol_graphs.ConvMol object at 0x7f3b3612f730>\n",
            " <deepchem.feat.mol_graphs.ConvMol object at 0x7f3b3612ff40>\n",
            " <deepchem.feat.mol_graphs.ConvMol object at 0x7f3b3611e2e0>\n",
            " <deepchem.feat.mol_graphs.ConvMol object at 0x7f3b3611eeb0>\n",
            " <deepchem.feat.mol_graphs.ConvMol object at 0x7f3b36115940>\n",
            " <deepchem.feat.mol_graphs.ConvMol object at 0x7f3b3610f3d0>\n",
            " <deepchem.feat.mol_graphs.ConvMol object at 0x7f3b3610f9d0>\n",
            " <deepchem.feat.mol_graphs.ConvMol object at 0x7f3b36028730>\n",
            " <deepchem.feat.mol_graphs.ConvMol object at 0x7f3b3601a0d0>\n",
            " <deepchem.feat.mol_graphs.ConvMol object at 0x7f3b3601a910>\n",
            " <deepchem.feat.mol_graphs.ConvMol object at 0x7f3b36027760>\n",
            " <deepchem.feat.mol_graphs.ConvMol object at 0x7f3b360391f0>\n",
            " <deepchem.feat.mol_graphs.ConvMol object at 0x7f3b36039d60>\n",
            " <deepchem.feat.mol_graphs.ConvMol object at 0x7f3b3603f790>\n",
            " <deepchem.feat.mol_graphs.ConvMol object at 0x7f3b3603a610>\n",
            " <deepchem.feat.mol_graphs.ConvMol object at 0x7f3b36023130>\n",
            " <deepchem.feat.mol_graphs.ConvMol object at 0x7f3b36023c10>\n",
            " <deepchem.feat.mol_graphs.ConvMol object at 0x7f3b36026130>\n",
            " <deepchem.feat.mol_graphs.ConvMol object at 0x7f3b3602b5b0>\n",
            " <deepchem.feat.mol_graphs.ConvMol object at 0x7f3b3601b400>\n",
            " <deepchem.feat.mol_graphs.ConvMol object at 0x7f3b36006160>\n",
            " <deepchem.feat.mol_graphs.ConvMol object at 0x7f3b36006a00>\n",
            " <deepchem.feat.mol_graphs.ConvMol object at 0x7f3b36009700>\n",
            " <deepchem.feat.mol_graphs.ConvMol object at 0x7f3b36094040>\n",
            " <deepchem.feat.mol_graphs.ConvMol object at 0x7f3b36094d00>\n",
            " <deepchem.feat.mol_graphs.ConvMol object at 0x7f3b3609c4f0>\n",
            " <deepchem.feat.mol_graphs.ConvMol object at 0x7f3b3609cf70>\n",
            " <deepchem.feat.mol_graphs.ConvMol object at 0x7f3b360b0700>\n",
            " <deepchem.feat.mol_graphs.ConvMol object at 0x7f3b360c29d0>\n",
            " <deepchem.feat.mol_graphs.ConvMol object at 0x7f3b360b7640>\n",
            " <deepchem.feat.mol_graphs.ConvMol object at 0x7f3b360af5b0>\n",
            " <deepchem.feat.mol_graphs.ConvMol object at 0x7f3b360aff10>\n",
            " <deepchem.feat.mol_graphs.ConvMol object at 0x7f3b3608f670>\n",
            " <deepchem.feat.mol_graphs.ConvMol object at 0x7f3b360a5250>\n",
            " <deepchem.feat.mol_graphs.ConvMol object at 0x7f3b360a58e0>\n",
            " <deepchem.feat.mol_graphs.ConvMol object at 0x7f3b36090ac0>\n",
            " <deepchem.feat.mol_graphs.ConvMol object at 0x7f3b36097220>\n",
            " <deepchem.feat.mol_graphs.ConvMol object at 0x7f3b36097bb0>\n",
            " <deepchem.feat.mol_graphs.ConvMol object at 0x7f3b3608a580>\n",
            " <deepchem.feat.mol_graphs.ConvMol object at 0x7f3b3608afa0>\n",
            " <deepchem.feat.mol_graphs.ConvMol object at 0x7f3b361f48b0>\n",
            " <deepchem.feat.mol_graphs.ConvMol object at 0x7f3b361deb80>\n",
            " <deepchem.feat.mol_graphs.ConvMol object at 0x7f3b361deee0>\n",
            " <deepchem.feat.mol_graphs.ConvMol object at 0x7f3b36201f70>\n",
            " <deepchem.feat.mol_graphs.ConvMol object at 0x7f3b36201b20>\n",
            " <deepchem.feat.mol_graphs.ConvMol object at 0x7f3b361ec310>\n",
            " <deepchem.feat.mol_graphs.ConvMol object at 0x7f3b361e9190>\n",
            " <deepchem.feat.mol_graphs.ConvMol object at 0x7f3b361e9610>\n",
            " <deepchem.feat.mol_graphs.ConvMol object at 0x7f3b361f2c10>\n",
            " <deepchem.feat.mol_graphs.ConvMol object at 0x7f3b361e4220>\n",
            " <deepchem.feat.mol_graphs.ConvMol object at 0x7f3b361e4df0>\n",
            " <deepchem.feat.mol_graphs.ConvMol object at 0x7f3b361d7550>\n",
            " <deepchem.feat.mol_graphs.ConvMol object at 0x7f3b361d44f0>\n",
            " <deepchem.feat.mol_graphs.ConvMol object at 0x7f3b361d08b0>\n",
            " <deepchem.feat.mol_graphs.ConvMol object at 0x7f3b361c7640>\n",
            " <deepchem.feat.mol_graphs.ConvMol object at 0x7f3b361c7730>\n",
            " <deepchem.feat.mol_graphs.ConvMol object at 0x7f3b361c8f70>\n",
            " <deepchem.feat.mol_graphs.ConvMol object at 0x7f3b361c3610>\n",
            " <deepchem.feat.mol_graphs.ConvMol object at 0x7f3b361c3760>\n",
            " <deepchem.feat.mol_graphs.ConvMol object at 0x7f3b361a9c40>\n",
            " <deepchem.feat.mol_graphs.ConvMol object at 0x7f3b361a96a0>\n",
            " <deepchem.feat.mol_graphs.ConvMol object at 0x7f3b361c2880>\n",
            " <deepchem.feat.mol_graphs.ConvMol object at 0x7f3b361b9c70>\n",
            " <deepchem.feat.mol_graphs.ConvMol object at 0x7f3b361b9670>\n",
            " <deepchem.feat.mol_graphs.ConvMol object at 0x7f3b361ae910>\n",
            " <deepchem.feat.mol_graphs.ConvMol object at 0x7f3b361b11c0>\n",
            " <deepchem.feat.mol_graphs.ConvMol object at 0x7f3b361ab520>\n",
            " <deepchem.feat.mol_graphs.ConvMol object at 0x7f3b361904f0>\n",
            " <deepchem.feat.mol_graphs.ConvMol object at 0x7f3b36190160>\n",
            " <deepchem.feat.mol_graphs.ConvMol object at 0x7f3b36196550>\n",
            " <deepchem.feat.mol_graphs.ConvMol object at 0x7f3b36194d90>\n",
            " <deepchem.feat.mol_graphs.ConvMol object at 0x7f3b36194f40>\n",
            " <deepchem.feat.mol_graphs.ConvMol object at 0x7f3b3618d5e0>\n",
            " <deepchem.feat.mol_graphs.ConvMol object at 0x7f3b360fa6d0>\n",
            " <deepchem.feat.mol_graphs.ConvMol object at 0x7f3b360fab20>\n",
            " <deepchem.feat.mol_graphs.ConvMol object at 0x7f3b360e8a90>\n",
            " <deepchem.feat.mol_graphs.ConvMol object at 0x7f3b360e8550>\n",
            " <deepchem.feat.mol_graphs.ConvMol object at 0x7f3b360cf490>\n",
            " <deepchem.feat.mol_graphs.ConvMol object at 0x7f3b36102c70>\n",
            " <deepchem.feat.mol_graphs.ConvMol object at 0x7f3b36102520>\n",
            " <deepchem.feat.mol_graphs.ConvMol object at 0x7f3b360fd7c0>\n",
            " <deepchem.feat.mol_graphs.ConvMol object at 0x7f3b360f5ac0>\n",
            " <deepchem.feat.mol_graphs.ConvMol object at 0x7f3b360f5e80>\n",
            " <deepchem.feat.mol_graphs.ConvMol object at 0x7f3b360ee070>\n",
            " <deepchem.feat.mol_graphs.ConvMol object at 0x7f3b360e9d90>\n",
            " <deepchem.feat.mol_graphs.ConvMol object at 0x7f3b360e9c70>\n",
            " <deepchem.feat.mol_graphs.ConvMol object at 0x7f3b360d2fa0>\n",
            " <deepchem.feat.mol_graphs.ConvMol object at 0x7f3b360d4250>\n",
            " <deepchem.feat.mol_graphs.ConvMol object at 0x7f3b360c7f40>\n",
            " <deepchem.feat.mol_graphs.ConvMol object at 0x7f3b360c7cd0>\n",
            " <deepchem.feat.mol_graphs.ConvMol object at 0x7f3b360ca310>\n",
            " <deepchem.feat.mol_graphs.ConvMol object at 0x7f3b35fc7a90>\n",
            " <deepchem.feat.mol_graphs.ConvMol object at 0x7f3b35fc7cd0>\n",
            " <deepchem.feat.mol_graphs.ConvMol object at 0x7f3b35fcb5b0>\n",
            " <deepchem.feat.mol_graphs.ConvMol object at 0x7f3b35fd0e80>\n",
            " <deepchem.feat.mol_graphs.ConvMol object at 0x7f3b35fd08b0>\n",
            " <deepchem.feat.mol_graphs.ConvMol object at 0x7f3b35fd5250>\n",
            " <deepchem.feat.mol_graphs.ConvMol object at 0x7f3b35fdbd00>\n",
            " <deepchem.feat.mol_graphs.ConvMol object at 0x7f3b35fe1b50>\n",
            " <deepchem.feat.mol_graphs.ConvMol object at 0x7f3b35fe1e20>\n",
            " <deepchem.feat.mol_graphs.ConvMol object at 0x7f3b35fe7af0>\n",
            " <deepchem.feat.mol_graphs.ConvMol object at 0x7f3b35fe7850>\n",
            " <deepchem.feat.mol_graphs.ConvMol object at 0x7f3b35fec430>\n",
            " <deepchem.feat.mol_graphs.ConvMol object at 0x7f3b35ff1dc0>\n",
            " <deepchem.feat.mol_graphs.ConvMol object at 0x7f3b35ff17f0>\n",
            " <deepchem.feat.mol_graphs.ConvMol object at 0x7f3b35ff6e80>\n",
            " <deepchem.feat.mol_graphs.ConvMol object at 0x7f3b35ffa9a0>\n",
            " <deepchem.feat.mol_graphs.ConvMol object at 0x7f3b35ffe610>\n",
            " <deepchem.feat.mol_graphs.ConvMol object at 0x7f3b35ffed90>\n",
            " <deepchem.feat.mol_graphs.ConvMol object at 0x7f3b35745730>\n",
            " <deepchem.feat.mol_graphs.ConvMol object at 0x7f3b35745bb0>\n",
            " <deepchem.feat.mol_graphs.ConvMol object at 0x7f3b35748700>\n",
            " <deepchem.feat.mol_graphs.ConvMol object at 0x7f3b3574fbe0>\n",
            " <deepchem.feat.mol_graphs.ConvMol object at 0x7f3b3574fdf0>\n",
            " <deepchem.feat.mol_graphs.ConvMol object at 0x7f3b357556d0>\n",
            " <deepchem.feat.mol_graphs.ConvMol object at 0x7f3b35755ac0>\n",
            " <deepchem.feat.mol_graphs.ConvMol object at 0x7f3b3575c6d0>\n",
            " <deepchem.feat.mol_graphs.ConvMol object at 0x7f3b3575ca00>\n",
            " <deepchem.feat.mol_graphs.ConvMol object at 0x7f3b35762310>\n",
            " <deepchem.feat.mol_graphs.ConvMol object at 0x7f3b357668b0>\n",
            " <deepchem.feat.mol_graphs.ConvMol object at 0x7f3b35766e20>\n",
            " <deepchem.feat.mol_graphs.ConvMol object at 0x7f3b3576c940>\n",
            " <deepchem.feat.mol_graphs.ConvMol object at 0x7f3b313e0070>\n",
            " <deepchem.feat.mol_graphs.ConvMol object at 0x7f3b313e0b20>\n",
            " <deepchem.feat.mol_graphs.ConvMol object at 0x7f3b313e5670>\n",
            " <deepchem.feat.mol_graphs.ConvMol object at 0x7f3b313ea490>\n",
            " <deepchem.feat.mol_graphs.ConvMol object at 0x7f3b313eac70>\n",
            " <deepchem.feat.mol_graphs.ConvMol object at 0x7f3b313ef3d0>\n",
            " <deepchem.feat.mol_graphs.ConvMol object at 0x7f3b313efa60>\n",
            " <deepchem.feat.mol_graphs.ConvMol object at 0x7f3b313f4460>\n",
            " <deepchem.feat.mol_graphs.ConvMol object at 0x7f3b313f4a90>\n",
            " <deepchem.feat.mol_graphs.ConvMol object at 0x7f3b313f91c0>\n",
            " <deepchem.feat.mol_graphs.ConvMol object at 0x7f3b313f9cd0>\n",
            " <deepchem.feat.mol_graphs.ConvMol object at 0x7f3b3137f2e0>\n",
            " <deepchem.feat.mol_graphs.ConvMol object at 0x7f3b3137fa30>\n",
            " <deepchem.feat.mol_graphs.ConvMol object at 0x7f3b31384640>\n",
            " <deepchem.feat.mol_graphs.ConvMol object at 0x7f3b31384fa0>\n",
            " <deepchem.feat.mol_graphs.ConvMol object at 0x7f3b31389910>\n",
            " <deepchem.feat.mol_graphs.ConvMol object at 0x7f3b3138f1f0>\n",
            " <deepchem.feat.mol_graphs.ConvMol object at 0x7f3b3138fc70>\n",
            " <deepchem.feat.mol_graphs.ConvMol object at 0x7f3b31394730>\n",
            " <deepchem.feat.mol_graphs.ConvMol object at 0x7f3b31398490>\n",
            " <deepchem.feat.mol_graphs.ConvMol object at 0x7f3b31398b80>\n",
            " <deepchem.feat.mol_graphs.ConvMol object at 0x7f3b3139d2e0>\n",
            " <deepchem.feat.mol_graphs.ConvMol object at 0x7f3b3139db20>\n",
            " <deepchem.feat.mol_graphs.ConvMol object at 0x7f3b313a54c0>\n",
            " <deepchem.feat.mol_graphs.ConvMol object at 0x7f3b313a5d00>\n",
            " <deepchem.feat.mol_graphs.ConvMol object at 0x7f3b313a9340>\n",
            " <deepchem.feat.mol_graphs.ConvMol object at 0x7f3b313a9c10>\n",
            " <deepchem.feat.mol_graphs.ConvMol object at 0x7f3b313ad370>\n",
            " <deepchem.feat.mol_graphs.ConvMol object at 0x7f3b313ada30>\n",
            " <deepchem.feat.mol_graphs.ConvMol object at 0x7f3b313b23d0>\n",
            " <deepchem.feat.mol_graphs.ConvMol object at 0x7f3b313b2b50>\n",
            " <deepchem.feat.mol_graphs.ConvMol object at 0x7f3b313b8520>\n",
            " <deepchem.feat.mol_graphs.ConvMol object at 0x7f3b313b8a60>\n",
            " <deepchem.feat.mol_graphs.ConvMol object at 0x7f3b31340190>\n",
            " <deepchem.feat.mol_graphs.ConvMol object at 0x7f3b31340700>\n",
            " <deepchem.feat.mol_graphs.ConvMol object at 0x7f3b313443d0>\n",
            " <deepchem.feat.mol_graphs.ConvMol object at 0x7f3b31344bb0>\n",
            " <deepchem.feat.mol_graphs.ConvMol object at 0x7f3b3134a6d0>\n",
            " <deepchem.feat.mol_graphs.ConvMol object at 0x7f3b3134ad60>\n",
            " <deepchem.feat.mol_graphs.ConvMol object at 0x7f3b3134f430>\n",
            " <deepchem.feat.mol_graphs.ConvMol object at 0x7f3b3134fcd0>\n",
            " <deepchem.feat.mol_graphs.ConvMol object at 0x7f3b31354430>\n",
            " <deepchem.feat.mol_graphs.ConvMol object at 0x7f3b31354be0>\n",
            " <deepchem.feat.mol_graphs.ConvMol object at 0x7f3b313594c0>\n",
            " <deepchem.feat.mol_graphs.ConvMol object at 0x7f3b31359bb0>\n",
            " <deepchem.feat.mol_graphs.ConvMol object at 0x7f3b3135e820>\n",
            " <deepchem.feat.mol_graphs.ConvMol object at 0x7f3b313630d0>\n",
            " <deepchem.feat.mol_graphs.ConvMol object at 0x7f3b31363700>\n",
            " <deepchem.feat.mol_graphs.ConvMol object at 0x7f3b31363cd0>\n",
            " <deepchem.feat.mol_graphs.ConvMol object at 0x7f3b31369400>\n",
            " <deepchem.feat.mol_graphs.ConvMol object at 0x7f3b31369c70>\n",
            " <deepchem.feat.mol_graphs.ConvMol object at 0x7f3b3136e4f0>\n",
            " <deepchem.feat.mol_graphs.ConvMol object at 0x7f3b3136ed90>]\n",
            "<deepchem.feat.mol_graphs.ConvMol object at 0x7f3b35a0dd30>\n"
          ]
        }
      ]
    },
    {
      "cell_type": "markdown",
      "source": [
        "A ConvMol object represents a single molecule. There's lots of information "
      ],
      "metadata": {
        "id": "ofOUluhcgBZu"
      }
    },
    {
      "cell_type": "code",
      "source": [
        "print(sol_train_dataset.X[0].max_deg)\n",
        "print(sol_train_dataset.X[0].min_deg)\n",
        "print(sol_train_dataset.X[0].deg_list)\n",
        "print(sol_train_dataset.X[0].canon_adj_list)"
      ],
      "metadata": {
        "id": "ISwFaPbhgCpn",
        "outputId": "8160c756-afde-4833-f512-577c88bfa98e",
        "colab": {
          "base_uri": "https://localhost:8080/"
        }
      },
      "execution_count": 19,
      "outputs": [
        {
          "output_type": "stream",
          "name": "stdout",
          "text": [
            "10\n",
            "0\n",
            "[1, 1, 1, 1, 1, 1, 1, 1, 2, 2, 2, 2, 2, 2, 2, 2, 2, 2, 2, 2, 3, 3, 3, 3, 3, 3, 3, 3, 3, 3, 3, 3]\n",
            "[[21], [22], [23], [8], [15], [27], [29], [30], [3, 31], [13, 12], [11, 13], [20, 10], [9, 20], [10, 9], [26, 24], [25, 4], [24, 25], [28, 19], [31, 28], [17, 26], [25, 11, 12], [23, 0, 22], [21, 1, 26], [24, 2, 21], [14, 16, 23], [16, 15, 20], [19, 14, 22], [30, 5, 29], [18, 17, 30], [27, 6, 31], [28, 7, 27], [8, 18, 29]]\n"
          ]
        }
      ]
    },
    {
      "cell_type": "markdown",
      "source": [
        "Let's see the molecule's numerical representation that's fed into the GNN: a vector for each atom.\n"
      ],
      "metadata": {
        "id": "0QhzfRK6gNCc"
      }
    },
    {
      "cell_type": "code",
      "source": [
        "my_molecule = sol_train_dataset.X[0] #Choose any index you want!\n",
        "print (my_molecule.n_atoms) #Number of atoms\n",
        "atom_features = my_molecule.get_atom_features()\n",
        "print (atom_features)\n",
        "print (atom_features.shape)"
      ],
      "metadata": {
        "id": "QsPd-9D4gQGs",
        "outputId": "72fb58b4-a467-4848-f52c-ea7e516ab40c",
        "colab": {
          "base_uri": "https://localhost:8080/"
        }
      },
      "execution_count": 21,
      "outputs": [
        {
          "output_type": "stream",
          "name": "stdout",
          "text": [
            "32\n",
            "[[0. 0. 1. ... 0. 0. 0.]\n",
            " [0. 0. 1. ... 0. 0. 0.]\n",
            " [0. 0. 1. ... 0. 0. 0.]\n",
            " ...\n",
            " [1. 0. 0. ... 0. 0. 0.]\n",
            " [1. 0. 0. ... 0. 0. 0.]\n",
            " [1. 0. 0. ... 0. 0. 0.]]\n",
            "(32, 75)\n"
          ]
        }
      ]
    },
    {
      "cell_type": "markdown",
      "source": [
        "## Determining Molecular Toxicity"
      ],
      "metadata": {
        "id": "4HR_vyfpgVq9"
      }
    },
    {
      "cell_type": "markdown",
      "source": [
        "I'll use GNNs to predict toxicity from the SMILES representation. I'll use a different dataset here, stored in tox21.csv."
      ],
      "metadata": {
        "id": "-ds8tntrggEg"
      }
    },
    {
      "cell_type": "code",
      "source": [
        "toxicity_data = pd.read_csv(\"tox21.csv\")\n",
        "toxicity_data.head()"
      ],
      "metadata": {
        "id": "Z1whp2ZGgkCO",
        "outputId": "763721f5-26e5-46a1-e464-c717c13eb26c",
        "colab": {
          "base_uri": "https://localhost:8080/",
          "height": 267
        }
      },
      "execution_count": 22,
      "outputs": [
        {
          "output_type": "execute_result",
          "data": {
            "text/plain": [
              "   NR-AR  NR-AR-LBD  NR-AhR  NR-Aromatase  NR-ER  NR-ER-LBD  NR-PPAR-gamma  \\\n",
              "0    0.0        0.0     1.0           NaN    NaN        0.0            0.0   \n",
              "1    0.0        0.0     0.0           0.0    0.0        0.0            0.0   \n",
              "2    NaN        NaN     NaN           NaN    NaN        NaN            NaN   \n",
              "3    0.0        0.0     0.0           0.0    0.0        0.0            0.0   \n",
              "4    0.0        0.0     NaN           0.0    0.0        0.0            0.0   \n",
              "\n",
              "   SR-ARE  SR-ATAD5  SR-HSE  SR-MMP  SR-p53   mol_id  \\\n",
              "0     1.0       0.0     0.0     0.0     0.0  TOX3021   \n",
              "1     NaN       0.0     NaN     0.0     0.0  TOX3020   \n",
              "2     0.0       NaN     0.0     NaN     NaN  TOX3024   \n",
              "3     NaN       0.0     NaN     0.0     0.0  TOX3027   \n",
              "4     0.0       0.0     0.0     NaN     0.0  TOX3028   \n",
              "\n",
              "                                              smiles  \n",
              "0                       CCOc1ccc2nc(S(N)(=O)=O)sc2c1  \n",
              "1                          CCN1C(=O)NC(c2ccccc2)C1=O  \n",
              "2  CC[C@]1(O)CC[C@H]2[C@@H]3CCC4=CCCC[C@@H]4[C@H]...  \n",
              "3                    CCCN(CC)C(CC)C(=O)Nc1c(C)cccc1C  \n",
              "4                          CC(O)(P(=O)(O)O)P(=O)(O)O  "
            ],
            "text/html": [
              "\n",
              "  <div id=\"df-09cad517-e36b-49d7-955b-a56880e05304\">\n",
              "    <div class=\"colab-df-container\">\n",
              "      <div>\n",
              "<style scoped>\n",
              "    .dataframe tbody tr th:only-of-type {\n",
              "        vertical-align: middle;\n",
              "    }\n",
              "\n",
              "    .dataframe tbody tr th {\n",
              "        vertical-align: top;\n",
              "    }\n",
              "\n",
              "    .dataframe thead th {\n",
              "        text-align: right;\n",
              "    }\n",
              "</style>\n",
              "<table border=\"1\" class=\"dataframe\">\n",
              "  <thead>\n",
              "    <tr style=\"text-align: right;\">\n",
              "      <th></th>\n",
              "      <th>NR-AR</th>\n",
              "      <th>NR-AR-LBD</th>\n",
              "      <th>NR-AhR</th>\n",
              "      <th>NR-Aromatase</th>\n",
              "      <th>NR-ER</th>\n",
              "      <th>NR-ER-LBD</th>\n",
              "      <th>NR-PPAR-gamma</th>\n",
              "      <th>SR-ARE</th>\n",
              "      <th>SR-ATAD5</th>\n",
              "      <th>SR-HSE</th>\n",
              "      <th>SR-MMP</th>\n",
              "      <th>SR-p53</th>\n",
              "      <th>mol_id</th>\n",
              "      <th>smiles</th>\n",
              "    </tr>\n",
              "  </thead>\n",
              "  <tbody>\n",
              "    <tr>\n",
              "      <th>0</th>\n",
              "      <td>0.0</td>\n",
              "      <td>0.0</td>\n",
              "      <td>1.0</td>\n",
              "      <td>NaN</td>\n",
              "      <td>NaN</td>\n",
              "      <td>0.0</td>\n",
              "      <td>0.0</td>\n",
              "      <td>1.0</td>\n",
              "      <td>0.0</td>\n",
              "      <td>0.0</td>\n",
              "      <td>0.0</td>\n",
              "      <td>0.0</td>\n",
              "      <td>TOX3021</td>\n",
              "      <td>CCOc1ccc2nc(S(N)(=O)=O)sc2c1</td>\n",
              "    </tr>\n",
              "    <tr>\n",
              "      <th>1</th>\n",
              "      <td>0.0</td>\n",
              "      <td>0.0</td>\n",
              "      <td>0.0</td>\n",
              "      <td>0.0</td>\n",
              "      <td>0.0</td>\n",
              "      <td>0.0</td>\n",
              "      <td>0.0</td>\n",
              "      <td>NaN</td>\n",
              "      <td>0.0</td>\n",
              "      <td>NaN</td>\n",
              "      <td>0.0</td>\n",
              "      <td>0.0</td>\n",
              "      <td>TOX3020</td>\n",
              "      <td>CCN1C(=O)NC(c2ccccc2)C1=O</td>\n",
              "    </tr>\n",
              "    <tr>\n",
              "      <th>2</th>\n",
              "      <td>NaN</td>\n",
              "      <td>NaN</td>\n",
              "      <td>NaN</td>\n",
              "      <td>NaN</td>\n",
              "      <td>NaN</td>\n",
              "      <td>NaN</td>\n",
              "      <td>NaN</td>\n",
              "      <td>0.0</td>\n",
              "      <td>NaN</td>\n",
              "      <td>0.0</td>\n",
              "      <td>NaN</td>\n",
              "      <td>NaN</td>\n",
              "      <td>TOX3024</td>\n",
              "      <td>CC[C@]1(O)CC[C@H]2[C@@H]3CCC4=CCCC[C@@H]4[C@H]...</td>\n",
              "    </tr>\n",
              "    <tr>\n",
              "      <th>3</th>\n",
              "      <td>0.0</td>\n",
              "      <td>0.0</td>\n",
              "      <td>0.0</td>\n",
              "      <td>0.0</td>\n",
              "      <td>0.0</td>\n",
              "      <td>0.0</td>\n",
              "      <td>0.0</td>\n",
              "      <td>NaN</td>\n",
              "      <td>0.0</td>\n",
              "      <td>NaN</td>\n",
              "      <td>0.0</td>\n",
              "      <td>0.0</td>\n",
              "      <td>TOX3027</td>\n",
              "      <td>CCCN(CC)C(CC)C(=O)Nc1c(C)cccc1C</td>\n",
              "    </tr>\n",
              "    <tr>\n",
              "      <th>4</th>\n",
              "      <td>0.0</td>\n",
              "      <td>0.0</td>\n",
              "      <td>NaN</td>\n",
              "      <td>0.0</td>\n",
              "      <td>0.0</td>\n",
              "      <td>0.0</td>\n",
              "      <td>0.0</td>\n",
              "      <td>0.0</td>\n",
              "      <td>0.0</td>\n",
              "      <td>0.0</td>\n",
              "      <td>NaN</td>\n",
              "      <td>0.0</td>\n",
              "      <td>TOX3028</td>\n",
              "      <td>CC(O)(P(=O)(O)O)P(=O)(O)O</td>\n",
              "    </tr>\n",
              "  </tbody>\n",
              "</table>\n",
              "</div>\n",
              "      <button class=\"colab-df-convert\" onclick=\"convertToInteractive('df-09cad517-e36b-49d7-955b-a56880e05304')\"\n",
              "              title=\"Convert this dataframe to an interactive table.\"\n",
              "              style=\"display:none;\">\n",
              "        \n",
              "  <svg xmlns=\"http://www.w3.org/2000/svg\" height=\"24px\"viewBox=\"0 0 24 24\"\n",
              "       width=\"24px\">\n",
              "    <path d=\"M0 0h24v24H0V0z\" fill=\"none\"/>\n",
              "    <path d=\"M18.56 5.44l.94 2.06.94-2.06 2.06-.94-2.06-.94-.94-2.06-.94 2.06-2.06.94zm-11 1L8.5 8.5l.94-2.06 2.06-.94-2.06-.94L8.5 2.5l-.94 2.06-2.06.94zm10 10l.94 2.06.94-2.06 2.06-.94-2.06-.94-.94-2.06-.94 2.06-2.06.94z\"/><path d=\"M17.41 7.96l-1.37-1.37c-.4-.4-.92-.59-1.43-.59-.52 0-1.04.2-1.43.59L10.3 9.45l-7.72 7.72c-.78.78-.78 2.05 0 2.83L4 21.41c.39.39.9.59 1.41.59.51 0 1.02-.2 1.41-.59l7.78-7.78 2.81-2.81c.8-.78.8-2.07 0-2.86zM5.41 20L4 18.59l7.72-7.72 1.47 1.35L5.41 20z\"/>\n",
              "  </svg>\n",
              "      </button>\n",
              "      \n",
              "  <style>\n",
              "    .colab-df-container {\n",
              "      display:flex;\n",
              "      flex-wrap:wrap;\n",
              "      gap: 12px;\n",
              "    }\n",
              "\n",
              "    .colab-df-convert {\n",
              "      background-color: #E8F0FE;\n",
              "      border: none;\n",
              "      border-radius: 50%;\n",
              "      cursor: pointer;\n",
              "      display: none;\n",
              "      fill: #1967D2;\n",
              "      height: 32px;\n",
              "      padding: 0 0 0 0;\n",
              "      width: 32px;\n",
              "    }\n",
              "\n",
              "    .colab-df-convert:hover {\n",
              "      background-color: #E2EBFA;\n",
              "      box-shadow: 0px 1px 2px rgba(60, 64, 67, 0.3), 0px 1px 3px 1px rgba(60, 64, 67, 0.15);\n",
              "      fill: #174EA6;\n",
              "    }\n",
              "\n",
              "    [theme=dark] .colab-df-convert {\n",
              "      background-color: #3B4455;\n",
              "      fill: #D2E3FC;\n",
              "    }\n",
              "\n",
              "    [theme=dark] .colab-df-convert:hover {\n",
              "      background-color: #434B5C;\n",
              "      box-shadow: 0px 1px 3px 1px rgba(0, 0, 0, 0.15);\n",
              "      filter: drop-shadow(0px 1px 2px rgba(0, 0, 0, 0.3));\n",
              "      fill: #FFFFFF;\n",
              "    }\n",
              "  </style>\n",
              "\n",
              "      <script>\n",
              "        const buttonEl =\n",
              "          document.querySelector('#df-09cad517-e36b-49d7-955b-a56880e05304 button.colab-df-convert');\n",
              "        buttonEl.style.display =\n",
              "          google.colab.kernel.accessAllowed ? 'block' : 'none';\n",
              "\n",
              "        async function convertToInteractive(key) {\n",
              "          const element = document.querySelector('#df-09cad517-e36b-49d7-955b-a56880e05304');\n",
              "          const dataTable =\n",
              "            await google.colab.kernel.invokeFunction('convertToInteractive',\n",
              "                                                     [key], {});\n",
              "          if (!dataTable) return;\n",
              "\n",
              "          const docLinkHtml = 'Like what you see? Visit the ' +\n",
              "            '<a target=\"_blank\" href=https://colab.research.google.com/notebooks/data_table.ipynb>data table notebook</a>'\n",
              "            + ' to learn more about interactive tables.';\n",
              "          element.innerHTML = '';\n",
              "          dataTable['output_type'] = 'display_data';\n",
              "          await google.colab.output.renderOutput(dataTable, element);\n",
              "          const docLink = document.createElement('div');\n",
              "          docLink.innerHTML = docLinkHtml;\n",
              "          element.appendChild(docLink);\n",
              "        }\n",
              "      </script>\n",
              "    </div>\n",
              "  </div>\n",
              "  "
            ]
          },
          "metadata": {},
          "execution_count": 22
        }
      ]
    },
    {
      "cell_type": "markdown",
      "source": [
        "**Each column represents a different type of assay, or experiment.** Those that start with NR are Nuclear Receptor Signaling Panels and those that start with SR are Stress Response Panels. Read more about the data [here](https://tripod.nih.gov/tox21/challenge/data.jsp). \n",
        "\n",
        "Measuring these responses tells us whether the body is trying to fight off something it thinks is toxic. Each column shows a different toxicity indicator, so we'll train models for each! Each column is a different *task* to be learned. \n",
        "\n",
        "Let's load up our dataset!"
      ],
      "metadata": {
        "id": "oFQ-2ojoguWD"
      }
    },
    {
      "cell_type": "code",
      "source": [
        "_, datasets, transformers = deepchem.molnet.load_tox21(featurizer='GraphConv')\n",
        "tox_train_dataset, tox_valid_dataset, tox_test_dataset = datasets"
      ],
      "metadata": {
        "id": "5k74f3jcgu0j"
      },
      "execution_count": 23,
      "outputs": []
    },
    {
      "cell_type": "markdown",
      "source": [
        "Next I create a GNN model for toxicity and train it for 20 epochs (much bigger dataset)."
      ],
      "metadata": {
        "id": "JfN-Ef5ghTmy"
      }
    },
    {
      "cell_type": "code",
      "source": [
        "import warnings\n",
        "warnings.filterwarnings('ignore')\n",
        "import warnings\n",
        "warnings.filterwarnings('ignore')\n",
        "\n",
        "tox_gnn = GraphConvModel(n_tasks=12, mode='classification', dropout=0.2)\n",
        "tox_gnn.fit(tox_train_dataset, nb_epoch=20)"
      ],
      "metadata": {
        "id": "ENu55TCThVz8",
        "outputId": "1ee93d5e-b2de-45ad-a787-b0049fdc5395",
        "colab": {
          "base_uri": "https://localhost:8080/"
        }
      },
      "execution_count": 25,
      "outputs": [
        {
          "output_type": "execute_result",
          "data": {
            "text/plain": [
              "0.7361455917358398"
            ]
          },
          "metadata": {},
          "execution_count": 25
        }
      ]
    },
    {
      "cell_type": "markdown",
      "metadata": {
        "id": "b_UHQ9SCnIRq"
      },
      "source": [
        "###Evaluating our Model\n",
        "Since we're doing twelve different classifications, evaluating our model is a little trickier. Let's get our raw predictions on the test data:\n",
        "\n"
      ]
    },
    {
      "cell_type": "code",
      "metadata": {
        "id": "cAKjVjLdnHzf",
        "outputId": "0b35f175-dc2a-45f5-a17c-104b6c0e1de8",
        "colab": {
          "base_uri": "https://localhost:8080/"
        }
      },
      "source": [
        "tox_pred = tox_gnn.predict(tox_test_dataset)[:,:,1]\n",
        "tox_pred"
      ],
      "execution_count": 27,
      "outputs": [
        {
          "output_type": "execute_result",
          "data": {
            "text/plain": [
              "array([[0.46719941, 0.4819703 , 0.10074761, ..., 0.38041553, 0.2359608 ,\n",
              "        0.08727048],\n",
              "       [0.2814802 , 0.17083873, 0.60504895, ..., 0.6813813 , 0.52844787,\n",
              "        0.8058429 ],\n",
              "       [0.14253409, 0.06452057, 0.10237732, ..., 0.6439393 , 0.8880453 ,\n",
              "        0.25238463],\n",
              "       ...,\n",
              "       [0.35704637, 0.3575775 , 0.75816077, ..., 0.59245706, 0.5905529 ,\n",
              "        0.3175774 ],\n",
              "       [0.03360029, 0.0691388 , 0.01588554, ..., 0.37551296, 0.22464794,\n",
              "        0.4507156 ],\n",
              "       [0.30108497, 0.12295502, 0.6325774 , ..., 0.70770663, 0.49863178,\n",
              "        0.45686778]], dtype=float32)"
            ]
          },
          "metadata": {},
          "execution_count": 27
        }
      ]
    },
    {
      "cell_type": "markdown",
      "metadata": {
        "id": "lhhjq8AencO1"
      },
      "source": [
        "**What's the shape of the array?** What does each number indicate?\n",
        "\n",
        "Let's convert our raw predictions to a 0/1 classification:\n"
      ]
    },
    {
      "cell_type": "code",
      "metadata": {
        "id": "vzSNpwH-u3e_"
      },
      "source": [
        "tox_pred_class = (tox_pred > 0.5)"
      ],
      "execution_count": 28,
      "outputs": []
    },
    {
      "cell_type": "markdown",
      "metadata": {
        "id": "SCx7QnGaojex"
      },
      "source": [
        "Now, let's calculate out overall accuracy for all twelve tasks: what percent of predictions did we get right? \n",
        "\n",
        "\n",
        "**What \"baseline accuracy\"** could we achieve by always guessing the same answer?\n",
        "\n",
        "**What accuracy did we achieve?** \n",
        "\n"
      ]
    },
    {
      "cell_type": "code",
      "metadata": {
        "id": "DrmFzaMKnUgZ",
        "outputId": "6b62d398-11bb-47b9-f7b3-652654aaa1a5",
        "colab": {
          "base_uri": "https://localhost:8080/"
        }
      },
      "source": [
        "\n",
        "\n",
        "print (\"Baseline Accuracy is 100% minus\")\n",
        "print (tox_test_dataset.y.mean())\n",
        "\n",
        "\n",
        "print (\"Accuracy\")\n",
        "right_ans = tox_pred_class == tox_test_dataset.y\n",
        "print (right_ans.mean())\n",
        "\n",
        "\n",
        "precision_score(y_true, y_pred, average='macro')\n",
        "\n",
        "\n"
      ],
      "execution_count": 29,
      "outputs": [
        {
          "output_type": "stream",
          "name": "stdout",
          "text": [
            "Baseline Accuracy is 100% minus\n",
            "0.070578231292517\n",
            "Accuracy\n",
            "0.6034226190476191\n"
          ]
        }
      ]
    },
    {
      "cell_type": "markdown",
      "metadata": {
        "id": "j5nCtT2qt4Vz"
      },
      "source": [
        "**Is accuracy a good metric here?** As an extra challenge, try calculating [precision or recall](https://en.wikipedia.org/wiki/Precision_and_recall) - whichever is more relevant!\n"
      ]
    },
    {
      "cell_type": "markdown",
      "metadata": {
        "id": "E4CE2v4wwjN3"
      },
      "source": [
        "###Identifying Safe Drugs\n",
        "For now, let's trust our model, and think back to the problem of drug discovery. **What percent of drugs in the test set** does our model consider safe?"
      ]
    },
    {
      "cell_type": "code",
      "metadata": {
        "id": "6lV8qchRvpBw",
        "outputId": "d58c7da7-4c88-45b2-af29-cf3438f7cb33",
        "colab": {
          "base_uri": "https://localhost:8080/"
        }
      },
      "source": [
        "any_toxic = tox_pred_class.any(axis=1) # What does this show?\n",
        "print (any_toxic.shape)\n",
        "any_toxic = tox_pred_class.any(axis=1) #Check out the shape! What does this show?\n",
        "1 - (any_toxic.mean())\n"
      ],
      "execution_count": 30,
      "outputs": [
        {
          "output_type": "stream",
          "name": "stdout",
          "text": [
            "(784,)\n"
          ]
        },
        {
          "output_type": "execute_result",
          "data": {
            "text/plain": [
              "0.11352040816326525"
            ]
          },
          "metadata": {},
          "execution_count": 30
        }
      ]
    },
    {
      "cell_type": "markdown",
      "metadata": {
        "id": "H9iT0HlvwSsJ"
      },
      "source": [
        "Again, I am discarding most of our drug candidates!\n",
        "\n",
        "What percent of drugs do you estimate would pass through both our **toxicity screening** and our **solubility screening**? "
      ]
    },
    {
      "cell_type": "code",
      "metadata": {
        "id": "Yz0Um19JwRdI",
        "outputId": "e829ead3-5d55-43e9-8bba-61fb55ad8614",
        "colab": {
          "base_uri": "https://localhost:8080/"
        }
      },
      "source": [
        "\n",
        "\n",
        ".31 * .16"
      ],
      "execution_count": 31,
      "outputs": [
        {
          "output_type": "execute_result",
          "data": {
            "text/plain": [
              "0.0496"
            ]
          },
          "metadata": {},
          "execution_count": 31
        }
      ]
    },
    {
      "cell_type": "markdown",
      "metadata": {
        "id": "HXqhycmMvOjG"
      },
      "source": [
        "For every twenty molecules we try, only one would get through these two screenings! And of course, these are only two of the many stages in drug discovery.\n"
      ]
    },
    {
      "cell_type": "code",
      "source": [],
      "metadata": {
        "id": "XnMEgGB5ik1h"
      },
      "execution_count": null,
      "outputs": []
    }
  ]
}