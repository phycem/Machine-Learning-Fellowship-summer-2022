{
  "nbformat": 4,
  "nbformat_minor": 0,
  "metadata": {
    "colab": {
      "provenance": [],
      "include_colab_link": true
    },
    "language_info": {
      "codemirror_mode": {
        "name": "ipython",
        "version": 3
      },
      "file_extension": ".py",
      "mimetype": "text/x-python",
      "name": "python",
      "nbconvert_exporter": "python",
      "pygments_lexer": "ipython3",
      "version": "3.6.4"
    },
    "kernelspec": {
      "display_name": "Python 3",
      "language": "python",
      "name": "python3"
    }
  },
  "cells": [
    {
      "cell_type": "markdown",
      "metadata": {
        "id": "view-in-github",
        "colab_type": "text"
      },
      "source": [
        "<a href=\"https://colab.research.google.com/github/phycem/Data-Science-Projects-and-Tasks/blob/main/Personal_Project_Disaster_Relief.ipynb\" target=\"_parent\"><img src=\"https://colab.research.google.com/assets/colab-badge.svg\" alt=\"Open In Colab\"/></a>"
      ]
    },
    {
      "cell_type": "markdown",
      "metadata": {
        "id": "XaxhytzBtGGt"
      },
      "source": [
        "# Disaster Relief Project \n",
        "The data set for this project consists of tweets from people experiencing natural disasters around the world. The tweets are classified by category some are further classified by having some sort of need. \n"
      ]
    },
    {
      "cell_type": "markdown",
      "source": [
        "Question : \n",
        "-why no leminization punctuation etc? There are words sentences in 'text'\n",
        "-what makes the words notice they are similar? all the vocab has 300 vectors. text_to_nlp? is it just for cleaning? \n",
        "-I only found the similarities between words in the same table text. Should I look for similar words in a different place? I am mainly trying to detect if a random tweet belongs to a need or resource of water, food, energy, medicine, or none. Should I implement/create an algorithm? \n",
        "\n",
        "\n",
        "ANSWER:\n",
        "\n",
        "just change the each table to one line with texts all combined using .join() \n",
        "then take each word vector sum the dimensions for each sentence then the whole table. \n",
        "finish doing this for all the tables and run it for a tweet and check which table matches the best. \n",
        "\n"
      ],
      "metadata": {
        "id": "MC4rPxBHoTpN"
      }
    },
    {
      "cell_type": "code",
      "metadata": {
        "id": "88KYp9nmbSS7"
      },
      "source": [
        "#@title Starter libraries (double click to take a look) { display-mode: \"form\" }\n",
        "# useful for opening files\n",
        "import gdown\n",
        "import zipfile\n",
        "\n",
        "import os # accessing parts of your operating system\n",
        "import re\n",
        "import sys\n",
        "\n",
        "# data visualization + manipulation -- we've seen these many times\n",
        "import numpy as np\n",
        "import pandas as pd\n",
        "\n",
        "# plotting libraries\n",
        "import seaborn as sns\n",
        "import matplotlib.pyplot as plt\n",
        "\n",
        "# regression models\n",
        "from sklearn.linear_model import LinearRegression\n",
        "from sklearn.linear_model import HuberRegressor\n",
        "from sklearn.linear_model import RANSACRegressor\n",
        "from sklearn.linear_model import TheilSenRegressor\n",
        "from sklearn.gaussian_process import GaussianProcessRegressor\n",
        "\n",
        "from sklearn.preprocessing import PolynomialFeatures # for polynomial model\n",
        "from sklearn.pipeline import Pipeline\n",
        "\n",
        "# classification models\n",
        "from sklearn.linear_model import LogisticRegression\n",
        "from sklearn.neural_network import MLPClassifier\n",
        "from sklearn.neighbors import KNeighborsClassifier\n",
        "from sklearn.svm import SVC\n",
        "from sklearn.gaussian_process import GaussianProcessClassifier\n",
        "from sklearn.gaussian_process.kernels import RBF\n",
        "from sklearn.tree import DecisionTreeClassifier\n",
        "from sklearn.ensemble import RandomForestClassifier, AdaBoostClassifier\n",
        "from sklearn.naive_bayes import GaussianNB\n",
        "\n",
        "# more sklearn model making\n",
        "from sklearn.metrics import accuracy_score, precision_score, recall_score, confusion_matrix\n",
        "from sklearn import model_selection\n",
        "from sklearn.model_selection import train_test_split\n",
        "from sklearn.preprocessing import StandardScaler\n",
        "from sklearn.model_selection import cross_val_score\n",
        "\n",
        "from collections import Counter\n",
        "\n",
        "# NLP\n",
        "import string\n",
        "import nltk\n",
        "nltk.download('punkt', quiet=True)\n",
        "nltk.download('stopwords' ,quiet=True)\n",
        "from nltk.corpus import stopwords\n",
        "from nltk.stem import WordNetLemmatizer, PorterStemmer\n",
        "from nltk.corpus import stopwords\n",
        "from nltk.tokenize import word_tokenize, TweetTokenizer\n",
        "from spacy.lang.en.stop_words import STOP_WORDS\n",
        "from sklearn.feature_extraction.text import CountVectorizer, TfidfVectorizer\n",
        "import spacy\n",
        "import wordcloud\n",
        "import tweepy\n",
        "\n",
        "# NN models\n",
        "import tensorflow as tf\n",
        "import tensorflow_datasets as tfds\n",
        "\n",
        "import keras\n",
        "from tensorflow.keras import layers , activations , models , preprocessing, utils\n",
        "\n",
        "# sequence data\n",
        "from keras import Input, Model\n",
        "from keras.layers import Embedding, LSTM, Dense\n",
        "from tensorflow.keras.optimizers import RMSprop\n",
        "from keras.preprocessing.sequence import pad_sequences\n",
        "\n",
        "# text\n",
        "from tensorflow.keras.utils import to_categorical\n",
        "from keras_preprocessing.text import Tokenizer\n",
        "\n",
        "# NN and CNN\n",
        "from keras.models import Sequential\n",
        "from keras.layers import Dense, Conv2D, Dropout\n",
        "from keras.layers import Activation, MaxPooling2D, Dropout, Flatten, Reshape\n",
        "from keras.wrappers.scikit_learn import KerasClassifier\n",
        "import keras.optimizers as optimizers\n",
        "from keras.activations import softmax\n",
        "from keras.callbacks import ModelCheckpoint\n",
        "\n",
        "from tensorflow.keras.applications import VGG16, VGG19, ResNet50, DenseNet121\n",
        "\n",
        "import warnings\n",
        "warnings.filterwarnings('ignore')"
      ],
      "execution_count": null,
      "outputs": []
    },
    {
      "cell_type": "code",
      "metadata": {
        "id": "_8Fv_dgVytWC",
        "colab": {
          "base_uri": "https://localhost:8080/"
        },
        "outputId": "d13c4778-415c-4f28-d590-fcc425bb9f6d"
      },
      "source": [
        "#@title Load your dataset { display-mode: \"form\" }\n",
        "import pandas as pd\n",
        "!wget -O ./disaster_data.csv 'https://storage.googleapis.com/inspirit-ai-data-bucket-1/Data/AI%20Scholars/Sessions%206%20-%2010%20(Projects)/Project%20-%20Disaster%20Relief/disaster_data.csv'\n",
        "dataset_path = './disaster_data.csv'\n",
        "disaster_tweets = pd.read_csv('disaster_data.csv',encoding =\"ISO-8859-1\")"
      ],
      "execution_count": null,
      "outputs": [
        {
          "output_type": "stream",
          "name": "stdout",
          "text": [
            "--2022-08-11 19:43:55--  https://storage.googleapis.com/inspirit-ai-data-bucket-1/Data/AI%20Scholars/Sessions%206%20-%2010%20(Projects)/Project%20-%20Disaster%20Relief/disaster_data.csv\n",
            "Resolving storage.googleapis.com (storage.googleapis.com)... 142.250.141.128, 142.251.2.128, 2607:f8b0:4023:c0d::80, ...\n",
            "Connecting to storage.googleapis.com (storage.googleapis.com)|142.250.141.128|:443... connected.\n",
            "HTTP request sent, awaiting response... 200 OK\n",
            "Length: 236777 (231K) [text/csv]\n",
            "Saving to: ‘./disaster_data.csv’\n",
            "\n",
            "\r./disaster_data.csv   0%[                    ]       0  --.-KB/s               \r./disaster_data.csv 100%[===================>] 231.23K  --.-KB/s    in 0.002s  \n",
            "\n",
            "2022-08-11 19:43:55 (96.9 MB/s) - ‘./disaster_data.csv’ saved [236777/236777]\n",
            "\n"
          ]
        }
      ]
    },
    {
      "cell_type": "markdown",
      "source": [
        "put each vectorized table into the general vectorized and go through cosine (out of one) guesses the highest value."
      ],
      "metadata": {
        "id": "n8IbXh2MbXr6"
      }
    },
    {
      "cell_type": "code",
      "metadata": {
        "id": "hZYPHoImuJuY",
        "colab": {
          "base_uri": "https://localhost:8080/",
          "height": 424
        },
        "outputId": "0b755dee-cc27-44b3-f07c-4bdedfadca49"
      },
      "source": [
        "# This function prints out a table containing all the tweets, along with their category labels\n",
        "disaster_tweets"
      ],
      "execution_count": null,
      "outputs": [
        {
          "output_type": "execute_result",
          "data": {
            "text/plain": [
              "                                    tweet_id  \\\n",
              "0     ca9e24c8-396d-4502-8b45-18895df5333e_0   \n",
              "1               twitter_resource_tweets_1692   \n",
              "2       625b46e2-0b81-41ea-826e-4535fe9b39b8   \n",
              "3               twitter_resource_tweets_1699   \n",
              "4       c3bfea72-d377-445c-b4b8-e8ebca0e7fbb   \n",
              "...                                      ...   \n",
              "1396    4954cd07-1796-4841-a79a-9edf7faf9521   \n",
              "1397    425e0f7e-eebc-4bc7-9027-34b3298ee084   \n",
              "1398                twitter_need_tweets_4630   \n",
              "1399            twitter_resource_tweets_2745   \n",
              "1400    2ee027fa-86cd-4077-b9bd-b7066ac1aced   \n",
              "\n",
              "                                                   text category  \\\n",
              "0     Donations of batteries, flashlights, and clean...   Energy   \n",
              "1     I want hurricane Sandy to cone so I can be stu...     None   \n",
              "2     Hi, I can help prepare food, serve food, offer...     Food   \n",
              "3                             I cant believe Sandy.....     None   \n",
              "4     I have children and adult clothes including ja...    Water   \n",
              "...                                                 ...      ...   \n",
              "1396  We were here for the marathon and would like t...     Food   \n",
              "1397  I am writing on behalf of friends stranded in ...  Medical   \n",
              "1398  Finally at my Uncle's house in Brooklyn. Gonna...     None   \n",
              "1399  Two years in a raw... #Irene then #Sandy... Co...     None   \n",
              "1400  I will be going to check on my condo in Jersey...   Energy   \n",
              "\n",
              "     need_or_resource  \n",
              "0                need  \n",
              "1                 NaN  \n",
              "2            resource  \n",
              "3                 NaN  \n",
              "4            resource  \n",
              "...               ...  \n",
              "1396         resource  \n",
              "1397             need  \n",
              "1398              NaN  \n",
              "1399              NaN  \n",
              "1400         resource  \n",
              "\n",
              "[1401 rows x 4 columns]"
            ],
            "text/html": [
              "\n",
              "  <div id=\"df-3f5a06e8-57f7-46e9-8a90-5628faf01821\">\n",
              "    <div class=\"colab-df-container\">\n",
              "      <div>\n",
              "<style scoped>\n",
              "    .dataframe tbody tr th:only-of-type {\n",
              "        vertical-align: middle;\n",
              "    }\n",
              "\n",
              "    .dataframe tbody tr th {\n",
              "        vertical-align: top;\n",
              "    }\n",
              "\n",
              "    .dataframe thead th {\n",
              "        text-align: right;\n",
              "    }\n",
              "</style>\n",
              "<table border=\"1\" class=\"dataframe\">\n",
              "  <thead>\n",
              "    <tr style=\"text-align: right;\">\n",
              "      <th></th>\n",
              "      <th>tweet_id</th>\n",
              "      <th>text</th>\n",
              "      <th>category</th>\n",
              "      <th>need_or_resource</th>\n",
              "    </tr>\n",
              "  </thead>\n",
              "  <tbody>\n",
              "    <tr>\n",
              "      <th>0</th>\n",
              "      <td>ca9e24c8-396d-4502-8b45-18895df5333e_0</td>\n",
              "      <td>Donations of batteries, flashlights, and clean...</td>\n",
              "      <td>Energy</td>\n",
              "      <td>need</td>\n",
              "    </tr>\n",
              "    <tr>\n",
              "      <th>1</th>\n",
              "      <td>twitter_resource_tweets_1692</td>\n",
              "      <td>I want hurricane Sandy to cone so I can be stu...</td>\n",
              "      <td>None</td>\n",
              "      <td>NaN</td>\n",
              "    </tr>\n",
              "    <tr>\n",
              "      <th>2</th>\n",
              "      <td>625b46e2-0b81-41ea-826e-4535fe9b39b8</td>\n",
              "      <td>Hi, I can help prepare food, serve food, offer...</td>\n",
              "      <td>Food</td>\n",
              "      <td>resource</td>\n",
              "    </tr>\n",
              "    <tr>\n",
              "      <th>3</th>\n",
              "      <td>twitter_resource_tweets_1699</td>\n",
              "      <td>I cant believe Sandy.....</td>\n",
              "      <td>None</td>\n",
              "      <td>NaN</td>\n",
              "    </tr>\n",
              "    <tr>\n",
              "      <th>4</th>\n",
              "      <td>c3bfea72-d377-445c-b4b8-e8ebca0e7fbb</td>\n",
              "      <td>I have children and adult clothes including ja...</td>\n",
              "      <td>Water</td>\n",
              "      <td>resource</td>\n",
              "    </tr>\n",
              "    <tr>\n",
              "      <th>...</th>\n",
              "      <td>...</td>\n",
              "      <td>...</td>\n",
              "      <td>...</td>\n",
              "      <td>...</td>\n",
              "    </tr>\n",
              "    <tr>\n",
              "      <th>1396</th>\n",
              "      <td>4954cd07-1796-4841-a79a-9edf7faf9521</td>\n",
              "      <td>We were here for the marathon and would like t...</td>\n",
              "      <td>Food</td>\n",
              "      <td>resource</td>\n",
              "    </tr>\n",
              "    <tr>\n",
              "      <th>1397</th>\n",
              "      <td>425e0f7e-eebc-4bc7-9027-34b3298ee084</td>\n",
              "      <td>I am writing on behalf of friends stranded in ...</td>\n",
              "      <td>Medical</td>\n",
              "      <td>need</td>\n",
              "    </tr>\n",
              "    <tr>\n",
              "      <th>1398</th>\n",
              "      <td>twitter_need_tweets_4630</td>\n",
              "      <td>Finally at my Uncle's house in Brooklyn. Gonna...</td>\n",
              "      <td>None</td>\n",
              "      <td>NaN</td>\n",
              "    </tr>\n",
              "    <tr>\n",
              "      <th>1399</th>\n",
              "      <td>twitter_resource_tweets_2745</td>\n",
              "      <td>Two years in a raw... #Irene then #Sandy... Co...</td>\n",
              "      <td>None</td>\n",
              "      <td>NaN</td>\n",
              "    </tr>\n",
              "    <tr>\n",
              "      <th>1400</th>\n",
              "      <td>2ee027fa-86cd-4077-b9bd-b7066ac1aced</td>\n",
              "      <td>I will be going to check on my condo in Jersey...</td>\n",
              "      <td>Energy</td>\n",
              "      <td>resource</td>\n",
              "    </tr>\n",
              "  </tbody>\n",
              "</table>\n",
              "<p>1401 rows × 4 columns</p>\n",
              "</div>\n",
              "      <button class=\"colab-df-convert\" onclick=\"convertToInteractive('df-3f5a06e8-57f7-46e9-8a90-5628faf01821')\"\n",
              "              title=\"Convert this dataframe to an interactive table.\"\n",
              "              style=\"display:none;\">\n",
              "        \n",
              "  <svg xmlns=\"http://www.w3.org/2000/svg\" height=\"24px\"viewBox=\"0 0 24 24\"\n",
              "       width=\"24px\">\n",
              "    <path d=\"M0 0h24v24H0V0z\" fill=\"none\"/>\n",
              "    <path d=\"M18.56 5.44l.94 2.06.94-2.06 2.06-.94-2.06-.94-.94-2.06-.94 2.06-2.06.94zm-11 1L8.5 8.5l.94-2.06 2.06-.94-2.06-.94L8.5 2.5l-.94 2.06-2.06.94zm10 10l.94 2.06.94-2.06 2.06-.94-2.06-.94-.94-2.06-.94 2.06-2.06.94z\"/><path d=\"M17.41 7.96l-1.37-1.37c-.4-.4-.92-.59-1.43-.59-.52 0-1.04.2-1.43.59L10.3 9.45l-7.72 7.72c-.78.78-.78 2.05 0 2.83L4 21.41c.39.39.9.59 1.41.59.51 0 1.02-.2 1.41-.59l7.78-7.78 2.81-2.81c.8-.78.8-2.07 0-2.86zM5.41 20L4 18.59l7.72-7.72 1.47 1.35L5.41 20z\"/>\n",
              "  </svg>\n",
              "      </button>\n",
              "      \n",
              "  <style>\n",
              "    .colab-df-container {\n",
              "      display:flex;\n",
              "      flex-wrap:wrap;\n",
              "      gap: 12px;\n",
              "    }\n",
              "\n",
              "    .colab-df-convert {\n",
              "      background-color: #E8F0FE;\n",
              "      border: none;\n",
              "      border-radius: 50%;\n",
              "      cursor: pointer;\n",
              "      display: none;\n",
              "      fill: #1967D2;\n",
              "      height: 32px;\n",
              "      padding: 0 0 0 0;\n",
              "      width: 32px;\n",
              "    }\n",
              "\n",
              "    .colab-df-convert:hover {\n",
              "      background-color: #E2EBFA;\n",
              "      box-shadow: 0px 1px 2px rgba(60, 64, 67, 0.3), 0px 1px 3px 1px rgba(60, 64, 67, 0.15);\n",
              "      fill: #174EA6;\n",
              "    }\n",
              "\n",
              "    [theme=dark] .colab-df-convert {\n",
              "      background-color: #3B4455;\n",
              "      fill: #D2E3FC;\n",
              "    }\n",
              "\n",
              "    [theme=dark] .colab-df-convert:hover {\n",
              "      background-color: #434B5C;\n",
              "      box-shadow: 0px 1px 3px 1px rgba(0, 0, 0, 0.15);\n",
              "      filter: drop-shadow(0px 1px 2px rgba(0, 0, 0, 0.3));\n",
              "      fill: #FFFFFF;\n",
              "    }\n",
              "  </style>\n",
              "\n",
              "      <script>\n",
              "        const buttonEl =\n",
              "          document.querySelector('#df-3f5a06e8-57f7-46e9-8a90-5628faf01821 button.colab-df-convert');\n",
              "        buttonEl.style.display =\n",
              "          google.colab.kernel.accessAllowed ? 'block' : 'none';\n",
              "\n",
              "        async function convertToInteractive(key) {\n",
              "          const element = document.querySelector('#df-3f5a06e8-57f7-46e9-8a90-5628faf01821');\n",
              "          const dataTable =\n",
              "            await google.colab.kernel.invokeFunction('convertToInteractive',\n",
              "                                                     [key], {});\n",
              "          if (!dataTable) return;\n",
              "\n",
              "          const docLinkHtml = 'Like what you see? Visit the ' +\n",
              "            '<a target=\"_blank\" href=https://colab.research.google.com/notebooks/data_table.ipynb>data table notebook</a>'\n",
              "            + ' to learn more about interactive tables.';\n",
              "          element.innerHTML = '';\n",
              "          dataTable['output_type'] = 'display_data';\n",
              "          await google.colab.output.renderOutput(dataTable, element);\n",
              "          const docLink = document.createElement('div');\n",
              "          docLink.innerHTML = docLinkHtml;\n",
              "          element.appendChild(docLink);\n",
              "        }\n",
              "      </script>\n",
              "    </div>\n",
              "  </div>\n",
              "  "
            ]
          },
          "metadata": {},
          "execution_count": 4
        }
      ]
    },
    {
      "cell_type": "markdown",
      "source": [
        "vectorize this for next week word by word. To find what categories and need or resource there. "
      ],
      "metadata": {
        "id": "3hyAvaxzXyjH"
      }
    },
    {
      "cell_type": "markdown",
      "source": [
        "for importing outside data"
      ],
      "metadata": {
        "id": "KRNUrDBCSBvT"
      }
    },
    {
      "cell_type": "code",
      "source": [
        "#import os\n",
        "#from google.colab import drive\n",
        "#drive.mount('/content/drive')\n",
        "#filepath = '/content/drive/My Drive/datauploadtest.csv'\n",
        "#os.chdir(filepath)\n",
        "#data = pd.read_csv(\"datauploadtest.csv\")"
      ],
      "metadata": {
        "id": "WQOoDFAqQwUk"
      },
      "execution_count": null,
      "outputs": []
    },
    {
      "cell_type": "code",
      "source": [
        "sorted=disaster_tweets.sort_values(['category','need_or_resource'])\n",
        "Energy=sorted[sorted['category']==\"Energy\"]\n",
        "Food=sorted[sorted['category']==\"Food\"]\n",
        "Water=sorted[sorted['category']==\"Water\"]\n",
        "Medical=sorted[sorted['category']==\"Medical\"]\n",
        "Nonemade=sorted[sorted['category']==\"None\"]\n"
      ],
      "metadata": {
        "id": "s8W-5epU5VmB"
      },
      "execution_count": null,
      "outputs": []
    },
    {
      "cell_type": "code",
      "source": [
        "NeedMed=Medical[Medical['need_or_resource']==\"need\"]\n",
        "ResourceMed= Medical[Medical['need_or_resource']==\"resource\"]\n",
        "NeedWater= Water[Water['need_or_resource']==\"need\"]\n",
        "ResourceWater= Water[Water['need_or_resource']==\"resource\"]\n",
        "NeedEnergy= Energy[Energy['need_or_resource']==\"need\"]\n",
        "ResourceEnergy= Energy[Energy['need_or_resource']==\"resource\"]\n",
        "NeedFood= Food[Food['need_or_resource']==\"need\"]\n",
        "ResourceFood= Food[Food['need_or_resource']==\"resource\"]\n",
        "nonemaderesource=Nonemade[Nonemade['need_or_resource']==\"resource\"]\n",
        "nonemadeNeed=Nonemade[Nonemade['need_or_resource']==\"need\"]"
      ],
      "metadata": {
        "id": "Bk43TDVx_utx"
      },
      "execution_count": null,
      "outputs": []
    },
    {
      "cell_type": "code",
      "source": [
        "import pandas as pd"
      ],
      "metadata": {
        "id": "564b43eqj-Dl"
      },
      "execution_count": null,
      "outputs": []
    },
    {
      "cell_type": "code",
      "source": [
        "import numpy as np"
      ],
      "metadata": {
        "id": "FTik6cyq9PyW"
      },
      "execution_count": null,
      "outputs": []
    },
    {
      "cell_type": "code",
      "source": [
        "disaster_tweets['category'].unique()"
      ],
      "metadata": {
        "colab": {
          "base_uri": "https://localhost:8080/"
        },
        "id": "mJKUdGXY9eE9",
        "outputId": "b16f9666-4223-49f2-d70a-585a2ec9efe0"
      },
      "execution_count": null,
      "outputs": [
        {
          "output_type": "execute_result",
          "data": {
            "text/plain": [
              "array(['Energy', 'None', 'Food', 'Water', 'Medical'], dtype=object)"
            ]
          },
          "metadata": {},
          "execution_count": 7
        }
      ]
    },
    {
      "cell_type": "code",
      "source": [
        "NeedMed.drop(['category','need_or_resource'],axis=1)\n",
        "ResourceMed.drop(['category','need_or_resource'],axis=1)\n",
        "NeedWater.drop(['category','need_or_resource'],axis=1)\n",
        "ResourceWater.drop(['category','need_or_resource'],axis=1)\n",
        "NeedEnergy.drop(['category','need_or_resource'],axis=1)\n",
        "ResourceEnergy.drop(['category','need_or_resource'],axis=1)\n",
        "NeedFood.drop(['category','need_or_resource'],axis=1)\n",
        "ResourceFood.drop(['category','need_or_resource'],axis=1)\n",
        "nonemaderesource.drop(['category','need_or_resource'],axis=1)\n",
        "nonemadeNeed.drop(['category','need_or_resource'],axis=1)"
      ],
      "metadata": {
        "colab": {
          "base_uri": "https://localhost:8080/",
          "height": 81
        },
        "id": "vILgmcvV-es8",
        "outputId": "3a7b6bfe-ce4b-4e8f-fa28-2eb5373ed155"
      },
      "execution_count": null,
      "outputs": [
        {
          "output_type": "execute_result",
          "data": {
            "text/plain": [
              "                                   tweet_id  \\\n",
              "933  e49dced4-9344-485e-87d2-542d3409a53b_1   \n",
              "\n",
              "                                                  text  \n",
              "933  Left vm with *********** ********  Work: *****...  "
            ],
            "text/html": [
              "\n",
              "  <div id=\"df-6a034451-f804-4803-a391-ee42f7313ff3\">\n",
              "    <div class=\"colab-df-container\">\n",
              "      <div>\n",
              "<style scoped>\n",
              "    .dataframe tbody tr th:only-of-type {\n",
              "        vertical-align: middle;\n",
              "    }\n",
              "\n",
              "    .dataframe tbody tr th {\n",
              "        vertical-align: top;\n",
              "    }\n",
              "\n",
              "    .dataframe thead th {\n",
              "        text-align: right;\n",
              "    }\n",
              "</style>\n",
              "<table border=\"1\" class=\"dataframe\">\n",
              "  <thead>\n",
              "    <tr style=\"text-align: right;\">\n",
              "      <th></th>\n",
              "      <th>tweet_id</th>\n",
              "      <th>text</th>\n",
              "    </tr>\n",
              "  </thead>\n",
              "  <tbody>\n",
              "    <tr>\n",
              "      <th>933</th>\n",
              "      <td>e49dced4-9344-485e-87d2-542d3409a53b_1</td>\n",
              "      <td>Left vm with *********** ********  Work: *****...</td>\n",
              "    </tr>\n",
              "  </tbody>\n",
              "</table>\n",
              "</div>\n",
              "      <button class=\"colab-df-convert\" onclick=\"convertToInteractive('df-6a034451-f804-4803-a391-ee42f7313ff3')\"\n",
              "              title=\"Convert this dataframe to an interactive table.\"\n",
              "              style=\"display:none;\">\n",
              "        \n",
              "  <svg xmlns=\"http://www.w3.org/2000/svg\" height=\"24px\"viewBox=\"0 0 24 24\"\n",
              "       width=\"24px\">\n",
              "    <path d=\"M0 0h24v24H0V0z\" fill=\"none\"/>\n",
              "    <path d=\"M18.56 5.44l.94 2.06.94-2.06 2.06-.94-2.06-.94-.94-2.06-.94 2.06-2.06.94zm-11 1L8.5 8.5l.94-2.06 2.06-.94-2.06-.94L8.5 2.5l-.94 2.06-2.06.94zm10 10l.94 2.06.94-2.06 2.06-.94-2.06-.94-.94-2.06-.94 2.06-2.06.94z\"/><path d=\"M17.41 7.96l-1.37-1.37c-.4-.4-.92-.59-1.43-.59-.52 0-1.04.2-1.43.59L10.3 9.45l-7.72 7.72c-.78.78-.78 2.05 0 2.83L4 21.41c.39.39.9.59 1.41.59.51 0 1.02-.2 1.41-.59l7.78-7.78 2.81-2.81c.8-.78.8-2.07 0-2.86zM5.41 20L4 18.59l7.72-7.72 1.47 1.35L5.41 20z\"/>\n",
              "  </svg>\n",
              "      </button>\n",
              "      \n",
              "  <style>\n",
              "    .colab-df-container {\n",
              "      display:flex;\n",
              "      flex-wrap:wrap;\n",
              "      gap: 12px;\n",
              "    }\n",
              "\n",
              "    .colab-df-convert {\n",
              "      background-color: #E8F0FE;\n",
              "      border: none;\n",
              "      border-radius: 50%;\n",
              "      cursor: pointer;\n",
              "      display: none;\n",
              "      fill: #1967D2;\n",
              "      height: 32px;\n",
              "      padding: 0 0 0 0;\n",
              "      width: 32px;\n",
              "    }\n",
              "\n",
              "    .colab-df-convert:hover {\n",
              "      background-color: #E2EBFA;\n",
              "      box-shadow: 0px 1px 2px rgba(60, 64, 67, 0.3), 0px 1px 3px 1px rgba(60, 64, 67, 0.15);\n",
              "      fill: #174EA6;\n",
              "    }\n",
              "\n",
              "    [theme=dark] .colab-df-convert {\n",
              "      background-color: #3B4455;\n",
              "      fill: #D2E3FC;\n",
              "    }\n",
              "\n",
              "    [theme=dark] .colab-df-convert:hover {\n",
              "      background-color: #434B5C;\n",
              "      box-shadow: 0px 1px 3px 1px rgba(0, 0, 0, 0.15);\n",
              "      filter: drop-shadow(0px 1px 2px rgba(0, 0, 0, 0.3));\n",
              "      fill: #FFFFFF;\n",
              "    }\n",
              "  </style>\n",
              "\n",
              "      <script>\n",
              "        const buttonEl =\n",
              "          document.querySelector('#df-6a034451-f804-4803-a391-ee42f7313ff3 button.colab-df-convert');\n",
              "        buttonEl.style.display =\n",
              "          google.colab.kernel.accessAllowed ? 'block' : 'none';\n",
              "\n",
              "        async function convertToInteractive(key) {\n",
              "          const element = document.querySelector('#df-6a034451-f804-4803-a391-ee42f7313ff3');\n",
              "          const dataTable =\n",
              "            await google.colab.kernel.invokeFunction('convertToInteractive',\n",
              "                                                     [key], {});\n",
              "          if (!dataTable) return;\n",
              "\n",
              "          const docLinkHtml = 'Like what you see? Visit the ' +\n",
              "            '<a target=\"_blank\" href=https://colab.research.google.com/notebooks/data_table.ipynb>data table notebook</a>'\n",
              "            + ' to learn more about interactive tables.';\n",
              "          element.innerHTML = '';\n",
              "          dataTable['output_type'] = 'display_data';\n",
              "          await google.colab.output.renderOutput(dataTable, element);\n",
              "          const docLink = document.createElement('div');\n",
              "          docLink.innerHTML = docLinkHtml;\n",
              "          element.appendChild(docLink);\n",
              "        }\n",
              "      </script>\n",
              "    </div>\n",
              "  </div>\n",
              "  "
            ]
          },
          "metadata": {},
          "execution_count": 8
        }
      ]
    },
    {
      "cell_type": "code",
      "source": [
        "N=NeedMed.drop(['category','need_or_resource'],axis=1)\n",
        "Medical_Need=N.assign(type='Medical Need')\n",
        "RM=ResourceMed.drop(['category','need_or_resource'],axis=1)\n",
        "Resource_Medical = RM.assign(type='Medical Resource')\n",
        "NW=NeedWater.drop(['category','need_or_resource'],axis=1)\n",
        "Need_Water = NW.assign(type='Water Need')\n",
        "RW= ResourceWater.drop(['category','need_or_resource'],axis=1)\n",
        "Resource_Water = RW.assign(type='Water Resource')\n",
        "NE=NeedEnergy.drop(['category','need_or_resource'],axis=1)\n",
        "Energy_Need= NE.assign(type='Energy Need')\n",
        "RE=ResourceEnergy.drop(['category','need_or_resource'],axis=1)\n",
        "Energy_Resource = RE.assign(type='Energy Resource')\n",
        "NF=NeedFood.drop(['category','need_or_resource'],axis=1)\n",
        "Food_Need = NF.assign(type='Food Need')\n",
        "RF= ResourceFood.drop(['category','need_or_resource'],axis=1)\n",
        "Food_Resource = RF.assign(type='Food Resource')\n",
        "NR= nonemaderesource.drop(['category','need_or_resource'],axis=1)\n",
        "No_Resource = NR.assign(type='No Resource')\n",
        "NN=nonemadeNeed.drop(['category','need_or_resource'],axis=1)\n",
        "No_Need = NN.assign(type='No Need')\n",
        "\n"
      ],
      "metadata": {
        "id": "bSkniKzHUfDf"
      },
      "execution_count": null,
      "outputs": []
    },
    {
      "cell_type": "code",
      "source": [
        "No_Need"
      ],
      "metadata": {
        "colab": {
          "base_uri": "https://localhost:8080/",
          "height": 81
        },
        "id": "xGI6vF1HeAlH",
        "outputId": "7a5507d5-6790-4142-9eb0-16ec36e1f693"
      },
      "execution_count": null,
      "outputs": [
        {
          "output_type": "execute_result",
          "data": {
            "text/plain": [
              "                                   tweet_id  \\\n",
              "933  e49dced4-9344-485e-87d2-542d3409a53b_1   \n",
              "\n",
              "                                                  text     type  \n",
              "933  Left vm with *********** ********  Work: *****...  No Need  "
            ],
            "text/html": [
              "\n",
              "  <div id=\"df-e7d071f8-2a37-480a-95f8-c5fc5b859da3\">\n",
              "    <div class=\"colab-df-container\">\n",
              "      <div>\n",
              "<style scoped>\n",
              "    .dataframe tbody tr th:only-of-type {\n",
              "        vertical-align: middle;\n",
              "    }\n",
              "\n",
              "    .dataframe tbody tr th {\n",
              "        vertical-align: top;\n",
              "    }\n",
              "\n",
              "    .dataframe thead th {\n",
              "        text-align: right;\n",
              "    }\n",
              "</style>\n",
              "<table border=\"1\" class=\"dataframe\">\n",
              "  <thead>\n",
              "    <tr style=\"text-align: right;\">\n",
              "      <th></th>\n",
              "      <th>tweet_id</th>\n",
              "      <th>text</th>\n",
              "      <th>type</th>\n",
              "    </tr>\n",
              "  </thead>\n",
              "  <tbody>\n",
              "    <tr>\n",
              "      <th>933</th>\n",
              "      <td>e49dced4-9344-485e-87d2-542d3409a53b_1</td>\n",
              "      <td>Left vm with *********** ********  Work: *****...</td>\n",
              "      <td>No Need</td>\n",
              "    </tr>\n",
              "  </tbody>\n",
              "</table>\n",
              "</div>\n",
              "      <button class=\"colab-df-convert\" onclick=\"convertToInteractive('df-e7d071f8-2a37-480a-95f8-c5fc5b859da3')\"\n",
              "              title=\"Convert this dataframe to an interactive table.\"\n",
              "              style=\"display:none;\">\n",
              "        \n",
              "  <svg xmlns=\"http://www.w3.org/2000/svg\" height=\"24px\"viewBox=\"0 0 24 24\"\n",
              "       width=\"24px\">\n",
              "    <path d=\"M0 0h24v24H0V0z\" fill=\"none\"/>\n",
              "    <path d=\"M18.56 5.44l.94 2.06.94-2.06 2.06-.94-2.06-.94-.94-2.06-.94 2.06-2.06.94zm-11 1L8.5 8.5l.94-2.06 2.06-.94-2.06-.94L8.5 2.5l-.94 2.06-2.06.94zm10 10l.94 2.06.94-2.06 2.06-.94-2.06-.94-.94-2.06-.94 2.06-2.06.94z\"/><path d=\"M17.41 7.96l-1.37-1.37c-.4-.4-.92-.59-1.43-.59-.52 0-1.04.2-1.43.59L10.3 9.45l-7.72 7.72c-.78.78-.78 2.05 0 2.83L4 21.41c.39.39.9.59 1.41.59.51 0 1.02-.2 1.41-.59l7.78-7.78 2.81-2.81c.8-.78.8-2.07 0-2.86zM5.41 20L4 18.59l7.72-7.72 1.47 1.35L5.41 20z\"/>\n",
              "  </svg>\n",
              "      </button>\n",
              "      \n",
              "  <style>\n",
              "    .colab-df-container {\n",
              "      display:flex;\n",
              "      flex-wrap:wrap;\n",
              "      gap: 12px;\n",
              "    }\n",
              "\n",
              "    .colab-df-convert {\n",
              "      background-color: #E8F0FE;\n",
              "      border: none;\n",
              "      border-radius: 50%;\n",
              "      cursor: pointer;\n",
              "      display: none;\n",
              "      fill: #1967D2;\n",
              "      height: 32px;\n",
              "      padding: 0 0 0 0;\n",
              "      width: 32px;\n",
              "    }\n",
              "\n",
              "    .colab-df-convert:hover {\n",
              "      background-color: #E2EBFA;\n",
              "      box-shadow: 0px 1px 2px rgba(60, 64, 67, 0.3), 0px 1px 3px 1px rgba(60, 64, 67, 0.15);\n",
              "      fill: #174EA6;\n",
              "    }\n",
              "\n",
              "    [theme=dark] .colab-df-convert {\n",
              "      background-color: #3B4455;\n",
              "      fill: #D2E3FC;\n",
              "    }\n",
              "\n",
              "    [theme=dark] .colab-df-convert:hover {\n",
              "      background-color: #434B5C;\n",
              "      box-shadow: 0px 1px 3px 1px rgba(0, 0, 0, 0.15);\n",
              "      filter: drop-shadow(0px 1px 2px rgba(0, 0, 0, 0.3));\n",
              "      fill: #FFFFFF;\n",
              "    }\n",
              "  </style>\n",
              "\n",
              "      <script>\n",
              "        const buttonEl =\n",
              "          document.querySelector('#df-e7d071f8-2a37-480a-95f8-c5fc5b859da3 button.colab-df-convert');\n",
              "        buttonEl.style.display =\n",
              "          google.colab.kernel.accessAllowed ? 'block' : 'none';\n",
              "\n",
              "        async function convertToInteractive(key) {\n",
              "          const element = document.querySelector('#df-e7d071f8-2a37-480a-95f8-c5fc5b859da3');\n",
              "          const dataTable =\n",
              "            await google.colab.kernel.invokeFunction('convertToInteractive',\n",
              "                                                     [key], {});\n",
              "          if (!dataTable) return;\n",
              "\n",
              "          const docLinkHtml = 'Like what you see? Visit the ' +\n",
              "            '<a target=\"_blank\" href=https://colab.research.google.com/notebooks/data_table.ipynb>data table notebook</a>'\n",
              "            + ' to learn more about interactive tables.';\n",
              "          element.innerHTML = '';\n",
              "          dataTable['output_type'] = 'display_data';\n",
              "          await google.colab.output.renderOutput(dataTable, element);\n",
              "          const docLink = document.createElement('div');\n",
              "          docLink.innerHTML = docLinkHtml;\n",
              "          element.appendChild(docLink);\n",
              "        }\n",
              "      </script>\n",
              "    </div>\n",
              "  </div>\n",
              "  "
            ]
          },
          "metadata": {},
          "execution_count": 17
        }
      ]
    },
    {
      "cell_type": "code",
      "source": [
        "X9_train, X9_test, y9_train, y9_test = train_test_split(No_Need['text'], No_Need['type'], test_size=0.2, random_state=9)"
      ],
      "metadata": {
        "id": "dOwAQ3qKcRd6"
      },
      "execution_count": null,
      "outputs": []
    },
    {
      "cell_type": "code",
      "source": [
        "X8_train, X8_test, y8_train, y8_test = train_test_split(No_Resource['text'], No_Resource['type'], test_size=0.8, random_state=9)\n",
        "train_No_Resource=' '.join(list(X8_train))"
      ],
      "metadata": {
        "id": "EGy4ICvicBuz"
      },
      "execution_count": null,
      "outputs": []
    },
    {
      "cell_type": "code",
      "source": [
        "X7_train, X7_test, y7_train, y7_test = train_test_split(Food_Resource['text'], Food_Resource['type'], test_size=0.8, random_state=9)\n",
        "train_Food_Resource=' '.join(list(X7_train))"
      ],
      "metadata": {
        "id": "l-v4U7g_boYb"
      },
      "execution_count": null,
      "outputs": []
    },
    {
      "cell_type": "code",
      "source": [
        "X6_train, X6_test, y6_train, y6_test = train_test_split(Food_Need['text'], Food_Need['type'], test_size=0.8, random_state=9)\n",
        "train_Food_Need=' '.join(list(X6_train))"
      ],
      "metadata": {
        "id": "uc7A9kslFgs6"
      },
      "execution_count": null,
      "outputs": []
    },
    {
      "cell_type": "code",
      "source": [
        "X5_train, X5_test, y5_train, y5_test = train_test_split(Energy_Resource['text'], Energy_Resource['type'], test_size=0.8, random_state=9)\n",
        "train_Energy_Resource=' '.join(list(X5_train))"
      ],
      "metadata": {
        "id": "dN63cARnFH2C"
      },
      "execution_count": null,
      "outputs": []
    },
    {
      "cell_type": "code",
      "source": [
        "X4_train, X4_test, y4_train, y4_test = train_test_split(Energy_Need['text'], Energy_Need['type'], test_size=0.8, random_state=9)\n",
        "train_Energy_Need=' '.join(list(X4_train))"
      ],
      "metadata": {
        "id": "2AqFflTWEctz"
      },
      "execution_count": null,
      "outputs": []
    },
    {
      "cell_type": "code",
      "source": [
        "X3_train, X3_test, y3_train, y3_test = train_test_split(Resource_Water['text'], Resource_Water['type'], test_size=0.8, random_state=9)\n",
        "train_Water_Resource=' '.join(list(X3_train))"
      ],
      "metadata": {
        "id": "Y9pfphcLEBpW"
      },
      "execution_count": null,
      "outputs": []
    },
    {
      "cell_type": "code",
      "source": [
        "X2_train, X2_test, y2_train, y2_test = train_test_split(Need_Water['text'], Need_Water['type'], test_size=0.8, random_state=9)\n",
        "train_Water_Need=' '.join(list(X2_train))"
      ],
      "metadata": {
        "id": "Ges6KGpODVDn"
      },
      "execution_count": null,
      "outputs": []
    },
    {
      "cell_type": "code",
      "source": [
        "X1_train, X1_test, y1_train, y1_test = train_test_split(Resource_Medical['text'], Resource_Medical['type'], test_size=0.8, random_state=9)\n",
        "train_Med_Resource=' '.join(list(X1_train))"
      ],
      "metadata": {
        "id": "M3oko_I_CL85"
      },
      "execution_count": null,
      "outputs": []
    },
    {
      "cell_type": "code",
      "source": [
        " \n",
        "X_train, X_test, y_train, y_test = train_test_split(Medical_Need['text'], Medical_Need['type'], test_size=0.8, random_state=9)\n",
        "train_Med_Need=' '.join(list(X_train))"
      ],
      "metadata": {
        "id": "pyPsI_HsX9dH"
      },
      "execution_count": null,
      "outputs": []
    },
    {
      "cell_type": "code",
      "source": [
        "thegroups=[MedNeed,MedResource,WaterNeed,WaterResource,EnergyNeed, EnergyResource, FoodNeed,FoodResource,NoResource]"
      ],
      "metadata": {
        "id": "GF7JPcIAzZnX"
      },
      "execution_count": null,
      "outputs": []
    },
    {
      "cell_type": "code",
      "source": [
        "train_Water_Need"
      ],
      "metadata": {
        "colab": {
          "base_uri": "https://localhost:8080/",
          "height": 70
        },
        "id": "3sSH3Ud0iFiA",
        "outputId": "20eba2ee-a83b-4d79-a6e4-e9dae51d13d9"
      },
      "execution_count": null,
      "outputs": [
        {
          "output_type": "execute_result",
          "data": {
            "text/plain": [
              "\"Need a truck load of water (NOT DRINKING) to be able to start disinfecting home in Breezy Point. I have the cleaning service, but they cannot begin since there is no water in Breezy Point. need plumber to check furnace, and hot water heater after my basement was flooded out. 900' of garden hose to get water down Pier 9B to PortSide NewYork flooded supplies/space alongside the tanker MARY A. WHALEN. Ideally wanted by Saturday 11/17/12. Thank You!\""
            ],
            "application/vnd.google.colaboratory.intrinsic+json": {
              "type": "string"
            }
          },
          "metadata": {},
          "execution_count": 51
        }
      ]
    },
    {
      "cell_type": "code",
      "source": [
        "train_Med_Need"
      ],
      "metadata": {
        "colab": {
          "base_uri": "https://localhost:8080/",
          "height": 123
        },
        "id": "g6VIL6t0bEw5",
        "outputId": "bcf8850b-713c-44ec-e32f-40bf4e881b07"
      },
      "execution_count": null,
      "outputs": [
        {
          "output_type": "execute_result",
          "data": {
            "text/plain": [
              "\"Going out to scavenge for allergy medicine. Hopefully someone is open otherwise my next painting with be splatter technique. #sandy Please donate clothes, tools, unopened over-the-counter medications Staying with grandmother at **************. Need to collect prescription meds. Car has no gas so can't get supplies. Also no money for re-supply. Gas would help, money would help, supplies would help. I am writing on behalf of friends stranded in Staten Island. A family of four from Bulgaria. The little girl (age 5) has an ear infection and the house is very cold. I would be grateful if someone could check on them and find a solution for them re housing, etc. until power is back. Thank you. \\x89ÛÏ@Rockaway100: @redcrossny @fema Rockaway has been devastated and is in dire need of assistance with first aid supplies and basic necessities\\x89Û\\x9d We are looking for donations of feminine hygiene, toothpaste, DEODORANT has been a consistent request, & baby wipes PLEASE DONATE SOAP SHAMPOO TOOTHBRUSHES TOOTHPASTE BAND-AIDS PENS ENVELOPES WASHCLOTHS POSTAGE STAMPS LAUNDRY DETERGENT Deodorant Toothpaste Shampoo/Conditioner Baby Shampoo Kids Toothbrush Bar Soap Mouth Wash Q-tips painkillers\""
            ],
            "application/vnd.google.colaboratory.intrinsic+json": {
              "type": "string"
            }
          },
          "metadata": {},
          "execution_count": 140
        }
      ]
    },
    {
      "cell_type": "code",
      "source": [
        "v=gets_vectors('help')"
      ],
      "metadata": {
        "id": "BS11bVmtoWc0"
      },
      "execution_count": null,
      "outputs": []
    },
    {
      "cell_type": "code",
      "source": [
        "def vector_cosine_similarity(vec1):\n",
        "  for vec2 in thegroups:\n",
        "    #Assume vec1 and vec2 have the same size \n",
        "    numerator = 0\n",
        "    for i in range(len(vec1)):\n",
        "      numerator += vec1[i]*vec2[i]\n",
        "    mag1 = (sum(elem**2 for elem in vec1))**0.5\n",
        "    mag2 = (sum(elem**2 for elem in vec2))**0.5\n",
        "    similarity = numerator/(mag1*mag2)\n",
        "    print(similarity)\n",
        "#print(vector_cosine_similarity(v))"
      ],
      "metadata": {
        "id": "z3CAONbCy5_w"
      },
      "execution_count": null,
      "outputs": []
    },
    {
      "cell_type": "markdown",
      "source": [
        "Checking similarities between words and groups is more accurate to see the word accuracy. "
      ],
      "metadata": {
        "id": "XUjJBQDjD-3i"
      }
    },
    {
      "cell_type": "code",
      "source": [
        "print(vector_cosine_similarity(gets_vectors('hygiene')))"
      ],
      "metadata": {
        "colab": {
          "base_uri": "https://localhost:8080/"
        },
        "id": "IhB4aODrDsEQ",
        "outputId": "1310be15-b13f-4e4f-cedf-3a217fab8171"
      },
      "execution_count": null,
      "outputs": [
        {
          "output_type": "stream",
          "name": "stdout",
          "text": [
            "0.33961859576922443\n",
            "0.30464565505900953\n",
            "0.30143054430601196\n",
            "0.422492898408123\n",
            "0.24008013290990213\n",
            "0.32509221300083985\n",
            "0.39882281101511236\n",
            "0.4420779133196649\n",
            "0.34903304251181755\n",
            "None\n"
          ]
        }
      ]
    },
    {
      "cell_type": "code",
      "source": [
        "print(vector_cosine_similarity(gets_vectors('batteries'))) #agrees"
      ],
      "metadata": {
        "colab": {
          "base_uri": "https://localhost:8080/"
        },
        "id": "uUauErDzDJvr",
        "outputId": "c8cc1dee-880f-4d64-c933-3a9ee2e2d679"
      },
      "execution_count": null,
      "outputs": [
        {
          "output_type": "stream",
          "name": "stdout",
          "text": [
            "0.19324545452705283\n",
            "0.6203854558787842\n",
            "0.6152406362494752\n",
            "0.6256756332268326\n",
            "0.6411207959386225\n",
            "0.7047841213401729\n",
            "0.5559003454772459\n",
            "0.525595153386311\n",
            "0.4365532148240121\n",
            "None\n"
          ]
        }
      ]
    },
    {
      "cell_type": "code",
      "source": [
        "print(vector_cosine_similarity(gets_vectors('power'))) #same as orders given at the plot"
      ],
      "metadata": {
        "colab": {
          "base_uri": "https://localhost:8080/"
        },
        "id": "pHmbkr7PCd01",
        "outputId": "851ef4c6-fe8e-4abc-c402-34bf009afec8"
      },
      "execution_count": null,
      "outputs": [
        {
          "output_type": "stream",
          "name": "stdout",
          "text": [
            "0.043057548972220784\n",
            "0.3986928810929464\n",
            "0.46077835833697317\n",
            "0.4608560661190403\n",
            "0.6399091168389727\n",
            "0.43690226320080155\n",
            "0.4765252503750059\n",
            "0.398897743716337\n",
            "0.41741532884939186\n",
            "None\n"
          ]
        }
      ]
    },
    {
      "cell_type": "code",
      "source": [
        "print(vector_cosine_similarity(gets_vectors('supplies'))) #here supplies is in third row on multiple groups after Medical Resource. "
      ],
      "metadata": {
        "colab": {
          "base_uri": "https://localhost:8080/"
        },
        "id": "O_NnZcXCAnEm",
        "outputId": "3d83542a-7c2a-4d56-e59e-f291bba98106"
      },
      "execution_count": null,
      "outputs": [
        {
          "output_type": "stream",
          "name": "stdout",
          "text": [
            "0.2560396933533413\n",
            "0.6763100179591218\n",
            "0.6530736667662179\n",
            "0.7457908042249026\n",
            "0.6292645821605902\n",
            "0.6934060729374264\n",
            "0.7638542918614685\n",
            "0.7328536407367017\n",
            "0.5605842918857049\n",
            "None\n"
          ]
        }
      ]
    },
    {
      "cell_type": "code",
      "source": [
        "print(vector_cosine_similarity(gets_vectors('food'))) #agrees"
      ],
      "metadata": {
        "colab": {
          "base_uri": "https://localhost:8080/"
        },
        "id": "ILIvVazSAdvb",
        "outputId": "bd65a132-efab-4d51-d760-7e22f5e7ff24"
      },
      "execution_count": null,
      "outputs": [
        {
          "output_type": "stream",
          "name": "stdout",
          "text": [
            "0.2081855674267581\n",
            "0.39432260587683216\n",
            "0.459597319228479\n",
            "0.5887700496132753\n",
            "0.38052199273071746\n",
            "0.4752329870306513\n",
            "0.6228602702488121\n",
            "0.7210857516919903\n",
            "0.4210411445591278\n",
            "None\n"
          ]
        }
      ]
    },
    {
      "cell_type": "code",
      "source": [
        "print(vector_cosine_similarity(gets_vectors('tools'))) #totally agrees with the plots"
      ],
      "metadata": {
        "colab": {
          "base_uri": "https://localhost:8080/"
        },
        "id": "HKWn_RaJASLK",
        "outputId": "73c49115-db79-41a4-a947-13c44627e531"
      },
      "execution_count": null,
      "outputs": [
        {
          "output_type": "stream",
          "name": "stdout",
          "text": [
            "0.3326031813243646\n",
            "0.5323693979938334\n",
            "0.4686811112159683\n",
            "0.5603291396954609\n",
            "0.5275091904446931\n",
            "0.5836382840689317\n",
            "0.5309706345780307\n",
            "0.5653183527671516\n",
            "0.7446061940173152\n",
            "None\n"
          ]
        }
      ]
    },
    {
      "cell_type": "code",
      "source": [
        "print(vector_cosine_similarity(gets_vectors('when')))"
      ],
      "metadata": {
        "colab": {
          "base_uri": "https://localhost:8080/"
        },
        "id": "9ILoDb-GZKl0",
        "outputId": "e939513f-2aa6-4321-96e0-e941f7f0436d"
      },
      "execution_count": null,
      "outputs": [
        {
          "output_type": "stream",
          "name": "stdout",
          "text": [
            "nan\n",
            "nan\n",
            "nan\n",
            "nan\n",
            "nan\n",
            "nan\n",
            "nan\n",
            "nan\n",
            "nan\n",
            "None\n"
          ]
        }
      ]
    },
    {
      "cell_type": "code",
      "source": [
        "print(vector_cosine_similarity(gets_vectors('collect'))) # collect is not even listed at Medical resource or Food resource but is more accurate than  in other groups listed frequently. "
      ],
      "metadata": {
        "colab": {
          "base_uri": "https://localhost:8080/"
        },
        "id": "IYR_fUjPYbV6",
        "outputId": "0c37f65e-7e49-47e8-9a26-06286b6bd040"
      },
      "execution_count": null,
      "outputs": [
        {
          "output_type": "stream",
          "name": "stdout",
          "text": [
            "0.13602405343849966\n",
            "0.5100213332223361\n",
            "0.42156378571179787\n",
            "0.5218733986042088\n",
            "0.46559560394917787\n",
            "0.5218854002740404\n",
            "0.5307204534608403\n",
            "0.5683265534877127\n",
            "0.4754818914239312\n",
            "None\n"
          ]
        }
      ]
    },
    {
      "cell_type": "code",
      "source": [
        "print(vector_cosine_similarity(gets_vectors('Need a truck load of water (NOT DRINKING) to be able to start disinfecting home in Breezy Point.\t'))) #true!"
      ],
      "metadata": {
        "colab": {
          "base_uri": "https://localhost:8080/"
        },
        "id": "bliLc0HCibR_",
        "outputId": "7d0d27fa-5c84-4aec-e6ca-cbdd9b3b6cd4"
      },
      "execution_count": null,
      "outputs": [
        {
          "output_type": "stream",
          "name": "stdout",
          "text": [
            "0.35398090833933876\n",
            "0.6944013145057457\n",
            "0.911626158405042\n",
            "0.8427516392396618\n",
            "0.7979364204653085\n",
            "0.7617694250090519\n",
            "0.7612716525270931\n",
            "0.7707716484496777\n",
            "0.706752322720476\n",
            "None\n"
          ]
        }
      ]
    },
    {
      "cell_type": "code",
      "source": [
        "print(vector_cosine_similarity(gets_vectors('Basic tools, drill, etc.\t'))) #true!"
      ],
      "metadata": {
        "colab": {
          "base_uri": "https://localhost:8080/"
        },
        "id": "rKOi99JXhNmB",
        "outputId": "f2127085-d893-47b3-a1a2-2e3ac47bf589"
      },
      "execution_count": null,
      "outputs": [
        {
          "output_type": "stream",
          "name": "stdout",
          "text": [
            "0.2783503257698568\n",
            "0.49868193880889944\n",
            "0.4045766289594256\n",
            "0.48819219821452714\n",
            "0.3779871047083524\n",
            "0.5194717324159929\n",
            "0.4063978629580659\n",
            "0.4605490636767294\n",
            "0.6410066899331396\n",
            "None\n"
          ]
        }
      ]
    },
    {
      "cell_type": "code",
      "source": [
        "print(vector_cosine_similarity(gets_vectors('help')))  # even tho there are more help words in other groups, the most accurance of \"help\" is at Medical Need which is the second highest needed. Other groups have it on third line."
      ],
      "metadata": {
        "colab": {
          "base_uri": "https://localhost:8080/"
        },
        "id": "bkb9XkOjzw5b",
        "outputId": "d8848e22-4286-4f06-f613-1b39b35d2e3c"
      },
      "execution_count": null,
      "outputs": [
        {
          "output_type": "stream",
          "name": "stdout",
          "text": [
            "0.21801041211145566\n",
            "0.3880186441634649\n",
            "0.4350560027338432\n",
            "0.5425525374682174\n",
            "0.5493849907700754\n",
            "0.4465917013839684\n",
            "0.5468483690785972\n",
            "0.5962032014386683\n",
            "0.6989958998307721\n",
            "None\n"
          ]
        }
      ]
    },
    {
      "cell_type": "code",
      "source": [
        "help => no resource    collect => food resource       tools => no resource    food => food resource    supplies => food need  power => energy need  batteries => energy resource\n",
        "=> medical need            => medical resource            =>no resource         => food Food_Resource    => medical resource        =>energy need         =>energy resource"
      ],
      "metadata": {
        "id": "VH_Hje6CeAzl"
      },
      "execution_count": null,
      "outputs": []
    },
    {
      "cell_type": "markdown",
      "source": [
        "Medical need Need"
      ],
      "metadata": {
        "id": "fhgQHmqdYOHP"
      }
    },
    {
      "cell_type": "code",
      "source": [
        "No_Resource"
      ],
      "metadata": {
        "colab": {
          "base_uri": "https://localhost:8080/",
          "height": 457
        },
        "id": "rhWXCSia6yak",
        "outputId": "c5d4224b-bd43-48c9-b0c7-138ffa79bd19"
      },
      "execution_count": null,
      "outputs": [
        {
          "output_type": "execute_result",
          "data": {
            "text/plain": [
              "                                  tweet_id  \\\n",
              "592   068ceeaf-435c-48a6-bb8e-237e1fa64914   \n",
              "700   f35cee00-be95-44a0-b4bd-dcb78e891e8e   \n",
              "819   44fb4436-6fa0-44ca-b4ae-2fcc0d474c9d   \n",
              "854   15ac2a91-84e9-4058-a887-8e613f05fb44   \n",
              "882   1a83a8b2-db45-41e2-9d80-d113788281d7   \n",
              "929   3a74d9f6-c29f-4f5b-9ac9-6b72994a219f   \n",
              "958   87d792a8-44b6-4c7b-8bbf-53a27968d1be   \n",
              "1006  23d32530-e6c6-426f-9aa5-eec51beb48ba   \n",
              "1042  0e0ea1c6-e998-4736-96cc-16e3079ef2e6   \n",
              "1047  7ff8c059-aaa2-4c54-8d64-c85d3f4d4737   \n",
              "1156  2cf62df5-9366-4ddd-99fa-3641c00ca969   \n",
              "1279  184237f6-44e2-41eb-ab65-3bd6f8624c2e   \n",
              "1357  307483fa-6821-418f-ba96-b036f9b928c5   \n",
              "\n",
              "                                                   text         type  \n",
              "592   I missed the volunteer opportunity at astoria ...  No Resource  \n",
              "700                               Some yard/hand tools.  No Resource  \n",
              "819   I am not a professional but have experience wi...  No Resource  \n",
              "854             sculptor so reasonably handy with tools  No Resource  \n",
              "882   I have lots of hand and power tools as well as...  No Resource  \n",
              "929   I am happy to help with whatever kind of low-s...  No Resource  \n",
              "958   i have a few power tools, circular saw, drill ...  No Resource  \n",
              "1006                      I would like to help clean-up  No Resource  \n",
              "1042  rough carpentry hand and yard tools small pick...  No Resource  \n",
              "1047  I have hand tools (hammer, nails, screws, scre...  No Resource  \n",
              "1156                           Basic tools, drill, etc.  No Resource  \n",
              "1279  I have general contracting skills, as well as ...  No Resource  \n",
              "1357  Just want to help clean up. have a bunch of to...  No Resource  "
            ],
            "text/html": [
              "\n",
              "  <div id=\"df-5afdc8aa-3c37-435c-b576-b2da6c5f483e\">\n",
              "    <div class=\"colab-df-container\">\n",
              "      <div>\n",
              "<style scoped>\n",
              "    .dataframe tbody tr th:only-of-type {\n",
              "        vertical-align: middle;\n",
              "    }\n",
              "\n",
              "    .dataframe tbody tr th {\n",
              "        vertical-align: top;\n",
              "    }\n",
              "\n",
              "    .dataframe thead th {\n",
              "        text-align: right;\n",
              "    }\n",
              "</style>\n",
              "<table border=\"1\" class=\"dataframe\">\n",
              "  <thead>\n",
              "    <tr style=\"text-align: right;\">\n",
              "      <th></th>\n",
              "      <th>tweet_id</th>\n",
              "      <th>text</th>\n",
              "      <th>type</th>\n",
              "    </tr>\n",
              "  </thead>\n",
              "  <tbody>\n",
              "    <tr>\n",
              "      <th>592</th>\n",
              "      <td>068ceeaf-435c-48a6-bb8e-237e1fa64914</td>\n",
              "      <td>I missed the volunteer opportunity at astoria ...</td>\n",
              "      <td>No Resource</td>\n",
              "    </tr>\n",
              "    <tr>\n",
              "      <th>700</th>\n",
              "      <td>f35cee00-be95-44a0-b4bd-dcb78e891e8e</td>\n",
              "      <td>Some yard/hand tools.</td>\n",
              "      <td>No Resource</td>\n",
              "    </tr>\n",
              "    <tr>\n",
              "      <th>819</th>\n",
              "      <td>44fb4436-6fa0-44ca-b4ae-2fcc0d474c9d</td>\n",
              "      <td>I am not a professional but have experience wi...</td>\n",
              "      <td>No Resource</td>\n",
              "    </tr>\n",
              "    <tr>\n",
              "      <th>854</th>\n",
              "      <td>15ac2a91-84e9-4058-a887-8e613f05fb44</td>\n",
              "      <td>sculptor so reasonably handy with tools</td>\n",
              "      <td>No Resource</td>\n",
              "    </tr>\n",
              "    <tr>\n",
              "      <th>882</th>\n",
              "      <td>1a83a8b2-db45-41e2-9d80-d113788281d7</td>\n",
              "      <td>I have lots of hand and power tools as well as...</td>\n",
              "      <td>No Resource</td>\n",
              "    </tr>\n",
              "    <tr>\n",
              "      <th>929</th>\n",
              "      <td>3a74d9f6-c29f-4f5b-9ac9-6b72994a219f</td>\n",
              "      <td>I am happy to help with whatever kind of low-s...</td>\n",
              "      <td>No Resource</td>\n",
              "    </tr>\n",
              "    <tr>\n",
              "      <th>958</th>\n",
              "      <td>87d792a8-44b6-4c7b-8bbf-53a27968d1be</td>\n",
              "      <td>i have a few power tools, circular saw, drill ...</td>\n",
              "      <td>No Resource</td>\n",
              "    </tr>\n",
              "    <tr>\n",
              "      <th>1006</th>\n",
              "      <td>23d32530-e6c6-426f-9aa5-eec51beb48ba</td>\n",
              "      <td>I would like to help clean-up</td>\n",
              "      <td>No Resource</td>\n",
              "    </tr>\n",
              "    <tr>\n",
              "      <th>1042</th>\n",
              "      <td>0e0ea1c6-e998-4736-96cc-16e3079ef2e6</td>\n",
              "      <td>rough carpentry hand and yard tools small pick...</td>\n",
              "      <td>No Resource</td>\n",
              "    </tr>\n",
              "    <tr>\n",
              "      <th>1047</th>\n",
              "      <td>7ff8c059-aaa2-4c54-8d64-c85d3f4d4737</td>\n",
              "      <td>I have hand tools (hammer, nails, screws, scre...</td>\n",
              "      <td>No Resource</td>\n",
              "    </tr>\n",
              "    <tr>\n",
              "      <th>1156</th>\n",
              "      <td>2cf62df5-9366-4ddd-99fa-3641c00ca969</td>\n",
              "      <td>Basic tools, drill, etc.</td>\n",
              "      <td>No Resource</td>\n",
              "    </tr>\n",
              "    <tr>\n",
              "      <th>1279</th>\n",
              "      <td>184237f6-44e2-41eb-ab65-3bd6f8624c2e</td>\n",
              "      <td>I have general contracting skills, as well as ...</td>\n",
              "      <td>No Resource</td>\n",
              "    </tr>\n",
              "    <tr>\n",
              "      <th>1357</th>\n",
              "      <td>307483fa-6821-418f-ba96-b036f9b928c5</td>\n",
              "      <td>Just want to help clean up. have a bunch of to...</td>\n",
              "      <td>No Resource</td>\n",
              "    </tr>\n",
              "  </tbody>\n",
              "</table>\n",
              "</div>\n",
              "      <button class=\"colab-df-convert\" onclick=\"convertToInteractive('df-5afdc8aa-3c37-435c-b576-b2da6c5f483e')\"\n",
              "              title=\"Convert this dataframe to an interactive table.\"\n",
              "              style=\"display:none;\">\n",
              "        \n",
              "  <svg xmlns=\"http://www.w3.org/2000/svg\" height=\"24px\"viewBox=\"0 0 24 24\"\n",
              "       width=\"24px\">\n",
              "    <path d=\"M0 0h24v24H0V0z\" fill=\"none\"/>\n",
              "    <path d=\"M18.56 5.44l.94 2.06.94-2.06 2.06-.94-2.06-.94-.94-2.06-.94 2.06-2.06.94zm-11 1L8.5 8.5l.94-2.06 2.06-.94-2.06-.94L8.5 2.5l-.94 2.06-2.06.94zm10 10l.94 2.06.94-2.06 2.06-.94-2.06-.94-.94-2.06-.94 2.06-2.06.94z\"/><path d=\"M17.41 7.96l-1.37-1.37c-.4-.4-.92-.59-1.43-.59-.52 0-1.04.2-1.43.59L10.3 9.45l-7.72 7.72c-.78.78-.78 2.05 0 2.83L4 21.41c.39.39.9.59 1.41.59.51 0 1.02-.2 1.41-.59l7.78-7.78 2.81-2.81c.8-.78.8-2.07 0-2.86zM5.41 20L4 18.59l7.72-7.72 1.47 1.35L5.41 20z\"/>\n",
              "  </svg>\n",
              "      </button>\n",
              "      \n",
              "  <style>\n",
              "    .colab-df-container {\n",
              "      display:flex;\n",
              "      flex-wrap:wrap;\n",
              "      gap: 12px;\n",
              "    }\n",
              "\n",
              "    .colab-df-convert {\n",
              "      background-color: #E8F0FE;\n",
              "      border: none;\n",
              "      border-radius: 50%;\n",
              "      cursor: pointer;\n",
              "      display: none;\n",
              "      fill: #1967D2;\n",
              "      height: 32px;\n",
              "      padding: 0 0 0 0;\n",
              "      width: 32px;\n",
              "    }\n",
              "\n",
              "    .colab-df-convert:hover {\n",
              "      background-color: #E2EBFA;\n",
              "      box-shadow: 0px 1px 2px rgba(60, 64, 67, 0.3), 0px 1px 3px 1px rgba(60, 64, 67, 0.15);\n",
              "      fill: #174EA6;\n",
              "    }\n",
              "\n",
              "    [theme=dark] .colab-df-convert {\n",
              "      background-color: #3B4455;\n",
              "      fill: #D2E3FC;\n",
              "    }\n",
              "\n",
              "    [theme=dark] .colab-df-convert:hover {\n",
              "      background-color: #434B5C;\n",
              "      box-shadow: 0px 1px 3px 1px rgba(0, 0, 0, 0.15);\n",
              "      filter: drop-shadow(0px 1px 2px rgba(0, 0, 0, 0.3));\n",
              "      fill: #FFFFFF;\n",
              "    }\n",
              "  </style>\n",
              "\n",
              "      <script>\n",
              "        const buttonEl =\n",
              "          document.querySelector('#df-5afdc8aa-3c37-435c-b576-b2da6c5f483e button.colab-df-convert');\n",
              "        buttonEl.style.display =\n",
              "          google.colab.kernel.accessAllowed ? 'block' : 'none';\n",
              "\n",
              "        async function convertToInteractive(key) {\n",
              "          const element = document.querySelector('#df-5afdc8aa-3c37-435c-b576-b2da6c5f483e');\n",
              "          const dataTable =\n",
              "            await google.colab.kernel.invokeFunction('convertToInteractive',\n",
              "                                                     [key], {});\n",
              "          if (!dataTable) return;\n",
              "\n",
              "          const docLinkHtml = 'Like what you see? Visit the ' +\n",
              "            '<a target=\"_blank\" href=https://colab.research.google.com/notebooks/data_table.ipynb>data table notebook</a>'\n",
              "            + ' to learn more about interactive tables.';\n",
              "          element.innerHTML = '';\n",
              "          dataTable['output_type'] = 'display_data';\n",
              "          await google.colab.output.renderOutput(dataTable, element);\n",
              "          const docLink = document.createElement('div');\n",
              "          docLink.innerHTML = docLinkHtml;\n",
              "          element.appendChild(docLink);\n",
              "        }\n",
              "      </script>\n",
              "    </div>\n",
              "  </div>\n",
              "  "
            ]
          },
          "metadata": {},
          "execution_count": 111
        }
      ]
    },
    {
      "cell_type": "code",
      "source": [
        "from collections import Counter\n",
        "\n",
        "stpwrds = stopwords.words('english')\n",
        "punctuation = string.punctuation\n",
        "\n",
        "# try changing to visualize more or less words\n",
        "num_words = 15\n",
        "\n",
        "# text cleaning maintaining all of our text as one string\n",
        "text = \" \".join(No_Resource['text'])\n",
        "# text = text.lower() # try adding this back in and see what happens!\n",
        "text = \"\".join(_ for _ in text if _ not in punctuation)\n",
        "text = [t for t in text.split() if t not in stpwrds and not t.isdigit()]\n",
        "\n",
        "# We can use Counter to find the most frequent words in all our titles!\n",
        "words = [_[0] for _ in Counter(text).most_common(num_words)]\n",
        "frequency = [_[1] for _ in Counter(text).most_common(num_words)]\n",
        "\n",
        "# Making our plot look nice!\n",
        "plt.figure(figsize=(8,6));\n",
        "ax = sns.barplot(x=frequency, y=words)\n",
        "ax.spines['top'].set_visible(False)\n",
        "ax.spines['right'].set_visible(False)\n",
        "plt.title(\"Most Frequent Keywords used in Help available (no resource) Titles\");\n",
        "plt.xlabel(\"Frequency\", fontsize=14);\n",
        "plt.yticks(fontsize=14);\n",
        "plt.xticks(fontsize=14);"
      ],
      "metadata": {
        "colab": {
          "base_uri": "https://localhost:8080/",
          "height": 412
        },
        "outputId": "f3cf5253-3203-4037-cd22-461f923e2a69",
        "id": "qLRTBkJS9kye"
      },
      "execution_count": null,
      "outputs": [
        {
          "output_type": "display_data",
          "data": {
            "text/plain": [
              "<Figure size 576x432 with 1 Axes>"
            ],
            "image/png": "[encoded data removed]"
          },
          "metadata": {
            "needs_background": "light"
          }
        }
      ]
    },
    {
      "cell_type": "code",
      "source": [
        "from collections import Counter\n",
        "\n",
        "stpwrds = stopwords.words('english')\n",
        "punctuation = string.punctuation\n",
        "\n",
        "# try changing to visualize more or less words\n",
        "num_words = 15\n",
        "\n",
        "# text cleaning maintaining all of our text as one string\n",
        "text = \" \".join(Food_Resource['text'])\n",
        "# text = text.lower() # try adding this back in and see what happens!\n",
        "text = \"\".join(_ for _ in text if _ not in punctuation)\n",
        "text = [t for t in text.split() if t not in stpwrds and not t.isdigit()]\n",
        "\n",
        "# We can use Counter to find the most frequent words in all our titles!\n",
        "words = [_[0] for _ in Counter(text).most_common(num_words)]\n",
        "frequency = [_[1] for _ in Counter(text).most_common(num_words)]\n",
        "\n",
        "# Making our plot look nice!\n",
        "plt.figure(figsize=(8,6));\n",
        "ax = sns.barplot(x=frequency, y=words)\n",
        "ax.spines['top'].set_visible(False)\n",
        "ax.spines['right'].set_visible(False)\n",
        "plt.title(\"Most Frequent Keywords used in Food Resource Titles\");\n",
        "plt.xlabel(\"Frequency\", fontsize=14);\n",
        "plt.yticks(fontsize=14);\n",
        "plt.xticks(fontsize=14);"
      ],
      "metadata": {
        "colab": {
          "base_uri": "https://localhost:8080/",
          "height": 412
        },
        "outputId": "102fbb28-8cd9-4a76-caf1-38843ec1f0f9",
        "id": "Dpq-w3iM9YM4"
      },
      "execution_count": null,
      "outputs": [
        {
          "output_type": "display_data",
          "data": {
            "text/plain": [
              "<Figure size 576x432 with 1 Axes>"
            ],
            "image/png": "[encoded data removed]"
          },
          "metadata": {
            "needs_background": "light"
          }
        }
      ]
    },
    {
      "cell_type": "code",
      "source": [
        "from collections import Counter\n",
        "\n",
        "stpwrds = stopwords.words('english')\n",
        "punctuation = string.punctuation\n",
        "\n",
        "# try changing to visualize more or less words\n",
        "num_words = 15\n",
        "\n",
        "# text cleaning maintaining all of our text as one string\n",
        "text = \" \".join(Food_Need['text'])\n",
        "# text = text.lower() # try adding this back in and see what happens!\n",
        "text = \"\".join(_ for _ in text if _ not in punctuation)\n",
        "text = [t for t in text.split() if t not in stpwrds and not t.isdigit()]\n",
        "\n",
        "# We can use Counter to find the most frequent words in all our titles!\n",
        "words = [_[0] for _ in Counter(text).most_common(num_words)]\n",
        "frequency = [_[1] for _ in Counter(text).most_common(num_words)]\n",
        "\n",
        "# Making our plot look nice!\n",
        "plt.figure(figsize=(8,6));\n",
        "ax = sns.barplot(x=frequency, y=words)\n",
        "ax.spines['top'].set_visible(False)\n",
        "ax.spines['right'].set_visible(False)\n",
        "plt.title(\"Most Frequent Keywords used in Food Need Titles\");\n",
        "plt.xlabel(\"Frequency\", fontsize=14);\n",
        "plt.yticks(fontsize=14);\n",
        "plt.xticks(fontsize=14);"
      ],
      "metadata": {
        "colab": {
          "base_uri": "https://localhost:8080/",
          "height": 412
        },
        "outputId": "0eb13d32-fa13-47b2-ef32-52a72c9e7eef",
        "id": "GgaoiFzs9SrL"
      },
      "execution_count": null,
      "outputs": [
        {
          "output_type": "display_data",
          "data": {
            "text/plain": [
              "<Figure size 576x432 with 1 Axes>"
            ],
            "image/png": "[encoded data removed]"
          },
          "metadata": {
            "needs_background": "light"
          }
        }
      ]
    },
    {
      "cell_type": "code",
      "source": [
        "from collections import Counter\n",
        "\n",
        "stpwrds = stopwords.words('english')\n",
        "punctuation = string.punctuation\n",
        "\n",
        "# try changing to visualize more or less words\n",
        "num_words = 15\n",
        "\n",
        "# text cleaning maintaining all of our text as one string\n",
        "text = \" \".join(Energy_Resource['text'])\n",
        "# text = text.lower() # try adding this back in and see what happens!\n",
        "text = \"\".join(_ for _ in text if _ not in punctuation)\n",
        "text = [t for t in text.split() if t not in stpwrds and not t.isdigit()]\n",
        "\n",
        "# We can use Counter to find the most frequent words in all our titles!\n",
        "words = [_[0] for _ in Counter(text).most_common(num_words)]\n",
        "frequency = [_[1] for _ in Counter(text).most_common(num_words)]\n",
        "\n",
        "# Making our plot look nice!\n",
        "plt.figure(figsize=(8,6));\n",
        "ax = sns.barplot(x=frequency, y=words)\n",
        "ax.spines['top'].set_visible(False)\n",
        "ax.spines['right'].set_visible(False)\n",
        "plt.title(\"Most Frequent Keywords used in Energy Resource Titles\");\n",
        "plt.xlabel(\"Frequency\", fontsize=14);\n",
        "plt.yticks(fontsize=14);\n",
        "plt.xticks(fontsize=14);"
      ],
      "metadata": {
        "colab": {
          "base_uri": "https://localhost:8080/",
          "height": 412
        },
        "outputId": "4fc94b3a-ae76-4923-c6b0-7cf354efc2a8",
        "id": "ttEfVcYG8UY6"
      },
      "execution_count": null,
      "outputs": [
        {
          "output_type": "display_data",
          "data": {
            "text/plain": [
              "<Figure size 576x432 with 1 Axes>"
            ],
            "image/png": "[encoded data removed]"
          },
          "metadata": {
            "needs_background": "light"
          }
        }
      ]
    },
    {
      "cell_type": "code",
      "source": [
        "from collections import Counter\n",
        "\n",
        "stpwrds = stopwords.words('english')\n",
        "punctuation = string.punctuation\n",
        "\n",
        "# try changing to visualize more or less words\n",
        "num_words = 15\n",
        "\n",
        "# text cleaning maintaining all of our text as one string\n",
        "text = \" \".join(Energy_Need['text'])\n",
        "# text = text.lower() # try adding this back in and see what happens!\n",
        "text = \"\".join(_ for _ in text if _ not in punctuation)\n",
        "text = [t for t in text.split() if t not in stpwrds and not t.isdigit()]\n",
        "\n",
        "# We can use Counter to find the most frequent words in all our titles!\n",
        "words = [_[0] for _ in Counter(text).most_common(num_words)]\n",
        "frequency = [_[1] for _ in Counter(text).most_common(num_words)]\n",
        "\n",
        "# Making our plot look nice!\n",
        "plt.figure(figsize=(8,6));\n",
        "ax = sns.barplot(x=frequency, y=words)\n",
        "ax.spines['top'].set_visible(False)\n",
        "ax.spines['right'].set_visible(False)\n",
        "plt.title(\"Most Frequent Keywords used in Energy Need Titles\");\n",
        "plt.xlabel(\"Frequency\", fontsize=14);\n",
        "plt.yticks(fontsize=14);\n",
        "plt.xticks(fontsize=14);"
      ],
      "metadata": {
        "colab": {
          "base_uri": "https://localhost:8080/",
          "height": 412
        },
        "outputId": "4c56cd52-b952-477f-cb43-f17e9cd28dd8",
        "id": "j-T_0sR78M4C"
      },
      "execution_count": null,
      "outputs": [
        {
          "output_type": "display_data",
          "data": {
            "text/plain": [
              "<Figure size 576x432 with 1 Axes>"
            ],
            "image/png": "[encoded data removed]"
          },
          "metadata": {
            "needs_background": "light"
          }
        }
      ]
    },
    {
      "cell_type": "code",
      "source": [
        "from collections import Counter\n",
        "\n",
        "stpwrds = stopwords.words('english')\n",
        "punctuation = string.punctuation\n",
        "\n",
        "# try changing to visualize more or less words\n",
        "num_words = 15\n",
        "\n",
        "# text cleaning maintaining all of our text as one string\n",
        "text = \" \".join(Resource_Water['text'])\n",
        "# text = text.lower() # try adding this back in and see what happens!\n",
        "text = \"\".join(_ for _ in text if _ not in punctuation)\n",
        "text = [t for t in text.split() if t not in stpwrds and not t.isdigit()]\n",
        "\n",
        "# We can use Counter to find the most frequent words in all our titles!\n",
        "words = [_[0] for _ in Counter(text).most_common(num_words)]\n",
        "frequency = [_[1] for _ in Counter(text).most_common(num_words)]\n",
        "\n",
        "# Making our plot look nice!\n",
        "plt.figure(figsize=(8,6));\n",
        "ax = sns.barplot(x=frequency, y=words)\n",
        "ax.spines['top'].set_visible(False)\n",
        "ax.spines['right'].set_visible(False)\n",
        "plt.title(\"Most Frequent Keywords used in Water Resource Titles\");\n",
        "plt.xlabel(\"Frequency\", fontsize=14);\n",
        "plt.yticks(fontsize=14);\n",
        "plt.xticks(fontsize=14);"
      ],
      "metadata": {
        "colab": {
          "base_uri": "https://localhost:8080/",
          "height": 412
        },
        "outputId": "4defe3ee-8049-40ab-d894-b8860ca6207d",
        "id": "CjfoosFj74Qp"
      },
      "execution_count": null,
      "outputs": [
        {
          "output_type": "display_data",
          "data": {
            "text/plain": [
              "<Figure size 576x432 with 1 Axes>"
            ],
            "image/png": "[encoded data removed]"
          },
          "metadata": {
            "needs_background": "light"
          }
        }
      ]
    },
    {
      "cell_type": "code",
      "source": [
        "from collections import Counter\n",
        "\n",
        "stpwrds = stopwords.words('english')\n",
        "punctuation = string.punctuation\n",
        "\n",
        "# try changing to visualize more or less words\n",
        "num_words = 15\n",
        "\n",
        "# text cleaning maintaining all of our text as one string\n",
        "text = \" \".join(Need_Water['text'])\n",
        "# text = text.lower() # try adding this back in and see what happens!\n",
        "text = \"\".join(_ for _ in text if _ not in punctuation)\n",
        "text = [t for t in text.split() if t not in stpwrds and not t.isdigit()]\n",
        "\n",
        "# We can use Counter to find the most frequent words in all our titles!\n",
        "words = [_[0] for _ in Counter(text).most_common(num_words)]\n",
        "frequency = [_[1] for _ in Counter(text).most_common(num_words)]\n",
        "\n",
        "# Making our plot look nice!\n",
        "plt.figure(figsize=(8,6));\n",
        "ax = sns.barplot(x=frequency, y=words)\n",
        "ax.spines['top'].set_visible(False)\n",
        "ax.spines['right'].set_visible(False)\n",
        "plt.title(\"Most Frequent Keywords used in Water Need Titles\");\n",
        "plt.xlabel(\"Frequency\", fontsize=14);\n",
        "plt.yticks(fontsize=14);\n",
        "plt.xticks(fontsize=14);"
      ],
      "metadata": {
        "colab": {
          "base_uri": "https://localhost:8080/",
          "height": 412
        },
        "outputId": "561bfb3f-f107-4ce5-ccd4-9790efcb40b0",
        "id": "WoEQ-oai7sV4"
      },
      "execution_count": null,
      "outputs": [
        {
          "output_type": "display_data",
          "data": {
            "text/plain": [
              "<Figure size 576x432 with 1 Axes>"
            ],
            "image/png": "[encoded data removed]"
          },
          "metadata": {
            "needs_background": "light"
          }
        }
      ]
    },
    {
      "cell_type": "code",
      "source": [
        "from collections import Counter\n",
        "\n",
        "stpwrds = stopwords.words('english')\n",
        "punctuation = string.punctuation\n",
        "\n",
        "# try changing to visualize more or less words\n",
        "num_words = 15\n",
        "\n",
        "# text cleaning maintaining all of our text as one string\n",
        "text = \" \".join(Resource_Medical['text'])\n",
        "# text = text.lower() # try adding this back in and see what happens!\n",
        "text = \"\".join(_ for _ in text if _ not in punctuation)\n",
        "text = [t for t in text.split() if t not in stpwrds and not t.isdigit()]\n",
        "\n",
        "# We can use Counter to find the most frequent words in all our titles!\n",
        "words = [_[0] for _ in Counter(text).most_common(num_words)]\n",
        "frequency = [_[1] for _ in Counter(text).most_common(num_words)]\n",
        "\n",
        "# Making our plot look nice!\n",
        "plt.figure(figsize=(8,6));\n",
        "ax = sns.barplot(x=frequency, y=words)\n",
        "ax.spines['top'].set_visible(False)\n",
        "ax.spines['right'].set_visible(False)\n",
        "plt.title(\"Most Frequent Keywords used in Medical Resource Titles\");\n",
        "plt.xlabel(\"Frequency\", fontsize=14);\n",
        "plt.yticks(fontsize=14);\n",
        "plt.xticks(fontsize=14);"
      ],
      "metadata": {
        "colab": {
          "base_uri": "https://localhost:8080/",
          "height": 412
        },
        "outputId": "14daf165-cb86-4065-a4dc-0124371acf93",
        "id": "rcU_4xy77REQ"
      },
      "execution_count": null,
      "outputs": [
        {
          "output_type": "display_data",
          "data": {
            "text/plain": [
              "<Figure size 576x432 with 1 Axes>"
            ],
            "image/png": "[encoded data removed]"
          },
          "metadata": {
            "needs_background": "light"
          }
        }
      ]
    },
    {
      "cell_type": "code",
      "source": [
        "from collections import Counter\n",
        "\n",
        "stpwrds = stopwords.words('english')\n",
        "punctuation = string.punctuation\n",
        "\n",
        "# try changing to visualize more or less words\n",
        "num_words = 15\n",
        "\n",
        "# text cleaning maintaining all of our text as one string\n",
        "text = \" \".join(Medical_Need['text'])\n",
        "# text = text.lower() # try adding this back in and see what happens!\n",
        "text = \"\".join(_ for _ in text if _ not in punctuation)\n",
        "text = [t for t in text.split() if t not in stpwrds and not t.isdigit()]\n",
        "\n",
        "# We can use Counter to find the most frequent words in all our titles!\n",
        "words = [_[0] for _ in Counter(text).most_common(num_words)]\n",
        "frequency = [_[1] for _ in Counter(text).most_common(num_words)]\n",
        "\n",
        "# Making our plot look nice!\n",
        "plt.figure(figsize=(8,6));\n",
        "ax = sns.barplot(x=frequency, y=words)\n",
        "ax.spines['top'].set_visible(False)\n",
        "ax.spines['right'].set_visible(False)\n",
        "plt.title(\"Most Frequent Keywords used in Medical Need Titles\");\n",
        "plt.xlabel(\"Frequency\", fontsize=14);\n",
        "plt.yticks(fontsize=14);\n",
        "plt.xticks(fontsize=14);"
      ],
      "metadata": {
        "id": "oeJK6inzRVAI",
        "colab": {
          "base_uri": "https://localhost:8080/",
          "height": 412
        },
        "outputId": "b8ff4253-cfcb-4cd3-d40b-3bf1ecc6b890"
      },
      "execution_count": null,
      "outputs": [
        {
          "output_type": "display_data",
          "data": {
            "text/plain": [
              "<Figure size 576x432 with 1 Axes>"
            ],
            "image/png": "[encoded data removed]"
          },
          "metadata": {
            "needs_background": "light"
          }
        }
      ]
    },
    {
      "cell_type": "code",
      "source": [
        "print(X_train.shape)\n",
        "print(y_train.shape)\n",
        "print(X_test.shape)\n",
        "print(y_test.shape)"
      ],
      "metadata": {
        "colab": {
          "base_uri": "https://localhost:8080/"
        },
        "id": "OBcGKqP2YU3Z",
        "outputId": "ce129128-66a2-4141-ae05-f243bf9577df"
      },
      "execution_count": null,
      "outputs": [
        {
          "output_type": "stream",
          "name": "stdout",
          "text": [
            "(8,)\n",
            "(8,)\n",
            "(2,)\n",
            "(2,)\n"
          ]
        }
      ]
    },
    {
      "cell_type": "code",
      "source": [
        "import spacy\n",
        "from spacy.lang.en.stop_words import STOP_WORDS\n",
        "!python -m spacy download en_core_web_md\n",
        "import en_core_web_md\n",
        "\n",
        "text_to_nlp = en_core_web_md.load() # loading in the model"
      ],
      "metadata": {
        "colab": {
          "base_uri": "https://localhost:8080/"
        },
        "id": "_Z2-l6EP7Kkq",
        "outputId": "1f16f524-20f1-4b44-c906-26096adc9b90"
      },
      "execution_count": null,
      "outputs": [
        {
          "output_type": "stream",
          "name": "stdout",
          "text": [
            "2022-08-11 19:46:54.635926: E tensorflow/stream_executor/cuda/cuda_driver.cc:271] failed call to cuInit: CUDA_ERROR_NO_DEVICE: no CUDA-capable device is detected\n",
            "Looking in indexes: https://pypi.org/simple, https://us-python.pkg.dev/colab-wheels/public/simple/\n",
            "Collecting en-core-web-md==3.4.0\n",
            "  Downloading https://github.com/explosion/spacy-models/releases/download/en_core_web_md-3.4.0/en_core_web_md-3.4.0-py3-none-any.whl (42.8 MB)\n",
            "\u001b[K     |████████████████████████████████| 42.8 MB 1.2 MB/s \n",
            "\u001b[?25hRequirement already satisfied: spacy<3.5.0,>=3.4.0 in /usr/local/lib/python3.7/dist-packages (from en-core-web-md==3.4.0) (3.4.1)\n",
            "Requirement already satisfied: srsly<3.0.0,>=2.4.3 in /usr/local/lib/python3.7/dist-packages (from spacy<3.5.0,>=3.4.0->en-core-web-md==3.4.0) (2.4.4)\n",
            "Requirement already satisfied: pathy>=0.3.5 in /usr/local/lib/python3.7/dist-packages (from spacy<3.5.0,>=3.4.0->en-core-web-md==3.4.0) (0.6.2)\n",
            "Requirement already satisfied: spacy-legacy<3.1.0,>=3.0.9 in /usr/local/lib/python3.7/dist-packages (from spacy<3.5.0,>=3.4.0->en-core-web-md==3.4.0) (3.0.9)\n",
            "Requirement already satisfied: preshed<3.1.0,>=3.0.2 in /usr/local/lib/python3.7/dist-packages (from spacy<3.5.0,>=3.4.0->en-core-web-md==3.4.0) (3.0.6)\n",
            "Requirement already satisfied: packaging>=20.0 in /usr/local/lib/python3.7/dist-packages (from spacy<3.5.0,>=3.4.0->en-core-web-md==3.4.0) (21.3)\n",
            "Requirement already satisfied: langcodes<4.0.0,>=3.2.0 in /usr/local/lib/python3.7/dist-packages (from spacy<3.5.0,>=3.4.0->en-core-web-md==3.4.0) (3.3.0)\n",
            "Requirement already satisfied: numpy>=1.15.0 in /usr/local/lib/python3.7/dist-packages (from spacy<3.5.0,>=3.4.0->en-core-web-md==3.4.0) (1.21.6)\n",
            "Requirement already satisfied: cymem<2.1.0,>=2.0.2 in /usr/local/lib/python3.7/dist-packages (from spacy<3.5.0,>=3.4.0->en-core-web-md==3.4.0) (2.0.6)\n",
            "Requirement already satisfied: wasabi<1.1.0,>=0.9.1 in /usr/local/lib/python3.7/dist-packages (from spacy<3.5.0,>=3.4.0->en-core-web-md==3.4.0) (0.10.1)\n",
            "Requirement already satisfied: jinja2 in /usr/local/lib/python3.7/dist-packages (from spacy<3.5.0,>=3.4.0->en-core-web-md==3.4.0) (2.11.3)\n",
            "Requirement already satisfied: catalogue<2.1.0,>=2.0.6 in /usr/local/lib/python3.7/dist-packages (from spacy<3.5.0,>=3.4.0->en-core-web-md==3.4.0) (2.0.8)\n",
            "Requirement already satisfied: typing-extensions<4.2.0,>=3.7.4 in /usr/local/lib/python3.7/dist-packages (from spacy<3.5.0,>=3.4.0->en-core-web-md==3.4.0) (4.1.1)\n",
            "Requirement already satisfied: spacy-loggers<2.0.0,>=1.0.0 in /usr/local/lib/python3.7/dist-packages (from spacy<3.5.0,>=3.4.0->en-core-web-md==3.4.0) (1.0.3)\n",
            "Requirement already satisfied: thinc<8.2.0,>=8.1.0 in /usr/local/lib/python3.7/dist-packages (from spacy<3.5.0,>=3.4.0->en-core-web-md==3.4.0) (8.1.0)\n",
            "Requirement already satisfied: requests<3.0.0,>=2.13.0 in /usr/local/lib/python3.7/dist-packages (from spacy<3.5.0,>=3.4.0->en-core-web-md==3.4.0) (2.23.0)\n",
            "Requirement already satisfied: setuptools in /usr/local/lib/python3.7/dist-packages (from spacy<3.5.0,>=3.4.0->en-core-web-md==3.4.0) (57.4.0)\n",
            "Requirement already satisfied: tqdm<5.0.0,>=4.38.0 in /usr/local/lib/python3.7/dist-packages (from spacy<3.5.0,>=3.4.0->en-core-web-md==3.4.0) (4.64.0)\n",
            "Requirement already satisfied: pydantic!=1.8,!=1.8.1,<1.10.0,>=1.7.4 in /usr/local/lib/python3.7/dist-packages (from spacy<3.5.0,>=3.4.0->en-core-web-md==3.4.0) (1.9.1)\n",
            "Requirement already satisfied: murmurhash<1.1.0,>=0.28.0 in /usr/local/lib/python3.7/dist-packages (from spacy<3.5.0,>=3.4.0->en-core-web-md==3.4.0) (1.0.7)\n",
            "Requirement already satisfied: typer<0.5.0,>=0.3.0 in /usr/local/lib/python3.7/dist-packages (from spacy<3.5.0,>=3.4.0->en-core-web-md==3.4.0) (0.4.2)\n",
            "Requirement already satisfied: zipp>=0.5 in /usr/local/lib/python3.7/dist-packages (from catalogue<2.1.0,>=2.0.6->spacy<3.5.0,>=3.4.0->en-core-web-md==3.4.0) (3.8.1)\n",
            "Requirement already satisfied: pyparsing!=3.0.5,>=2.0.2 in /usr/local/lib/python3.7/dist-packages (from packaging>=20.0->spacy<3.5.0,>=3.4.0->en-core-web-md==3.4.0) (3.0.9)\n",
            "Requirement already satisfied: smart-open<6.0.0,>=5.2.1 in /usr/local/lib/python3.7/dist-packages (from pathy>=0.3.5->spacy<3.5.0,>=3.4.0->en-core-web-md==3.4.0) (5.2.1)\n",
            "Requirement already satisfied: chardet<4,>=3.0.2 in /usr/local/lib/python3.7/dist-packages (from requests<3.0.0,>=2.13.0->spacy<3.5.0,>=3.4.0->en-core-web-md==3.4.0) (3.0.4)\n",
            "Requirement already satisfied: certifi>=2017.4.17 in /usr/local/lib/python3.7/dist-packages (from requests<3.0.0,>=2.13.0->spacy<3.5.0,>=3.4.0->en-core-web-md==3.4.0) (2022.6.15)\n",
            "Requirement already satisfied: urllib3!=1.25.0,!=1.25.1,<1.26,>=1.21.1 in /usr/local/lib/python3.7/dist-packages (from requests<3.0.0,>=2.13.0->spacy<3.5.0,>=3.4.0->en-core-web-md==3.4.0) (1.24.3)\n",
            "Requirement already satisfied: idna<3,>=2.5 in /usr/local/lib/python3.7/dist-packages (from requests<3.0.0,>=2.13.0->spacy<3.5.0,>=3.4.0->en-core-web-md==3.4.0) (2.10)\n",
            "Requirement already satisfied: blis<0.8.0,>=0.7.8 in /usr/local/lib/python3.7/dist-packages (from thinc<8.2.0,>=8.1.0->spacy<3.5.0,>=3.4.0->en-core-web-md==3.4.0) (0.7.8)\n",
            "Requirement already satisfied: click<9.0.0,>=7.1.1 in /usr/local/lib/python3.7/dist-packages (from typer<0.5.0,>=0.3.0->spacy<3.5.0,>=3.4.0->en-core-web-md==3.4.0) (7.1.2)\n",
            "Requirement already satisfied: MarkupSafe>=0.23 in /usr/local/lib/python3.7/dist-packages (from jinja2->spacy<3.5.0,>=3.4.0->en-core-web-md==3.4.0) (2.0.1)\n",
            "Installing collected packages: en-core-web-md\n",
            "Successfully installed en-core-web-md-3.4.0\n",
            "\u001b[38;5;2m✔ Download and installation successful\u001b[0m\n",
            "You can now load the package via spacy.load('en_core_web_md')\n"
          ]
        }
      ]
    },
    {
      "cell_type": "code",
      "source": [
        "def tokenize_vecs(text):\n",
        "    clean_tokens = []\n",
        "    for token in text_to_nlp(text):\n",
        "        if (not token.is_stop) & (token.lemma_ != '-PRON-') & (not token.is_punct): \n",
        "          # -PRON- is a special all inclusive \"lemma\" spaCy uses for any pronoun, we want to exclude these \n",
        "            clean_tokens.append(token)\n",
        "    return np.array(clean_tokens)"
      ],
      "metadata": {
        "id": "9UvSFqVl7TQ9"
      },
      "execution_count": null,
      "outputs": []
    },
    {
      "cell_type": "code",
      "source": [
        "def gets_vectors(text):\n",
        "  title = tokenize_vecs(text) # returns cleaned list of spacy tokens\n",
        "  title_vec = [0]*300\n",
        "  for word in title:\n",
        "    title_vec += word.vector \n",
        "  return title_vec"
      ],
      "metadata": {
        "id": "cJr2hxWD76_W"
      },
      "execution_count": null,
      "outputs": []
    },
    {
      "cell_type": "code",
      "source": [
        "MedResource=gets_vectors(train_Med_Resource)"
      ],
      "metadata": {
        "id": "igpGI739ioqH"
      },
      "execution_count": null,
      "outputs": []
    },
    {
      "cell_type": "code",
      "source": [
        "EnergyNeed=gets_vectors(train_Energy_Need)"
      ],
      "metadata": {
        "id": "CF7r_MnM0u4F"
      },
      "execution_count": null,
      "outputs": []
    },
    {
      "cell_type": "code",
      "source": [
        "WaterResource =gets_vectors(train_Water_Resource)"
      ],
      "metadata": {
        "id": "kUiXdbHizGkP"
      },
      "execution_count": null,
      "outputs": []
    },
    {
      "cell_type": "code",
      "source": [
        "WaterNeed=gets_vectors(train_Water_Need)"
      ],
      "metadata": {
        "id": "zkWU6bPl0LZ_"
      },
      "execution_count": null,
      "outputs": []
    },
    {
      "cell_type": "code",
      "source": [
        "MedNeed=gets_vectors(train_Med_Need)"
      ],
      "metadata": {
        "id": "78Ww8uOO89Fh"
      },
      "execution_count": null,
      "outputs": []
    },
    {
      "cell_type": "code",
      "source": [
        "FoodNeed=gets_vectors(train_Food_Need)"
      ],
      "metadata": {
        "id": "ifWiIEwI1TbP"
      },
      "execution_count": null,
      "outputs": []
    },
    {
      "cell_type": "code",
      "source": [
        "EnergyResource=gets_vectors(train_Energy_Resource)"
      ],
      "metadata": {
        "id": "NRBvVX0q1V3f"
      },
      "execution_count": null,
      "outputs": []
    },
    {
      "cell_type": "code",
      "source": [
        "FoodResource=gets_vectors(train_Food_Resource)\n",
        "NoResource=gets_vectors(train_No_Resource)"
      ],
      "metadata": {
        "id": "m7WKGa2n168s"
      },
      "execution_count": null,
      "outputs": []
    },
    {
      "cell_type": "code",
      "source": [
        "import nltk\n",
        "from nltk.stem import WordNetLemmatizer\n",
        "from nltk.corpus import stopwords\n",
        "from nltk.tokenize import word_tokenize\n",
        " \n",
        "nltk.download('stopwords')\n",
        "nltk.download('wordnet')\n",
        "nltk.download('punkt')\n",
        "nltk.download('omw-1.4')"
      ],
      "metadata": {
        "id": "NUaXLKaJ__1s",
        "colab": {
          "base_uri": "https://localhost:8080/"
        },
        "outputId": "3411c710-1411-4f41-ab80-c0d02b9dccec"
      },
      "execution_count": null,
      "outputs": [
        {
          "output_type": "stream",
          "name": "stderr",
          "text": [
            "[nltk_data] Downloading package stopwords to /root/nltk_data...\n",
            "[nltk_data]   Package stopwords is already up-to-date!\n",
            "[nltk_data] Downloading package wordnet to /root/nltk_data...\n",
            "[nltk_data] Downloading package punkt to /root/nltk_data...\n",
            "[nltk_data]   Package punkt is already up-to-date!\n",
            "[nltk_data] Downloading package omw-1.4 to /root/nltk_data...\n"
          ]
        },
        {
          "output_type": "execute_result",
          "data": {
            "text/plain": [
              "True"
            ]
          },
          "metadata": {},
          "execution_count": 13
        }
      ]
    },
    {
      "cell_type": "code",
      "source": [
        "def process_lang_data(text):\n",
        "  '''\n",
        "    For a given text, go through the process of tokenizing, removing stopwords, \n",
        "    stemming / lemmatization, and removing punctuation. Return the cleaned text.\n",
        "  '''\n",
        "  cleaned_text = []\n",
        "  punctuation = string.punctuation\n",
        "  our_stopwords = stopwords.words('english')\n",
        "  lemmatizer = WordNetLemmatizer()\n",
        "\n",
        "  ### YOUR CODE HERE ###\n",
        "  for token in word_tokenize(text):\n",
        "    if token not in punctuation and token not in our_stopwords:\n",
        "      #clipped_token = lemmatizer.lemmatize(token)\n",
        "      cleaned_text.append(token)\n",
        "  ### END YOUR CODE  ###\n",
        "\n",
        "  return cleaned_text"
      ],
      "metadata": {
        "id": "HV_TdTs6AiEI"
      },
      "execution_count": null,
      "outputs": []
    },
    {
      "cell_type": "code",
      "source": [
        "X_train"
      ],
      "metadata": {
        "colab": {
          "base_uri": "https://localhost:8080/"
        },
        "id": "SAcu_mtcz9pe",
        "outputId": "fae6cb10-0a34-4ca0-f778-2e5b26243e42"
      },
      "execution_count": null,
      "outputs": [
        {
          "output_type": "execute_result",
          "data": {
            "text/plain": [
              "1044    Going out to scavenge for allergy medicine. Ho...\n",
              "309     Please donate clothes, tools, unopened over-th...\n",
              "253     Staying with grandmother at **************. Ne...\n",
              "1397    I am writing on behalf of friends stranded in ...\n",
              "316     ÛÏ@Rockaway100: @redcrossny @fema Rockaway ha...\n",
              "124     We are looking for donations of feminine hygie...\n",
              "603     PLEASE DONATE SOAP SHAMPOO TOOTHBRUSHES TOOTHP...\n",
              "569     Deodorant Toothpaste Shampoo/Conditioner Baby ...\n",
              "Name: text, dtype: object"
            ]
          },
          "metadata": {},
          "execution_count": 17
        }
      ]
    },
    {
      "cell_type": "code",
      "source": [
        "from sklearn.feature_extraction.text import CountVectorizer\n",
        "\n",
        "bow = CountVectorizer(analyzer=process_lang_data, max_features=1000) # using the function we made above\n",
        "bow.fit(X_train)                             # fitting to our training data\n",
        "bow_train = bow.transform(X_train).toarray() # then transforming both training and testing data\n",
        "bow_test = bow.transform(X_test).toarray()"
      ],
      "metadata": {
        "id": "OmymOMikCzbK"
      },
      "execution_count": null,
      "outputs": []
    },
    {
      "cell_type": "code",
      "source": [
        "words = list(w2vec_model.wv.vocab)\n",
        "print(words)\n"
      ],
      "metadata": {
        "colab": {
          "base_uri": "https://localhost:8080/"
        },
        "id": "jjAqQkw7aHay",
        "outputId": "779bcf48-8f79-4148-e615-fe2031f696e1"
      },
      "execution_count": null,
      "outputs": [
        {
          "output_type": "stream",
          "name": "stdout",
          "text": [
            "['We', 'looking', 'donations', 'feminine', 'hygiene', 'toothpaste', 'DEODORANT', 'consistent', 'request', 'baby', 'wipes', 'Staying', 'grandmother', 'Need', 'collect', 'prescription', 'meds', 'Car', 'gas', 'ca', \"n't\", 'get', 'supplies', 'Also', 'money', 're-supply', 'Gas', 'would', 'help', 'Please', 'donate', 'clothes', 'tools', 'unopened', 'over-the-counter', 'medications', '\\x89ÛÏ', 'Rockaway100', 'redcrossny', 'fema', 'Rockaway', 'devastated', 'dire', 'need', 'assistance', 'first', 'aid', 'basic', 'necessities\\x89Û\\x9d', 'This', 'cancer', 'patients', 'undergoing', 'chemotherapy', 'displaced', 'storm', 'provide', 'chemo', 'kits', 'products', 'manage', 'side', 'effects', 'nausea', 'hair', 'loss', 'oral', 'care', 'issues', 'love', 'people', 'lost', 'much', 'already', 'difficult', 'time', 'Deodorant', 'Toothpaste', 'Shampoo/Conditioner', 'Baby', 'Shampoo', 'Kids', 'Toothbrush', 'Bar', 'Soap', 'Mouth', 'Wash', 'Q-tips', 'painkillers', 'PLEASE', 'DONATE', 'SOAP', 'SHAMPOO', 'TOOTHBRUSHES', 'TOOTHPASTE', 'BAND-AIDS', 'PENS', 'ENVELOPES', 'WASHCLOTHS', 'POSTAGE', 'STAMPS', 'LAUNDRY', 'DETERGENT', 'Going', 'scavenge', 'allergy', 'medicine', 'Hopefully', 'someone', 'open', 'otherwise', 'next', 'painting', 'splatter', 'technique', 'sandy', 'Anyone', 'able', 'deliver', 'I', 'writing', 'behalf', 'friends', 'stranded', 'Staten', 'Island', 'A', 'family', 'four', 'Bulgaria', 'The', 'little', 'girl', 'age', '5', 'ear', 'infection', 'house', 'cold', 'grateful', 'could', 'check', 'find', 'solution', 'housing', 'etc', 'power', 'back', 'Thank']\n"
          ]
        }
      ]
    },
    {
      "cell_type": "code",
      "source": [
        "!python -m spacy download en_core_web_md\n",
        "import en_core_web_md\n",
        "text_to_nlp = en_core_web_md.load()\n"
      ],
      "metadata": {
        "colab": {
          "base_uri": "https://localhost:8080/"
        },
        "id": "ddyRftxe-Wyg",
        "outputId": "e2618d13-4ac4-4299-d117-145194e76ce9"
      },
      "execution_count": null,
      "outputs": [
        {
          "output_type": "stream",
          "name": "stdout",
          "text": [
            "2022-07-28 18:03:24.797338: E tensorflow/stream_executor/cuda/cuda_driver.cc:271] failed call to cuInit: CUDA_ERROR_NO_DEVICE: no CUDA-capable device is detected\n",
            "Looking in indexes: https://pypi.org/simple, https://us-python.pkg.dev/colab-wheels/public/simple/\n",
            "Collecting en-core-web-md==3.4.0\n",
            "  Downloading https://github.com/explosion/spacy-models/releases/download/en_core_web_md-3.4.0/en_core_web_md-3.4.0-py3-none-any.whl (42.8 MB)\n",
            "\u001b[K     |████████████████████████████████| 42.8 MB 2.4 MB/s \n",
            "\u001b[?25hRequirement already satisfied: spacy<3.5.0,>=3.4.0 in /usr/local/lib/python3.7/dist-packages (from en-core-web-md==3.4.0) (3.4.0)\n",
            "Requirement already satisfied: srsly<3.0.0,>=2.4.3 in /usr/local/lib/python3.7/dist-packages (from spacy<3.5.0,>=3.4.0->en-core-web-md==3.4.0) (2.4.4)\n",
            "Requirement already satisfied: numpy>=1.15.0 in /usr/local/lib/python3.7/dist-packages (from spacy<3.5.0,>=3.4.0->en-core-web-md==3.4.0) (1.21.6)\n",
            "Requirement already satisfied: catalogue<2.1.0,>=2.0.6 in /usr/local/lib/python3.7/dist-packages (from spacy<3.5.0,>=3.4.0->en-core-web-md==3.4.0) (2.0.7)\n",
            "Requirement already satisfied: tqdm<5.0.0,>=4.38.0 in /usr/local/lib/python3.7/dist-packages (from spacy<3.5.0,>=3.4.0->en-core-web-md==3.4.0) (4.64.0)\n",
            "Requirement already satisfied: preshed<3.1.0,>=3.0.2 in /usr/local/lib/python3.7/dist-packages (from spacy<3.5.0,>=3.4.0->en-core-web-md==3.4.0) (3.0.6)\n",
            "Requirement already satisfied: murmurhash<1.1.0,>=0.28.0 in /usr/local/lib/python3.7/dist-packages (from spacy<3.5.0,>=3.4.0->en-core-web-md==3.4.0) (1.0.7)\n",
            "Requirement already satisfied: packaging>=20.0 in /usr/local/lib/python3.7/dist-packages (from spacy<3.5.0,>=3.4.0->en-core-web-md==3.4.0) (21.3)\n",
            "Requirement already satisfied: cymem<2.1.0,>=2.0.2 in /usr/local/lib/python3.7/dist-packages (from spacy<3.5.0,>=3.4.0->en-core-web-md==3.4.0) (2.0.6)\n",
            "Requirement already satisfied: requests<3.0.0,>=2.13.0 in /usr/local/lib/python3.7/dist-packages (from spacy<3.5.0,>=3.4.0->en-core-web-md==3.4.0) (2.23.0)\n",
            "Requirement already satisfied: langcodes<4.0.0,>=3.2.0 in /usr/local/lib/python3.7/dist-packages (from spacy<3.5.0,>=3.4.0->en-core-web-md==3.4.0) (3.3.0)\n",
            "Requirement already satisfied: wasabi<1.1.0,>=0.9.1 in /usr/local/lib/python3.7/dist-packages (from spacy<3.5.0,>=3.4.0->en-core-web-md==3.4.0) (0.9.1)\n",
            "Requirement already satisfied: pydantic!=1.8,!=1.8.1,<1.10.0,>=1.7.4 in /usr/local/lib/python3.7/dist-packages (from spacy<3.5.0,>=3.4.0->en-core-web-md==3.4.0) (1.9.1)\n",
            "Requirement already satisfied: spacy-legacy<3.1.0,>=3.0.9 in /usr/local/lib/python3.7/dist-packages (from spacy<3.5.0,>=3.4.0->en-core-web-md==3.4.0) (3.0.9)\n",
            "Requirement already satisfied: setuptools in /usr/local/lib/python3.7/dist-packages (from spacy<3.5.0,>=3.4.0->en-core-web-md==3.4.0) (57.4.0)\n",
            "Requirement already satisfied: thinc<8.2.0,>=8.1.0 in /usr/local/lib/python3.7/dist-packages (from spacy<3.5.0,>=3.4.0->en-core-web-md==3.4.0) (8.1.0)\n",
            "Requirement already satisfied: spacy-loggers<2.0.0,>=1.0.0 in /usr/local/lib/python3.7/dist-packages (from spacy<3.5.0,>=3.4.0->en-core-web-md==3.4.0) (1.0.3)\n",
            "Requirement already satisfied: typer<0.5.0,>=0.3.0 in /usr/local/lib/python3.7/dist-packages (from spacy<3.5.0,>=3.4.0->en-core-web-md==3.4.0) (0.4.2)\n",
            "Requirement already satisfied: typing-extensions<4.2.0,>=3.7.4 in /usr/local/lib/python3.7/dist-packages (from spacy<3.5.0,>=3.4.0->en-core-web-md==3.4.0) (4.1.1)\n",
            "Requirement already satisfied: jinja2 in /usr/local/lib/python3.7/dist-packages (from spacy<3.5.0,>=3.4.0->en-core-web-md==3.4.0) (2.11.3)\n",
            "Requirement already satisfied: pathy>=0.3.5 in /usr/local/lib/python3.7/dist-packages (from spacy<3.5.0,>=3.4.0->en-core-web-md==3.4.0) (0.6.2)\n",
            "Requirement already satisfied: zipp>=0.5 in /usr/local/lib/python3.7/dist-packages (from catalogue<2.1.0,>=2.0.6->spacy<3.5.0,>=3.4.0->en-core-web-md==3.4.0) (3.8.1)\n",
            "Requirement already satisfied: pyparsing!=3.0.5,>=2.0.2 in /usr/local/lib/python3.7/dist-packages (from packaging>=20.0->spacy<3.5.0,>=3.4.0->en-core-web-md==3.4.0) (3.0.9)\n",
            "Requirement already satisfied: smart-open<6.0.0,>=5.2.1 in /usr/local/lib/python3.7/dist-packages (from pathy>=0.3.5->spacy<3.5.0,>=3.4.0->en-core-web-md==3.4.0) (5.2.1)\n",
            "Requirement already satisfied: idna<3,>=2.5 in /usr/local/lib/python3.7/dist-packages (from requests<3.0.0,>=2.13.0->spacy<3.5.0,>=3.4.0->en-core-web-md==3.4.0) (2.10)\n",
            "Requirement already satisfied: urllib3!=1.25.0,!=1.25.1,<1.26,>=1.21.1 in /usr/local/lib/python3.7/dist-packages (from requests<3.0.0,>=2.13.0->spacy<3.5.0,>=3.4.0->en-core-web-md==3.4.0) (1.24.3)\n",
            "Requirement already satisfied: chardet<4,>=3.0.2 in /usr/local/lib/python3.7/dist-packages (from requests<3.0.0,>=2.13.0->spacy<3.5.0,>=3.4.0->en-core-web-md==3.4.0) (3.0.4)\n",
            "Requirement already satisfied: certifi>=2017.4.17 in /usr/local/lib/python3.7/dist-packages (from requests<3.0.0,>=2.13.0->spacy<3.5.0,>=3.4.0->en-core-web-md==3.4.0) (2022.6.15)\n",
            "Requirement already satisfied: blis<0.8.0,>=0.7.8 in /usr/local/lib/python3.7/dist-packages (from thinc<8.2.0,>=8.1.0->spacy<3.5.0,>=3.4.0->en-core-web-md==3.4.0) (0.7.8)\n",
            "Requirement already satisfied: click<9.0.0,>=7.1.1 in /usr/local/lib/python3.7/dist-packages (from typer<0.5.0,>=0.3.0->spacy<3.5.0,>=3.4.0->en-core-web-md==3.4.0) (7.1.2)\n",
            "Requirement already satisfied: MarkupSafe>=0.23 in /usr/local/lib/python3.7/dist-packages (from jinja2->spacy<3.5.0,>=3.4.0->en-core-web-md==3.4.0) (2.0.1)\n",
            "Installing collected packages: en-core-web-md\n",
            "Successfully installed en-core-web-md-3.4.0\n",
            "\u001b[38;5;2m✔ Download and installation successful\u001b[0m\n",
            "You can now load the package via spacy.load('en_core_web_md')\n"
          ]
        }
      ]
    },
    {
      "cell_type": "code",
      "source": [],
      "metadata": {
        "id": "_M-K3HALn2S0"
      },
      "execution_count": null,
      "outputs": []
    },
    {
      "cell_type": "code",
      "source": [
        "for vec2 in list:\n",
        "  print(sum(elem**2 for elem in vec2))"
      ],
      "metadata": {
        "colab": {
          "base_uri": "https://localhost:8080/"
        },
        "id": "pBmUxAQ_tdeV",
        "outputId": "71e75f10-88d8-4bf5-c9c1-30ff991c1181"
      },
      "execution_count": null,
      "outputs": [
        {
          "output_type": "stream",
          "name": "stdout",
          "text": [
            "57370415.13505932\n",
            "3152129.8175086416\n"
          ]
        }
      ]
    },
    {
      "cell_type": "code",
      "source": [
        "def vector_cosine_similarity(vec1):\n",
        "  for vec2 in list:\n",
        "    #Assume vec1 and vec2 have the same size \n",
        "    numerator = 0\n",
        "    for i in range(len(vec1)):\n",
        "      numerator += vec1[i]*vec2[i]\n",
        "    mag1 = (sum(elem**2 for elem in vec1))**0.5\n",
        "    mag2 = (sum(elem**2 for elem in vec2))**0.5\n",
        "    similarity = numerator/(mag1*mag2)\n",
        "    print(similarity)\n",
        "#print(vector_cosine_similarity(v))"
      ],
      "metadata": {
        "id": "eIYBf2ojib4L"
      },
      "execution_count": null,
      "outputs": []
    },
    {
      "cell_type": "code",
      "source": [
        "print(vector_cosine_similarity(v))"
      ],
      "metadata": {
        "colab": {
          "base_uri": "https://localhost:8080/"
        },
        "id": "LldZSUSLxg_S",
        "outputId": "cc2dcf8b-937b-4489-a99c-086e10977282"
      },
      "execution_count": null,
      "outputs": [
        {
          "output_type": "stream",
          "name": "stdout",
          "text": [
            "0.44404507286072015\n",
            "0.4356966519316163\n",
            "None\n"
          ]
        }
      ]
    },
    {
      "cell_type": "code",
      "source": [
        "vocab_dict = dict()\n",
        "vocab_dict"
      ],
      "metadata": {
        "colab": {
          "base_uri": "https://localhost:8080/"
        },
        "id": "n1MCEH86-sHF",
        "outputId": "11109fb9-d053-41bb-bb97-5e76e8d9cb5c"
      },
      "execution_count": null,
      "outputs": [
        {
          "output_type": "execute_result",
          "data": {
            "text/plain": [
              "{}"
            ]
          },
          "metadata": {},
          "execution_count": 46
        }
      ]
    },
    {
      "cell_type": "code",
      "source": [
        "vocab_dict = dict() #initialize dictionary\n",
        "\n",
        "for word in words:\n",
        "    vocab_dict[word] = text_to_nlp(word).vector # What is the key? What is the value?\n",
        "\n",
        "for word, vec in vocab_dict.items(): # Iterating through the dictionary to print each key and value\n",
        "  print ('Word: {}. Vector length: {}'.format(word, len(vec)))\n",
        "\n",
        "print()\n",
        "print ('{} words in our dictionary'.format(len(words)))"
      ],
      "metadata": {
        "colab": {
          "base_uri": "https://localhost:8080/"
        },
        "id": "HfTLVQB67sCc",
        "outputId": "e263b792-91d3-4783-f6ed-f9d262148eaf"
      },
      "execution_count": null,
      "outputs": [
        {
          "output_type": "stream",
          "name": "stdout",
          "text": [
            "Word: We. Vector length: 300\n",
            "Word: looking. Vector length: 300\n",
            "Word: donation. Vector length: 300\n",
            "Word: feminine. Vector length: 300\n",
            "Word: hygiene. Vector length: 300\n",
            "Word: toothpaste. Vector length: 300\n",
            "Word: DEODORANT. Vector length: 300\n",
            "Word: consistent. Vector length: 300\n",
            "Word: request. Vector length: 300\n",
            "Word: baby. Vector length: 300\n",
            "Word: wipe. Vector length: 300\n",
            "Word: Staying. Vector length: 300\n",
            "Word: grandmother. Vector length: 300\n",
            "Word: Need. Vector length: 300\n",
            "Word: collect. Vector length: 300\n",
            "Word: prescription. Vector length: 300\n",
            "Word: med. Vector length: 300\n",
            "Word: Car. Vector length: 300\n",
            "Word: gas. Vector length: 300\n",
            "Word: ca. Vector length: 300\n",
            "Word: n't. Vector length: 300\n",
            "Word: get. Vector length: 300\n",
            "Word: supply. Vector length: 300\n",
            "Word: Also. Vector length: 300\n",
            "Word: money. Vector length: 300\n",
            "Word: re-supply. Vector length: 300\n",
            "Word: Gas. Vector length: 300\n",
            "Word: would. Vector length: 300\n",
            "Word: help. Vector length: 300\n",
            "Word: Please. Vector length: 300\n",
            "Word: donate. Vector length: 300\n",
            "Word: clothes. Vector length: 300\n",
            "Word: tool. Vector length: 300\n",
            "Word: unopened. Vector length: 300\n",
            "Word: over-the-counter. Vector length: 300\n",
            "Word: medication. Vector length: 300\n",
            "Word: ÛÏ. Vector length: 300\n",
            "Word: Rockaway100. Vector length: 300\n",
            "Word: redcrossny. Vector length: 300\n",
            "Word: fema. Vector length: 300\n",
            "Word: Rockaway. Vector length: 300\n",
            "Word: devastated. Vector length: 300\n",
            "Word: dire. Vector length: 300\n",
            "Word: need. Vector length: 300\n",
            "Word: assistance. Vector length: 300\n",
            "Word: first. Vector length: 300\n",
            "Word: aid. Vector length: 300\n",
            "Word: basic. Vector length: 300\n",
            "Word: necessitiesÛ. Vector length: 300\n",
            "Word: This. Vector length: 300\n",
            "Word: cancer. Vector length: 300\n",
            "Word: patient. Vector length: 300\n",
            "Word: undergoing. Vector length: 300\n",
            "Word: chemotherapy. Vector length: 300\n",
            "Word: displaced. Vector length: 300\n",
            "Word: storm. Vector length: 300\n",
            "Word: provide. Vector length: 300\n",
            "Word: chemo. Vector length: 300\n",
            "Word: kit. Vector length: 300\n",
            "Word: product. Vector length: 300\n",
            "Word: manage. Vector length: 300\n",
            "Word: side. Vector length: 300\n",
            "Word: effect. Vector length: 300\n",
            "Word: nausea. Vector length: 300\n",
            "Word: hair. Vector length: 300\n",
            "Word: loss. Vector length: 300\n",
            "Word: oral. Vector length: 300\n",
            "Word: care. Vector length: 300\n",
            "Word: issue. Vector length: 300\n",
            "Word: love. Vector length: 300\n",
            "Word: people. Vector length: 300\n",
            "Word: lost. Vector length: 300\n",
            "Word: much. Vector length: 300\n",
            "Word: already. Vector length: 300\n",
            "Word: difficult. Vector length: 300\n",
            "Word: time. Vector length: 300\n",
            "Word: Deodorant. Vector length: 300\n",
            "Word: Toothpaste. Vector length: 300\n",
            "Word: Shampoo/Conditioner. Vector length: 300\n",
            "Word: Baby. Vector length: 300\n",
            "Word: Shampoo. Vector length: 300\n",
            "Word: Kids. Vector length: 300\n",
            "Word: Toothbrush. Vector length: 300\n",
            "Word: Bar. Vector length: 300\n",
            "Word: Soap. Vector length: 300\n",
            "Word: Mouth. Vector length: 300\n",
            "Word: Wash. Vector length: 300\n",
            "Word: Q-tips. Vector length: 300\n",
            "Word: painkiller. Vector length: 300\n",
            "Word: PLEASE. Vector length: 300\n",
            "Word: DONATE. Vector length: 300\n",
            "Word: SOAP. Vector length: 300\n",
            "Word: SHAMPOO. Vector length: 300\n",
            "Word: TOOTHBRUSHES. Vector length: 300\n",
            "Word: TOOTHPASTE. Vector length: 300\n",
            "Word: BAND-AIDS. Vector length: 300\n",
            "Word: PENS. Vector length: 300\n",
            "Word: ENVELOPES. Vector length: 300\n",
            "Word: WASHCLOTHS. Vector length: 300\n",
            "Word: POSTAGE. Vector length: 300\n",
            "Word: STAMPS. Vector length: 300\n",
            "Word: LAUNDRY. Vector length: 300\n",
            "Word: DETERGENT. Vector length: 300\n",
            "Word: Going. Vector length: 300\n",
            "Word: scavenge. Vector length: 300\n",
            "Word: allergy. Vector length: 300\n",
            "Word: medicine. Vector length: 300\n",
            "Word: Hopefully. Vector length: 300\n",
            "Word: someone. Vector length: 300\n",
            "Word: open. Vector length: 300\n",
            "Word: otherwise. Vector length: 300\n",
            "Word: next. Vector length: 300\n",
            "Word: painting. Vector length: 300\n",
            "Word: splatter. Vector length: 300\n",
            "Word: technique. Vector length: 300\n",
            "Word: sandy. Vector length: 300\n",
            "Word: Anyone. Vector length: 300\n",
            "Word: able. Vector length: 300\n",
            "Word: deliver. Vector length: 300\n",
            "Word: I. Vector length: 300\n",
            "Word: writing. Vector length: 300\n",
            "Word: behalf. Vector length: 300\n",
            "Word: friend. Vector length: 300\n",
            "Word: stranded. Vector length: 300\n",
            "Word: Staten. Vector length: 300\n",
            "Word: Island. Vector length: 300\n",
            "Word: A. Vector length: 300\n",
            "Word: family. Vector length: 300\n",
            "Word: four. Vector length: 300\n",
            "Word: Bulgaria. Vector length: 300\n",
            "Word: The. Vector length: 300\n",
            "Word: little. Vector length: 300\n",
            "Word: girl. Vector length: 300\n",
            "Word: age. Vector length: 300\n",
            "Word: 5. Vector length: 300\n",
            "Word: ear. Vector length: 300\n",
            "Word: infection. Vector length: 300\n",
            "Word: house. Vector length: 300\n",
            "Word: cold. Vector length: 300\n",
            "Word: grateful. Vector length: 300\n",
            "Word: could. Vector length: 300\n",
            "Word: check. Vector length: 300\n",
            "Word: find. Vector length: 300\n",
            "Word: solution. Vector length: 300\n",
            "Word: housing. Vector length: 300\n",
            "Word: etc. Vector length: 300\n",
            "Word: power. Vector length: 300\n",
            "Word: back. Vector length: 300\n",
            "Word: Thank. Vector length: 300\n",
            "\n",
            "149 words in our dictionary\n"
          ]
        }
      ]
    },
    {
      "cell_type": "code",
      "source": [
        "#@title Instructor Solution\n",
        "def find_nearest_neighbor(word):\n",
        "  try:\n",
        "    vec = vocab_dict[word]\n",
        "    find_most_similar(vec)\n",
        "  except KeyError:\n",
        "    print ('Word not in dictionary')\n",
        "\n",
        "def find_most_similar(start_vec):\n",
        "  #Should print the top 5 most similar words to start_vec, and their similarities.,\n",
        "  #Hint: use a for loop to iterate through vocab_dict.\n",
        "  #Consider using a Pandas series.\n",
        "\n",
        "  #YOUR CODE HERE\n",
        "  similarity_series = pd.Series(np.nan, index = vocab_dict.keys())\n",
        "  for word, vec in vocab_dict.items():\n",
        "    similarity_series[word] = vector_cosine_similarity(start_vec, vec)\n",
        "  similarity_series = similarity_series[similarity_series.notna()] #get rid of N/A\n",
        "  five_most_similar = similarity_series.sort_values().tail()\n",
        "  print (five_most_similar) #words and similarities\n",
        "\n",
        "find_nearest_neighbor('cancer')"
      ],
      "metadata": {
        "colab": {
          "base_uri": "https://localhost:8080/",
          "height": 317
        },
        "id": "jarZn-1F_Tp8",
        "outputId": "f4e062d8-9f0a-4df2-b905-a9cebe0f3b3d"
      },
      "execution_count": null,
      "outputs": [
        {
          "output_type": "error",
          "ename": "NameError",
          "evalue": "ignored",
          "traceback": [
            "\u001b[0;31m---------------------------------------------------------------------------\u001b[0m",
            "\u001b[0;31mNameError\u001b[0m                                 Traceback (most recent call last)",
            "\u001b[0;32m<ipython-input-47-7e7fd8ddda7e>\u001b[0m in \u001b[0;36m<module>\u001b[0;34m()\u001b[0m\n\u001b[1;32m     20\u001b[0m   \u001b[0mprint\u001b[0m \u001b[0;34m(\u001b[0m\u001b[0mfive_most_similar\u001b[0m\u001b[0;34m)\u001b[0m \u001b[0;31m#words and similarities\u001b[0m\u001b[0;34m\u001b[0m\u001b[0;34m\u001b[0m\u001b[0m\n\u001b[1;32m     21\u001b[0m \u001b[0;34m\u001b[0m\u001b[0m\n\u001b[0;32m---> 22\u001b[0;31m \u001b[0mfind_nearest_neighbor\u001b[0m\u001b[0;34m(\u001b[0m\u001b[0;34m'cancer'\u001b[0m\u001b[0;34m)\u001b[0m\u001b[0;34m\u001b[0m\u001b[0;34m\u001b[0m\u001b[0m\n\u001b[0m",
            "\u001b[0;32m<ipython-input-47-7e7fd8ddda7e>\u001b[0m in \u001b[0;36mfind_nearest_neighbor\u001b[0;34m(word)\u001b[0m\n\u001b[1;32m      2\u001b[0m \u001b[0;32mdef\u001b[0m \u001b[0mfind_nearest_neighbor\u001b[0m\u001b[0;34m(\u001b[0m\u001b[0mword\u001b[0m\u001b[0;34m)\u001b[0m\u001b[0;34m:\u001b[0m\u001b[0;34m\u001b[0m\u001b[0;34m\u001b[0m\u001b[0m\n\u001b[1;32m      3\u001b[0m   \u001b[0;32mtry\u001b[0m\u001b[0;34m:\u001b[0m\u001b[0;34m\u001b[0m\u001b[0;34m\u001b[0m\u001b[0m\n\u001b[0;32m----> 4\u001b[0;31m     \u001b[0mvec\u001b[0m \u001b[0;34m=\u001b[0m \u001b[0mvocab_dict\u001b[0m\u001b[0;34m[\u001b[0m\u001b[0mword\u001b[0m\u001b[0;34m]\u001b[0m\u001b[0;34m\u001b[0m\u001b[0;34m\u001b[0m\u001b[0m\n\u001b[0m\u001b[1;32m      5\u001b[0m     \u001b[0mfind_most_similar\u001b[0m\u001b[0;34m(\u001b[0m\u001b[0mvec\u001b[0m\u001b[0;34m)\u001b[0m\u001b[0;34m\u001b[0m\u001b[0;34m\u001b[0m\u001b[0m\n\u001b[1;32m      6\u001b[0m   \u001b[0;32mexcept\u001b[0m \u001b[0mKeyError\u001b[0m\u001b[0;34m:\u001b[0m\u001b[0;34m\u001b[0m\u001b[0;34m\u001b[0m\u001b[0m\n",
            "\u001b[0;31mNameError\u001b[0m: name 'vocab_dict' is not defined"
          ]
        }
      ]
    },
    {
      "cell_type": "code",
      "source": [
        "X_train, X_test, y_train, y_test = train_test_split(NeedEnergy[\"text\"], NeedEnergy[\"need_or_resource\"], test_size=0.2, random_state=9)"
      ],
      "metadata": {
        "id": "EfE572ZbePLa"
      },
      "execution_count": null,
      "outputs": []
    },
    {
      "cell_type": "code",
      "source": [
        "print(X2_train.shape)\n",
        "print(y2_train.shape)\n",
        "print(X2_test.shape)\n",
        "print(y2_test.shape)"
      ],
      "metadata": {
        "colab": {
          "base_uri": "https://localhost:8080/"
        },
        "outputId": "1dd53d44-d6eb-4b4b-af9c-b00d7e1a24a9",
        "id": "plMCSMm1ea_u"
      },
      "execution_count": null,
      "outputs": [
        {
          "output_type": "stream",
          "name": "stdout",
          "text": [
            "(1120,)\n",
            "(1120,)\n",
            "(281,)\n",
            "(281,)\n"
          ]
        }
      ]
    },
    {
      "cell_type": "code",
      "source": [
        "from sklearn.feature_extraction.text import CountVectorizer\n",
        "\n",
        "bow = CountVectorizer(analyzer=process_lang_data, max_features=1000) # using the function we made above\n",
        "bow.fit(X2_train)                             # fitting to our training data\n",
        "bow_train = bow.transform(X2_train).toarray() # then transforming both training and testing data\n",
        "bow_test = bow.transform(X2_test).toarray()"
      ],
      "metadata": {
        "id": "e8qohw_OelxZ"
      },
      "execution_count": null,
      "outputs": []
    },
    {
      "cell_type": "code",
      "source": [
        "import gensim\n",
        "# have to pre-tokenize\n",
        "tokenize = disaster_tweets[\"category\"].apply(process_lang_data)\n",
        "\n",
        "# take a look at the documentation to see what these parameters are changing!\n",
        "w2vec_model = gensim.models.Word2Vec(tokenize, min_count = 1, size = 100, window = 5, sg = 1)\n",
        "w2vec_model.train(tokenize, total_examples = len(disaster_tweets[\"category\"]),epochs=20)"
      ],
      "metadata": {
        "colab": {
          "base_uri": "https://localhost:8080/"
        },
        "outputId": "ae1f8b8d-9bbb-4b99-af6b-c827bfa86946",
        "id": "kcbegpBDezRF"
      },
      "execution_count": null,
      "outputs": [
        {
          "output_type": "stream",
          "name": "stderr",
          "text": [
            "WARNING:gensim.models.base_any2vec:under 10 jobs per worker: consider setting a smaller `batch_words' for smoother alpha decay\n",
            "WARNING:gensim.models.base_any2vec:under 10 jobs per worker: consider setting a smaller `batch_words' for smoother alpha decay\n"
          ]
        },
        {
          "output_type": "execute_result",
          "data": {
            "text/plain": [
              "(1960, 28020)"
            ]
          },
          "metadata": {},
          "execution_count": 33
        }
      ]
    },
    {
      "cell_type": "code",
      "source": [
        "words1 = list(w2vec_model.wv.vocab)\n",
        "print(words)\n"
      ],
      "metadata": {
        "colab": {
          "base_uri": "https://localhost:8080/"
        },
        "outputId": "35667359-9d56-4c76-a72c-fea0f1d15b2a",
        "id": "QBGoFS_4e8vH"
      },
      "execution_count": null,
      "outputs": [
        {
          "output_type": "stream",
          "name": "stdout",
          "text": [
            "['Donations', 'battery', 'flashlight', 'cleaning', 'supply', 'always', 'welcome', 'donation', 'drop', '23-74', '38th', 'st', 'btwn', '23rd', 'ave', 'Astoria', 'Blvd', 'Thanks', 'I', 'want', 'hurricane', 'Sandy', 'cone', 'stuck', 'house', 'family', '..............', 'NOT', 'Hi', 'help', 'prepare', 'food', 'serve', 'offer', 'clean', 'assistance', \"n't\", 'necessarily', 'tool', 'hand', 'willingness', 'bicycle', 'could', 'maybe', 'delivery', \"'m\", 'within', 'walking', 'distance', 'Red', 'Hook', 'cant', 'believe', '.....', 'child', 'adult', 'clothes', 'including', 'jacket', 'blanket', 'shoe', 'bottle', 'water', 'two', 'small', 'would', 'like', 'donate', 'need', 'even', 'toy', 'kid', 'But', 'know', 'rather', 'red', 'cross', 'We', 'directly', 'advance', 'Melissa', 'Supermarket', 'scary', 'hurricanesandy', 'nopower', 'instahub', 'instafood', 'instagram', 'Super', 'Stop', 'Shop', 'http', '//t.co/hY0TRezH', 'spooky', 'total', 'lack', 'power', '34th', 'south', 'sandy', 'Will', 'storm', 'ever', 'give', 'L.I', 'break', 'First', \"nor'easter\", 'Still', 'long', 'beach', 'expected', 'wks', 'c', 'monman', \"'re\", 'concerned', '90-year', 'old', 'grandmother', 'life', 'apartment', 'without', 'running', 'She', 'said', 'neighbor', 'helping', \"'s\", 'hard', 'really', 'ok', 'phone', 'cell', 'run', 'Her', 'number', 'happy', 'taking', 'people', 'ca', 'get', 'LaurSantangelo', 'texting', 'worked', '...', 'Hahaha', 'damn', 'psychological', 'service', 'phd', 'psychology', 'lead', 'game', '2', 'jug', 'Enjoying', 'dark', '....', 'Hurricane', 'Power', 'Outage', '//t.co/ZdCwWy8Q', 'chef', 'bank', 'facility', 'provide', 'relief', 'victim', 'Can', 'bring', 'grocery', 'toiletry', 'needed', 'Needs', 'confirmation', 'location', 'May', 'My', 'cousin', 'wife', 'There', 'electricity', 'thus', 'elevator', 'either', 'Boston', 'sure', 'many', 'others', 'housing', 'complex', 'What', 'fantastic', 'non-perishable', 'men', 'woman', 'clothing', 'hygiene', 'product', 'live', 'upper', 'east', 'side', 'Please', 'let', 'Baby', 'formula', 'cpr', 'first', 'aid', 'certified', 'experience', 'CNA', 'nurse', 'assistant', 'lost', '20th', 'street', '6', 'case', 'bottled', 'gently', 'used', 'new', 'coat', 'non', 'perishable', 'item', 'Thursday', 'Friday', 'way', 'Manhattan', 'right', 'Stranded', 'island', 'Wow', 'Food', 'Delivery/Preparation', 'hot', 'meal', 'flooded', 'knee', 'deep', 'The', 'drained', 'Right', 'urgent', 'find', 'contractor', 'come', 'dry', 'apt', 'b', 'replace', 'Sheetrock', 'insulation', 'flooring', 'becoming', 'filled', 'mold', 'Supply', 'austeremoi', 'It', 'good', 'weather', 'wine', \"'d\", 'love', 'Mama', 'Angelinas', 'Restaurant', 'willing', 'area', 'Ca', 'wrap', 'mind', 'around', 'image', 'Atlantic', 'City', 'whole', 'city', 'completely', 'Seattle', 'work', 'Starbucks', 'coworkers', 'free', 'pound', 'coffee', 'tea', 'week', 'also', 'starting', 'drive', 'store', 'contribute', 'canned', 'whatnot', 'Canned', 'bean', 'vegetable', 'etc', 'several', 'gallon', 'great', 'deal', 'summer', 'winter', 'well', 'amount', 'car', 'deliver', 'snowing', 'A', 'lot', '......', 'Oh', 'HAYLL', 'nah', 'No', 'stormpart2', 'Drinking', 'everytime', 'hear', '``', \"''\", 'radio', 'Alone', 'And', 'baby', 'New', 'Broad', 'Channel', 'rockaway', 'resident', '23-80', '28th', '1', 'astoria', 'getting', 'together', 'travel', 'glove', 'ad', 'sooo', 'much', 'contact', 'hr', 'Also', 'make', 'follow', 'Www.facebook.com/sandyreliefinastoria', 'For', 'updated', 'info', 'hygeine', 'distribution', 'debris', 'cleanup', 'BinStunting', 'Tryna', 'escape', 'u', 'gr8', 'weekend', 'able', 'whether', 'out', 'strip', 'Toiletries', 'Toilet', 'paper', 'sandwich', 'fruit', 'kids/', 'cups/plates/napkins', 'request', 'park', 'slope', 'far', 'hook', 'Non-perishable', 'All', 'carry/afford', 'Distribute', 'pack', 'Where', 'hell', 'brand', 'size', 'diaper', 'seat', 'high', 'chair', 'hygine', 'wipe', 'toothbrush', 'ect', 'bike', 'possibly', 'This', 'bad', 'building', 'heat', '.I', 'hour', '300', 'hundred', 'dollar', 't-shirt', 'plus', 'limited', 'near', 'pharmacy', 'collect', 'prescription', 'over-the-counter', 'med', 'Pans', 'cornbread', 'baked', 'ziti', 'Sooooo', 'shook', 'little', 'windy', 'ctsandy', 'Bridgeport', 'In', 'buy', 'junk', 'possible', 'ShopRite', '//t.co/GHNOaHRC', 'Despite', 'doodie', 'call', 'nyc', 'zoneb', 'East', 'Village', '//t.co/NMG6loM9', 'veronnzz', 'billbrews', 'Dylan', 'sad', 'took', 'Holstens', 'temporary', 'shelter', 'home', '2-3', 'individual', 'distributing', 'medical', 'set', 'sheet', 'slightly', 'worn', 'pair', 'sneaker', 'D', 'fabric', \"'ve\", 'got', '5', 'lb', 'pasta', 'somewhere', 'probably', 'manage', 'couple', 'quart', 'soup', 'chicken', 'based', 'non-vegetarian', 'Located', 'Clinton', 'Hill/Fort', 'Greene', 'try', 'close', 'People', 'Lower', 'Side', 'ice', 'Working', 'If', 'put', 'money', 'table', 'Items', 'drugstore', 'toilet', 'otc', 'medicine', 'sock', 'underwear', 'Clothes', 'collecting', 'friend', 'plan', 'sometime', 'today', \"o'clock\", '+3', 'cat', 'hopefully', 'belonging', 'ruined', 'Their', 'totaled', 'They', 'bought', 'van', 'part', 'gas', 'place', 'stay', 'another', 'Queens', 'done', 'trip', 'Rockaways', 'told', 'bit', 'dangerous', 'going', 'back', 'next', 'saturday', '-not', 'transport', 'slight', 'ride', 'JFK', 'calls/use', 'computer', 'heard', 'leave', 'Do', 'resource', 'Any', 'idea', 'VeronicaVice', 'glad', 'still', 'none', 'Powers', 'Nothing', 'left', 'lounge', 'cow', 'suit', 'survivingsandy', 'dianatop', 'brenton', 'Floodboken', '//t.co/EhbpzNIs', 'infant', 'Stuffed', 'animal', 'cereal', 'So', 'situation', 'C', 'problem', 'AA', 'AAA', 'Good', 'luck', 'lady', 'priority', 'Junkfood', 'mentalist', 'nice', 'quiet', 'room', 'yepp', 'sometimes', 'fond', 'HurricaneSandy', 'w/', 'negatory', 'vibe', 'flooding', 'poweroutage', 'annnd', '1self', 'flamin', 'unnecessary', 'chinesefoodbaby', 'Coming', 'Maryland', 'basketball', 'Barclay', 'Center', 'night', 'Would', 'arrive', 'tomorrow', 'mid-day', 'Hand', 'Light', 'nothing', 'heavy', 'mother', 'elderly', '28', 'story', 'NO', 'WATER', 'since', 'Monday', 'unable', 'supplies/water', 'Bldg', 'management', 'unresponsive', '7-11', '26th', '5th', 'outside', 'surge', 'protector', 'charge', 'device', 'StressFactoryCC', 'skeleton', 'walked', 'bar', 'Ordered', 'beer', 'mop', 'recovering', 'Driving', 'upstate', 'Cans', 'Dog', 'Ensure', 'Hats', 'Cleaning', '53', 'matchbook', 'kitchen', 'towel', '2-person', 'household', 'located', 'fort', 'greene', 'brooklyn', 'yes', 'hello', 'name', 'peer', 'kingsborough', 'community', 'college', 'project', 'rise', 'program', 'whatever', 'else', 'may', 'furniture', 'gladly', 'however', 'transportation', 'student', 'teacher', 'volunteer', 'group', 'restore', 'ny', 'Ready', 'dispensing', 'Nesquik', 'Bunny', 'contribution', 'smile', 'Mercy', 'Chefs', 'truck', '//t.co/fHVw6Llx', 'LED', 'Flashlights', 'thing', 'guy', '11/2', 'see', 'purchase', 'fit', 'Syracuse', '11/3', 'time', 'entire', 'elementary', 'look', 'Blame', 'feminist', 'GoldsmithB', 'Wonder', 'Karl', 'Rove', 'say', 'binder', 'full', 'billionaire', 'Holy', 'station', 'mad', 'crazy', 'Storm', 'coming', 'Lol', 'ChopDaddy', 'Approved', 'thankful', 'badly', 'affected', 'HurricanSandy', 'CBSNewYork', 'day', '8', 'line', 'front', 'PLease', '//t.co/Z0oqfZUW', 'general', 'serving', 'listener', 'trap', 'access', 'oh', 'wait', 'wo', 'difference', 'NorthWallProblems', 'homemade', 'chickensoup', 'frankenstorm', 'comfortfood', 'remotely', 'chilly', 'fee', 'TriBeCa', '//t.co/4oyk3B4V', 'SandyHelp', 'please', 'litterly', 'broke', 'Ventnor', 'ghost', 'town', 'hurt', 'heart', 'HELP', 'class', 'till', 'wed', 'hurricaneswag', 'Mehh', 'west', 'situati', 'control', 'big', 'damage', 'tree', 'fallen', '..', 'Shoutouts', 'bike/moped', 'forced', 'brave', 'lazy', 'wanted', 'comfort', 'gluten-free', 'anyone', 'Celiac', 'Disease', 'related', 'issue', 'Waiting', 'Esperando', 'Sandrita', 'ghosttown', 'NY', '//t.co/mI3Olvin', 'Out', 'incredible', 'Keep', 'ur', 'prayer', '//t.co/zTFbQjht', 'surrounding', 'neighborhood', 'Brooklyn', 'Heights/Cobble', 'Hill', 'calls/texts', 'everyone', 'safe', 'cable', 'alcohol', 'Prayers', '10', 'bag', 'organized', 'boy', 'girl', 'ranging', 'essential', 'soap', 'Contact', 'Email', 'Our', 'MS', 'holding', 'symposium', 'Sunday', '11/4', 'bagged', 'lunch', 'include', 'apple', 'chip', 'cookie', 'cooler', 'keep', 'cool', 'gel', 'extra', 'go', 'employee', 'wherever', 'Thank', 'prep', 'errand', 'importance', 'order', 'Beer', 'Is', 'rice', '.baby', 'dire', 'due', 'flooding/water', 'Clorox', 'sponge', 'spray', 'trinamariexox', 'hope', 'blow', 'open', 'window', 'soggy', 'walker', 'See', 'ya', 'Candles', 'Mom', 'Dad', 'Mansi', 'Yash', 'ba', '.......', 'STFU', 'iwanttosleep', 'fusandy', 'fresh', 'uws', 'anywhere', 'manhattan', 'Giving', 'Toys', 'book', 'five', 'Trash', 'Southern', 'CA', 'Mother', 'Have', 'planned', 'Dec', '9th', 'Clothing', 'Blankets', 'Hygiene', 'Friends', 'Family', 'can/should', 'How', 'looking', 'feminine', 'toothpaste', 'DEODORANT', 'consistent', 'Licensed', 'interested', '62', 'year', 'healthy', 'Over', '25', 'post', '//t.co/T7G3fBJg', '--', 'sending', 'load', 'chi', 'thanks', 'administrative', 'duty', 'With', 'notice', 'enough', 'feed', '12-15', 'song', 'Breakfast', 'Tiffany', 'head', 'literally', 'replaced', 'Bon', 'Jovi', 'FML', 'Awesome', 'mon-wed', 'To', 'camp', 'thought', 'warm', 'Your', 'Woodmont', 'General', 'opportunity', 'distro', 'food/', 'gather', 'WE', 'WOULD', 'LIKE', 'TO', 'DONATE', 'HOT', 'PIZZAS', 'TODAY', 'PLEASE', 'LET', 'US', 'KNOW', 'AS', 'SOON', 'CAN', 'BRING', 'THE', 'SOMEWHERE', 'THANKS', 'BARI', 'homie', 'decide', 'Omg', 'dont', 'lose', 'lol', 'jk', 'olive', 'chickpea', 'pretzel', 'Small', 'dining', 'man', 'sweater', 'T', 'shirt', 'M-L', 'uncooked', 'Able', 'Tuesday', 'distribute', 'sort', 'sent', 'email', 'earlier', 'signed', 'website', 'went', 'co-worker', 'reach', 'department', '200', 'vehicle', 'pick', 'appreciated', 'definitely', 'SI', 'afternoon', '3-7pm', 'sandyaftermath', \"D'Agostino\", 'Street', '//t.co/Hr0I7Wzy', 'Able-bodied', '50', 'advertising', 'exec', 'delivering', 'Just', 'speaker', 'operated', 'cook', 'and/or', 'necessary', 'jetdom', 'sportsallday_', 'Knowing', 'Dolan', 'price', 'gouge', 'merch', 'inside', 'MSG', 'tonight', 'knicks', 'SandyNYC', 'Products', 'Listerine', 'shaving', 'cream', 'cotton', 'swab', 'boot', 'board', 'card', 'stuffed', 'clorox', 'napklns', 'Late', 'dinner', 'nyamchom', 'Times', 'Sq', 'Edition', 'W', 'York', 'Square', '//t.co/y5lmoW9G', 'foster', 'pet', 'hometown', 'Va', 'Beach', 'rainfall', '9+', 'inch', 'least', 'weird', 'turn', 'NYC', 'tools-', 'drill', 'saw', 'donated', 'Hm', 'Think', 'charged', 'ready', 'apocalypse', 'UWS', '//t.co/Ob6oiO8z', 'baby/toddler', 'sweatshirt', 'one', 'foot', 'attachment', 'thick', 'fleece', 'snow', 'scarf', 'California', 'mail', 'online', 'send', 'important', 'better', 'knock', 'Hmm', 'saint', 'peter', 'university', 'campus', 'yet', 'block', 'surronding', \"no'easter\", 'LipaSucks', 'lipa', 'restored', 'DoyourWorkLipa', 'pillow', 'never', 'opened', 'joke', 'wtf', 'assist', 'spent', '100+', 'alone', 'Frankenstorm', 'cooking', 'party', 'bathroom', 'miscellaneous', 'garbage', 'prepared', 'acceptible', 'Great', 'living', 'Only', '16oz', 'zing', 'Batteries', 'Another', 'tuesday', 'pepare', 'shopping', 'everything', 'trash', 'Help', 'preparing', 'box', 'Chinatown', 'Black', 'Market', 'Emerges', 'As', 'Vendors', 'Hawk', 'Outlets', '//t.co/WL2S8Hsb', 'chinatown', 'Washington', 'hat', 'OMG', 'dead', 'Like', 'stfu', 'already', '0-9', 'month', 'wash', 'burp', 'cloth', 'body', 'shampoo', 'read', 'Huffington', 'Post', 'might', 'senior', 'rain', 'UES', 'sense', '//t.co/ssad9Tbi', '911', 'overloaded', 'currently', 'stop', 'calling', 'vodka', 'Hunkered', 'Windchimes', 'clanging', 'Got', 'kittehs', 'chocolate', '//t.co/ZFCNmwEL', 'tough', 'working', 'l', 'DOLLAR', 'TREE', '//t.co/t0qZ7JOU', 'Many', 'warming', 'listed', 'Paper', 'Napkins', 'Body', 'Wipes', 'Sanitizer', 'basic', 'Coats', 'large', 'church', '24', 'light', 'habit', 'nolights', 'nycissleeping', '3', 'x', '32', 'oz', 'similac', 'sensitive', 'made', '1x', '2.13', '12.6', 'container', 'powder', 'blessing', 'business', 'Everybody', 'buying', 'whatsoever', 'economy', 'anything', 'Am', 'situated', 'williamsburg', 'hoousehold', 'handful', 'trying', 'frozen', 'Target', '//t.co/KbaOnxPh', 'Best', 'green', '4', 'over-consumption', 'Eat', 'Drink', 'booze', 'Buy', 'god', 'sake', 'dropped', 'bedstuy', 'Freebrook', 'Academy', '//t.co/hGhz0l93', 'cedricbixler_ha', 'Seriously', 'though', 'blade', 'Wednesday', 'Should', 'delivered', 'hick', 'planning', 'think', 'prepped', 'refrigerated', 'reheat', 'upcoming', 'Buschenschank', 'Phone', 'real', 'skill', 'Whether', 'address', 'sorting', 'Has', 'considered', 'gangnam', 'style', 'dance', 'brought', 'upon', 'dock', 'cook/provide', 'School', 'school', 'Jay', 'St', 'Train', 'Station', 'cafeteria', 'staff', 'cooked', 'making', 'pulled', 'pork', 'cole', 'slaw', 'quite', 'ton', 'depends', 'show', 'called', 'Initiative', 'hoping', 'assuming', 'use', 'found', 'Might', 'someone', 'available', '2:00', '5:00', 'Or', 'main', 'ask', '3-4t', 'Non', 'landing', 'asbury', 'wildwood', 'Rip', 'afraid', 'darkness', 'outageny', 'hurricanesa', '36', '36th', '//t.co/rBR0zuQj', 'hoodies', 'nipple', 'toddler', 'dried', 'worker-coop', 'providence', 'essentially', 'natural', 'Large', 'grain', 'nut', 'Bulk', 'peanut', 'butter', 'Coffee', 'ground', 'You', 'list', 'begun', 'register', 'anticipate', 'receive', 'gift', 'arrange', 'pre-made', 'sandwich/wraps', 'Heck', 'luxury', 'it-', 'dam', 'b4', 'cut', 'Volunteering', 'Belmar', 'spare', 'Rec', 'Ctr', 'flick', 'switch', 'thinking', 'hurricanesandyproblems', 'stupidzachary', 'Cooking/food', 'Baltimore', 'Pet', 'Pls', 'tell', 'lv', 'mess', 'personal', 'Donation', 'Theres', 'untill', 'bust', 'society', 'im', 'McDonalds', 'breakfast', 'Whos', 'company', 'confirm', 'Ideally', \"'ll\", 'Saturday', 'start', 'marathon', 'Staten', 'Island', 'condition', 'Pallets', 'Bottled', 'Water', '900', 'garden', 'hose', 'Pier', '9B', 'PortSide', 'NewYork', 'supplies/space', 'alongside', 'tanker', 'MARY', 'A.', 'WHALEN', '11/17/12', 'Bottles', 'Here', 'Reece', 'collected', 'variety', 'nonperishable', 'care', 'course', 'past', 'November', '26', '2012', 'date', 'Home', 'plastic', 'non-perishables', 'dog/cat', 'experienced', 'dogs/cats', 'care/dog', 'pouch', 'puff', 'squeeze', 'snack', 'freeze-dried', 'yogurt', 'shelf-stable', 'These', 'sampling', 'longer', 'boxed/bagged', 'fullsize', '45th', 'broadway', 'kind', 'update', 'KiranCreates', 'Union', 'apart', 'Camped', 'Roosevelt', 'Hotel', 'lobby', 'charging', 'along', 'w', 'Puttsburgh', 'specific', 'bringing', 'displaced', 'Staying', 'Need', 'Car', 're-supply', 'Gas', 'Carter', 'organize', 'actually', 'write', 'Idk', 'feel', '........', 'Chicken', 'broth', 'handing', 'grateful', 'wreck', 'outtage', 'Stay', 'strong', 'donating', 'BoozyBurbs', 'lucky', 'agree', 'BergenCounty', 'SandyRelief', 'foodie', 'SCBD', 'Hot', 'Organization', 'door-to-door', 'drop-off', 'Cooking/Food', 'excellent', 'waiting', 'catered', 'event', 'Name', 'yard', 'debri', 'removal', 'clean-up', 'Looking', 'Thanksgiving', 'Day', '14', 'yr', 'daughter', 'peep', 'path', 'FF', '//t.co/ihW64e8Z', 'Social', 'worker', 'bodied', 'simply', 'DumboNYC', 'RT', 'endtwist', 'ConEd', 'DUMBO', 'Remote', 'Desktop', 'connection', 'RT\\x89ÛÏ', 'ReutersUS', 'Con', 'Edison', 'shuts', '//t.co/XdkArnvR\\x89Û\\x9d', 'jean', 'seen', 'NYkers', 'ominous', 'end', 'world', 'tissue', 'AvivaDrescher', 'thrilled', 'obummer', 'wish', 'popular', 'vote', 'system', 'spoke', 'builder/remodeler', 'cargo', 'equipment', 'rent', 'generator', 'sump', 'pump', 'physical', 'shape', 'clear', 'move', 'Deliver', 'Are', 'searching', 'site', 'Wand', 'bed', 'fall', 'asleep', 'Sandysucks', 'Reiki', 'relaxation', 'therapy', 'check', 'graphic', 'design', 'Hoping', 'PSE', 'G', 'hit', 'That', 'Snow', 'ineedheatplease', 'walk', 'Boxes', 'cracker', 'Peanut', 'Butter', 'On', 'beautiful', 'Hope', 'temper', 'mounting', 'anxiety', 'news', 'coverage', 'showing', 'stock', 'broll', '............', 'wow', 'driving', 'seeing', 'caused', 'Jersey', 'felt', 'one.and', 'shore', '9000+', 'homeless', 'littlefoodcafe', 'closed', 'power=no', 'kitchen=no', 'magic', 'hold', 'grid', 'SandyNJ', 'Really', 'cold', 'imagine', 'veteran', 'circular', 'jigsaw', 'bits/screwdriver', 'energy', 'food/coffee', 'Greenpoint', 'chartering', 'run/bike', 'needing', 'ready-made', 'SI_PeterKing', '800', 'NOW', '435', '7669', 'text', 'redcross', '90999', 'turned', 'fire', 'basement', 'Friendly', 'food/supplies', 'preferably', 'lower', 'public', 'improves', 'sat/sun', 'Coney', 'damaged', 'came', 'destroying', 'importantly', 'Furniture', 'unopened', 'medication', 'liter', 'village', 'organizing', '15', 'middle', 'Community', 'Roots', 'Charter', 'Ft.', 'advise', 'Experience', 'coordinator', 'Preparation', 'package', 'toilety', 'kit', 'Handing', 'Billingual', 'English/Spanish', 'Feb', 'pm', 'demo', 'data', 'entry', 'When', 'evening', '11/3/12', 'greatest', '\\x89ÛÏ', 'Rockaway100', 'redcrossny', 'fema', 'Rockaway', 'devastated', 'necessities\\x89Û\\x9d', 'particularly', 'floor', 'carry', 'flight', 'stair', 'easily', 'bus', 'meals/wash', 'dish', 'sweep', 'Powders', 'milk', 'Pasta', 'T-shirts', 'dress', 'sleeve', 'sweatpants', 'Christmas', 'econoline', 'Martha', 'Vineyard', 'parishable', 'arriving', 'Sat', '22nd', 'closer', 'best', 'destination', 'direction', 'forward', 'soon', 'turkey', '2.5', 'million', 'counting', 'outage', 'Be', 'responder', 'levy', 'behind', 'compromised', 'joy', 'risk', 'Xbox', 'HoesBeTwerkin', 'Twerk', 'coast', 'Ohhhh', 'Poland', 'Spring', 'Gallon', 'Uhhhhh', 'take', 'knucks', 'pee', 'uhhhh', 'scarysandy', 'decent', 'climb', 'folk', 'backpack', 'easier', 'stuff', 'bridge', 'Let', 'Earlier', 'commute', 'Picking', 'lgron', 'tara_goode', 'Talking', 'person', 'funny', 'killing', 'kendricklamar', 'GKMC', 'everybody', 'jwalekk', 'homework', '\\x89Û\\x9d', 'ate', 'teenage', 'skilled', 'particular', 'trade', '13-year-old', '16-year-old', 'task', 'food/water', '86-year-old', 'mother-in-law', 'Pitt', 'perhaps', 'age', 'Stocking', 'gon', 'na', 'fierce', 'ChaChaSlide_23', 'serious', 'costume', 'Williamsburg', 'boring', 'something', 'Halloween', 'aid/CPR', 'pas', '7', 'ASAP', 'Bronx_PR', 'bxfoodie', 'fromthebronx', 'BX-specific', 'BX', 'org', 'communication', 'marketing', 'thank', 'giving', 'excuse', 'eat', 'Little', 'pink', '2-4', 'theme', 'Varick', 'rush', '//t.co/oHbSsxdw', 'Thx', 'staying', 'treat', 'Bean', '//t.co/Zw7oA0Tq', 'Distributing', 'food/water/clothes/supplies', 'prep/service', 'fill', 'form', 'speak', 'Dutch', 'Hebrew', 'useful', 'labor', 'similar', 'ordained', 'rabbi', 'training', 'hospital', 'chaplain', 'psycho-spiritual', 'support', 'Through', 'office', 'Attorney', 'Office', 'SDNY', 'massive', 'giant', 'undergarment', 'mass', 'helped', 'parent', 'gut', 'bungalow', 'Breezy', 'Point', 'pretty', 'cutting', 'distribution/preparation', 'door', 'food/water/information', 'JCC', 'stamford', 'LOT', 'following', 'Industrial', 'bristle', 'broom', 'Shovels', 'Rakes', 'Contractor', 'Garbage', 'Bags', 'Work', 'Gloves', 'Boots', 'Masks', 'Latex', 'Bleach', 'Sponges', 'Towels', 'Lanterns', 'cash', '11/9', 'Women', 'Its', 'krazii', 'gone', 'tho', 'sum', 'every1', 'nd', 'okay', 'Glad', 'bread', 'Collection', 'Pots', 'pan', 'Ok', 'tsunami', 'warning', 'Pacific', 'traveling', 'Sounds', 'Stephen', 'King', 'novel', 'NEED', 'MET', '9', 'rescue', 'Cloths', 'Sandyyyyyyyyy', 'Survived', 'Lost', 'laptop', 'watch', 'modern', '\\x89\\x9d_', 'JerseyStrong', 'Hoboken', 'stocked', 'accepting', 'njsandy', 'calm', 'necrosis', 'U.S.', '//t.co/dfK1xn9s', 'id', 'Provide', 'connecting', 'purpose', 'connect', 'accept', 'gmail', 'dot', 'com', 'IM', 'SICK', 'SANDY', 'GOT', 'ME', 'CAMT', 'STOP', 'COUGHING', 'OR', 'SNEEZING', 'AND', 'PUKING', 'NICE', 'ta', 'ant', 'havnt', 'wiped', 'chalk', 'Officially', 'fckin', 'FckYouSandy', 'gunna', 'surviving', 'R', 'fellow', 'Yorkers', 'drink', 'pajama', '48', 'Free', 'Speedway', 'South', 'Orange', 'Ave.', 'Newark', 'SANDYNJ', 'NewarkhelpingNewark', 'Oppppe', 'sign', 'hurricaneparty', 'morning', 'VA', 'touch', 'rayray_west', 'October', 'yup', 'endin\\x89Û\\x9d', 'preparation', 'angry', 'wind', '90', 'mph', 'FrancisSchott', 'Very', 'knocked', 'Fireplace', 'Calvados', 'Book', 'Cigar', 'None', 'Trying', 'TheStruggle', 'sadtweet', 'yam', 'electric', 'heater', 'providing', 'Arabic/English', 'translation', 'cat-friendly', 'dog', 'booked', 'vacation', 'Germany', 'Military', 'overseas', 'able-bodied', 'Weds', '19', '21', 'adopt', 'special', 'nightline', 'Redcross', 'gave', 'Guess', 'anytime', 'RedCross', 'hi', 'vegan/veg', 'LES', 'Bushwick', 'bedroom', 'double', 'shower', 'wifi', 'non-smoking/2', 'cause', 'husband', 'doctor', '8:00am', 'He', 'finished', 'yesterday', 'seizure', 'abruptly', 'every', '30', 'minute', 'away', '19th', 'Today', 'last', 'His', 'telling', 'prescribed', 'narcotic', 'become', 'ill', 'MTA', 'mean', 'Closed', 'resupply', 'original', 'question', 'biggest', 'type', 'soy', 'powdered', 'Going', 'thru', 'father', 'leaving', 'assignment', 'SandyABC7', 'flash', 'candle', 'Down', 'Neck', '//t.co/ibXaUvoR', 'tv', 'porn', 'matter', 'sandyproblems', 'fitting', 'schedule', 'pantry', 'moving', 'cantbake', 'Back', 'normal', 'finally', 'Big', 'sleep', 'grr', 'music', 'One', 'reason', 'havent', 'aftermath', 'morrisco', 'Whippany', 'NJ', '//t.co/TbdXuAk0', 'roof', 'installation', 'persiable', 'information', 'funding', 'grant', 'recover', 'Happy', 'non-profit', 'coordinate', 'effort', 'coworker', 'screw', 'alot', 'Not', 'adolescent', 'attire', 'litter', 'conditioner', 'Toronto', 'former', 'Yorker', 'Two', 'ago', 'field', 'visited', 'Added', 'Value', 'home/made', 'huge', 'toothpaste/brushes', 'deodorant', 'dust', 'mask', 'amazing', 'organization', 'started', '1-2', 'lace', 'winter/rain', 'fully', 'proof', 'sweat', 'ALL', 'ITEMS', 'shower/bath', 'Hairstylist', 'current', 'listening', 'supportive', 'formerly', 'stage', 'production', 'manager', 'festival', 'chaos', 'catering', 'exp', 'activity', 'director', 'withstand', 'stressful', 'setting', 'midst', 'Husband', 'assisting', 'leader', '-a', 'bassinet', 'stroller', '-half', 'packet', 'preemie', '-candles', '-paper', '-9volt', '-size', '14/16', 'maternity', '-canned', 'tuna', 'shrimp', 'furnished', '2-bedroom', 'round-trip', 'airfare', 'holiday', 'celebration', 'Hannukah', 'decoration', 'Temp', 'assortment', 'childrens', 'NAME', 'Roof', 'plumbing', 'entertain', 'reading', 'craft', 'Hopefully', 'destroys', 'Serc', 'arc', 'bush', 'Perminantely', 'accountant', 'financial', 'lend', 'handyman', 'local', 'hardware', 'Depot', 'injured', 'flat', 'bedding', 'bunch', 'recommend', 'Westchester', 'Time', '70', 'Jimmy', 'OPEC', 'Gadzooks', 'Hello', 'Montessori', 'Norwalk', 'Connecticut', 'carrying', 'initiative', 'impractical', 'spiritually', 'uplifting', 'cheery', 'encouraging', 'label', '1,500', 'personally', 'figured', 'logistics', 'wonder', 'spread', 'sweetness', 'Islanders', 'direct', 'fulfill', 'mission', 'advising', 'changed', 'dyin', 'smh', 'procured', 'Outdoor', 'secured', 'worst', 'quantity', 'power.Be', 'cousler', 'file', 'link', 'orginazations', 'expert', 'food/water/supplies', 'Distribution', 'material', 'Ouch', 'stronger', 'Irene', '//t.co/4xA928nI', 'Shopping', 'itssodarkinhere', 'Andy', 'Deli', '//t.co/Rtl1EFCQ', 'branch', 'fell', 'bullshit', 'Cupcakes', 'Warm', 'portable', 'Something', 'panic', 'picture', 'LBI', 'spoon', 'state', 'mailing', 'asap', 'center', '-blankets', '-baby', '-coats', '-gloves', '-hats', '-toiletries', '-Advil', 'Tylenol', 'slack', 'top', 'strange', '204', 'rinse', 'towards', 'NEVER', 'MISS', 'OUT', 'ON', 'CHANCE', 'DO', 'GOOD', 'DEED', 'HurricanSandyRelief', 'volunteering', 'Painting', 'pant', 'tray', 'Baked', 'Ziti', 'boyfriend', 'appealing', 'rockmelikeahurricane2012', 'crate', \"I'ma\", 'oceanlab', 'Reminisce', 'sensationwhite', 'memory', 'Kaiser', 'Park', '//t.co/gOyTj0oJ', 'Tropical', 'God', '82', 'AUs', 'diameter', 'LameGeekJim', 'splende', 'il', 'sole', 'barba', 'e', 'os', 'junkie', 'mode-on', 'Fox', 'Romney', 'Yeah', 'create', 'uptown', 'effectively', 'Thompson', 'lincroft', 'restoretheshore', 'tall', 'fish/salmon', 'butter/jelly', 'Maple', 'Brown', 'Sugar', 'Oatmeal', 'Non-sugary', 'Cheerios', 'hairstylist', 'However', 'rebuilding', 'Main', 'Ridgefield', 'CTSandy', '//t.co/ugHdclnJ', 'aurora', 'rising', 'pier', 'carnival', 'forever', 'Meal', 'unload', 'low', 'Cat', '20', 'tore', 'across', 'road', 'bei', 'Alexander', 'Higgins', 'House', '//t.co/SF3qonHk', 'bake', 'grandma', 'Wat', 'hitting', 'anGEl', '//t.co/PM3yAmta', 'awful', 'sight', 'halloween', '//t.co/6iGfAJLQ', 'search', 'Supposed', 'necessity', 'section', 'un-used', 'drinking', 'happen', 'Dark', 'Streets', '//t.co/081fmHg8', 'CTfU', 'J_thorow', 'survival', '//t.co/IvFK1CPI', 'ability', 'cellphone', 'wheel', 'source', 'Spanish', 'speaking', 'English', 'band-aids', 'advil', 'Chasing', 'Jagger', 'Guinness', 'James_Mahon', 'Joseph_Ruggiero', 'crebaudo', 'amanda__ryan', 'ErinDiver', 'twin', 'desperate', 'flood', 'seem', 'laurenkoslow', 'withdrawal', 'monday', 'missing', 'DOOL', 'Ill', 'Nov', '10th', 'Young', 'rides/transport', 'Speak', 'Italian', 'especially', 'plug', 'helpful', 'connected', 'flier', 'copy', 'mitten', 'relatively', 'worth', 'snowstorm', 'pittsburgh', 'played', 'pictionary', 'racoon', 'Holiday', 'Inn', 'Express', '//t.co/WzL1dndY', 'SUV', 'candlemaker', 'kill', 'yay', 'utensil', 'locally', 'example', 'Rt', 'BronxZoosCobra', 'mouse', 'heated', 'rock', 'sandy\\x89Û\\x9d', 'play', 'Alphabet', 'E', '7th', 'Ave', '\\x89ÛÒI', 'smaller', 'sanitizer', 'cup', 'overwhelmed', 'Hide', 'hide', 'cuz', 'fo', '//t.co/Jw2aoKts', 'met', 'underestimate', 'resilience', 'fine', 'meet', 'Heddermans', '60-70', 'gust', 'CNN', '//t.co/3AmnGlN8', 'Bring', 'Rice', 'Miso', 'Soup', 'cancer', 'patient', 'undergoing', 'chemotherapy', 'chemo', 'effect', 'nausea', 'hair', 'loss', 'oral', 'difficult', 'speaks', 'russian', 'hebrew', 'english', 'handy', 'Extensive', 'queen', 'NorEaster2012', 'death', 'toll', '41', 'tristate', 'RiP', 'staystrong', 'packing', 'Soap', 'antibacterial', 'handwipes', 'painkiller', 'war', 'horse', 'wicked', '160', '-_-', 'Dish', 'self', 'employed', 'bookkeeper', 'worry', 'liking', 'blizzard', 'mixing', 'waw', 'Plzz', 'wanting', 'highest', 'asking', 'latex', 'gauze', 'restaurant', 'sirecovers', 'sihelp', 'helpsi', 'sandyvolunteer', 'RachelAnnR', 'wake', '//t.co/FQeG1vT5', 'Deodorant', 'Toothpaste', 'Shampoo/Conditioner', 'Shampoo', 'Kids', 'Toothbrush', 'Bar', 'Mouth', 'Wash', 'Q-tips', 'foo', 'jelly', 'Hey-o', 'RomneyStormTips', 'Everyone', 'chill', 'Soo', 'almost', 'shortest', '-__-', '50-ish', 'thanksgiving', 'beyond', 'Dental', 'Practice', 'mouthwash', 'floss', 'strength', 'wisdom', 'sheraton', '//t.co/EpkIdgpZ', 'dude', 'jet', 'ski', 'River', 'TV', 'Um', 'Some', 'mid', 'law', 'firm', 'PA', 'proprietor', 'given', 'permission', 'collection', 'paperwork', 'siren', 'guess', 'collapsed', '15th', '8th', 'multitasking', 'toys/recreation', 'Due', 'Life', 'Tompkins', 'cancelled', 'Everything', 'BoweryMission', 'Safe', 'Of', 'Almost', 'Famous', 'Fuck', 'itwasallhappening', 'baq', 'huz', 'frm', 'mi', 'kuzn', 'dem', 'forcast', 'video', 'abt', 'thts', 'ish', 'funnii', 'JCP_L', 'nite', 'At', 'party-potluck', 'jamboree', 'barter', 'grub', 'brother', 'I\\x89Ûªm', 'won\\x89Ûªt', 'placed', 'spoil', 'assume', 'corded', 'recently', 'surgery', 'remove', 'tumor', 'suppose', 'imperative', 'recovery', 'greatly', 'Georgia', 'crock', 'Senior', 'nursing', 'graduate', 'December', 'missed', 'library', 'sat', 'labeling', 'participate', 'distribution/soup', 'staffing', 'telephone', 'beany', 'conversational', 'Cantonese', 'alerted', 'fact', 'categorically', 'd4n4lynnn', 'sooooo', 'PSEGdelivers', 'teased', 'Roselle', 'sandy2012', 'forget', 'restless', 'SOAP', 'SHAMPOO', 'TOOTHBRUSHES', 'TOOTHPASTE', 'BAND-AIDS', 'PENS', 'ENVELOPES', 'WASHCLOTHS', 'POSTAGE', 'STAMPS', 'LAUNDRY', 'DETERGENT', 'bucket', 'toothbrush/toothpaste', 'OB', 'tampon', 'pad', 'bowl', 'ziplock', 'oil', 'cooker', 'instant', 'oatmeal', 'granola', 'smell', 'Thanksgiving/', 'Moms', 'cookin', 'cookinwhatfoodisleft', 'Happpt', 'requesting', 'Bklyn', 'merchant', 'Cook', 'lodging', 'Anything', 'prepackaged', 'grilled', 'breast', 'hint', 'breeze', 'Yet', 'Weirdly', '375', 'thousand', 'evacuated', 'threatening', '//t.co/9QUEj59w', 'Scamandalous', 'Roslyn', 'braving', 'transformer', 'explode', 'Crash', 'helmet', 'tow', 'julie_addario', 'pumpkintb', 'deliver/hand', 'emailed', 'Access', 'provides', 'mental', 'illness', '10AM', '3PM', 'Willing', 'aged', 'Evo', 'Both', 'Hubby', 'Enough', 'cooky', 'sink', 'ship', 'Gears', 'Regeneron', 'Pharmaceuticals', 'team', 'Put', 'Wtc', 'blackout', \"C'mon\", 'NYCers', 'AmberTheAlly', 'NYCRescue', 'Lafayette', 'DC', 'Norther', 'food/daipes', 'wipes/pet', 'food/blanket', 'disaster', 'tote', 'contain', 'different', 'mark', 'pets/babies/blankets', 'mentioned', 'jar', 'puzzle', 'cards/card', 'voluneers', '5-7', 'Send', 'comforter', 'offered', 'Sent', 'eye', 'Bay', 'Ridge', '//t.co/cqweSIO8', 'kitten', 'bathe/groom', 'small/medium', 'sized', '\\x89ÏÉwater', '\\x89ÏÉten', 'mile', 'biffie', '\\x89ÏÉfamily', 'safely\\x89ÏÉ\\x89ÏÉ', 'enjoying', 'Bloody', 'Mary', '\\x89ÏÉ', 'sunday', 'november', 'wll', 'swing', 'foodcoop', 'Slope', 'Coop', '//t.co/XN3QwUct', 'staten', 'posting', 'nov', 'physically', '11th', 'per', 'knocking', 'pickup', 'RandomCravings', 'anyway', 'localsunite', 'Gut', 'wrenching', 'Americas', 'national', 'guard', 'H2O', '7pm', 'legit', 'Putting', 'Lawrence', 'thelastword', 'indulge', 'sitting', 'briellekievitt', 'swallow', 'veggie', '12/10', 'e-mailed', 'copied', 'Message', 'After', 'checking', 'unfortunately', 'XS', '4-5', 'Various', 'Infant', 'multivitamin', 'Lots', 'meeting', 'response', 'Legos', 'cabinet', 'Girl', 'Books', 'Games', 'Storage', 'Container', 'Store', 'Miscl', 'Non-perishables', 'Diapers', 'disposable', 'sanitary', 'bath', 'StaceyStone', 'r', 'snacking', 'commence', 'likeineedahurricanetohappentojustifysnacking', 'canvasser', 'informed', 'Houses', 'likely', 'sustained', 'expect', 'respond', 'comment', 'Misc', 'pissin', 'deck', 'nj', 'severe', 'allergy', 'Female', 'men/women', 'Update', 'Projects', '5,000', 'larger', 'Kitchen', 'act', 'HUB', 'Beans', 'St.', 'Jacobi', 'Church', '5406', '4th', '11220', 'impossible', 'Why', 'chrisaldo', 'excited', 'thats', 'iloverain\\x89Û\\x9d', 'youre', 'weak', 'justsaying', 'lift/move', 'trained', 'bet', 'calculator', 'harder', 'Jarro', 'Building', 'Industries', 'Corp.', '//t.co/17bfchzN', 'maine', 'food/blankets', 'specify', 'call/email', '-perishable', 'Costco', 'eager', 'can', 'Finally', '400', 'Central', 'West', '//t.co/VxOD1wry', 'regular', 'teddy', 'bear', 'mix', 'woolen', 'cap', 'Hamden', 'CT.', 'Worker', 'Foster', '500', 'brownbag', '3:30pm-4pm', 'brownbags', 'consist', 'juice', 'pb', 'j', 'cheese', 'MPCStorm', '//t.co/2IioV1ve', 'accustomed', 'traffic', 'patrolled', 'ran', 'mom', 'VictorManibo', 'Last', 'hockey', 'olden', 'hiring', 'foraging', 'forest', 'Emergency', 'alert', 'irene', 'lmao', 'cashew', 'goji', 'berry', 'baree', 'Whole', 'Foods', '//t.co/tcWHmF4D', 'yard/hand', 'organizational', 'Worked', 'Toledo', 'Computer', '3/4', '4x4', 'retired', 'evacuating', 'leak', 'ohmy', 'Western', 'Beef', '//t.co/grQqaolg', 'dropoff', 'minimum', 'includes', 'tower', 'alive', 'difficulty', 'passing', 'food/meals', 'Hicks', 'teenager', 'Corcon', 'contracting', 'laborer', 'SAT', '3rd', 'boom', 'Tree', 'Southbury', 'MarinaFoley', 'barely', '40', 'dozen', 'cupcakes/cookies', 'great-', 'LoDownNY', 'Ed', 'Cuts', '//t.co/w6SKRPJM', '2nd', 'le', 'teaching', 'artist', 'Comfortable', 'Intermediate', 'language', 'twice', 'gathering', 'nutritionist', 'distribution/food', 'completing', 'FEMA', 'SNAP', 'stamp', 'benefit', 'application', 'replacement', 'dept', 'welfare', 'lacking', 'overcoat', 'seacoast', 'NH', 'Gothamist', 'feeding', 'page', 'Long', '//t.co/xiLdMjfX', 'Possible', '140', 'Katrina', '110', 'needle', 'evacuation', 'batch', 'chili', 'vegetarian', 'roll', 'wrapped', 'foil', 'aluminum', 'styrofoam', 'separately', 'paks', 'napkin', 'instead', 'addition', 'boxed', 'meals/snacks', 'amandadauriaa', 'toward', '\\x89Û\\x9dHAHAHA', 'Im', 'tired', 'bored', 'everywhere', 'Jets', 'v', 'Dolphins', 'hate', 'saying', 'NEXT', 'die', 'trapped', 'Mandarin', 'lift', 'shuffling', 'Takes', 'lovable', 'affair', 'NYCurrent', '//t.co/tqqvBf80', 'partially', 'global', 'member', 'Walking', 'preferred', 'Does', 'shellyjack523', 'Wine', 'sound', 'Lights', 'flickering', 'Come', 'Winds', 'picking', 'pissed', 'Anyone', 'besides', 'fogcreek', 'experiencing', 'pillows/blankets', '7a.m', 'slept', 'stayed', 'subsiding', 'wide', 'range', 'various', 'attach', 'unit', 'National', 'Guard', 'comin', 'n', 'visit', 'Clean', 'build', 'novice', 'level', 'Non-', 'Perishable', 'boat', 'removed', 'crashed', 'fence', 'bounced', 'fear', 'extreme', 'Laconia', 'Jelly', 'Wheat', 'Bread', 'Tuna', 'Fish', 'brush', 'invaded', 'Upper', 'Proud', 'host', 'Manhattanites', 'herald', 'sq', 'market', 'refused', 'min', 'boycott', 'art', 'conservation', 'w/materials', 'water/mold', 'tweet', 'included', 'fat', 'incorrect', 'boowag74', '76', 'charity', 'received', 'listing', 'job', 'youth', '17', '10+', 'delivery/serve', '12', 'chaperone', 'TWIST', 'Tweens', 'Intense', 'Spirit', 'Together', 'FUMC', 'Somerville', 'Interested', 'supposed', 'MeekMill', 'album', 'ai', 'outaaa', 'business.Food', 'deliveries=full', 'menu', 'Accepting', 'storm.Please', 'NJResilience', 'food-pop-top', 'shelf', 'stable', 'plumber', 'furnace', 'prepaid', 'gear', 'seperated', 'movie', 'cardboard', 'annoy', 'downstairs', 'hop', 'trainer', 'keeping', 'leg', 'loose', 'Triathlon', 'pizza', 'pie', '6:15', '90mph', 'Internet', 'Available', 'Want', 'delvier', 'Whom', 'Concern', 'held', 'White', 'Plains', 'multiple', 'Men', 'wear', 'Children', 'w/tags', 'Toiletries/Hygiene', 'Supplies', 'hearing', 'Sincerely', 'BB', 'scouting', 'FDR', '//t.co/Gvv2FQp3', 'Quilts', 'supplies/', 'Feminine', 'Towels/', 'single', 'Heavy', 'Duty', 'Trashbags', 'bleach', 'teach', 'Middle', 'shop', 'Delivering', 'day-', 'JERSEYSTRONG', 'sandyrelief', 'alexalombardi97', 'wet', 'weighing', 'undergarment-new', 'make/organize', 'Multiple', 'Mens', 'Womans', 'Downingtown', 'profit', 'organizer', 'Live', 'electrician', 'son', 'grunt', 'friendly', 'ointment', '4T-5T', 'pull', 'ups', '80', 'Pl', 'Houston', 'Bleeker', 'match', 'Beverages', 'Welcome', 'Terrible', 'tropical', 'globalwarming', 'sa', '//t.co/eyJFLS4k', 'professional', 'DRINKING', 'disinfecting', 'begin', 'JimGaffigan', 'prof', 'there\\x89Ûªs', 'American', 'it\\x89Ûªs', 'raining.\\x89Û\\x9d', 'represent', 'Shelton', 'CT', 'pallet', 'spring', 'trucked', 'advice', 'Helping', 'CAAAV', 'Verazano', 'Nursing', 'worried', 'Huge', 'uprooted', 'Sandys', 'Zone', 'crowd', 'frenzy', 'Danger', 'worse', 'mini-toothpastes', 'generally', 'Rochelle', '5-8hr', '//t.co/SKi5UPQc', 'byebye', 'approximately', 'carrot', 'pea', 'corn', 'third', 'fight', 'diffuse', 'span', '24hrs', \"c'Mon\", 'quit', 'actin', 'Savages', 'co-op', 'Philadelphia', 'interest', 'expressed', 'episode', 'Homeland', 'tense', 'nonperisabhle', 'matched', 'Seniors', 'Seward', 'Co-Op', 'Slurrrr-Icane', 'Slurr-Icane', 'engine', 'mayne', 'WAIT', '.......................', 'Winter', 'Hat', 'Scarves', 'Shirts', 'E-mailed', 'Aaaaand', 'fun', 'lasted', 'TEA', 'AHurricaneSandy', 'talk', 'wab', 'subway', 'sculptor', 'reasonably', 'Food-', 'Trays', 'Egg', 'Casseroles', 'Nov.', 'Oyster', 'Creek', 'Plant', 'conserve', 'offline', 'SandySucks', 'misc', 'Ohh', 'yea', 'Serving', 'shelves/sort', 'Matched', 'spoiling', 'Telephone', 'supplis', 'Feel', 'permit', 'Indication', 'salty', 'Walked', '41st', '39th', 'darkside', 'postSandy', 'IPad', 'Watching', 'soa', 'rest', 'lonelymonday', 'tried', 'retyping', 'shorthand', 'version', 'resending', 'selected', 'Other', 'rag', 'mens-', 'womens-', 'bra', 'robe', 'unisex-', 'kids-', 'fork', 'beverage', 'couscous', 'Bergen', 'county', 'supplies/goods/food', 'fraternity', 'Kappa', 'Alpha', 'Psi', 'Brooklyn-LI', 'Alumni', 'Chapter', 'ocean', 'soul', 'anchored', 'Jesus', 'U', 'surely', 'drift', 'JUST', 'THOUGHT', 'OF', 'SONG', 'Charrito', 'served', 'todaty', 'hoboken', '//t.co/verhpLaa', 'Chili', 'vegan', 'Shower', 'Curtain', 'Scrubbing', 'Bubbles/Bathroom', 'Cleaner', 'Bathmats', 'Laundry', 'Detergent', 'newborn', 'baby-related', 'Grocery', '22', 'clearly', 'inspiring', 'carb', 'diet', 'Quick', 'grab', 'cinnamon', 'Raisin', 'muffin', '//t.co/chPj1VIP', 'plate', 'cutlery', 'tarp', 'fluent', 'canned/dry', '72', 'IT', 'READY', 'Fisher', 'Price', '13', 'Pass', 'Team', 'Les', '12/06', 'message', 'correct', 'ten', 'focus', 'food/baby', 'Site', 'potential', 'Sorry', 'delay', 'spoken', 'sperm', 'donor', 'dad', 'Cereal', '9.5', 'driver', 'license', 'ready-to-eat', '1:47', 'PM', 'Rescue', 'Ministries', 'Pantry', '2083', 'Richmond', 'Terrace', 'burner', 'famine', 'noticed', 'sleeping', '10:00', 'Frankin-Storm', 'prepping', 'Vitamin', 'NWA', 'Clash', 'Champions', 'notthatserious', 'NoWork', 'Gosh', 'clothes-', '/books', 'Powerless', 'post-Sandy', '//t.co/olkycq7X', 'magical', 'Centers', 'present', 'powerful', 'Traffic', 'BQE', 'Metropolitan', 'ave.', 'swept', 'highway', 'Chinese', 'chinesefood', 'food/formula', 'shlepping', 'propane', 'lighter', 'opener', 'tooth', 'paste', 'awesome', 'CeiliOConnor', 'escaped', 'xx', 'sandysucks', 'vacationfail', 'Having', 'Lexi', 'Real', 'electrical', 'lighting', 'human', 'escapingsandy', 'Whatever', 'clarify', 'Details', 'Missing', 'TheXFactorUSA', 'seriously', 'cry', 'thankyouSandy', 'low-skill', 'eaten', 'six', 'usual', 'jaimejin', 'produce', '420', 'Baltic', 'BK', '6:00pm', '14-story', 'Spoke', 'future', 'Left', 'vm', 'Mobile', 'Every', 'Adopt-A-Family', 'outreach', 'downstate', 'early', 'Until', 'emergency', 'hallway', 'stairwell', 'coordinated', 'corner', 'Cherry', 'presence', 'security', 'Meals', 'Wheels', 'additional', 'driving/delivering', 'add', 'pancake', 'distibrution', 'Assist', 'Non-Profit', 'Organizations', 'wan', 'Hunting', 'POTUS', 'pic', '//t.co/WTwSTNro', 'supplies/food/a', 'Amen\\x89ÛÏ', 'horwad', 'sandybinge', 'philosophical', 'conversation.\\x89Û\\x9d', 'Gon', 'whip', 'flip', 'cam', 'shawncarrie', 'TON', 'OccupySandy\\x89Û\\x9d', 'OccupyWallSt', '10am', 'pot', 'lasagne', 'Sweaters', 'encouraged', 'evacuate', 'suggestion', 'aintgotnuthinonme', 'citizen', 'handi-capable', 'watching', 'Year', '1870', 'four', 'Smart', 'packaging', 'hammer', 'licensed', 'etc.', 'rachet', 'screwdriver', 'ware', 'nail', 'painting', 'torrrx3', 'saving', 'squirrel', 'random', 'surf', 'heading', 'righttttttt', 'skincare', 'lotion', 'foodrun', 'instamood', 'Apocalypse', '//t.co/kV94cCfl', 'Tall', 'lamp', 'air', 'cleaner', 'locatons', 'Mithra_6277', 'VERY', 'rainy', 'engineer', 'caught', 'hail', 'Nothings', 'Prolly', 'scared', 'visiting', '31', 'rugged', 'Loving', 'concern', '65+', 'deserted', 'Pray4NYC', 'chino', 'warrior', 'tip', 'crossed', '156', 'dressing', 'lit', 'bbq', 'grill', 'Hamburgers', \"BBQ'ing\", '46', 'Hestor', 'AM', 'highrises', 'Taking', 'learning', 'nacho', 'transported', 'downtown', 'inconvenience', 'actual', 'Hmmm', 'WFSBnews', 'Malloy', 'wfsb', 'raiseyourhand', 'pigging', 'uneaten', '\\x89ÏÜ', 'Bedding', 'Ireland', 'Sind', 'drizzle', 'HomeFromhome', 'Case', '35-40f', 'Running', 'doesnt', 'devastation', 'partner', 'SweeteryNYC', 'ChaseNews', 'NEw', 'Yorkers\\x89Û\\x9d', 'freefood', 'Getting', 'routine', 'fireplace', 'grilling', 'Watch', 'DVD', 'raining', 'bud', 'Impossible', 'deBlasioNYC', 'police', 'h20', '//t.co/T1IGNxOK', 'Massachusetts', 'Petrides', '-3', '0-3', '3-6', '-bottles', '-bottle', 'sterilizer', '-wipes', 'warmer', '-bouncy', '-breast-feeding', '-2', 'boppies', '-bumbo', 'mobile', '-other', 'assorted', 'Pull', 'ups-', '9several', 'several-year', 'sealed', 'non-prescription', 'involved', 'impacted', 'Cross', 'contacted', 'whose', 'purchased', '10-ream', 'expiration', 'latenightcrew', 'coopfoodanddrink', 'hotelonrivington', 'Co-op', '//t.co/HYowDIX5', 'bobingle99', 'AT', 'carrier', 'is.\\x89Û\\x9d', 'sandynj', 'batterycharging', 'Tell', '-hygiene', '-tools', '-toys', 'technical', 'zillion', 'relevant', 'unsarah', 'keithemorris', 'staycation', 'DRob30', 'Robbie', 'Bronx', 'spell', 'cleaned', 'April', 'yankee', 'miss', 'trick', 'bone', 'catering/food', 'cook/serve', 'urge', 'adventure', 'accomplice', 'when/where', 'foodtruck', 'eastvillage', 'ignyc', 'below39thStreet', 'gothamist', 'Ninth', 'Espresso', '//t.co/Hq0yYNHR', 'Share', 'Susan', 'B.', 'Wagner', 'High', 'depleted', 'increased', 'evacuee', 'Prepared', 'Green', 'share', 'lightly', 'Trivia', 'Pursuit', '1980s', 'tight', 'intrupted', 'Lmfao', 'face', 'Haha', 'driveway', 'NYCFOAM', '12pm', 'newdorp', 'marine', 'ln', 'StatenIsland', 'HURACAN', 'POR', 'TU', 'PINCHE', 'CULPA', 'SEGIMOS', 'SIN', 'LUZ', 'hu', 'Mario', 'Castro', 'Apartment', '//t.co/jvcxhrfJ', 'Contacting', 'JerrySeinfeld', 'WHAT', 'comedy', 'gig', 'LOL', 'mil', 'realDonaldTrump', 'Trump', 'Hotels', '6-8', '0-6', 'veg/fruit', 'purÌ©e', 'cube', 'storming', 'seabras', 'Total', 'bummer', 'sigh', 'AMDA', 'mostly', 'elder', 'ErinBurnett', 'whats', 'thx', 'rough', 'carpentry', 'Hey', 'favor', 'scavenge', 'otherwise', 'splatter', 'technique', 'fam/get', 'latest', '//t.co/p6DbicTF', 'Global', 'LIC', '13-18', 'sandwiches/boxed', 'young', 'Dorp', 'Cooking', 'bulk', 'Mostly', 'brand-new', 'blankets/Clothes', 'sulllydude', 'magnitude', 'happened', 'Tequila', 'perfect', 'Maybe', 'Mikefavetta', 'Fra', 'Bruno', 'Compound', '//t.co/YNenUCKe', 'resourceful', 'paint', 'lay', 'tile', 'doscaminos', 'soho', 'shut', 'popping', 'salmon', 'lump', 'crab', 'lmbo', 'ConEdison', 'customer', '//t.co/XarRlp1K', 'Sandy\\x89Û\\x9d', '_Slotz', 'shore.We', 'Parade', '2morrow', 'Making', 'Being', 'fortunate', 'food/resources', 'meals/', 'individual/', 'Before', 'anymore', 'structural', 'hander', 'Followed', 'Liz', 'storage', 'space', 'submerged', 'Occupy', 'Elderly', 'Aan', 'George', '212-666-7209', 'Definitely', '75', 'survive', 'major', 'Harlem', '5:30', 'socloseyetsofaraway', 'gasisgold', 'Valero', '//t.co/PxHvuFKS', 'Poughkeepsie', 'pop', 'hurricaneproblems', '//t.co/YHZAQwWi', 'lookin', '//t.co/jvHC5Biw', 'Assistant', 'Pastors', 'NYPC', 'Mobilize', 'College', 'Group', 'Medications', 'Evenings', 'tech', 'construction', 'drag', 'pile', 'bundle', 'bathroom/hygiene', 'dropping', 'accessible', 'subway/bus', 'Nature', 'must', 'northeast', 'safely', 'immediate', 'apocalyptic', 'instagoo', 'Pals', 'Cabin', '//t.co/Nz18cG2n', 'Adult', '7,5,4', 'Sheets', 'dogs/feed', 'with/check', 'allow', 'instructing', 'indoors', 'feral', 'North', 'McDonald', '//t.co/OeKqD3wB', 'dumped', 'Mac', 'terrible', 'hospitality', 'sop', 'toothbrushed', 'jem8891', 'HURRICANE', 'LIFE', 'needshower', 'SoHo', '//t.co/7wRh1AnL', 'needpower', 'Director', 'Human', 'Resources', 'Max', 'Brenner', 'Chocolate', 'Bald', 'Man', 'Cookies', 'brighten', 'appropriate', 'circumstance', 'Storming', 'Steady', \"'ers\", '//t.co/zCNRGjke', 'Delaware', 'BFF', 'asked', 'Nevermind', 'potato', 'sauce', 'burning', 'calorie', 'Eating', 'sandyprobs', 'FreshDirect', 'stranded', 'NYers', 'Maine', 'WHATEVER', 'i.e', 're', 'fridge', 'map', 'Spiderman', 'north', 'gomigirl', 'Gotham', 'Era', 'apparently', 'Local', 'fame', 'achieved', 'HAHAHA', 'representative', 'Baby/girl', '0-5', '1st/33rd', 'freezer', 'therealjdeuce', 'eating', 'fml', 'hurricaneprobz', 'mine', 'stew', 'chilies', 'packaged', 'hydratable/microwave', 'mac', 'noodle', 'stroganoff', '//t.co/urm4MTzm', 'Solar', 'Powered', 'Radio', 'Cell', 'Chargers', 'solar', 'crank', 'powered', '//www.amazon.com/gp/product/B008KDQVPW/ref=ox_sc_act_title_1', 'ie=UTF8', 'smid=A28TUBIW4M1S9A', 'Amazon', 'point', 'ferry', 'Terminal', 'Regads', 'deliver/distribute', 'sorted', 'Additional', 'footwear', 'Basic', 'feeling', 'forks/knifes/spoons/plates', 'heartbreaking', 'HelpSandy', 'consulting', 'meat', 'childcare', '1:46', 'Apparently', 'midtown', 'blade_donft', 'BA2', 'pond', 'Especially', 'stormageddon', 'British_Airways', 'Apples', 'here.', 'SandySurvivor', 'MA', '11/10/12', '8am', 'hygene', 'union', 'square', 'reprieve', 'Amazing', 'sandynyc', 'Ventured', 'LowerManhattan', 'jess_shiller', 'lone', 'vendor', 'Wall', '//t.co/a7ZgOWJw', 'yoga', 'superintendent', 'porter', 'laundry', 'awkward', 'moment', 'realize', 'ShannEpp', 'anorexicdiet', 'provided', 'food/ingredients', 'everyday', 'bos', 'wondering', 'possibility', 'Love', 'jetblue', 'nycfoodtruck', 'SandyUnites', 'FeedOurNeighbors', '//t.co/exYTJKtD', 'pen', 'knife', 'g', 'stapler', 'tape', 'dispenser', 'push', 'pin', 'trailer', 'food/diapers', 'tolietries', 'contract', 'pls', 'seasonal', 'Towels/Pillow/Blanket', 'curious', 'cooking/serving/delivering', 'lasagna', 'Donate', 'forgotten', 'marshmallow', 'graham', 'millerlite', 'itsmillertime', 'Shoes', 'handler', 'weight', 'fairly', 'kitty', 'birdfood', 'Boring', 'Hate', 'lawyer', 'manual', 'labour', 'Each', '100', 'John', 'Recreation', 'Crown', 'Heights', 'spirit', 'D.R.E.A.M', 'partnering', 'G.F', 'Brand', 'Foundation', 'Alphas', 'Charitable', 'effected', 'super', 'FOOD', 'TOYS', 'Entertainment', 'FUN', 'Toy', 'Drive', '14th', '6-9pm', '1251', 'Prospect', 'Place', '11213', 'superfoodtown', 'Enfamil', 'Similac', 'sell-by', 'Check', 'foodtown', 'circus', 'insane', 'Foodtown', '//t.co/M6mW2EnV', 'Roasted', 'lamb', 'salsa', 'verde', 'polenta', 'creamed', 'kale', 'preserved', 'lemon', 'stormfood', 'Casa', 'de', 'Rienndall', '//t.co/n3x6bxhz', 'foodshopping', 'headed', '//t.co/e7yXBMRK', '95th', 'Meaning', 'suite', 'kidding', 'disperse', 'County', 'shipping', '3000', 'fortifying', 'Brunch', 'lfc', 'eatlocal', 'romantic', 'Reading', 'Playing', 'w/o', 'screen', 'chat', '//t.co/GkPTyhHH', 'there', 'inny', 'Weehawken', 'clothes/winter', 'flashlights/batteries', 'ink-quill', 'candlelight', 'jnoulinmerat', 'TMurphyMusic', 'musak', 'organic', '.............', 'AJHanleyNYC', 'Say', 'Jim', 'shot', 'pickle', 'Hang', 'United', 'States', '1,000', 'oven', 'goids', 'Wed.', 'Thurs', 'Approximately', '100-150', 'industrial', 'non-clothing', 'havs', 'plenty', 'Vipers', 'dedicate', 'Noon', 'Gerard', '230', '10304', 'Relief', 'fan', 'Zoe', 'winner', 'stick', 'seems', 'sided', 'lba', 'Walk', '//t.co/53LEXsf5', 'Cordless', 'rechargeable', 'wireless', 'router', 'Van', 'Brunt', 'Although', 'ironbound', 'aka', '//t.co/hpniWJW2', 'CoolhausNY', 'continue', 'foodielove', 'Fin', 'Grill', 'Tea', 'unloading', 'loading', 'category', 'ef', 'Myg', 'breezy', 'rocked', 'coincidence', 'freezing', 'pedestrian', 'kindly', 'Damn', 'Went', 'brilliant', 'Aid', 'Prep', 'trough', 'Justin', 'Wedes', 'Bless', 'word', 'disabled', 'dyer', 'vital', 'Houston/Ave', 'substaining', 'unaffected', 'agency', 'gotten', 'CPR', 'tutor', 'p/u', 'conduct', 'fundraising', 'aside', 'wonderful', 'debate', 'manigaut', 'manicott', 'manigotti', 'entered', 'database', 'Did', 'form-', 'newrochelle', 'coned', 'French', 'hunkerdown', 'success', 'flop', 'thegreatmick', 'favorite', 'Lawd', 'frankieciv608', 'Part', '//t.co/BjOweYtW\\x89Û\\x9d', 'While', 'OD', 'Line', 'seafood', 'counter', 'Columbus', 'Circle', '//t.co/p8GBrsN0', 'Brooms', 'shovel', 'Eastern', 'Shore', 'raising', 'fund', 'Woodrow', 'Methodist', 'Pastor', 'Midland', 'observed', 'seek', 'Could', 'hoodie', 'Creating', 'jerzey_noize', '10pm', 'ClubZone_FM', '_Mr_Vargas', 'iLOVENOTBEINGU', 'slowed', 'stopped', 'FURNITURE/HOME', 'GOODS', 'CLOTHING', 'HYGIENE', 'PRODUCTS', 'NON-PREISHABLE', 'Ppl', 'NYU', 'birth', 'SandyProblems', 'Such', 'benign', 'brutal', 'serial', 'killer', 'named', 'Timmy', 'Robin', 'Williams', 'David', 'Letterman', 'Corbett', 'Accel', 'Healthcare', 'Chicago', 'regard', 'Student', 'Barman', 'Fund', 'functioning', 'Environmental', 'analyst/questionnaires', 'degree', 'preparation/carrying-', 'reliable', 'oriented', 'happening', 'Humbled', 'Grateful', 'spending', 'Luck', 'keyfood', 'protectionfromjesus', 'manning', 'Yay', 'conEdison', 'Kips', 'Madison', '30th', 'Sts', 'hav', 'th', 'causing', 'stir', 'Show', 'cutter', 'whomever', 'From', 'Darkness', 'engulfs', '//t.co/Di1t7pod', 'detergent', 'non-electrical', 'Later', 'tamar', 'cassel', 'psbx', 'sarahcooley', '//t.co/4i5jprix', 'Medical', 'EPI', 'Pens', 'apnea', 'machine', 'CPAP', 'mths', '9-12', '9.5/10', 'Guys', 'Extra', 'Marshmallows', '\\x89÷¥', 'cocoa', 'hotchocolate', 'stra', 'MVB', '//t.co/e6uUuAbG', 'moved', 'homebound', 'WillRasid', 'lawl', '4-10', 'makin', 'gios', 'sandys', 'destroyin', 'Passing', 'WANT', 'BECAUSE', 'THESE', 'PEOPLE', 'OUR', 'SEE', 'THEM', 'NEWS', 'FLY', 'FROM', 'LOS', 'ANGELES', 'BE', 'STATIONED', 'WORKING', 'HELPING', 'THOSE', 'ie', 'preparation/serving', 'non-perishaable', 'grade', 'someplace', 'shipped', '66.00', '2.00', 'coupon', '33', 'farmer', 'transferable', 'greenmarket', 'participating', 'www.nyc.gov/health/farmersmarkets', '311', 'COUPONS', 'EXPIRE', '11/30', 'cupcake', 'Georgetown', 'Cupcake', 'sandyS', 'whore', 'blew', 'stupid', 'transporting', 'razor', 'cough', '12/1', 'food-', 'Springs', 'minivan', 'airbeds', 'wrath', 'closing', '//t.co/suNgNPBR', 'surgical', 'rake', 'lifting', 'tide', 'dishwasher', 'pod', 'thankssandy', '//t.co/4PeYtGGS', 'STILL', 'OPEN', 'decently', 'Garden', 'Eden', 'Gourmet', '//t.co/N2FU84RC', 'Technical', 'faculty', 'Effort', 'involve', 'Collect', 'AP', 'ZoneA', 'forgets', 'Krob1111', 'interfere', 'voting', 'TUES', 'Obama', 'cook/do', 'depending', 'waterproof', 'ax', 'PANTSSteve', 'PREPARES', 'Mayor', 'Bloomberg', 'shoplift', 'restoration', 'estimate', 'chinese', 'sparking', 'its_me_spence', 'haha', 'freaking', '\\x89÷Ó\\x89_Á', 'meliithebest26', 'JUAA', 'F', 'UCK', 'MY', 'PLÌ\\x81TANOS', 'AREPAS', 'Victor', 'isnt', 'according', 'Jackets', 'ThankYouHurricaneSandy', 'ILoveYou', 'YouBouz', 'brace', 'bandaids', 'zombie', 'PumpkinHead', 'Literally', 'LIPA', 'Food/Toiletries', 'Dont', 'deadlift', 'handsaw', 'bring/donate', 'veterinary', 'volunteered', 'no-kill', 'distant', 'midweek', 'prob', 'upplies', 'translate', 'NBA', 'e84th', 'blvd', 'FarRockaway', 'CarolineManzo', 'JacLaurita', 'Never', 'Thought', 'coats/jackets', 'Pump', 'insured', 'Plumber', 'Hvac', 'rcvd', 'stating', 'Emailed', 'wholefoods', 'winning', 'KhushKirpalani', 'HiralCP', 'karishmer', 'age/what', 'diapers/clothing', 'size/formula', 'preference', 'capacity', 'short', 'term', 'writing', 'behalf', 'Bulgaria', 'ear', 'infection', 'solution', 'Uncle', 'muffle', 'mouth', 'Days', 'DontJudgeMe', 'SandyLife', 'Night', 'raw', 'Coincidence', 'fluke', 'climate', 'change', 'condo', 'restock', 'later']\n"
          ]
        }
      ]
    },
    {
      "cell_type": "code",
      "source": [
        "X1_train, X1_test, y1_train, y1_test = train_test_split(disaster_tweets[\"text\"], disaster_tweets[\"need_or_resource\"], test_size=0.2, random_state=9)"
      ],
      "metadata": {
        "id": "qBvClxliboUs"
      },
      "execution_count": null,
      "outputs": []
    },
    {
      "cell_type": "code",
      "source": [
        "print(X1_train.shape)\n",
        "print(y1_train.shape)\n",
        "print(X1_test.shape)\n",
        "print(y1_test.shape)"
      ],
      "metadata": {
        "colab": {
          "base_uri": "https://localhost:8080/"
        },
        "id": "uqvYatizbz7k",
        "outputId": "1c37a474-7886-4b5a-d257-1655ba133d58"
      },
      "execution_count": null,
      "outputs": [
        {
          "output_type": "stream",
          "name": "stdout",
          "text": [
            "(1120,)\n",
            "(1120,)\n",
            "(281,)\n",
            "(281,)\n"
          ]
        }
      ]
    },
    {
      "cell_type": "code",
      "source": [
        "from sklearn.feature_extraction.text import CountVectorizer\n",
        "\n",
        "bow = CountVectorizer(analyzer=process_lang_data, max_features=1000) # using the function we made above\n",
        "bow.fit(X1_train)                             # fitting to our training data\n",
        "bow_train = bow.transform(X1_train).toarray() # then transforming both training and testing data\n",
        "bow_test = bow.transform(X1_test).toarray()"
      ],
      "metadata": {
        "id": "4Kzoo5LkcAXF"
      },
      "execution_count": null,
      "outputs": []
    },
    {
      "cell_type": "code",
      "source": [
        "import gensim\n",
        "# have to pre-tokenize\n",
        "tokenize = disaster_tweets[\"text\"].apply(process_lang_data)\n",
        "\n",
        "# take a look at the documentation to see what these parameters are changing!\n",
        "w2vec_model = gensim.models.Word2Vec(tokenize, min_count = 1, size = 100, window = 5, sg = 1)\n",
        "w2vec_model.train(tokenize, total_examples = len(disaster_tweets[\"text\"]),epochs=20)"
      ],
      "metadata": {
        "colab": {
          "base_uri": "https://localhost:8080/"
        },
        "id": "92RCgdBCdqrA",
        "outputId": "1f510568-b455-4986-efe2-6756e9530a5c"
      },
      "execution_count": null,
      "outputs": [
        {
          "output_type": "stream",
          "name": "stderr",
          "text": [
            "WARNING:gensim.models.base_any2vec:under 10 jobs per worker: consider setting a smaller `batch_words' for smoother alpha decay\n",
            "WARNING:gensim.models.base_any2vec:Effective 'alpha' higher than previous training cycles\n"
          ]
        },
        {
          "output_type": "execute_result",
          "data": {
            "text/plain": [
              "(333193, 393240)"
            ]
          },
          "metadata": {},
          "execution_count": 27
        }
      ]
    },
    {
      "cell_type": "code",
      "source": [
        "words = list(w2vec_model.wv.vocab)\n",
        "print(words)\n"
      ],
      "metadata": {
        "colab": {
          "base_uri": "https://localhost:8080/"
        },
        "id": "MelzPNKZeGg8",
        "outputId": "52bbb511-449a-429c-a0ed-0c191ec6b611"
      },
      "execution_count": null,
      "outputs": [
        {
          "output_type": "stream",
          "name": "stdout",
          "text": [
            "['Donations', 'battery', 'flashlight', 'cleaning', 'supply', 'always', 'welcome', 'donation', 'drop', '23-74', '38th', 'st', 'btwn', '23rd', 'ave', 'Astoria', 'Blvd', 'Thanks', 'I', 'want', 'hurricane', 'Sandy', 'cone', 'stuck', 'house', 'family', '..............', 'NOT', 'Hi', 'help', 'prepare', 'food', 'serve', 'offer', 'clean', 'assistance', \"n't\", 'necessarily', 'tool', 'hand', 'willingness', 'bicycle', 'could', 'maybe', 'delivery', \"'m\", 'within', 'walking', 'distance', 'Red', 'Hook', 'cant', 'believe', '.....', 'child', 'adult', 'clothes', 'including', 'jacket', 'blanket', 'shoe', 'bottle', 'water', 'two', 'small', 'would', 'like', 'donate', 'need', 'even', 'toy', 'kid', 'But', 'know', 'rather', 'red', 'cross', 'We', 'directly', 'advance', 'Melissa', 'Supermarket', 'scary', 'hurricanesandy', 'nopower', 'instahub', 'instafood', 'instagram', 'Super', 'Stop', 'Shop', 'http', '//t.co/hY0TRezH', 'spooky', 'total', 'lack', 'power', '34th', 'south', 'sandy', 'Will', 'storm', 'ever', 'give', 'L.I', 'break', 'First', \"nor'easter\", 'Still', 'long', 'beach', 'expected', 'wks', 'c', 'monman', \"'re\", 'concerned', '90-year', 'old', 'grandmother', 'life', 'apartment', 'without', 'running', 'She', 'said', 'neighbor', 'helping', \"'s\", 'hard', 'really', 'ok', 'phone', 'cell', 'run', 'Her', 'number', 'happy', 'taking', 'people', 'ca', 'get', 'LaurSantangelo', 'texting', 'worked', '...', 'Hahaha', 'damn', 'psychological', 'service', 'phd', 'psychology', 'lead', 'game', '2', 'jug', 'Enjoying', 'dark', '....', 'Hurricane', 'Power', 'Outage', '//t.co/ZdCwWy8Q', 'chef', 'bank', 'facility', 'provide', 'relief', 'victim', 'Can', 'bring', 'grocery', 'toiletry', 'needed', 'Needs', 'confirmation', 'location', 'May', 'My', 'cousin', 'wife', 'There', 'electricity', 'thus', 'elevator', 'either', 'Boston', 'sure', 'many', 'others', 'housing', 'complex', 'What', 'fantastic', 'non-perishable', 'men', 'woman', 'clothing', 'hygiene', 'product', 'live', 'upper', 'east', 'side', 'Please', 'let', 'Baby', 'formula', 'cpr', 'first', 'aid', 'certified', 'experience', 'CNA', 'nurse', 'assistant', 'lost', '20th', 'street', '6', 'case', 'bottled', 'gently', 'used', 'new', 'coat', 'non', 'perishable', 'item', 'Thursday', 'Friday', 'way', 'Manhattan', 'right', 'Stranded', 'island', 'Wow', 'Food', 'Delivery/Preparation', 'hot', 'meal', 'flooded', 'knee', 'deep', 'The', 'drained', 'Right', 'urgent', 'find', 'contractor', 'come', 'dry', 'apt', 'b', 'replace', 'Sheetrock', 'insulation', 'flooring', 'becoming', 'filled', 'mold', 'Supply', 'austeremoi', 'It', 'good', 'weather', 'wine', \"'d\", 'love', 'Mama', 'Angelinas', 'Restaurant', 'willing', 'area', 'Ca', 'wrap', 'mind', 'around', 'image', 'Atlantic', 'City', 'whole', 'city', 'completely', 'Seattle', 'work', 'Starbucks', 'coworkers', 'free', 'pound', 'coffee', 'tea', 'week', 'also', 'starting', 'drive', 'store', 'contribute', 'canned', 'whatnot', 'Canned', 'bean', 'vegetable', 'etc', 'several', 'gallon', 'great', 'deal', 'summer', 'winter', 'well', 'amount', 'car', 'deliver', 'snowing', 'A', 'lot', '......', 'Oh', 'HAYLL', 'nah', 'No', 'stormpart2', 'Drinking', 'everytime', 'hear', '``', \"''\", 'radio', 'Alone', 'And', 'baby', 'New', 'Broad', 'Channel', 'rockaway', 'resident', '23-80', '28th', '1', 'astoria', 'getting', 'together', 'travel', 'glove', 'ad', 'sooo', 'much', 'contact', 'hr', 'Also', 'make', 'follow', 'Www.facebook.com/sandyreliefinastoria', 'For', 'updated', 'info', 'hygeine', 'distribution', 'debris', 'cleanup', 'BinStunting', 'Tryna', 'escape', 'u', 'gr8', 'weekend', 'able', 'whether', 'out', 'strip', 'Toiletries', 'Toilet', 'paper', 'sandwich', 'fruit', 'kids/', 'cups/plates/napkins', 'request', 'park', 'slope', 'far', 'hook', 'Non-perishable', 'All', 'carry/afford', 'Distribute', 'pack', 'Where', 'hell', 'brand', 'size', 'diaper', 'seat', 'high', 'chair', 'hygine', 'wipe', 'toothbrush', 'ect', 'bike', 'possibly', 'This', 'bad', 'building', 'heat', '.I', 'hour', '300', 'hundred', 'dollar', 't-shirt', 'plus', 'limited', 'near', 'pharmacy', 'collect', 'prescription', 'over-the-counter', 'med', 'Pans', 'cornbread', 'baked', 'ziti', 'Sooooo', 'shook', 'little', 'windy', 'ctsandy', 'Bridgeport', 'In', 'buy', 'junk', 'possible', 'ShopRite', '//t.co/GHNOaHRC', 'Despite', 'doodie', 'call', 'nyc', 'zoneb', 'East', 'Village', '//t.co/NMG6loM9', 'veronnzz', 'billbrews', 'Dylan', 'sad', 'took', 'Holstens', 'temporary', 'shelter', 'home', '2-3', 'individual', 'distributing', 'medical', 'set', 'sheet', 'slightly', 'worn', 'pair', 'sneaker', 'D', 'fabric', \"'ve\", 'got', '5', 'lb', 'pasta', 'somewhere', 'probably', 'manage', 'couple', 'quart', 'soup', 'chicken', 'based', 'non-vegetarian', 'Located', 'Clinton', 'Hill/Fort', 'Greene', 'try', 'close', 'People', 'Lower', 'Side', 'ice', 'Working', 'If', 'put', 'money', 'table', 'Items', 'drugstore', 'toilet', 'otc', 'medicine', 'sock', 'underwear', 'Clothes', 'collecting', 'friend', 'plan', 'sometime', 'today', \"o'clock\", '+3', 'cat', 'hopefully', 'belonging', 'ruined', 'Their', 'totaled', 'They', 'bought', 'van', 'part', 'gas', 'place', 'stay', 'another', 'Queens', 'done', 'trip', 'Rockaways', 'told', 'bit', 'dangerous', 'going', 'back', 'next', 'saturday', '-not', 'transport', 'slight', 'ride', 'JFK', 'calls/use', 'computer', 'heard', 'leave', 'Do', 'resource', 'Any', 'idea', 'VeronicaVice', 'glad', 'still', 'none', 'Powers', 'Nothing', 'left', 'lounge', 'cow', 'suit', 'survivingsandy', 'dianatop', 'brenton', 'Floodboken', '//t.co/EhbpzNIs', 'infant', 'Stuffed', 'animal', 'cereal', 'So', 'situation', 'C', 'problem', 'AA', 'AAA', 'Good', 'luck', 'lady', 'priority', 'Junkfood', 'mentalist', 'nice', 'quiet', 'room', 'yepp', 'sometimes', 'fond', 'HurricaneSandy', 'w/', 'negatory', 'vibe', 'flooding', 'poweroutage', 'annnd', '1self', 'flamin', 'unnecessary', 'chinesefoodbaby', 'Coming', 'Maryland', 'basketball', 'Barclay', 'Center', 'night', 'Would', 'arrive', 'tomorrow', 'mid-day', 'Hand', 'Light', 'nothing', 'heavy', 'mother', 'elderly', '28', 'story', 'NO', 'WATER', 'since', 'Monday', 'unable', 'supplies/water', 'Bldg', 'management', 'unresponsive', '7-11', '26th', '5th', 'outside', 'surge', 'protector', 'charge', 'device', 'StressFactoryCC', 'skeleton', 'walked', 'bar', 'Ordered', 'beer', 'mop', 'recovering', 'Driving', 'upstate', 'Cans', 'Dog', 'Ensure', 'Hats', 'Cleaning', '53', 'matchbook', 'kitchen', 'towel', '2-person', 'household', 'located', 'fort', 'greene', 'brooklyn', 'yes', 'hello', 'name', 'peer', 'kingsborough', 'community', 'college', 'project', 'rise', 'program', 'whatever', 'else', 'may', 'furniture', 'gladly', 'however', 'transportation', 'student', 'teacher', 'volunteer', 'group', 'restore', 'ny', 'Ready', 'dispensing', 'Nesquik', 'Bunny', 'contribution', 'smile', 'Mercy', 'Chefs', 'truck', '//t.co/fHVw6Llx', 'LED', 'Flashlights', 'thing', 'guy', '11/2', 'see', 'purchase', 'fit', 'Syracuse', '11/3', 'time', 'entire', 'elementary', 'look', 'Blame', 'feminist', 'GoldsmithB', 'Wonder', 'Karl', 'Rove', 'say', 'binder', 'full', 'billionaire', 'Holy', 'station', 'mad', 'crazy', 'Storm', 'coming', 'Lol', 'ChopDaddy', 'Approved', 'thankful', 'badly', 'affected', 'HurricanSandy', 'CBSNewYork', 'day', '8', 'line', 'front', 'PLease', '//t.co/Z0oqfZUW', 'general', 'serving', 'listener', 'trap', 'access', 'oh', 'wait', 'wo', 'difference', 'NorthWallProblems', 'homemade', 'chickensoup', 'frankenstorm', 'comfortfood', 'remotely', 'chilly', 'fee', 'TriBeCa', '//t.co/4oyk3B4V', 'SandyHelp', 'please', 'litterly', 'broke', 'Ventnor', 'ghost', 'town', 'hurt', 'heart', 'HELP', 'class', 'till', 'wed', 'hurricaneswag', 'Mehh', 'west', 'situati', 'control', 'big', 'damage', 'tree', 'fallen', '..', 'Shoutouts', 'bike/moped', 'forced', 'brave', 'lazy', 'wanted', 'comfort', 'gluten-free', 'anyone', 'Celiac', 'Disease', 'related', 'issue', 'Waiting', 'Esperando', 'Sandrita', 'ghosttown', 'NY', '//t.co/mI3Olvin', 'Out', 'incredible', 'Keep', 'ur', 'prayer', '//t.co/zTFbQjht', 'surrounding', 'neighborhood', 'Brooklyn', 'Heights/Cobble', 'Hill', 'calls/texts', 'everyone', 'safe', 'cable', 'alcohol', 'Prayers', '10', 'bag', 'organized', 'boy', 'girl', 'ranging', 'essential', 'soap', 'Contact', 'Email', 'Our', 'MS', 'holding', 'symposium', 'Sunday', '11/4', 'bagged', 'lunch', 'include', 'apple', 'chip', 'cookie', 'cooler', 'keep', 'cool', 'gel', 'extra', 'go', 'employee', 'wherever', 'Thank', 'prep', 'errand', 'importance', 'order', 'Beer', 'Is', 'rice', '.baby', 'dire', 'due', 'flooding/water', 'Clorox', 'sponge', 'spray', 'trinamariexox', 'hope', 'blow', 'open', 'window', 'soggy', 'walker', 'See', 'ya', 'Candles', 'Mom', 'Dad', 'Mansi', 'Yash', 'ba', '.......', 'STFU', 'iwanttosleep', 'fusandy', 'fresh', 'uws', 'anywhere', 'manhattan', 'Giving', 'Toys', 'book', 'five', 'Trash', 'Southern', 'CA', 'Mother', 'Have', 'planned', 'Dec', '9th', 'Clothing', 'Blankets', 'Hygiene', 'Friends', 'Family', 'can/should', 'How', 'looking', 'feminine', 'toothpaste', 'DEODORANT', 'consistent', 'Licensed', 'interested', '62', 'year', 'healthy', 'Over', '25', 'post', '//t.co/T7G3fBJg', '--', 'sending', 'load', 'chi', 'thanks', 'administrative', 'duty', 'With', 'notice', 'enough', 'feed', '12-15', 'song', 'Breakfast', 'Tiffany', 'head', 'literally', 'replaced', 'Bon', 'Jovi', 'FML', 'Awesome', 'mon-wed', 'To', 'camp', 'thought', 'warm', 'Your', 'Woodmont', 'General', 'opportunity', 'distro', 'food/', 'gather', 'WE', 'WOULD', 'LIKE', 'TO', 'DONATE', 'HOT', 'PIZZAS', 'TODAY', 'PLEASE', 'LET', 'US', 'KNOW', 'AS', 'SOON', 'CAN', 'BRING', 'THE', 'SOMEWHERE', 'THANKS', 'BARI', 'homie', 'decide', 'Omg', 'dont', 'lose', 'lol', 'jk', 'olive', 'chickpea', 'pretzel', 'Small', 'dining', 'man', 'sweater', 'T', 'shirt', 'M-L', 'uncooked', 'Able', 'Tuesday', 'distribute', 'sort', 'sent', 'email', 'earlier', 'signed', 'website', 'went', 'co-worker', 'reach', 'department', '200', 'vehicle', 'pick', 'appreciated', 'definitely', 'SI', 'afternoon', '3-7pm', 'sandyaftermath', \"D'Agostino\", 'Street', '//t.co/Hr0I7Wzy', 'Able-bodied', '50', 'advertising', 'exec', 'delivering', 'Just', 'speaker', 'operated', 'cook', 'and/or', 'necessary', 'jetdom', 'sportsallday_', 'Knowing', 'Dolan', 'price', 'gouge', 'merch', 'inside', 'MSG', 'tonight', 'knicks', 'SandyNYC', 'Products', 'Listerine', 'shaving', 'cream', 'cotton', 'swab', 'boot', 'board', 'card', 'stuffed', 'clorox', 'napklns', 'Late', 'dinner', 'nyamchom', 'Times', 'Sq', 'Edition', 'W', 'York', 'Square', '//t.co/y5lmoW9G', 'foster', 'pet', 'hometown', 'Va', 'Beach', 'rainfall', '9+', 'inch', 'least', 'weird', 'turn', 'NYC', 'tools-', 'drill', 'saw', 'donated', 'Hm', 'Think', 'charged', 'ready', 'apocalypse', 'UWS', '//t.co/Ob6oiO8z', 'baby/toddler', 'sweatshirt', 'one', 'foot', 'attachment', 'thick', 'fleece', 'snow', 'scarf', 'California', 'mail', 'online', 'send', 'important', 'better', 'knock', 'Hmm', 'saint', 'peter', 'university', 'campus', 'yet', 'block', 'surronding', \"no'easter\", 'LipaSucks', 'lipa', 'restored', 'DoyourWorkLipa', 'pillow', 'never', 'opened', 'joke', 'wtf', 'assist', 'spent', '100+', 'alone', 'Frankenstorm', 'cooking', 'party', 'bathroom', 'miscellaneous', 'garbage', 'prepared', 'acceptible', 'Great', 'living', 'Only', '16oz', 'zing', 'Batteries', 'Another', 'tuesday', 'pepare', 'shopping', 'everything', 'trash', 'Help', 'preparing', 'box', 'Chinatown', 'Black', 'Market', 'Emerges', 'As', 'Vendors', 'Hawk', 'Outlets', '//t.co/WL2S8Hsb', 'chinatown', 'Washington', 'hat', 'OMG', 'dead', 'Like', 'stfu', 'already', '0-9', 'month', 'wash', 'burp', 'cloth', 'body', 'shampoo', 'read', 'Huffington', 'Post', 'might', 'senior', 'rain', 'UES', 'sense', '//t.co/ssad9Tbi', '911', 'overloaded', 'currently', 'stop', 'calling', 'vodka', 'Hunkered', 'Windchimes', 'clanging', 'Got', 'kittehs', 'chocolate', '//t.co/ZFCNmwEL', 'tough', 'working', 'l', 'DOLLAR', 'TREE', '//t.co/t0qZ7JOU', 'Many', 'warming', 'listed', 'Paper', 'Napkins', 'Body', 'Wipes', 'Sanitizer', 'basic', 'Coats', 'large', 'church', '24', 'light', 'habit', 'nolights', 'nycissleeping', '3', 'x', '32', 'oz', 'similac', 'sensitive', 'made', '1x', '2.13', '12.6', 'container', 'powder', 'blessing', 'business', 'Everybody', 'buying', 'whatsoever', 'economy', 'anything', 'Am', 'situated', 'williamsburg', 'hoousehold', 'handful', 'trying', 'frozen', 'Target', '//t.co/KbaOnxPh', 'Best', 'green', '4', 'over-consumption', 'Eat', 'Drink', 'booze', 'Buy', 'god', 'sake', 'dropped', 'bedstuy', 'Freebrook', 'Academy', '//t.co/hGhz0l93', 'cedricbixler_ha', 'Seriously', 'though', 'blade', 'Wednesday', 'Should', 'delivered', 'hick', 'planning', 'think', 'prepped', 'refrigerated', 'reheat', 'upcoming', 'Buschenschank', 'Phone', 'real', 'skill', 'Whether', 'address', 'sorting', 'Has', 'considered', 'gangnam', 'style', 'dance', 'brought', 'upon', 'dock', 'cook/provide', 'School', 'school', 'Jay', 'St', 'Train', 'Station', 'cafeteria', 'staff', 'cooked', 'making', 'pulled', 'pork', 'cole', 'slaw', 'quite', 'ton', 'depends', 'show', 'called', 'Initiative', 'hoping', 'assuming', 'use', 'found', 'Might', 'someone', 'available', '2:00', '5:00', 'Or', 'main', 'ask', '3-4t', 'Non', 'landing', 'asbury', 'wildwood', 'Rip', 'afraid', 'darkness', 'outageny', 'hurricanesa', '36', '36th', '//t.co/rBR0zuQj', 'hoodies', 'nipple', 'toddler', 'dried', 'worker-coop', 'providence', 'essentially', 'natural', 'Large', 'grain', 'nut', 'Bulk', 'peanut', 'butter', 'Coffee', 'ground', 'You', 'list', 'begun', 'register', 'anticipate', 'receive', 'gift', 'arrange', 'pre-made', 'sandwich/wraps', 'Heck', 'luxury', 'it-', 'dam', 'b4', 'cut', 'Volunteering', 'Belmar', 'spare', 'Rec', 'Ctr', 'flick', 'switch', 'thinking', 'hurricanesandyproblems', 'stupidzachary', 'Cooking/food', 'Baltimore', 'Pet', 'Pls', 'tell', 'lv', 'mess', 'personal', 'Donation', 'Theres', 'untill', 'bust', 'society', 'im', 'McDonalds', 'breakfast', 'Whos', 'company', 'confirm', 'Ideally', \"'ll\", 'Saturday', 'start', 'marathon', 'Staten', 'Island', 'condition', 'Pallets', 'Bottled', 'Water', '900', 'garden', 'hose', 'Pier', '9B', 'PortSide', 'NewYork', 'supplies/space', 'alongside', 'tanker', 'MARY', 'A.', 'WHALEN', '11/17/12', 'Bottles', 'Here', 'Reece', 'collected', 'variety', 'nonperishable', 'care', 'course', 'past', 'November', '26', '2012', 'date', 'Home', 'plastic', 'non-perishables', 'dog/cat', 'experienced', 'dogs/cats', 'care/dog', 'pouch', 'puff', 'squeeze', 'snack', 'freeze-dried', 'yogurt', 'shelf-stable', 'These', 'sampling', 'longer', 'boxed/bagged', 'fullsize', '45th', 'broadway', 'kind', 'update', 'KiranCreates', 'Union', 'apart', 'Camped', 'Roosevelt', 'Hotel', 'lobby', 'charging', 'along', 'w', 'Puttsburgh', 'specific', 'bringing', 'displaced', 'Staying', 'Need', 'Car', 're-supply', 'Gas', 'Carter', 'organize', 'actually', 'write', 'Idk', 'feel', '........', 'Chicken', 'broth', 'handing', 'grateful', 'wreck', 'outtage', 'Stay', 'strong', 'donating', 'BoozyBurbs', 'lucky', 'agree', 'BergenCounty', 'SandyRelief', 'foodie', 'SCBD', 'Hot', 'Organization', 'door-to-door', 'drop-off', 'Cooking/Food', 'excellent', 'waiting', 'catered', 'event', 'Name', 'yard', 'debri', 'removal', 'clean-up', 'Looking', 'Thanksgiving', 'Day', '14', 'yr', 'daughter', 'peep', 'path', 'FF', '//t.co/ihW64e8Z', 'Social', 'worker', 'bodied', 'simply', 'DumboNYC', 'RT', 'endtwist', 'ConEd', 'DUMBO', 'Remote', 'Desktop', 'connection', 'RT\\x89ÛÏ', 'ReutersUS', 'Con', 'Edison', 'shuts', '//t.co/XdkArnvR\\x89Û\\x9d', 'jean', 'seen', 'NYkers', 'ominous', 'end', 'world', 'tissue', 'AvivaDrescher', 'thrilled', 'obummer', 'wish', 'popular', 'vote', 'system', 'spoke', 'builder/remodeler', 'cargo', 'equipment', 'rent', 'generator', 'sump', 'pump', 'physical', 'shape', 'clear', 'move', 'Deliver', 'Are', 'searching', 'site', 'Wand', 'bed', 'fall', 'asleep', 'Sandysucks', 'Reiki', 'relaxation', 'therapy', 'check', 'graphic', 'design', 'Hoping', 'PSE', 'G', 'hit', 'That', 'Snow', 'ineedheatplease', 'walk', 'Boxes', 'cracker', 'Peanut', 'Butter', 'On', 'beautiful', 'Hope', 'temper', 'mounting', 'anxiety', 'news', 'coverage', 'showing', 'stock', 'broll', '............', 'wow', 'driving', 'seeing', 'caused', 'Jersey', 'felt', 'one.and', 'shore', '9000+', 'homeless', 'littlefoodcafe', 'closed', 'power=no', 'kitchen=no', 'magic', 'hold', 'grid', 'SandyNJ', 'Really', 'cold', 'imagine', 'veteran', 'circular', 'jigsaw', 'bits/screwdriver', 'energy', 'food/coffee', 'Greenpoint', 'chartering', 'run/bike', 'needing', 'ready-made', 'SI_PeterKing', '800', 'NOW', '435', '7669', 'text', 'redcross', '90999', 'turned', 'fire', 'basement', 'Friendly', 'food/supplies', 'preferably', 'lower', 'public', 'improves', 'sat/sun', 'Coney', 'damaged', 'came', 'destroying', 'importantly', 'Furniture', 'unopened', 'medication', 'liter', 'village', 'organizing', '15', 'middle', 'Community', 'Roots', 'Charter', 'Ft.', 'advise', 'Experience', 'coordinator', 'Preparation', 'package', 'toilety', 'kit', 'Handing', 'Billingual', 'English/Spanish', 'Feb', 'pm', 'demo', 'data', 'entry', 'When', 'evening', '11/3/12', 'greatest', '\\x89ÛÏ', 'Rockaway100', 'redcrossny', 'fema', 'Rockaway', 'devastated', 'necessities\\x89Û\\x9d', 'particularly', 'floor', 'carry', 'flight', 'stair', 'easily', 'bus', 'meals/wash', 'dish', 'sweep', 'Powders', 'milk', 'Pasta', 'T-shirts', 'dress', 'sleeve', 'sweatpants', 'Christmas', 'econoline', 'Martha', 'Vineyard', 'parishable', 'arriving', 'Sat', '22nd', 'closer', 'best', 'destination', 'direction', 'forward', 'soon', 'turkey', '2.5', 'million', 'counting', 'outage', 'Be', 'responder', 'levy', 'behind', 'compromised', 'joy', 'risk', 'Xbox', 'HoesBeTwerkin', 'Twerk', 'coast', 'Ohhhh', 'Poland', 'Spring', 'Gallon', 'Uhhhhh', 'take', 'knucks', 'pee', 'uhhhh', 'scarysandy', 'decent', 'climb', 'folk', 'backpack', 'easier', 'stuff', 'bridge', 'Let', 'Earlier', 'commute', 'Picking', 'lgron', 'tara_goode', 'Talking', 'person', 'funny', 'killing', 'kendricklamar', 'GKMC', 'everybody', 'jwalekk', 'homework', '\\x89Û\\x9d', 'ate', 'teenage', 'skilled', 'particular', 'trade', '13-year-old', '16-year-old', 'task', 'food/water', '86-year-old', 'mother-in-law', 'Pitt', 'perhaps', 'age', 'Stocking', 'gon', 'na', 'fierce', 'ChaChaSlide_23', 'serious', 'costume', 'Williamsburg', 'boring', 'something', 'Halloween', 'aid/CPR', 'pas', '7', 'ASAP', 'Bronx_PR', 'bxfoodie', 'fromthebronx', 'BX-specific', 'BX', 'org', 'communication', 'marketing', 'thank', 'giving', 'excuse', 'eat', 'Little', 'pink', '2-4', 'theme', 'Varick', 'rush', '//t.co/oHbSsxdw', 'Thx', 'staying', 'treat', 'Bean', '//t.co/Zw7oA0Tq', 'Distributing', 'food/water/clothes/supplies', 'prep/service', 'fill', 'form', 'speak', 'Dutch', 'Hebrew', 'useful', 'labor', 'similar', 'ordained', 'rabbi', 'training', 'hospital', 'chaplain', 'psycho-spiritual', 'support', 'Through', 'office', 'Attorney', 'Office', 'SDNY', 'massive', 'giant', 'undergarment', 'mass', 'helped', 'parent', 'gut', 'bungalow', 'Breezy', 'Point', 'pretty', 'cutting', 'distribution/preparation', 'door', 'food/water/information', 'JCC', 'stamford', 'LOT', 'following', 'Industrial', 'bristle', 'broom', 'Shovels', 'Rakes', 'Contractor', 'Garbage', 'Bags', 'Work', 'Gloves', 'Boots', 'Masks', 'Latex', 'Bleach', 'Sponges', 'Towels', 'Lanterns', 'cash', '11/9', 'Women', 'Its', 'krazii', 'gone', 'tho', 'sum', 'every1', 'nd', 'okay', 'Glad', 'bread', 'Collection', 'Pots', 'pan', 'Ok', 'tsunami', 'warning', 'Pacific', 'traveling', 'Sounds', 'Stephen', 'King', 'novel', 'NEED', 'MET', '9', 'rescue', 'Cloths', 'Sandyyyyyyyyy', 'Survived', 'Lost', 'laptop', 'watch', 'modern', '\\x89\\x9d_', 'JerseyStrong', 'Hoboken', 'stocked', 'accepting', 'njsandy', 'calm', 'necrosis', 'U.S.', '//t.co/dfK1xn9s', 'id', 'Provide', 'connecting', 'purpose', 'connect', 'accept', 'gmail', 'dot', 'com', 'IM', 'SICK', 'SANDY', 'GOT', 'ME', 'CAMT', 'STOP', 'COUGHING', 'OR', 'SNEEZING', 'AND', 'PUKING', 'NICE', 'ta', 'ant', 'havnt', 'wiped', 'chalk', 'Officially', 'fckin', 'FckYouSandy', 'gunna', 'surviving', 'R', 'fellow', 'Yorkers', 'drink', 'pajama', '48', 'Free', 'Speedway', 'South', 'Orange', 'Ave.', 'Newark', 'SANDYNJ', 'NewarkhelpingNewark', 'Oppppe', 'sign', 'hurricaneparty', 'morning', 'VA', 'touch', 'rayray_west', 'October', 'yup', 'endin\\x89Û\\x9d', 'preparation', 'angry', 'wind', '90', 'mph', 'FrancisSchott', 'Very', 'knocked', 'Fireplace', 'Calvados', 'Book', 'Cigar', 'None', 'Trying', 'TheStruggle', 'sadtweet', 'yam', 'electric', 'heater', 'providing', 'Arabic/English', 'translation', 'cat-friendly', 'dog', 'booked', 'vacation', 'Germany', 'Military', 'overseas', 'able-bodied', 'Weds', '19', '21', 'adopt', 'special', 'nightline', 'Redcross', 'gave', 'Guess', 'anytime', 'RedCross', 'hi', 'vegan/veg', 'LES', 'Bushwick', 'bedroom', 'double', 'shower', 'wifi', 'non-smoking/2', 'cause', 'husband', 'doctor', '8:00am', 'He', 'finished', 'yesterday', 'seizure', 'abruptly', 'every', '30', 'minute', 'away', '19th', 'Today', 'last', 'His', 'telling', 'prescribed', 'narcotic', 'become', 'ill', 'MTA', 'mean', 'Closed', 'resupply', 'original', 'question', 'biggest', 'type', 'soy', 'powdered', 'Going', 'thru', 'father', 'leaving', 'assignment', 'SandyABC7', 'flash', 'candle', 'Down', 'Neck', '//t.co/ibXaUvoR', 'tv', 'porn', 'matter', 'sandyproblems', 'fitting', 'schedule', 'pantry', 'moving', 'cantbake', 'Back', 'normal', 'finally', 'Big', 'sleep', 'grr', 'music', 'One', 'reason', 'havent', 'aftermath', 'morrisco', 'Whippany', 'NJ', '//t.co/TbdXuAk0', 'roof', 'installation', 'persiable', 'information', 'funding', 'grant', 'recover', 'Happy', 'non-profit', 'coordinate', 'effort', 'coworker', 'screw', 'alot', 'Not', 'adolescent', 'attire', 'litter', 'conditioner', 'Toronto', 'former', 'Yorker', 'Two', 'ago', 'field', 'visited', 'Added', 'Value', 'home/made', 'huge', 'toothpaste/brushes', 'deodorant', 'dust', 'mask', 'amazing', 'organization', 'started', '1-2', 'lace', 'winter/rain', 'fully', 'proof', 'sweat', 'ALL', 'ITEMS', 'shower/bath', 'Hairstylist', 'current', 'listening', 'supportive', 'formerly', 'stage', 'production', 'manager', 'festival', 'chaos', 'catering', 'exp', 'activity', 'director', 'withstand', 'stressful', 'setting', 'midst', 'Husband', 'assisting', 'leader', '-a', 'bassinet', 'stroller', '-half', 'packet', 'preemie', '-candles', '-paper', '-9volt', '-size', '14/16', 'maternity', '-canned', 'tuna', 'shrimp', 'furnished', '2-bedroom', 'round-trip', 'airfare', 'holiday', 'celebration', 'Hannukah', 'decoration', 'Temp', 'assortment', 'childrens', 'NAME', 'Roof', 'plumbing', 'entertain', 'reading', 'craft', 'Hopefully', 'destroys', 'Serc', 'arc', 'bush', 'Perminantely', 'accountant', 'financial', 'lend', 'handyman', 'local', 'hardware', 'Depot', 'injured', 'flat', 'bedding', 'bunch', 'recommend', 'Westchester', 'Time', '70', 'Jimmy', 'OPEC', 'Gadzooks', 'Hello', 'Montessori', 'Norwalk', 'Connecticut', 'carrying', 'initiative', 'impractical', 'spiritually', 'uplifting', 'cheery', 'encouraging', 'label', '1,500', 'personally', 'figured', 'logistics', 'wonder', 'spread', 'sweetness', 'Islanders', 'direct', 'fulfill', 'mission', 'advising', 'changed', 'dyin', 'smh', 'procured', 'Outdoor', 'secured', 'worst', 'quantity', 'power.Be', 'cousler', 'file', 'link', 'orginazations', 'expert', 'food/water/supplies', 'Distribution', 'material', 'Ouch', 'stronger', 'Irene', '//t.co/4xA928nI', 'Shopping', 'itssodarkinhere', 'Andy', 'Deli', '//t.co/Rtl1EFCQ', 'branch', 'fell', 'bullshit', 'Cupcakes', 'Warm', 'portable', 'Something', 'panic', 'picture', 'LBI', 'spoon', 'state', 'mailing', 'asap', 'center', '-blankets', '-baby', '-coats', '-gloves', '-hats', '-toiletries', '-Advil', 'Tylenol', 'slack', 'top', 'strange', '204', 'rinse', 'towards', 'NEVER', 'MISS', 'OUT', 'ON', 'CHANCE', 'DO', 'GOOD', 'DEED', 'HurricanSandyRelief', 'volunteering', 'Painting', 'pant', 'tray', 'Baked', 'Ziti', 'boyfriend', 'appealing', 'rockmelikeahurricane2012', 'crate', \"I'ma\", 'oceanlab', 'Reminisce', 'sensationwhite', 'memory', 'Kaiser', 'Park', '//t.co/gOyTj0oJ', 'Tropical', 'God', '82', 'AUs', 'diameter', 'LameGeekJim', 'splende', 'il', 'sole', 'barba', 'e', 'os', 'junkie', 'mode-on', 'Fox', 'Romney', 'Yeah', 'create', 'uptown', 'effectively', 'Thompson', 'lincroft', 'restoretheshore', 'tall', 'fish/salmon', 'butter/jelly', 'Maple', 'Brown', 'Sugar', 'Oatmeal', 'Non-sugary', 'Cheerios', 'hairstylist', 'However', 'rebuilding', 'Main', 'Ridgefield', 'CTSandy', '//t.co/ugHdclnJ', 'aurora', 'rising', 'pier', 'carnival', 'forever', 'Meal', 'unload', 'low', 'Cat', '20', 'tore', 'across', 'road', 'bei', 'Alexander', 'Higgins', 'House', '//t.co/SF3qonHk', 'bake', 'grandma', 'Wat', 'hitting', 'anGEl', '//t.co/PM3yAmta', 'awful', 'sight', 'halloween', '//t.co/6iGfAJLQ', 'search', 'Supposed', 'necessity', 'section', 'un-used', 'drinking', 'happen', 'Dark', 'Streets', '//t.co/081fmHg8', 'CTfU', 'J_thorow', 'survival', '//t.co/IvFK1CPI', 'ability', 'cellphone', 'wheel', 'source', 'Spanish', 'speaking', 'English', 'band-aids', 'advil', 'Chasing', 'Jagger', 'Guinness', 'James_Mahon', 'Joseph_Ruggiero', 'crebaudo', 'amanda__ryan', 'ErinDiver', 'twin', 'desperate', 'flood', 'seem', 'laurenkoslow', 'withdrawal', 'monday', 'missing', 'DOOL', 'Ill', 'Nov', '10th', 'Young', 'rides/transport', 'Speak', 'Italian', 'especially', 'plug', 'helpful', 'connected', 'flier', 'copy', 'mitten', 'relatively', 'worth', 'snowstorm', 'pittsburgh', 'played', 'pictionary', 'racoon', 'Holiday', 'Inn', 'Express', '//t.co/WzL1dndY', 'SUV', 'candlemaker', 'kill', 'yay', 'utensil', 'locally', 'example', 'Rt', 'BronxZoosCobra', 'mouse', 'heated', 'rock', 'sandy\\x89Û\\x9d', 'play', 'Alphabet', 'E', '7th', 'Ave', '\\x89ÛÒI', 'smaller', 'sanitizer', 'cup', 'overwhelmed', 'Hide', 'hide', 'cuz', 'fo', '//t.co/Jw2aoKts', 'met', 'underestimate', 'resilience', 'fine', 'meet', 'Heddermans', '60-70', 'gust', 'CNN', '//t.co/3AmnGlN8', 'Bring', 'Rice', 'Miso', 'Soup', 'cancer', 'patient', 'undergoing', 'chemotherapy', 'chemo', 'effect', 'nausea', 'hair', 'loss', 'oral', 'difficult', 'speaks', 'russian', 'hebrew', 'english', 'handy', 'Extensive', 'queen', 'NorEaster2012', 'death', 'toll', '41', 'tristate', 'RiP', 'staystrong', 'packing', 'Soap', 'antibacterial', 'handwipes', 'painkiller', 'war', 'horse', 'wicked', '160', '-_-', 'Dish', 'self', 'employed', 'bookkeeper', 'worry', 'liking', 'blizzard', 'mixing', 'waw', 'Plzz', 'wanting', 'highest', 'asking', 'latex', 'gauze', 'restaurant', 'sirecovers', 'sihelp', 'helpsi', 'sandyvolunteer', 'RachelAnnR', 'wake', '//t.co/FQeG1vT5', 'Deodorant', 'Toothpaste', 'Shampoo/Conditioner', 'Shampoo', 'Kids', 'Toothbrush', 'Bar', 'Mouth', 'Wash', 'Q-tips', 'foo', 'jelly', 'Hey-o', 'RomneyStormTips', 'Everyone', 'chill', 'Soo', 'almost', 'shortest', '-__-', '50-ish', 'thanksgiving', 'beyond', 'Dental', 'Practice', 'mouthwash', 'floss', 'strength', 'wisdom', 'sheraton', '//t.co/EpkIdgpZ', 'dude', 'jet', 'ski', 'River', 'TV', 'Um', 'Some', 'mid', 'law', 'firm', 'PA', 'proprietor', 'given', 'permission', 'collection', 'paperwork', 'siren', 'guess', 'collapsed', '15th', '8th', 'multitasking', 'toys/recreation', 'Due', 'Life', 'Tompkins', 'cancelled', 'Everything', 'BoweryMission', 'Safe', 'Of', 'Almost', 'Famous', 'Fuck', 'itwasallhappening', 'baq', 'huz', 'frm', 'mi', 'kuzn', 'dem', 'forcast', 'video', 'abt', 'thts', 'ish', 'funnii', 'JCP_L', 'nite', 'At', 'party-potluck', 'jamboree', 'barter', 'grub', 'brother', 'I\\x89Ûªm', 'won\\x89Ûªt', 'placed', 'spoil', 'assume', 'corded', 'recently', 'surgery', 'remove', 'tumor', 'suppose', 'imperative', 'recovery', 'greatly', 'Georgia', 'crock', 'Senior', 'nursing', 'graduate', 'December', 'missed', 'library', 'sat', 'labeling', 'participate', 'distribution/soup', 'staffing', 'telephone', 'beany', 'conversational', 'Cantonese', 'alerted', 'fact', 'categorically', 'd4n4lynnn', 'sooooo', 'PSEGdelivers', 'teased', 'Roselle', 'sandy2012', 'forget', 'restless', 'SOAP', 'SHAMPOO', 'TOOTHBRUSHES', 'TOOTHPASTE', 'BAND-AIDS', 'PENS', 'ENVELOPES', 'WASHCLOTHS', 'POSTAGE', 'STAMPS', 'LAUNDRY', 'DETERGENT', 'bucket', 'toothbrush/toothpaste', 'OB', 'tampon', 'pad', 'bowl', 'ziplock', 'oil', 'cooker', 'instant', 'oatmeal', 'granola', 'smell', 'Thanksgiving/', 'Moms', 'cookin', 'cookinwhatfoodisleft', 'Happpt', 'requesting', 'Bklyn', 'merchant', 'Cook', 'lodging', 'Anything', 'prepackaged', 'grilled', 'breast', 'hint', 'breeze', 'Yet', 'Weirdly', '375', 'thousand', 'evacuated', 'threatening', '//t.co/9QUEj59w', 'Scamandalous', 'Roslyn', 'braving', 'transformer', 'explode', 'Crash', 'helmet', 'tow', 'julie_addario', 'pumpkintb', 'deliver/hand', 'emailed', 'Access', 'provides', 'mental', 'illness', '10AM', '3PM', 'Willing', 'aged', 'Evo', 'Both', 'Hubby', 'Enough', 'cooky', 'sink', 'ship', 'Gears', 'Regeneron', 'Pharmaceuticals', 'team', 'Put', 'Wtc', 'blackout', \"C'mon\", 'NYCers', 'AmberTheAlly', 'NYCRescue', 'Lafayette', 'DC', 'Norther', 'food/daipes', 'wipes/pet', 'food/blanket', 'disaster', 'tote', 'contain', 'different', 'mark', 'pets/babies/blankets', 'mentioned', 'jar', 'puzzle', 'cards/card', 'voluneers', '5-7', 'Send', 'comforter', 'offered', 'Sent', 'eye', 'Bay', 'Ridge', '//t.co/cqweSIO8', 'kitten', 'bathe/groom', 'small/medium', 'sized', '\\x89ÏÉwater', '\\x89ÏÉten', 'mile', 'biffie', '\\x89ÏÉfamily', 'safely\\x89ÏÉ\\x89ÏÉ', 'enjoying', 'Bloody', 'Mary', '\\x89ÏÉ', 'sunday', 'november', 'wll', 'swing', 'foodcoop', 'Slope', 'Coop', '//t.co/XN3QwUct', 'staten', 'posting', 'nov', 'physically', '11th', 'per', 'knocking', 'pickup', 'RandomCravings', 'anyway', 'localsunite', 'Gut', 'wrenching', 'Americas', 'national', 'guard', 'H2O', '7pm', 'legit', 'Putting', 'Lawrence', 'thelastword', 'indulge', 'sitting', 'briellekievitt', 'swallow', 'veggie', '12/10', 'e-mailed', 'copied', 'Message', 'After', 'checking', 'unfortunately', 'XS', '4-5', 'Various', 'Infant', 'multivitamin', 'Lots', 'meeting', 'response', 'Legos', 'cabinet', 'Girl', 'Books', 'Games', 'Storage', 'Container', 'Store', 'Miscl', 'Non-perishables', 'Diapers', 'disposable', 'sanitary', 'bath', 'StaceyStone', 'r', 'snacking', 'commence', 'likeineedahurricanetohappentojustifysnacking', 'canvasser', 'informed', 'Houses', 'likely', 'sustained', 'expect', 'respond', 'comment', 'Misc', 'pissin', 'deck', 'nj', 'severe', 'allergy', 'Female', 'men/women', 'Update', 'Projects', '5,000', 'larger', 'Kitchen', 'act', 'HUB', 'Beans', 'St.', 'Jacobi', 'Church', '5406', '4th', '11220', 'impossible', 'Why', 'chrisaldo', 'excited', 'thats', 'iloverain\\x89Û\\x9d', 'youre', 'weak', 'justsaying', 'lift/move', 'trained', 'bet', 'calculator', 'harder', 'Jarro', 'Building', 'Industries', 'Corp.', '//t.co/17bfchzN', 'maine', 'food/blankets', 'specify', 'call/email', '-perishable', 'Costco', 'eager', 'can', 'Finally', '400', 'Central', 'West', '//t.co/VxOD1wry', 'regular', 'teddy', 'bear', 'mix', 'woolen', 'cap', 'Hamden', 'CT.', 'Worker', 'Foster', '500', 'brownbag', '3:30pm-4pm', 'brownbags', 'consist', 'juice', 'pb', 'j', 'cheese', 'MPCStorm', '//t.co/2IioV1ve', 'accustomed', 'traffic', 'patrolled', 'ran', 'mom', 'VictorManibo', 'Last', 'hockey', 'olden', 'hiring', 'foraging', 'forest', 'Emergency', 'alert', 'irene', 'lmao', 'cashew', 'goji', 'berry', 'baree', 'Whole', 'Foods', '//t.co/tcWHmF4D', 'yard/hand', 'organizational', 'Worked', 'Toledo', 'Computer', '3/4', '4x4', 'retired', 'evacuating', 'leak', 'ohmy', 'Western', 'Beef', '//t.co/grQqaolg', 'dropoff', 'minimum', 'includes', 'tower', 'alive', 'difficulty', 'passing', 'food/meals', 'Hicks', 'teenager', 'Corcon', 'contracting', 'laborer', 'SAT', '3rd', 'boom', 'Tree', 'Southbury', 'MarinaFoley', 'barely', '40', 'dozen', 'cupcakes/cookies', 'great-', 'LoDownNY', 'Ed', 'Cuts', '//t.co/w6SKRPJM', '2nd', 'le', 'teaching', 'artist', 'Comfortable', 'Intermediate', 'language', 'twice', 'gathering', 'nutritionist', 'distribution/food', 'completing', 'FEMA', 'SNAP', 'stamp', 'benefit', 'application', 'replacement', 'dept', 'welfare', 'lacking', 'overcoat', 'seacoast', 'NH', 'Gothamist', 'feeding', 'page', 'Long', '//t.co/xiLdMjfX', 'Possible', '140', 'Katrina', '110', 'needle', 'evacuation', 'batch', 'chili', 'vegetarian', 'roll', 'wrapped', 'foil', 'aluminum', 'styrofoam', 'separately', 'paks', 'napkin', 'instead', 'addition', 'boxed', 'meals/snacks', 'amandadauriaa', 'toward', '\\x89Û\\x9dHAHAHA', 'Im', 'tired', 'bored', 'everywhere', 'Jets', 'v', 'Dolphins', 'hate', 'saying', 'NEXT', 'die', 'trapped', 'Mandarin', 'lift', 'shuffling', 'Takes', 'lovable', 'affair', 'NYCurrent', '//t.co/tqqvBf80', 'partially', 'global', 'member', 'Walking', 'preferred', 'Does', 'shellyjack523', 'Wine', 'sound', 'Lights', 'flickering', 'Come', 'Winds', 'picking', 'pissed', 'Anyone', 'besides', 'fogcreek', 'experiencing', 'pillows/blankets', '7a.m', 'slept', 'stayed', 'subsiding', 'wide', 'range', 'various', 'attach', 'unit', 'National', 'Guard', 'comin', 'n', 'visit', 'Clean', 'build', 'novice', 'level', 'Non-', 'Perishable', 'boat', 'removed', 'crashed', 'fence', 'bounced', 'fear', 'extreme', 'Laconia', 'Jelly', 'Wheat', 'Bread', 'Tuna', 'Fish', 'brush', 'invaded', 'Upper', 'Proud', 'host', 'Manhattanites', 'herald', 'sq', 'market', 'refused', 'min', 'boycott', 'art', 'conservation', 'w/materials', 'water/mold', 'tweet', 'included', 'fat', 'incorrect', 'boowag74', '76', 'charity', 'received', 'listing', 'job', 'youth', '17', '10+', 'delivery/serve', '12', 'chaperone', 'TWIST', 'Tweens', 'Intense', 'Spirit', 'Together', 'FUMC', 'Somerville', 'Interested', 'supposed', 'MeekMill', 'album', 'ai', 'outaaa', 'business.Food', 'deliveries=full', 'menu', 'Accepting', 'storm.Please', 'NJResilience', 'food-pop-top', 'shelf', 'stable', 'plumber', 'furnace', 'prepaid', 'gear', 'seperated', 'movie', 'cardboard', 'annoy', 'downstairs', 'hop', 'trainer', 'keeping', 'leg', 'loose', 'Triathlon', 'pizza', 'pie', '6:15', '90mph', 'Internet', 'Available', 'Want', 'delvier', 'Whom', 'Concern', 'held', 'White', 'Plains', 'multiple', 'Men', 'wear', 'Children', 'w/tags', 'Toiletries/Hygiene', 'Supplies', 'hearing', 'Sincerely', 'BB', 'scouting', 'FDR', '//t.co/Gvv2FQp3', 'Quilts', 'supplies/', 'Feminine', 'Towels/', 'single', 'Heavy', 'Duty', 'Trashbags', 'bleach', 'teach', 'Middle', 'shop', 'Delivering', 'day-', 'JERSEYSTRONG', 'sandyrelief', 'alexalombardi97', 'wet', 'weighing', 'undergarment-new', 'make/organize', 'Multiple', 'Mens', 'Womans', 'Downingtown', 'profit', 'organizer', 'Live', 'electrician', 'son', 'grunt', 'friendly', 'ointment', '4T-5T', 'pull', 'ups', '80', 'Pl', 'Houston', 'Bleeker', 'match', 'Beverages', 'Welcome', 'Terrible', 'tropical', 'globalwarming', 'sa', '//t.co/eyJFLS4k', 'professional', 'DRINKING', 'disinfecting', 'begin', 'JimGaffigan', 'prof', 'there\\x89Ûªs', 'American', 'it\\x89Ûªs', 'raining.\\x89Û\\x9d', 'represent', 'Shelton', 'CT', 'pallet', 'spring', 'trucked', 'advice', 'Helping', 'CAAAV', 'Verazano', 'Nursing', 'worried', 'Huge', 'uprooted', 'Sandys', 'Zone', 'crowd', 'frenzy', 'Danger', 'worse', 'mini-toothpastes', 'generally', 'Rochelle', '5-8hr', '//t.co/SKi5UPQc', 'byebye', 'approximately', 'carrot', 'pea', 'corn', 'third', 'fight', 'diffuse', 'span', '24hrs', \"c'Mon\", 'quit', 'actin', 'Savages', 'co-op', 'Philadelphia', 'interest', 'expressed', 'episode', 'Homeland', 'tense', 'nonperisabhle', 'matched', 'Seniors', 'Seward', 'Co-Op', 'Slurrrr-Icane', 'Slurr-Icane', 'engine', 'mayne', 'WAIT', '.......................', 'Winter', 'Hat', 'Scarves', 'Shirts', 'E-mailed', 'Aaaaand', 'fun', 'lasted', 'TEA', 'AHurricaneSandy', 'talk', 'wab', 'subway', 'sculptor', 'reasonably', 'Food-', 'Trays', 'Egg', 'Casseroles', 'Nov.', 'Oyster', 'Creek', 'Plant', 'conserve', 'offline', 'SandySucks', 'misc', 'Ohh', 'yea', 'Serving', 'shelves/sort', 'Matched', 'spoiling', 'Telephone', 'supplis', 'Feel', 'permit', 'Indication', 'salty', 'Walked', '41st', '39th', 'darkside', 'postSandy', 'IPad', 'Watching', 'soa', 'rest', 'lonelymonday', 'tried', 'retyping', 'shorthand', 'version', 'resending', 'selected', 'Other', 'rag', 'mens-', 'womens-', 'bra', 'robe', 'unisex-', 'kids-', 'fork', 'beverage', 'couscous', 'Bergen', 'county', 'supplies/goods/food', 'fraternity', 'Kappa', 'Alpha', 'Psi', 'Brooklyn-LI', 'Alumni', 'Chapter', 'ocean', 'soul', 'anchored', 'Jesus', 'U', 'surely', 'drift', 'JUST', 'THOUGHT', 'OF', 'SONG', 'Charrito', 'served', 'todaty', 'hoboken', '//t.co/verhpLaa', 'Chili', 'vegan', 'Shower', 'Curtain', 'Scrubbing', 'Bubbles/Bathroom', 'Cleaner', 'Bathmats', 'Laundry', 'Detergent', 'newborn', 'baby-related', 'Grocery', '22', 'clearly', 'inspiring', 'carb', 'diet', 'Quick', 'grab', 'cinnamon', 'Raisin', 'muffin', '//t.co/chPj1VIP', 'plate', 'cutlery', 'tarp', 'fluent', 'canned/dry', '72', 'IT', 'READY', 'Fisher', 'Price', '13', 'Pass', 'Team', 'Les', '12/06', 'message', 'correct', 'ten', 'focus', 'food/baby', 'Site', 'potential', 'Sorry', 'delay', 'spoken', 'sperm', 'donor', 'dad', 'Cereal', '9.5', 'driver', 'license', 'ready-to-eat', '1:47', 'PM', 'Rescue', 'Ministries', 'Pantry', '2083', 'Richmond', 'Terrace', 'burner', 'famine', 'noticed', 'sleeping', '10:00', 'Frankin-Storm', 'prepping', 'Vitamin', 'NWA', 'Clash', 'Champions', 'notthatserious', 'NoWork', 'Gosh', 'clothes-', '/books', 'Powerless', 'post-Sandy', '//t.co/olkycq7X', 'magical', 'Centers', 'present', 'powerful', 'Traffic', 'BQE', 'Metropolitan', 'ave.', 'swept', 'highway', 'Chinese', 'chinesefood', 'food/formula', 'shlepping', 'propane', 'lighter', 'opener', 'tooth', 'paste', 'awesome', 'CeiliOConnor', 'escaped', 'xx', 'sandysucks', 'vacationfail', 'Having', 'Lexi', 'Real', 'electrical', 'lighting', 'human', 'escapingsandy', 'Whatever', 'clarify', 'Details', 'Missing', 'TheXFactorUSA', 'seriously', 'cry', 'thankyouSandy', 'low-skill', 'eaten', 'six', 'usual', 'jaimejin', 'produce', '420', 'Baltic', 'BK', '6:00pm', '14-story', 'Spoke', 'future', 'Left', 'vm', 'Mobile', 'Every', 'Adopt-A-Family', 'outreach', 'downstate', 'early', 'Until', 'emergency', 'hallway', 'stairwell', 'coordinated', 'corner', 'Cherry', 'presence', 'security', 'Meals', 'Wheels', 'additional', 'driving/delivering', 'add', 'pancake', 'distibrution', 'Assist', 'Non-Profit', 'Organizations', 'wan', 'Hunting', 'POTUS', 'pic', '//t.co/WTwSTNro', 'supplies/food/a', 'Amen\\x89ÛÏ', 'horwad', 'sandybinge', 'philosophical', 'conversation.\\x89Û\\x9d', 'Gon', 'whip', 'flip', 'cam', 'shawncarrie', 'TON', 'OccupySandy\\x89Û\\x9d', 'OccupyWallSt', '10am', 'pot', 'lasagne', 'Sweaters', 'encouraged', 'evacuate', 'suggestion', 'aintgotnuthinonme', 'citizen', 'handi-capable', 'watching', 'Year', '1870', 'four', 'Smart', 'packaging', 'hammer', 'licensed', 'etc.', 'rachet', 'screwdriver', 'ware', 'nail', 'painting', 'torrrx3', 'saving', 'squirrel', 'random', 'surf', 'heading', 'righttttttt', 'skincare', 'lotion', 'foodrun', 'instamood', 'Apocalypse', '//t.co/kV94cCfl', 'Tall', 'lamp', 'air', 'cleaner', 'locatons', 'Mithra_6277', 'VERY', 'rainy', 'engineer', 'caught', 'hail', 'Nothings', 'Prolly', 'scared', 'visiting', '31', 'rugged', 'Loving', 'concern', '65+', 'deserted', 'Pray4NYC', 'chino', 'warrior', 'tip', 'crossed', '156', 'dressing', 'lit', 'bbq', 'grill', 'Hamburgers', \"BBQ'ing\", '46', 'Hestor', 'AM', 'highrises', 'Taking', 'learning', 'nacho', 'transported', 'downtown', 'inconvenience', 'actual', 'Hmmm', 'WFSBnews', 'Malloy', 'wfsb', 'raiseyourhand', 'pigging', 'uneaten', '\\x89ÏÜ', 'Bedding', 'Ireland', 'Sind', 'drizzle', 'HomeFromhome', 'Case', '35-40f', 'Running', 'doesnt', 'devastation', 'partner', 'SweeteryNYC', 'ChaseNews', 'NEw', 'Yorkers\\x89Û\\x9d', 'freefood', 'Getting', 'routine', 'fireplace', 'grilling', 'Watch', 'DVD', 'raining', 'bud', 'Impossible', 'deBlasioNYC', 'police', 'h20', '//t.co/T1IGNxOK', 'Massachusetts', 'Petrides', '-3', '0-3', '3-6', '-bottles', '-bottle', 'sterilizer', '-wipes', 'warmer', '-bouncy', '-breast-feeding', '-2', 'boppies', '-bumbo', 'mobile', '-other', 'assorted', 'Pull', 'ups-', '9several', 'several-year', 'sealed', 'non-prescription', 'involved', 'impacted', 'Cross', 'contacted', 'whose', 'purchased', '10-ream', 'expiration', 'latenightcrew', 'coopfoodanddrink', 'hotelonrivington', 'Co-op', '//t.co/HYowDIX5', 'bobingle99', 'AT', 'carrier', 'is.\\x89Û\\x9d', 'sandynj', 'batterycharging', 'Tell', '-hygiene', '-tools', '-toys', 'technical', 'zillion', 'relevant', 'unsarah', 'keithemorris', 'staycation', 'DRob30', 'Robbie', 'Bronx', 'spell', 'cleaned', 'April', 'yankee', 'miss', 'trick', 'bone', 'catering/food', 'cook/serve', 'urge', 'adventure', 'accomplice', 'when/where', 'foodtruck', 'eastvillage', 'ignyc', 'below39thStreet', 'gothamist', 'Ninth', 'Espresso', '//t.co/Hq0yYNHR', 'Share', 'Susan', 'B.', 'Wagner', 'High', 'depleted', 'increased', 'evacuee', 'Prepared', 'Green', 'share', 'lightly', 'Trivia', 'Pursuit', '1980s', 'tight', 'intrupted', 'Lmfao', 'face', 'Haha', 'driveway', 'NYCFOAM', '12pm', 'newdorp', 'marine', 'ln', 'StatenIsland', 'HURACAN', 'POR', 'TU', 'PINCHE', 'CULPA', 'SEGIMOS', 'SIN', 'LUZ', 'hu', 'Mario', 'Castro', 'Apartment', '//t.co/jvcxhrfJ', 'Contacting', 'JerrySeinfeld', 'WHAT', 'comedy', 'gig', 'LOL', 'mil', 'realDonaldTrump', 'Trump', 'Hotels', '6-8', '0-6', 'veg/fruit', 'purÌ©e', 'cube', 'storming', 'seabras', 'Total', 'bummer', 'sigh', 'AMDA', 'mostly', 'elder', 'ErinBurnett', 'whats', 'thx', 'rough', 'carpentry', 'Hey', 'favor', 'scavenge', 'otherwise', 'splatter', 'technique', 'fam/get', 'latest', '//t.co/p6DbicTF', 'Global', 'LIC', '13-18', 'sandwiches/boxed', 'young', 'Dorp', 'Cooking', 'bulk', 'Mostly', 'brand-new', 'blankets/Clothes', 'sulllydude', 'magnitude', 'happened', 'Tequila', 'perfect', 'Maybe', 'Mikefavetta', 'Fra', 'Bruno', 'Compound', '//t.co/YNenUCKe', 'resourceful', 'paint', 'lay', 'tile', 'doscaminos', 'soho', 'shut', 'popping', 'salmon', 'lump', 'crab', 'lmbo', 'ConEdison', 'customer', '//t.co/XarRlp1K', 'Sandy\\x89Û\\x9d', '_Slotz', 'shore.We', 'Parade', '2morrow', 'Making', 'Being', 'fortunate', 'food/resources', 'meals/', 'individual/', 'Before', 'anymore', 'structural', 'hander', 'Followed', 'Liz', 'storage', 'space', 'submerged', 'Occupy', 'Elderly', 'Aan', 'George', '212-666-7209', 'Definitely', '75', 'survive', 'major', 'Harlem', '5:30', 'socloseyetsofaraway', 'gasisgold', 'Valero', '//t.co/PxHvuFKS', 'Poughkeepsie', 'pop', 'hurricaneproblems', '//t.co/YHZAQwWi', 'lookin', '//t.co/jvHC5Biw', 'Assistant', 'Pastors', 'NYPC', 'Mobilize', 'College', 'Group', 'Medications', 'Evenings', 'tech', 'construction', 'drag', 'pile', 'bundle', 'bathroom/hygiene', 'dropping', 'accessible', 'subway/bus', 'Nature', 'must', 'northeast', 'safely', 'immediate', 'apocalyptic', 'instagoo', 'Pals', 'Cabin', '//t.co/Nz18cG2n', 'Adult', '7,5,4', 'Sheets', 'dogs/feed', 'with/check', 'allow', 'instructing', 'indoors', 'feral', 'North', 'McDonald', '//t.co/OeKqD3wB', 'dumped', 'Mac', 'terrible', 'hospitality', 'sop', 'toothbrushed', 'jem8891', 'HURRICANE', 'LIFE', 'needshower', 'SoHo', '//t.co/7wRh1AnL', 'needpower', 'Director', 'Human', 'Resources', 'Max', 'Brenner', 'Chocolate', 'Bald', 'Man', 'Cookies', 'brighten', 'appropriate', 'circumstance', 'Storming', 'Steady', \"'ers\", '//t.co/zCNRGjke', 'Delaware', 'BFF', 'asked', 'Nevermind', 'potato', 'sauce', 'burning', 'calorie', 'Eating', 'sandyprobs', 'FreshDirect', 'stranded', 'NYers', 'Maine', 'WHATEVER', 'i.e', 're', 'fridge', 'map', 'Spiderman', 'north', 'gomigirl', 'Gotham', 'Era', 'apparently', 'Local', 'fame', 'achieved', 'HAHAHA', 'representative', 'Baby/girl', '0-5', '1st/33rd', 'freezer', 'therealjdeuce', 'eating', 'fml', 'hurricaneprobz', 'mine', 'stew', 'chilies', 'packaged', 'hydratable/microwave', 'mac', 'noodle', 'stroganoff', '//t.co/urm4MTzm', 'Solar', 'Powered', 'Radio', 'Cell', 'Chargers', 'solar', 'crank', 'powered', '//www.amazon.com/gp/product/B008KDQVPW/ref=ox_sc_act_title_1', 'ie=UTF8', 'smid=A28TUBIW4M1S9A', 'Amazon', 'point', 'ferry', 'Terminal', 'Regads', 'deliver/distribute', 'sorted', 'Additional', 'footwear', 'Basic', 'feeling', 'forks/knifes/spoons/plates', 'heartbreaking', 'HelpSandy', 'consulting', 'meat', 'childcare', '1:46', 'Apparently', 'midtown', 'blade_donft', 'BA2', 'pond', 'Especially', 'stormageddon', 'British_Airways', 'Apples', 'here.', 'SandySurvivor', 'MA', '11/10/12', '8am', 'hygene', 'union', 'square', 'reprieve', 'Amazing', 'sandynyc', 'Ventured', 'LowerManhattan', 'jess_shiller', 'lone', 'vendor', 'Wall', '//t.co/a7ZgOWJw', 'yoga', 'superintendent', 'porter', 'laundry', 'awkward', 'moment', 'realize', 'ShannEpp', 'anorexicdiet', 'provided', 'food/ingredients', 'everyday', 'bos', 'wondering', 'possibility', 'Love', 'jetblue', 'nycfoodtruck', 'SandyUnites', 'FeedOurNeighbors', '//t.co/exYTJKtD', 'pen', 'knife', 'g', 'stapler', 'tape', 'dispenser', 'push', 'pin', 'trailer', 'food/diapers', 'tolietries', 'contract', 'pls', 'seasonal', 'Towels/Pillow/Blanket', 'curious', 'cooking/serving/delivering', 'lasagna', 'Donate', 'forgotten', 'marshmallow', 'graham', 'millerlite', 'itsmillertime', 'Shoes', 'handler', 'weight', 'fairly', 'kitty', 'birdfood', 'Boring', 'Hate', 'lawyer', 'manual', 'labour', 'Each', '100', 'John', 'Recreation', 'Crown', 'Heights', 'spirit', 'D.R.E.A.M', 'partnering', 'G.F', 'Brand', 'Foundation', 'Alphas', 'Charitable', 'effected', 'super', 'FOOD', 'TOYS', 'Entertainment', 'FUN', 'Toy', 'Drive', '14th', '6-9pm', '1251', 'Prospect', 'Place', '11213', 'superfoodtown', 'Enfamil', 'Similac', 'sell-by', 'Check', 'foodtown', 'circus', 'insane', 'Foodtown', '//t.co/M6mW2EnV', 'Roasted', 'lamb', 'salsa', 'verde', 'polenta', 'creamed', 'kale', 'preserved', 'lemon', 'stormfood', 'Casa', 'de', 'Rienndall', '//t.co/n3x6bxhz', 'foodshopping', 'headed', '//t.co/e7yXBMRK', '95th', 'Meaning', 'suite', 'kidding', 'disperse', 'County', 'shipping', '3000', 'fortifying', 'Brunch', 'lfc', 'eatlocal', 'romantic', 'Reading', 'Playing', 'w/o', 'screen', 'chat', '//t.co/GkPTyhHH', 'there', 'inny', 'Weehawken', 'clothes/winter', 'flashlights/batteries', 'ink-quill', 'candlelight', 'jnoulinmerat', 'TMurphyMusic', 'musak', 'organic', '.............', 'AJHanleyNYC', 'Say', 'Jim', 'shot', 'pickle', 'Hang', 'United', 'States', '1,000', 'oven', 'goids', 'Wed.', 'Thurs', 'Approximately', '100-150', 'industrial', 'non-clothing', 'havs', 'plenty', 'Vipers', 'dedicate', 'Noon', 'Gerard', '230', '10304', 'Relief', 'fan', 'Zoe', 'winner', 'stick', 'seems', 'sided', 'lba', 'Walk', '//t.co/53LEXsf5', 'Cordless', 'rechargeable', 'wireless', 'router', 'Van', 'Brunt', 'Although', 'ironbound', 'aka', '//t.co/hpniWJW2', 'CoolhausNY', 'continue', 'foodielove', 'Fin', 'Grill', 'Tea', 'unloading', 'loading', 'category', 'ef', 'Myg', 'breezy', 'rocked', 'coincidence', 'freezing', 'pedestrian', 'kindly', 'Damn', 'Went', 'brilliant', 'Aid', 'Prep', 'trough', 'Justin', 'Wedes', 'Bless', 'word', 'disabled', 'dyer', 'vital', 'Houston/Ave', 'substaining', 'unaffected', 'agency', 'gotten', 'CPR', 'tutor', 'p/u', 'conduct', 'fundraising', 'aside', 'wonderful', 'debate', 'manigaut', 'manicott', 'manigotti', 'entered', 'database', 'Did', 'form-', 'newrochelle', 'coned', 'French', 'hunkerdown', 'success', 'flop', 'thegreatmick', 'favorite', 'Lawd', 'frankieciv608', 'Part', '//t.co/BjOweYtW\\x89Û\\x9d', 'While', 'OD', 'Line', 'seafood', 'counter', 'Columbus', 'Circle', '//t.co/p8GBrsN0', 'Brooms', 'shovel', 'Eastern', 'Shore', 'raising', 'fund', 'Woodrow', 'Methodist', 'Pastor', 'Midland', 'observed', 'seek', 'Could', 'hoodie', 'Creating', 'jerzey_noize', '10pm', 'ClubZone_FM', '_Mr_Vargas', 'iLOVENOTBEINGU', 'slowed', 'stopped', 'FURNITURE/HOME', 'GOODS', 'CLOTHING', 'HYGIENE', 'PRODUCTS', 'NON-PREISHABLE', 'Ppl', 'NYU', 'birth', 'SandyProblems', 'Such', 'benign', 'brutal', 'serial', 'killer', 'named', 'Timmy', 'Robin', 'Williams', 'David', 'Letterman', 'Corbett', 'Accel', 'Healthcare', 'Chicago', 'regard', 'Student', 'Barman', 'Fund', 'functioning', 'Environmental', 'analyst/questionnaires', 'degree', 'preparation/carrying-', 'reliable', 'oriented', 'happening', 'Humbled', 'Grateful', 'spending', 'Luck', 'keyfood', 'protectionfromjesus', 'manning', 'Yay', 'conEdison', 'Kips', 'Madison', '30th', 'Sts', 'hav', 'th', 'causing', 'stir', 'Show', 'cutter', 'whomever', 'From', 'Darkness', 'engulfs', '//t.co/Di1t7pod', 'detergent', 'non-electrical', 'Later', 'tamar', 'cassel', 'psbx', 'sarahcooley', '//t.co/4i5jprix', 'Medical', 'EPI', 'Pens', 'apnea', 'machine', 'CPAP', 'mths', '9-12', '9.5/10', 'Guys', 'Extra', 'Marshmallows', '\\x89÷¥', 'cocoa', 'hotchocolate', 'stra', 'MVB', '//t.co/e6uUuAbG', 'moved', 'homebound', 'WillRasid', 'lawl', '4-10', 'makin', 'gios', 'sandys', 'destroyin', 'Passing', 'WANT', 'BECAUSE', 'THESE', 'PEOPLE', 'OUR', 'SEE', 'THEM', 'NEWS', 'FLY', 'FROM', 'LOS', 'ANGELES', 'BE', 'STATIONED', 'WORKING', 'HELPING', 'THOSE', 'ie', 'preparation/serving', 'non-perishaable', 'grade', 'someplace', 'shipped', '66.00', '2.00', 'coupon', '33', 'farmer', 'transferable', 'greenmarket', 'participating', 'www.nyc.gov/health/farmersmarkets', '311', 'COUPONS', 'EXPIRE', '11/30', 'cupcake', 'Georgetown', 'Cupcake', 'sandyS', 'whore', 'blew', 'stupid', 'transporting', 'razor', 'cough', '12/1', 'food-', 'Springs', 'minivan', 'airbeds', 'wrath', 'closing', '//t.co/suNgNPBR', 'surgical', 'rake', 'lifting', 'tide', 'dishwasher', 'pod', 'thankssandy', '//t.co/4PeYtGGS', 'STILL', 'OPEN', 'decently', 'Garden', 'Eden', 'Gourmet', '//t.co/N2FU84RC', 'Technical', 'faculty', 'Effort', 'involve', 'Collect', 'AP', 'ZoneA', 'forgets', 'Krob1111', 'interfere', 'voting', 'TUES', 'Obama', 'cook/do', 'depending', 'waterproof', 'ax', 'PANTSSteve', 'PREPARES', 'Mayor', 'Bloomberg', 'shoplift', 'restoration', 'estimate', 'chinese', 'sparking', 'its_me_spence', 'haha', 'freaking', '\\x89÷Ó\\x89_Á', 'meliithebest26', 'JUAA', 'F', 'UCK', 'MY', 'PLÌ\\x81TANOS', 'AREPAS', 'Victor', 'isnt', 'according', 'Jackets', 'ThankYouHurricaneSandy', 'ILoveYou', 'YouBouz', 'brace', 'bandaids', 'zombie', 'PumpkinHead', 'Literally', 'LIPA', 'Food/Toiletries', 'Dont', 'deadlift', 'handsaw', 'bring/donate', 'veterinary', 'volunteered', 'no-kill', 'distant', 'midweek', 'prob', 'upplies', 'translate', 'NBA', 'e84th', 'blvd', 'FarRockaway', 'CarolineManzo', 'JacLaurita', 'Never', 'Thought', 'coats/jackets', 'Pump', 'insured', 'Plumber', 'Hvac', 'rcvd', 'stating', 'Emailed', 'wholefoods', 'winning', 'KhushKirpalani', 'HiralCP', 'karishmer', 'age/what', 'diapers/clothing', 'size/formula', 'preference', 'capacity', 'short', 'term', 'writing', 'behalf', 'Bulgaria', 'ear', 'infection', 'solution', 'Uncle', 'muffle', 'mouth', 'Days', 'DontJudgeMe', 'SandyLife', 'Night', 'raw', 'Coincidence', 'fluke', 'climate', 'change', 'condo', 'restock', 'later']\n"
          ]
        }
      ]
    },
    {
      "cell_type": "code",
      "source": [],
      "metadata": {
        "id": "OP_cxFosYwKt"
      },
      "execution_count": null,
      "outputs": []
    },
    {
      "cell_type": "code",
      "source": [],
      "metadata": {
        "id": "-sVxnYFnY4jw"
      },
      "execution_count": null,
      "outputs": []
    },
    {
      "cell_type": "markdown",
      "source": [],
      "metadata": {
        "id": "0f5iC0PBYv50"
      }
    }
  ]
}
