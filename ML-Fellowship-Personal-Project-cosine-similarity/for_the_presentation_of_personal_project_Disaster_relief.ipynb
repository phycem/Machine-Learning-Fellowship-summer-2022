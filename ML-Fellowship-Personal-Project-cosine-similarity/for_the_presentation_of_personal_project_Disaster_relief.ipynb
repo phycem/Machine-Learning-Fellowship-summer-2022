{
  "nbformat": 4,
  "nbformat_minor": 0,
  "metadata": {
    "colab": {
      "provenance": [],
      "authorship_tag": "ABX9TyN+xE0mc6WYBWoObF0ZvHpi",
      "include_colab_link": true
    },
    "kernelspec": {
      "name": "python3",
      "display_name": "Python 3"
    },
    "language_info": {
      "name": "python"
    }
  },
  "cells": [
    {
      "cell_type": "markdown",
      "metadata": {
        "id": "view-in-github",
        "colab_type": "text"
      },
      "source": [
        "<a href=\"https://colab.research.google.com/github/phycem/Data-Science-Projects-and-Tasks/blob/main/for_the_presentation_of_personal_project_Disaster_relief.ipynb\" target=\"_parent\"><img src=\"https://colab.research.google.com/assets/colab-badge.svg\" alt=\"Open In Colab\"/></a>"
      ]
    },
    {
      "cell_type": "code",
      "metadata": {
        "id": "88KYp9nmbSS7"
      },
      "source": [
        "#@title Starter libraries (double click to take a look) { display-mode: \"form\" }\n",
        "# useful for opening files\n",
        "import gdown\n",
        "import zipfile\n",
        "\n",
        "import os # accessing parts of your operating system\n",
        "import re\n",
        "import sys\n",
        "\n",
        "# data visualization + manipulation -- we've seen these many times\n",
        "import numpy as np\n",
        "import pandas as pd\n",
        "\n",
        "# plotting libraries\n",
        "import seaborn as sns\n",
        "import matplotlib.pyplot as plt\n",
        "\n",
        "# regression models\n",
        "from sklearn.linear_model import LinearRegression\n",
        "from sklearn.linear_model import HuberRegressor\n",
        "from sklearn.linear_model import RANSACRegressor\n",
        "from sklearn.linear_model import TheilSenRegressor\n",
        "from sklearn.gaussian_process import GaussianProcessRegressor\n",
        "\n",
        "from sklearn.preprocessing import PolynomialFeatures # for polynomial model\n",
        "from sklearn.pipeline import Pipeline\n",
        "\n",
        "# classification models\n",
        "from sklearn.linear_model import LogisticRegression\n",
        "from sklearn.neural_network import MLPClassifier\n",
        "from sklearn.neighbors import KNeighborsClassifier\n",
        "from sklearn.svm import SVC\n",
        "from sklearn.gaussian_process import GaussianProcessClassifier\n",
        "from sklearn.gaussian_process.kernels import RBF\n",
        "from sklearn.tree import DecisionTreeClassifier\n",
        "from sklearn.ensemble import RandomForestClassifier, AdaBoostClassifier\n",
        "from sklearn.naive_bayes import GaussianNB\n",
        "\n",
        "# more sklearn model making\n",
        "from sklearn.metrics import accuracy_score, precision_score, recall_score, confusion_matrix\n",
        "from sklearn import model_selection\n",
        "from sklearn.model_selection import train_test_split\n",
        "from sklearn.preprocessing import StandardScaler\n",
        "from sklearn.model_selection import cross_val_score\n",
        "\n",
        "from collections import Counter\n",
        "\n",
        "# NLP\n",
        "import string\n",
        "import nltk\n",
        "nltk.download('punkt', quiet=True)\n",
        "nltk.download('stopwords' ,quiet=True)\n",
        "from nltk.corpus import stopwords\n",
        "from nltk.stem import WordNetLemmatizer, PorterStemmer\n",
        "from nltk.corpus import stopwords\n",
        "from nltk.tokenize import word_tokenize, TweetTokenizer\n",
        "from spacy.lang.en.stop_words import STOP_WORDS\n",
        "from sklearn.feature_extraction.text import CountVectorizer, TfidfVectorizer\n",
        "import spacy\n",
        "import wordcloud\n",
        "import tweepy\n",
        "\n",
        "# NN models\n",
        "import tensorflow as tf\n",
        "import tensorflow_datasets as tfds\n",
        "\n",
        "import keras\n",
        "from tensorflow.keras import layers , activations , models , preprocessing, utils\n",
        "\n",
        "# sequence data\n",
        "from keras import Input, Model\n",
        "from keras.layers import Embedding, LSTM, Dense\n",
        "from tensorflow.keras.optimizers import RMSprop\n",
        "from keras.preprocessing.sequence import pad_sequences\n",
        "\n",
        "# text\n",
        "from tensorflow.keras.utils import to_categorical\n",
        "from keras_preprocessing.text import Tokenizer\n",
        "\n",
        "# NN and CNN\n",
        "from keras.models import Sequential\n",
        "from keras.layers import Dense, Conv2D, Dropout\n",
        "from keras.layers import Activation, MaxPooling2D, Dropout, Flatten, Reshape\n",
        "from keras.wrappers.scikit_learn import KerasClassifier\n",
        "import keras.optimizers as optimizers\n",
        "from keras.activations import softmax\n",
        "from keras.callbacks import ModelCheckpoint\n",
        "\n",
        "from tensorflow.keras.applications import VGG16, VGG19, ResNet50, DenseNet121\n",
        "\n",
        "import warnings\n",
        "warnings.filterwarnings('ignore')"
      ],
      "execution_count": null,
      "outputs": []
    },
    {
      "cell_type": "code",
      "metadata": {
        "id": "_8Fv_dgVytWC",
        "colab": {
          "base_uri": "https://localhost:8080/"
        },
        "outputId": "5b7eff2e-eaea-44fe-a272-d155a77f96d9"
      },
      "source": [
        "#@title Load your dataset { display-mode: \"form\" }\n",
        "import pandas as pd\n",
        "!wget -O ./disaster_data.csv 'https://storage.googleapis.com/inspirit-ai-data-bucket-1/Data/AI%20Scholars/Sessions%206%20-%2010%20(Projects)/Project%20-%20Disaster%20Relief/disaster_data.csv'\n",
        "dataset_path = './disaster_data.csv'\n",
        "disaster_tweets = pd.read_csv('disaster_data.csv',encoding =\"ISO-8859-1\")"
      ],
      "execution_count": null,
      "outputs": [
        {
          "output_type": "stream",
          "name": "stdout",
          "text": [
            "--2022-08-11 20:45:17--  https://storage.googleapis.com/inspirit-ai-data-bucket-1/Data/AI%20Scholars/Sessions%206%20-%2010%20(Projects)/Project%20-%20Disaster%20Relief/disaster_data.csv\n",
            "Resolving storage.googleapis.com (storage.googleapis.com)... 108.177.119.128, 108.177.126.128, 108.177.127.128, ...\n",
            "Connecting to storage.googleapis.com (storage.googleapis.com)|108.177.119.128|:443... connected.\n",
            "HTTP request sent, awaiting response... 200 OK\n",
            "Length: 236777 (231K) [text/csv]\n",
            "Saving to: ‘./disaster_data.csv’\n",
            "\n",
            "\r./disaster_data.csv   0%[                    ]       0  --.-KB/s               \r./disaster_data.csv 100%[===================>] 231.23K  --.-KB/s    in 0.002s  \n",
            "\n",
            "2022-08-11 20:45:17 (105 MB/s) - ‘./disaster_data.csv’ saved [236777/236777]\n",
            "\n"
          ]
        }
      ]
    },
    {
      "cell_type": "markdown",
      "metadata": {
        "id": "XaxhytzBtGGt"
      },
      "source": [
        "# Disaster Relief Project \n",
        "The data set for this project consists of tweets from people experiencing natural disasters around the world. The tweets are classified by category some are further classified by having some sort of need. \n"
      ]
    },
    {
      "cell_type": "code",
      "source": [
        "disaster_tweets"
      ],
      "metadata": {
        "colab": {
          "base_uri": "https://localhost:8080/",
          "height": 424
        },
        "id": "tYWPwLRyptM0",
        "outputId": "46aa6306-529a-4cd0-fc89-f0476ca10106"
      },
      "execution_count": null,
      "outputs": [
        {
          "output_type": "execute_result",
          "data": {
            "text/plain": [
              "                                    tweet_id  \\\n",
              "0     ca9e24c8-396d-4502-8b45-18895df5333e_0   \n",
              "1               twitter_resource_tweets_1692   \n",
              "2       625b46e2-0b81-41ea-826e-4535fe9b39b8   \n",
              "3               twitter_resource_tweets_1699   \n",
              "4       c3bfea72-d377-445c-b4b8-e8ebca0e7fbb   \n",
              "...                                      ...   \n",
              "1396    4954cd07-1796-4841-a79a-9edf7faf9521   \n",
              "1397    425e0f7e-eebc-4bc7-9027-34b3298ee084   \n",
              "1398                twitter_need_tweets_4630   \n",
              "1399            twitter_resource_tweets_2745   \n",
              "1400    2ee027fa-86cd-4077-b9bd-b7066ac1aced   \n",
              "\n",
              "                                                   text category  \\\n",
              "0     Donations of batteries, flashlights, and clean...   Energy   \n",
              "1     I want hurricane Sandy to cone so I can be stu...     None   \n",
              "2     Hi, I can help prepare food, serve food, offer...     Food   \n",
              "3                             I cant believe Sandy.....     None   \n",
              "4     I have children and adult clothes including ja...    Water   \n",
              "...                                                 ...      ...   \n",
              "1396  We were here for the marathon and would like t...     Food   \n",
              "1397  I am writing on behalf of friends stranded in ...  Medical   \n",
              "1398  Finally at my Uncle's house in Brooklyn. Gonna...     None   \n",
              "1399  Two years in a raw... #Irene then #Sandy... Co...     None   \n",
              "1400  I will be going to check on my condo in Jersey...   Energy   \n",
              "\n",
              "     need_or_resource  \n",
              "0                need  \n",
              "1                 NaN  \n",
              "2            resource  \n",
              "3                 NaN  \n",
              "4            resource  \n",
              "...               ...  \n",
              "1396         resource  \n",
              "1397             need  \n",
              "1398              NaN  \n",
              "1399              NaN  \n",
              "1400         resource  \n",
              "\n",
              "[1401 rows x 4 columns]"
            ],
            "text/html": [
              "\n",
              "  <div id=\"df-c3463138-f50f-4f5c-91fb-07c37017cdfa\">\n",
              "    <div class=\"colab-df-container\">\n",
              "      <div>\n",
              "<style scoped>\n",
              "    .dataframe tbody tr th:only-of-type {\n",
              "        vertical-align: middle;\n",
              "    }\n",
              "\n",
              "    .dataframe tbody tr th {\n",
              "        vertical-align: top;\n",
              "    }\n",
              "\n",
              "    .dataframe thead th {\n",
              "        text-align: right;\n",
              "    }\n",
              "</style>\n",
              "<table border=\"1\" class=\"dataframe\">\n",
              "  <thead>\n",
              "    <tr style=\"text-align: right;\">\n",
              "      <th></th>\n",
              "      <th>tweet_id</th>\n",
              "      <th>text</th>\n",
              "      <th>category</th>\n",
              "      <th>need_or_resource</th>\n",
              "    </tr>\n",
              "  </thead>\n",
              "  <tbody>\n",
              "    <tr>\n",
              "      <th>0</th>\n",
              "      <td>ca9e24c8-396d-4502-8b45-18895df5333e_0</td>\n",
              "      <td>Donations of batteries, flashlights, and clean...</td>\n",
              "      <td>Energy</td>\n",
              "      <td>need</td>\n",
              "    </tr>\n",
              "    <tr>\n",
              "      <th>1</th>\n",
              "      <td>twitter_resource_tweets_1692</td>\n",
              "      <td>I want hurricane Sandy to cone so I can be stu...</td>\n",
              "      <td>None</td>\n",
              "      <td>NaN</td>\n",
              "    </tr>\n",
              "    <tr>\n",
              "      <th>2</th>\n",
              "      <td>625b46e2-0b81-41ea-826e-4535fe9b39b8</td>\n",
              "      <td>Hi, I can help prepare food, serve food, offer...</td>\n",
              "      <td>Food</td>\n",
              "      <td>resource</td>\n",
              "    </tr>\n",
              "    <tr>\n",
              "      <th>3</th>\n",
              "      <td>twitter_resource_tweets_1699</td>\n",
              "      <td>I cant believe Sandy.....</td>\n",
              "      <td>None</td>\n",
              "      <td>NaN</td>\n",
              "    </tr>\n",
              "    <tr>\n",
              "      <th>4</th>\n",
              "      <td>c3bfea72-d377-445c-b4b8-e8ebca0e7fbb</td>\n",
              "      <td>I have children and adult clothes including ja...</td>\n",
              "      <td>Water</td>\n",
              "      <td>resource</td>\n",
              "    </tr>\n",
              "    <tr>\n",
              "      <th>...</th>\n",
              "      <td>...</td>\n",
              "      <td>...</td>\n",
              "      <td>...</td>\n",
              "      <td>...</td>\n",
              "    </tr>\n",
              "    <tr>\n",
              "      <th>1396</th>\n",
              "      <td>4954cd07-1796-4841-a79a-9edf7faf9521</td>\n",
              "      <td>We were here for the marathon and would like t...</td>\n",
              "      <td>Food</td>\n",
              "      <td>resource</td>\n",
              "    </tr>\n",
              "    <tr>\n",
              "      <th>1397</th>\n",
              "      <td>425e0f7e-eebc-4bc7-9027-34b3298ee084</td>\n",
              "      <td>I am writing on behalf of friends stranded in ...</td>\n",
              "      <td>Medical</td>\n",
              "      <td>need</td>\n",
              "    </tr>\n",
              "    <tr>\n",
              "      <th>1398</th>\n",
              "      <td>twitter_need_tweets_4630</td>\n",
              "      <td>Finally at my Uncle's house in Brooklyn. Gonna...</td>\n",
              "      <td>None</td>\n",
              "      <td>NaN</td>\n",
              "    </tr>\n",
              "    <tr>\n",
              "      <th>1399</th>\n",
              "      <td>twitter_resource_tweets_2745</td>\n",
              "      <td>Two years in a raw... #Irene then #Sandy... Co...</td>\n",
              "      <td>None</td>\n",
              "      <td>NaN</td>\n",
              "    </tr>\n",
              "    <tr>\n",
              "      <th>1400</th>\n",
              "      <td>2ee027fa-86cd-4077-b9bd-b7066ac1aced</td>\n",
              "      <td>I will be going to check on my condo in Jersey...</td>\n",
              "      <td>Energy</td>\n",
              "      <td>resource</td>\n",
              "    </tr>\n",
              "  </tbody>\n",
              "</table>\n",
              "<p>1401 rows × 4 columns</p>\n",
              "</div>\n",
              "      <button class=\"colab-df-convert\" onclick=\"convertToInteractive('df-c3463138-f50f-4f5c-91fb-07c37017cdfa')\"\n",
              "              title=\"Convert this dataframe to an interactive table.\"\n",
              "              style=\"display:none;\">\n",
              "        \n",
              "  <svg xmlns=\"http://www.w3.org/2000/svg\" height=\"24px\"viewBox=\"0 0 24 24\"\n",
              "       width=\"24px\">\n",
              "    <path d=\"M0 0h24v24H0V0z\" fill=\"none\"/>\n",
              "    <path d=\"M18.56 5.44l.94 2.06.94-2.06 2.06-.94-2.06-.94-.94-2.06-.94 2.06-2.06.94zm-11 1L8.5 8.5l.94-2.06 2.06-.94-2.06-.94L8.5 2.5l-.94 2.06-2.06.94zm10 10l.94 2.06.94-2.06 2.06-.94-2.06-.94-.94-2.06-.94 2.06-2.06.94z\"/><path d=\"M17.41 7.96l-1.37-1.37c-.4-.4-.92-.59-1.43-.59-.52 0-1.04.2-1.43.59L10.3 9.45l-7.72 7.72c-.78.78-.78 2.05 0 2.83L4 21.41c.39.39.9.59 1.41.59.51 0 1.02-.2 1.41-.59l7.78-7.78 2.81-2.81c.8-.78.8-2.07 0-2.86zM5.41 20L4 18.59l7.72-7.72 1.47 1.35L5.41 20z\"/>\n",
              "  </svg>\n",
              "      </button>\n",
              "      \n",
              "  <style>\n",
              "    .colab-df-container {\n",
              "      display:flex;\n",
              "      flex-wrap:wrap;\n",
              "      gap: 12px;\n",
              "    }\n",
              "\n",
              "    .colab-df-convert {\n",
              "      background-color: #E8F0FE;\n",
              "      border: none;\n",
              "      border-radius: 50%;\n",
              "      cursor: pointer;\n",
              "      display: none;\n",
              "      fill: #1967D2;\n",
              "      height: 32px;\n",
              "      padding: 0 0 0 0;\n",
              "      width: 32px;\n",
              "    }\n",
              "\n",
              "    .colab-df-convert:hover {\n",
              "      background-color: #E2EBFA;\n",
              "      box-shadow: 0px 1px 2px rgba(60, 64, 67, 0.3), 0px 1px 3px 1px rgba(60, 64, 67, 0.15);\n",
              "      fill: #174EA6;\n",
              "    }\n",
              "\n",
              "    [theme=dark] .colab-df-convert {\n",
              "      background-color: #3B4455;\n",
              "      fill: #D2E3FC;\n",
              "    }\n",
              "\n",
              "    [theme=dark] .colab-df-convert:hover {\n",
              "      background-color: #434B5C;\n",
              "      box-shadow: 0px 1px 3px 1px rgba(0, 0, 0, 0.15);\n",
              "      filter: drop-shadow(0px 1px 2px rgba(0, 0, 0, 0.3));\n",
              "      fill: #FFFFFF;\n",
              "    }\n",
              "  </style>\n",
              "\n",
              "      <script>\n",
              "        const buttonEl =\n",
              "          document.querySelector('#df-c3463138-f50f-4f5c-91fb-07c37017cdfa button.colab-df-convert');\n",
              "        buttonEl.style.display =\n",
              "          google.colab.kernel.accessAllowed ? 'block' : 'none';\n",
              "\n",
              "        async function convertToInteractive(key) {\n",
              "          const element = document.querySelector('#df-c3463138-f50f-4f5c-91fb-07c37017cdfa');\n",
              "          const dataTable =\n",
              "            await google.colab.kernel.invokeFunction('convertToInteractive',\n",
              "                                                     [key], {});\n",
              "          if (!dataTable) return;\n",
              "\n",
              "          const docLinkHtml = 'Like what you see? Visit the ' +\n",
              "            '<a target=\"_blank\" href=https://colab.research.google.com/notebooks/data_table.ipynb>data table notebook</a>'\n",
              "            + ' to learn more about interactive tables.';\n",
              "          element.innerHTML = '';\n",
              "          dataTable['output_type'] = 'display_data';\n",
              "          await google.colab.output.renderOutput(dataTable, element);\n",
              "          const docLink = document.createElement('div');\n",
              "          docLink.innerHTML = docLinkHtml;\n",
              "          element.appendChild(docLink);\n",
              "        }\n",
              "      </script>\n",
              "    </div>\n",
              "  </div>\n",
              "  "
            ]
          },
          "metadata": {},
          "execution_count": 4
        }
      ]
    },
    {
      "cell_type": "markdown",
      "source": [
        "Differences between 80% test and 20% test\n"
      ],
      "metadata": {
        "id": "Z7T3C6Y0sK5u"
      }
    },
    {
      "cell_type": "code",
      "source": [
        "#    help => no resource (mostly for offering help)    collect => food resource       tools => no resource    food => food resource    supplies => food need  power => energy need     batteries => energy resource\n",
        "#                 => medical need                         => medical resource            =>no resource         => food Food_Resource      => medical resource          =>energy need            =>energy resource"
      ],
      "metadata": {
        "id": "VH_Hje6CeAzl"
      },
      "execution_count": null,
      "outputs": []
    },
    {
      "cell_type": "markdown",
      "source": [
        "\n",
        "At test %20 , Even tho there are more help words in other groups, the most accurance of \"help\" is at Medical Need which is the second highest needed. Other groups have it on third line. \n",
        "\n",
        "\"collect\" is not even listed at Medical resource or Food resource but is more accurate than  in other groups listed frequently.\n",
        "\n",
        "\"Food, tools, power and batteries\" agrees with the plots \n",
        "\n",
        "Lastly, the cosine similarity function is able to spot which tweet group it belongs to.\n",
        "\n",
        "\n",
        "---\n",
        "\n"
      ],
      "metadata": {
        "id": "hTV-SugqodU0"
      }
    },
    {
      "cell_type": "code",
      "source": [
        "thegroups=[MedNeed,MedResource,WaterNeed,WaterResource,EnergyNeed, EnergyResource, FoodNeed,FoodResource,NoResource]"
      ],
      "metadata": {
        "id": "GF7JPcIAzZnX"
      },
      "execution_count": null,
      "outputs": []
    },
    {
      "cell_type": "code",
      "source": [
        "print(vector_cosine_similarity(gets_vectors('Need a truck load of water (NOT DRINKING) to be able to start disinfecting home in Breezy Point.\t'))) #true!"
      ],
      "metadata": {
        "colab": {
          "base_uri": "https://localhost:8080/"
        },
        "id": "bliLc0HCibR_",
        "outputId": "7d0d27fa-5c84-4aec-e6ca-cbdd9b3b6cd4"
      },
      "execution_count": null,
      "outputs": [
        {
          "output_type": "stream",
          "name": "stdout",
          "text": [
            "0.35398090833933876\n",
            "0.6944013145057457\n",
            "0.911626158405042\n",
            "0.8427516392396618\n",
            "0.7979364204653085\n",
            "0.7617694250090519\n",
            "0.7612716525270931\n",
            "0.7707716484496777\n",
            "0.706752322720476\n",
            "None\n"
          ]
        }
      ]
    },
    {
      "cell_type": "code",
      "source": [
        "print(vector_cosine_similarity(gets_vectors('Basic tools, drill, etc.\t'))) #true!"
      ],
      "metadata": {
        "colab": {
          "base_uri": "https://localhost:8080/"
        },
        "id": "rKOi99JXhNmB",
        "outputId": "f2127085-d893-47b3-a1a2-2e3ac47bf589"
      },
      "execution_count": null,
      "outputs": [
        {
          "output_type": "stream",
          "name": "stdout",
          "text": [
            "0.2783503257698568\n",
            "0.49868193880889944\n",
            "0.4045766289594256\n",
            "0.48819219821452714\n",
            "0.3779871047083524\n",
            "0.5194717324159929\n",
            "0.4063978629580659\n",
            "0.4605490636767294\n",
            "0.6410066899331396\n",
            "None\n"
          ]
        }
      ]
    },
    {
      "cell_type": "code",
      "source": [
        "\n"
      ],
      "metadata": {
        "id": "UTXMlXpissgE"
      },
      "execution_count": null,
      "outputs": []
    }
  ]
}
